{
 "cells": [
  {
   "cell_type": "markdown",
   "metadata": {},
   "source": [
    "## Diminutive Suffix Productivity: further cleaning and descriptive analysis\n",
    "Juan Berrios | jeb358@pitt.edu | Last updated: March 17, 2020"
   ]
  },
  {
   "cell_type": "markdown",
   "metadata": {},
   "source": [
    "**Summary and overview:**"
   ]
  },
  {
   "cell_type": "markdown",
   "metadata": {},
   "source": [
    "- This notebook is a continuation of the [corpus processing notebook](https://github.com/Data-Science-for-Linguists-2020/Diminutive-Suffix-Productivity/blob/master/code/corpus_processing.ipynb) in my repository. The purpose is to finish cleaning the data frame objects I've built (which were previously pickled in order to be loaded here) and create a master, cross-dialectal data frame to explore descriptive statistics and get started on the linguistics analysis of the data."
   ]
  },
  {
   "cell_type": "markdown",
   "metadata": {},
   "source": [
    "**Contents:**\n",
    "- [Section 1](###1.-Preparation)  includes the necessary preparations and looading of the files.\n",
    "- [Section 2](###2.-Further-cleaning)  includes code for performing further cleaning on the data to remove extraneous rows that are still left.\n",
    "- [Section 3](###3.-Descriptive-statistics) is the start of the analysis, with a focus on descriptive statistics and data visualization.\n",
    "- [Section 4](###4.-Storing-files)  includes code for storing the results as pickled files."
   ]
  },
  {
   "cell_type": "markdown",
   "metadata": {},
   "source": [
    "### 1. Preparation"
   ]
  },
  {
   "cell_type": "markdown",
   "metadata": {},
   "source": [
    "- Loading libraries and additional settings:"
   ]
  },
  {
   "cell_type": "code",
   "execution_count": 1,
   "metadata": {},
   "outputs": [
    {
     "name": "stdout",
     "output_type": "stream",
     "text": [
      "Pretty printing has been turned OFF\n"
     ]
    }
   ],
   "source": [
    "#Importing libraries\n",
    "import glob, pickle, re\n",
    "import pandas as pd\n",
    "import numpy as np\n",
    "\n",
    "#Turning pretty print off:\n",
    "%pprint\n",
    "\n",
    "#Releasing all output:                                            \n",
    "from IPython.core.interactiveshell import InteractiveShell #Prints all commands rather than the last one.\n",
    "InteractiveShell.ast_node_interactivity = \"all\""
   ]
  },
  {
   "cell_type": "markdown",
   "metadata": {},
   "source": [
    "- Loading pickle files"
   ]
  },
  {
   "cell_type": "code",
   "execution_count": 2,
   "metadata": {},
   "outputs": [],
   "source": [
    "ar_DF = pickle.load(open( 'ar_DF.pkl', 'rb'))\n",
    "bo_DF = pickle.load(open( 'bo_DF.pkl', 'rb'))\n",
    "cl_DF = pickle.load(open( 'cl_DF.pkl', 'rb'))\n",
    "co_DF = pickle.load(open( 'co_DF.pkl', 'rb'))\n",
    "cr_DF = pickle.load(open( 'cr_DF.pkl', 'rb'))\n",
    "cu_DF = pickle.load(open( 'cu_DF.pkl', 'rb'))\n",
    "do_DF = pickle.load(open( 'do_DF.pkl', 'rb'))\n",
    "ec_DF = pickle.load(open( 'ec_DF.pkl', 'rb'))\n",
    "es_DF = pickle.load(open( 'es_DF.pkl', 'rb'))\n",
    "gt_DF = pickle.load(open( 'gt_DF.pkl', 'rb'))\n",
    "hn_DF = pickle.load(open( 'hn_DF.pkl', 'rb'))\n",
    "mx_DF = pickle.load(open( 'mx_DF.pkl', 'rb'))\n",
    "ni_DF = pickle.load(open( 'ni_DF.pkl', 'rb'))\n",
    "pa_DF = pickle.load(open( 'pa_DF.pkl', 'rb'))\n",
    "pe_DF = pickle.load(open( 'pe_DF.pkl', 'rb'))\n",
    "pr_DF = pickle.load(open( 'pr_DF.pkl', 'rb'))\n",
    "py_DF = pickle.load(open( 'py_DF.pkl', 'rb'))\n",
    "sv_DF = pickle.load(open( 'sv_DF.pkl', 'rb'))\n",
    "us_DF = pickle.load(open( 'us_DF.pkl', 'rb'))\n",
    "uy_DF = pickle.load(open( 'uy_DF.pkl', 'rb'))"
   ]
  },
  {
   "cell_type": "code",
   "execution_count": 3,
   "metadata": {},
   "outputs": [
    {
     "data": {
      "text/plain": [
       "<class 'pandas.core.frame.DataFrame'>"
      ]
     },
     "execution_count": 3,
     "metadata": {},
     "output_type": "execute_result"
    },
    {
     "data": {
      "text/plain": [
       "<class 'pandas.core.frame.DataFrame'>"
      ]
     },
     "execution_count": 3,
     "metadata": {},
     "output_type": "execute_result"
    },
    {
     "data": {
      "text/plain": [
       "<class 'pandas.core.frame.DataFrame'>"
      ]
     },
     "execution_count": 3,
     "metadata": {},
     "output_type": "execute_result"
    },
    {
     "data": {
      "text/plain": [
       "<class 'pandas.core.frame.DataFrame'>"
      ]
     },
     "execution_count": 3,
     "metadata": {},
     "output_type": "execute_result"
    },
    {
     "data": {
      "text/plain": [
       "<class 'pandas.core.frame.DataFrame'>"
      ]
     },
     "execution_count": 3,
     "metadata": {},
     "output_type": "execute_result"
    },
    {
     "data": {
      "text/plain": [
       "<class 'pandas.core.frame.DataFrame'>"
      ]
     },
     "execution_count": 3,
     "metadata": {},
     "output_type": "execute_result"
    },
    {
     "data": {
      "text/plain": [
       "<class 'pandas.core.frame.DataFrame'>"
      ]
     },
     "execution_count": 3,
     "metadata": {},
     "output_type": "execute_result"
    },
    {
     "data": {
      "text/plain": [
       "<class 'pandas.core.frame.DataFrame'>"
      ]
     },
     "execution_count": 3,
     "metadata": {},
     "output_type": "execute_result"
    },
    {
     "data": {
      "text/plain": [
       "<class 'pandas.core.frame.DataFrame'>"
      ]
     },
     "execution_count": 3,
     "metadata": {},
     "output_type": "execute_result"
    },
    {
     "data": {
      "text/plain": [
       "<class 'pandas.core.frame.DataFrame'>"
      ]
     },
     "execution_count": 3,
     "metadata": {},
     "output_type": "execute_result"
    },
    {
     "data": {
      "text/plain": [
       "<class 'pandas.core.frame.DataFrame'>"
      ]
     },
     "execution_count": 3,
     "metadata": {},
     "output_type": "execute_result"
    },
    {
     "data": {
      "text/plain": [
       "<class 'pandas.core.frame.DataFrame'>"
      ]
     },
     "execution_count": 3,
     "metadata": {},
     "output_type": "execute_result"
    },
    {
     "data": {
      "text/plain": [
       "<class 'pandas.core.frame.DataFrame'>"
      ]
     },
     "execution_count": 3,
     "metadata": {},
     "output_type": "execute_result"
    },
    {
     "data": {
      "text/plain": [
       "<class 'pandas.core.frame.DataFrame'>"
      ]
     },
     "execution_count": 3,
     "metadata": {},
     "output_type": "execute_result"
    },
    {
     "data": {
      "text/plain": [
       "<class 'pandas.core.frame.DataFrame'>"
      ]
     },
     "execution_count": 3,
     "metadata": {},
     "output_type": "execute_result"
    },
    {
     "data": {
      "text/plain": [
       "<class 'pandas.core.frame.DataFrame'>"
      ]
     },
     "execution_count": 3,
     "metadata": {},
     "output_type": "execute_result"
    },
    {
     "data": {
      "text/plain": [
       "<class 'pandas.core.frame.DataFrame'>"
      ]
     },
     "execution_count": 3,
     "metadata": {},
     "output_type": "execute_result"
    },
    {
     "data": {
      "text/plain": [
       "<class 'pandas.core.frame.DataFrame'>"
      ]
     },
     "execution_count": 3,
     "metadata": {},
     "output_type": "execute_result"
    },
    {
     "data": {
      "text/plain": [
       "<class 'pandas.core.frame.DataFrame'>"
      ]
     },
     "execution_count": 3,
     "metadata": {},
     "output_type": "execute_result"
    },
    {
     "data": {
      "text/plain": [
       "<class 'pandas.core.frame.DataFrame'>"
      ]
     },
     "execution_count": 3,
     "metadata": {},
     "output_type": "execute_result"
    }
   ],
   "source": [
    "type(ar_DF)\n",
    "type(bo_DF)\n",
    "type(cl_DF)\n",
    "type(co_DF)\n",
    "type(cr_DF)\n",
    "type(cu_DF)\n",
    "type(do_DF)\n",
    "type(ec_DF)\n",
    "type(es_DF)\n",
    "type(gt_DF)\n",
    "type(hn_DF)\n",
    "type(mx_DF)\n",
    "type(ni_DF)\n",
    "type(pa_DF)\n",
    "type(pe_DF)\n",
    "type(pr_DF)\n",
    "type(py_DF)\n",
    "type(sv_DF)\n",
    "type(us_DF)\n",
    "type(uy_DF)"
   ]
  },
  {
   "cell_type": "code",
   "execution_count": 4,
   "metadata": {},
   "outputs": [
    {
     "name": "stdout",
     "output_type": "stream",
     "text": [
      "Argentina rows: 616845\n",
      "Bolivia rows: 143682\n",
      "Chile rows: 247619\n",
      "Colombia rows: 646821\n",
      "Costa Rica: 125645\n",
      "Cuba rows: 214837\n",
      "Dominican Republic rows: 145577\n",
      "Ecuador rows: 234485\n",
      "Spain rows: 1719752\n",
      "Guatemala rows: 224592\n",
      "Honduras rows: 136451\n",
      "Mexico rows: 939030\n",
      "Nicaragua rows: 129622\n",
      "Panama rows: 455817\n",
      "Peru rows: 451522\n",
      "Puerto Rico rows: 145101\n",
      "Paraguay rows: 103839\n",
      "El Salvador rows: 146933\n",
      "US rows rows: 626729\n",
      "Uruguay rows: 137585\n"
     ]
    }
   ],
   "source": [
    "print('Argentina rows:', ar_DF.shape[0])\n",
    "print('Bolivia rows:', bo_DF.shape[0])\n",
    "print('Chile rows:', cl_DF.shape[0])\n",
    "print('Colombia rows:', co_DF.shape[0])\n",
    "print('Costa Rica:', cr_DF.shape[0])\n",
    "print('Cuba rows:', cu_DF.shape[0])\n",
    "print('Dominican Republic rows:', do_DF.shape[0])\n",
    "print('Ecuador rows:', ec_DF.shape[0])\n",
    "print('Spain rows:', es_DF.shape[0])\n",
    "print('Guatemala rows:', gt_DF.shape[0])\n",
    "print('Honduras rows:', hn_DF.shape[0])\n",
    "print('Mexico rows:', mx_DF.shape[0])\n",
    "print('Nicaragua rows:', ni_DF.shape[0])\n",
    "print('Panama rows:', pa_DF.shape[0])\n",
    "print('Peru rows:', pe_DF.shape[0])\n",
    "print('Puerto Rico rows:', pr_DF.shape[0])\n",
    "print('Paraguay rows:', py_DF.shape[0])\n",
    "print('El Salvador rows:', sv_DF.shape[0])\n",
    "print('US rows rows:', us_DF.shape[0])\n",
    "print('Uruguay rows:', uy_DF.shape[0])"
   ]
  },
  {
   "cell_type": "code",
   "execution_count": 5,
   "metadata": {},
   "outputs": [],
   "source": [
    "master_DF = pd.concat([ar_DF, bo_DF, cl_DF, co_DF, cr_DF, cu_DF, do_DF, ec_DF, es_DF, gt_DF, hn_DF,\n",
    "                mx_DF, ni_DF, pa_DF, pe_DF, pr_DF, py_DF, sv_DF, us_DF, uy_DF], sort=True)"
   ]
  },
  {
   "cell_type": "code",
   "execution_count": 6,
   "metadata": {},
   "outputs": [
    {
     "name": "stdout",
     "output_type": "stream",
     "text": [
      "Master rows: 7592484\n"
     ]
    }
   ],
   "source": [
    "print('Master rows:', master_DF.shape[0])"
   ]
  },
  {
   "cell_type": "code",
   "execution_count": 7,
   "metadata": {},
   "outputs": [],
   "source": [
    "master_DF = master_DF.dropna()"
   ]
  },
  {
   "cell_type": "code",
   "execution_count": 8,
   "metadata": {},
   "outputs": [
    {
     "name": "stdout",
     "output_type": "stream",
     "text": [
      "Master rows: 7590609\n"
     ]
    }
   ],
   "source": [
    "print('Master rows:', master_DF.shape[0])"
   ]
  },
  {
   "cell_type": "code",
   "execution_count": 9,
   "metadata": {},
   "outputs": [
    {
     "data": {
      "text/plain": [
       "Index(['Lemma', 'POS', 'SourceID', 'TokenID', 'Variety', 'Word'], dtype='object')"
      ]
     },
     "execution_count": 9,
     "metadata": {},
     "output_type": "execute_result"
    }
   ],
   "source": [
    "master_DF.keys()"
   ]
  },
  {
   "cell_type": "code",
   "execution_count": 10,
   "metadata": {},
   "outputs": [],
   "source": [
    "master_DF = master_DF[['SourceID', 'TokenID', 'Lemma', 'Word', 'POS', 'Variety']]"
   ]
  },
  {
   "cell_type": "code",
   "execution_count": 11,
   "metadata": {},
   "outputs": [
    {
     "data": {
      "text/plain": [
       "Index(['SourceID', 'TokenID', 'Lemma', 'Word', 'POS', 'Variety'], dtype='object')"
      ]
     },
     "execution_count": 11,
     "metadata": {},
     "output_type": "execute_result"
    }
   ],
   "source": [
    "master_DF.keys()"
   ]
  },
  {
   "cell_type": "markdown",
   "metadata": {},
   "source": [
    "### 2. Further cleaning"
   ]
  },
  {
   "cell_type": "code",
   "execution_count": 12,
   "metadata": {},
   "outputs": [
    {
     "data": {
      "text/plain": [
       "n           1370111\n",
       "nms         1306937\n",
       "o            848151\n",
       "nfs          707053\n",
       "nmp          635693\n",
       "vip-3s       613522\n",
       "jms          371646\n",
       "j            360502\n",
       "jfs          328370\n",
       "vip-1s       235896\n",
       "nfp          135066\n",
       "vps-ms       129978\n",
       "jmp          102855\n",
       "vsp-1/3s     100798\n",
       "jfp           85536\n",
       "vip-2s        81871\n",
       "r             49707\n",
       "v             45588\n",
       "vps-fs        36387\n",
       "vps-mp        19406\n",
       "vps-fp        13977\n",
       "vsp-2s         6941\n",
       "np             1562\n",
       "x              1142\n",
       "m$              991\n",
       "i               420\n",
       "vr              201\n",
       "fn              159\n",
       "vm-2s           108\n",
       "xy               19\n",
       "e                12\n",
       "y                 3\n",
       "vm-3s             1\n",
       "Name: POS, dtype: int64"
      ]
     },
     "execution_count": 12,
     "metadata": {},
     "output_type": "execute_result"
    }
   ],
   "source": [
    "master_DF['POS'].value_counts()"
   ]
  },
  {
   "cell_type": "code",
   "execution_count": 13,
   "metadata": {},
   "outputs": [],
   "source": [
    "master_DF = master_DF[master_DF['POS'].str.contains('n|j')] "
   ]
  },
  {
   "cell_type": "code",
   "execution_count": 14,
   "metadata": {},
   "outputs": [
    {
     "data": {
      "text/plain": [
       "(5405490, 6)"
      ]
     },
     "execution_count": 14,
     "metadata": {},
     "output_type": "execute_result"
    }
   ],
   "source": [
    "master_DF.shape"
   ]
  },
  {
   "cell_type": "code",
   "execution_count": 15,
   "metadata": {},
   "outputs": [
    {
     "data": {
      "text/plain": [
       "n          1370111\n",
       "nms        1306937\n",
       "nfs         707053\n",
       "nmp         635693\n",
       "jms         371646\n",
       "j           360502\n",
       "jfs         328370\n",
       "nfp         135066\n",
       "jmp         102855\n",
       "jfp          85536\n",
       "np            1562\n",
       "fn             159\n",
       "Name: POS, dtype: int64"
      ]
     },
     "execution_count": 15,
     "metadata": {},
     "output_type": "execute_result"
    }
   ],
   "source": [
    "master_DF['POS'].value_counts()"
   ]
  },
  {
   "cell_type": "code",
   "execution_count": 66,
   "metadata": {},
   "outputs": [
    {
     "data": {
      "text/html": [
       "<div>\n",
       "<style scoped>\n",
       "    .dataframe tbody tr th:only-of-type {\n",
       "        vertical-align: middle;\n",
       "    }\n",
       "\n",
       "    .dataframe tbody tr th {\n",
       "        vertical-align: top;\n",
       "    }\n",
       "\n",
       "    .dataframe thead th {\n",
       "        text-align: right;\n",
       "    }\n",
       "</style>\n",
       "<table border=\"1\" class=\"dataframe\">\n",
       "  <thead>\n",
       "    <tr style=\"text-align: right;\">\n",
       "      <th></th>\n",
       "      <th>SourceID</th>\n",
       "      <th>TokenID</th>\n",
       "      <th>Lemma</th>\n",
       "      <th>Word</th>\n",
       "      <th>POS</th>\n",
       "      <th>Variety</th>\n",
       "    </tr>\n",
       "  </thead>\n",
       "  <tbody>\n",
       "    <tr>\n",
       "      <td>1413664</td>\n",
       "      <td>1056691</td>\n",
       "      <td>2435183488</td>\n",
       "      <td>mamita</td>\n",
       "      <td>Mamita</td>\n",
       "      <td>nms</td>\n",
       "      <td>PR</td>\n",
       "    </tr>\n",
       "    <tr>\n",
       "      <td>13942796</td>\n",
       "      <td>922259</td>\n",
       "      <td>2622667734</td>\n",
       "      <td>rollito</td>\n",
       "      <td>rollito</td>\n",
       "      <td>nms</td>\n",
       "      <td>MX</td>\n",
       "    </tr>\n",
       "    <tr>\n",
       "      <td>5174633</td>\n",
       "      <td>1161043</td>\n",
       "      <td>370025829</td>\n",
       "      <td>delito</td>\n",
       "      <td>delitos</td>\n",
       "      <td>nmp</td>\n",
       "      <td>US</td>\n",
       "    </tr>\n",
       "    <tr>\n",
       "      <td>16586284</td>\n",
       "      <td>1816797</td>\n",
       "      <td>2667827281</td>\n",
       "      <td>gratuito</td>\n",
       "      <td>gratuitas</td>\n",
       "      <td>jfp</td>\n",
       "      <td>ES</td>\n",
       "    </tr>\n",
       "    <tr>\n",
       "      <td>1635030</td>\n",
       "      <td>318497</td>\n",
       "      <td>1357590328</td>\n",
       "      <td>bonito</td>\n",
       "      <td>bonita</td>\n",
       "      <td>jfs</td>\n",
       "      <td>CR</td>\n",
       "    </tr>\n",
       "  </tbody>\n",
       "</table>\n",
       "</div>"
      ],
      "text/plain": [
       "         SourceID     TokenID     Lemma       Word      POS Variety\n",
       "1413664   1056691  2435183488    mamita     Mamita  nms          PR\n",
       "13942796   922259  2622667734   rollito    rollito  nms          MX\n",
       "5174633   1161043   370025829    delito    delitos  nmp          US\n",
       "16586284  1816797  2667827281  gratuito  gratuitas  jfp          ES\n",
       "1635030    318497  1357590328    bonito     bonita  jfs          CR"
      ]
     },
     "execution_count": 66,
     "metadata": {},
     "output_type": "execute_result"
    }
   ],
   "source": [
    "master_DF.sample(5)"
   ]
  },
  {
   "cell_type": "markdown",
   "metadata": {},
   "source": [
    "### 3. Descriptive statistics"
   ]
  },
  {
   "cell_type": "markdown",
   "metadata": {},
   "source": [
    "### 4. Storing files"
   ]
  }
 ],
 "metadata": {
  "kernelspec": {
   "display_name": "Python 3",
   "language": "python",
   "name": "python3"
  },
  "language_info": {
   "codemirror_mode": {
    "name": "ipython",
    "version": 3
   },
   "file_extension": ".py",
   "mimetype": "text/x-python",
   "name": "python",
   "nbconvert_exporter": "python",
   "pygments_lexer": "ipython3",
   "version": "3.7.4"
  }
 },
 "nbformat": 4,
 "nbformat_minor": 2
}
