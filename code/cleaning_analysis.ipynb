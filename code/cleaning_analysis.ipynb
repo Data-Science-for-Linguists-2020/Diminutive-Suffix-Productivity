{
 "cells": [
  {
   "cell_type": "markdown",
   "metadata": {},
   "source": [
    "# Diminutive Suffix Productivity: further cleaning and exploratory  analysis\n",
    "Juan Berrios | jeb358@pitt.edu | Last updated: March 19, 2020"
   ]
  },
  {
   "cell_type": "markdown",
   "metadata": {},
   "source": [
    "**Summary and overview:**"
   ]
  },
  {
   "cell_type": "markdown",
   "metadata": {},
   "source": [
    "- This notebook is a continuation of the [corpus processing notebook](https://github.com/Data-Science-for-Linguists-2020/Diminutive-Suffix-Productivity/blob/master/code/corpus_processing.ipynb) in my repository. The purpose is to finish cleaning the data frame objects I've built (which were previously pickled in order to be loaded here) and create a master, cross-dialectal data frame for exploratory analysis."
   ]
  },
  {
   "cell_type": "markdown",
   "metadata": {},
   "source": [
    "**Contents:**\n",
    "1. [Preparation](#1.-Preparation): includes the necessary preparations and loading of the files.\n",
    "2. [Further cleaning and manipulation](#2.-Further-cleaning-and-manipulation): includes code for performing further cleaning on the data. New, refined columns needed for explatory analysis are also added.\n",
    "3. [Exploratory analysis](#3.-Exploratory-analysis): the start of the analysis, with a focus on descriptive statistics and data visualization.\n",
    "4. [Storing files](#4.-Storing-files): includes code for storing the results as pickled files."
   ]
  },
  {
   "cell_type": "markdown",
   "metadata": {},
   "source": [
    "## 1. Preparation"
   ]
  },
  {
   "cell_type": "markdown",
   "metadata": {},
   "source": [
    "- Loading libraries and additional settings:"
   ]
  },
  {
   "cell_type": "code",
   "execution_count": 103,
   "metadata": {},
   "outputs": [
    {
     "name": "stdout",
     "output_type": "stream",
     "text": [
      "Pretty printing has been turned OFF\n"
     ]
    }
   ],
   "source": [
    "#Importing libraries\n",
    "import pickle, re\n",
    "import pandas as pd\n",
    "import numpy as np\n",
    "import matplotlib\n",
    "import matplotlib.pyplot as plt\n",
    "\n",
    "#Turning pretty print off:\n",
    "%pprint\n",
    "\n",
    "# Settings for plotting\n",
    "\n",
    "matplotlib.rcParams['font.sans-serif'] = \"Century Gothic\"\n",
    "matplotlib.rcParams['font.family'] = \"sans-serif\"\n",
    "\n",
    "#Releasing all output:                                            \n",
    "from IPython.core.interactiveshell import InteractiveShell #Prints all commands rather than the last one.\n",
    "InteractiveShell.ast_node_interactivity = \"all\""
   ]
  },
  {
   "cell_type": "markdown",
   "metadata": {},
   "source": [
    "- Loading pickle files:"
   ]
  },
  {
   "cell_type": "code",
   "execution_count": 2,
   "metadata": {},
   "outputs": [],
   "source": [
    "ar_DF = pd.read_pickle('ar_DF.pkl')\n",
    "bo_DF = pd.read_pickle('bo_DF.pkl')\n",
    "cl_DF = pd.read_pickle('cl_DF.pkl')\n",
    "co_DF = pd.read_pickle('co_DF.pkl')\n",
    "cr_DF = pd.read_pickle('cr_DF.pkl')\n",
    "cu_DF = pd.read_pickle('cu_DF.pkl')\n",
    "do_DF = pd.read_pickle('do_DF.pkl')\n",
    "ec_DF = pd.read_pickle('ec_DF.pkl')\n",
    "es_DF = pd.read_pickle('es_DF.pkl')\n",
    "gt_DF = pd.read_pickle('gt_DF.pkl')\n",
    "hn_DF = pd.read_pickle('hn_DF.pkl')\n",
    "mx_DF = pd.read_pickle('mx_DF.pkl')\n",
    "ni_DF = pd.read_pickle('ni_DF.pkl')\n",
    "pa_DF = pd.read_pickle('pa_DF.pkl')\n",
    "pe_DF = pd.read_pickle('pe_DF.pkl')\n",
    "pr_DF = pd.read_pickle('pr_DF.pkl')\n",
    "py_DF = pd.read_pickle('py_DF.pkl')\n",
    "sv_DF = pd.read_pickle('sv_DF.pkl')\n",
    "us_DF = pd.read_pickle('us_DF.pkl')\n",
    "uy_DF = pd.read_pickle('uy_DF.pkl')"
   ]
  },
  {
   "cell_type": "markdown",
   "metadata": {},
   "source": [
    "- Double checking that they were saved as the right type:"
   ]
  },
  {
   "cell_type": "code",
   "execution_count": 3,
   "metadata": {},
   "outputs": [
    {
     "data": {
      "text/plain": [
       "<class 'pandas.core.frame.DataFrame'>"
      ]
     },
     "execution_count": 3,
     "metadata": {},
     "output_type": "execute_result"
    },
    {
     "data": {
      "text/plain": [
       "<class 'pandas.core.frame.DataFrame'>"
      ]
     },
     "execution_count": 3,
     "metadata": {},
     "output_type": "execute_result"
    },
    {
     "data": {
      "text/plain": [
       "<class 'pandas.core.frame.DataFrame'>"
      ]
     },
     "execution_count": 3,
     "metadata": {},
     "output_type": "execute_result"
    },
    {
     "data": {
      "text/plain": [
       "<class 'pandas.core.frame.DataFrame'>"
      ]
     },
     "execution_count": 3,
     "metadata": {},
     "output_type": "execute_result"
    },
    {
     "data": {
      "text/plain": [
       "<class 'pandas.core.frame.DataFrame'>"
      ]
     },
     "execution_count": 3,
     "metadata": {},
     "output_type": "execute_result"
    },
    {
     "data": {
      "text/plain": [
       "<class 'pandas.core.frame.DataFrame'>"
      ]
     },
     "execution_count": 3,
     "metadata": {},
     "output_type": "execute_result"
    },
    {
     "data": {
      "text/plain": [
       "<class 'pandas.core.frame.DataFrame'>"
      ]
     },
     "execution_count": 3,
     "metadata": {},
     "output_type": "execute_result"
    },
    {
     "data": {
      "text/plain": [
       "<class 'pandas.core.frame.DataFrame'>"
      ]
     },
     "execution_count": 3,
     "metadata": {},
     "output_type": "execute_result"
    },
    {
     "data": {
      "text/plain": [
       "<class 'pandas.core.frame.DataFrame'>"
      ]
     },
     "execution_count": 3,
     "metadata": {},
     "output_type": "execute_result"
    },
    {
     "data": {
      "text/plain": [
       "<class 'pandas.core.frame.DataFrame'>"
      ]
     },
     "execution_count": 3,
     "metadata": {},
     "output_type": "execute_result"
    },
    {
     "data": {
      "text/plain": [
       "<class 'pandas.core.frame.DataFrame'>"
      ]
     },
     "execution_count": 3,
     "metadata": {},
     "output_type": "execute_result"
    },
    {
     "data": {
      "text/plain": [
       "<class 'pandas.core.frame.DataFrame'>"
      ]
     },
     "execution_count": 3,
     "metadata": {},
     "output_type": "execute_result"
    },
    {
     "data": {
      "text/plain": [
       "<class 'pandas.core.frame.DataFrame'>"
      ]
     },
     "execution_count": 3,
     "metadata": {},
     "output_type": "execute_result"
    },
    {
     "data": {
      "text/plain": [
       "<class 'pandas.core.frame.DataFrame'>"
      ]
     },
     "execution_count": 3,
     "metadata": {},
     "output_type": "execute_result"
    },
    {
     "data": {
      "text/plain": [
       "<class 'pandas.core.frame.DataFrame'>"
      ]
     },
     "execution_count": 3,
     "metadata": {},
     "output_type": "execute_result"
    },
    {
     "data": {
      "text/plain": [
       "<class 'pandas.core.frame.DataFrame'>"
      ]
     },
     "execution_count": 3,
     "metadata": {},
     "output_type": "execute_result"
    },
    {
     "data": {
      "text/plain": [
       "<class 'pandas.core.frame.DataFrame'>"
      ]
     },
     "execution_count": 3,
     "metadata": {},
     "output_type": "execute_result"
    },
    {
     "data": {
      "text/plain": [
       "<class 'pandas.core.frame.DataFrame'>"
      ]
     },
     "execution_count": 3,
     "metadata": {},
     "output_type": "execute_result"
    },
    {
     "data": {
      "text/plain": [
       "<class 'pandas.core.frame.DataFrame'>"
      ]
     },
     "execution_count": 3,
     "metadata": {},
     "output_type": "execute_result"
    },
    {
     "data": {
      "text/plain": [
       "<class 'pandas.core.frame.DataFrame'>"
      ]
     },
     "execution_count": 3,
     "metadata": {},
     "output_type": "execute_result"
    }
   ],
   "source": [
    "type(ar_DF)\n",
    "type(bo_DF)\n",
    "type(cl_DF)\n",
    "type(co_DF)\n",
    "type(cr_DF)\n",
    "type(cu_DF)\n",
    "type(do_DF)\n",
    "type(ec_DF)\n",
    "type(es_DF)\n",
    "type(gt_DF)\n",
    "type(hn_DF)\n",
    "type(mx_DF)\n",
    "type(ni_DF)\n",
    "type(pa_DF)\n",
    "type(pe_DF)\n",
    "type(pr_DF)\n",
    "type(py_DF)\n",
    "type(sv_DF)\n",
    "type(us_DF)\n",
    "type(uy_DF)"
   ]
  },
  {
   "cell_type": "markdown",
   "metadata": {},
   "source": [
    "- Looks good. Now let's take a first look at the size (number of rows, since all have 6 colums) of the data frames as they are:"
   ]
  },
  {
   "cell_type": "code",
   "execution_count": 4,
   "metadata": {},
   "outputs": [
    {
     "name": "stdout",
     "output_type": "stream",
     "text": [
      "Argentina rows: 616845\n",
      "Bolivia rows: 143682\n",
      "Chile rows: 247619\n",
      "Colombia rows: 646821\n",
      "Costa Rica: 125645\n",
      "Cuba rows: 214837\n",
      "Dominican Republic rows: 145577\n",
      "Ecuador rows: 234485\n",
      "Spain rows: 1719752\n",
      "Guatemala rows: 224592\n",
      "Honduras rows: 136451\n",
      "Mexico rows: 939030\n",
      "Nicaragua rows: 129622\n",
      "Panama rows: 455817\n",
      "Peru rows: 451522\n",
      "Puerto Rico rows: 145101\n",
      "Paraguay rows: 103839\n",
      "El Salvador rows: 146933\n",
      "US rows rows: 626729\n",
      "Uruguay rows: 137585\n"
     ]
    }
   ],
   "source": [
    "print('Argentina rows:', ar_DF.shape[0])\n",
    "print('Bolivia rows:', bo_DF.shape[0])\n",
    "print('Chile rows:', cl_DF.shape[0])\n",
    "print('Colombia rows:', co_DF.shape[0])\n",
    "print('Costa Rica:', cr_DF.shape[0])\n",
    "print('Cuba rows:', cu_DF.shape[0])\n",
    "print('Dominican Republic rows:', do_DF.shape[0])\n",
    "print('Ecuador rows:', ec_DF.shape[0])\n",
    "print('Spain rows:', es_DF.shape[0])\n",
    "print('Guatemala rows:', gt_DF.shape[0])\n",
    "print('Honduras rows:', hn_DF.shape[0])\n",
    "print('Mexico rows:', mx_DF.shape[0])\n",
    "print('Nicaragua rows:', ni_DF.shape[0])\n",
    "print('Panama rows:', pa_DF.shape[0])\n",
    "print('Peru rows:', pe_DF.shape[0])\n",
    "print('Puerto Rico rows:', pr_DF.shape[0])\n",
    "print('Paraguay rows:', py_DF.shape[0])\n",
    "print('El Salvador rows:', sv_DF.shape[0])\n",
    "print('US rows rows:', us_DF.shape[0])\n",
    "print('Uruguay rows:', uy_DF.shape[0])"
   ]
  },
  {
   "cell_type": "markdown",
   "metadata": {},
   "source": [
    "- And as a last step to use less memory and write shorter, more efficient code let's build a master data frame that includes all varieties. Since there is a `Variety` column that I added in the first notebook, the rows can be properly identified and I can go back to the individual by-variety data frames if needed. I'll also verify how large it is."
   ]
  },
  {
   "cell_type": "code",
   "execution_count": 5,
   "metadata": {},
   "outputs": [],
   "source": [
    "master_DF = pd.concat([ar_DF, bo_DF, cl_DF, co_DF, cr_DF, cu_DF, do_DF, ec_DF, es_DF, gt_DF, hn_DF,\n",
    "                mx_DF, ni_DF, pa_DF, pe_DF, pr_DF, py_DF, sv_DF, us_DF, uy_DF], sort=True)"
   ]
  },
  {
   "cell_type": "code",
   "execution_count": 6,
   "metadata": {},
   "outputs": [
    {
     "name": "stdout",
     "output_type": "stream",
     "text": [
      "Master rows: 7592484\n"
     ]
    }
   ],
   "source": [
    "print('Master rows:', master_DF.shape[0])"
   ]
  },
  {
   "cell_type": "markdown",
   "metadata": {},
   "source": [
    "- I noticed that some data frames had NaN values, which might be why I was running into some issues in the prior notebook (the test one didn't have any). To make sure that won't be a problem anymore I'll drop those rows:"
   ]
  },
  {
   "cell_type": "code",
   "execution_count": 7,
   "metadata": {},
   "outputs": [],
   "source": [
    "master_DF = master_DF.dropna() "
   ]
  },
  {
   "cell_type": "code",
   "execution_count": 8,
   "metadata": {},
   "outputs": [
    {
     "name": "stdout",
     "output_type": "stream",
     "text": [
      "Master rows: 7590609\n"
     ]
    }
   ],
   "source": [
    "print('Master rows:', master_DF.shape[0])"
   ]
  },
  {
   "cell_type": "code",
   "execution_count": 9,
   "metadata": {},
   "outputs": [
    {
     "data": {
      "text/plain": [
       "Index(['Lemma', 'POS', 'SourceID', 'TokenID', 'Variety', 'Word'], dtype='object')"
      ]
     },
     "execution_count": 9,
     "metadata": {},
     "output_type": "execute_result"
    }
   ],
   "source": [
    "master_DF.keys() #The order of the columns was shuffled, to turn it back:"
   ]
  },
  {
   "cell_type": "code",
   "execution_count": 10,
   "metadata": {},
   "outputs": [],
   "source": [
    "master_DF = master_DF[['SourceID', 'TokenID', 'Lemma', 'Word', 'POS', 'Variety']]"
   ]
  },
  {
   "cell_type": "code",
   "execution_count": 11,
   "metadata": {},
   "outputs": [
    {
     "data": {
      "text/plain": [
       "Index(['SourceID', 'TokenID', 'Lemma', 'Word', 'POS', 'Variety'], dtype='object')"
      ]
     },
     "execution_count": 11,
     "metadata": {},
     "output_type": "execute_result"
    }
   ],
   "source": [
    "master_DF.keys() #Success"
   ]
  },
  {
   "cell_type": "markdown",
   "metadata": {},
   "source": [
    "## 2. Further cleaning and manipulation"
   ]
  },
  {
   "cell_type": "markdown",
   "metadata": {},
   "source": [
    "- In the first notebook I reduced a gigantic amount (30GB when zipped) of data to manageable smaller sizes. The data frames as they are only include tokens that end in the segments of interest. The problem is that many of those just happen to end in the same segments as diminutives but are not diminutives themselves. To solve this problem, let's first remove categories to which the morphological pattern doesn't apply (and refine the POS column in the process):"
   ]
  },
  {
   "cell_type": "code",
   "execution_count": 12,
   "metadata": {},
   "outputs": [
    {
     "data": {
      "text/plain": [
       "n           1370111\n",
       "nms         1306937\n",
       "o            848151\n",
       "nfs          707053\n",
       "nmp          635693\n",
       "vip-3s       613522\n",
       "jms          371646\n",
       "j            360502\n",
       "jfs          328370\n",
       "vip-1s       235896\n",
       "nfp          135066\n",
       "vps-ms       129978\n",
       "jmp          102855\n",
       "vsp-1/3s     100798\n",
       "jfp           85536\n",
       "vip-2s        81871\n",
       "r             49707\n",
       "v             45588\n",
       "vps-fs        36387\n",
       "vps-mp        19406\n",
       "vps-fp        13977\n",
       "vsp-2s         6941\n",
       "np             1562\n",
       "x              1142\n",
       "m$              991\n",
       "i               420\n",
       "vr              201\n",
       "fn              159\n",
       "vm-2s           108\n",
       "xy               19\n",
       "e                12\n",
       "y                 3\n",
       "vm-3s             1\n",
       "Name: POS, dtype: int64"
      ]
     },
     "execution_count": 12,
     "metadata": {},
     "output_type": "execute_result"
    }
   ],
   "source": [
    "master_DF['POS'].value_counts() #Most of this I don't need"
   ]
  },
  {
   "cell_type": "code",
   "execution_count": 13,
   "metadata": {},
   "outputs": [],
   "source": [
    "master_DF = master_DF[master_DF['POS'].str.contains('n|j')] #Extracts only noun and adjective classes. A very limited\n",
    "                                                            #set of gerunds can also take diminutive suffixes but the \n",
    "                                                            #amount is negligeable and won't be enough for analysis so \n",
    "                                                            #I'll exclude them."
   ]
  },
  {
   "cell_type": "code",
   "execution_count": 14,
   "metadata": {},
   "outputs": [
    {
     "data": {
      "text/plain": [
       "(5405490, 6)"
      ]
     },
     "execution_count": 14,
     "metadata": {},
     "output_type": "execute_result"
    }
   ],
   "source": [
    "master_DF.shape #Current size"
   ]
  },
  {
   "cell_type": "code",
   "execution_count": 15,
   "metadata": {},
   "outputs": [
    {
     "data": {
      "text/plain": [
       "n          1370111\n",
       "nms        1306937\n",
       "nfs         707053\n",
       "nmp         635693\n",
       "jms         371646\n",
       "j           360502\n",
       "jfs         328370\n",
       "nfp         135066\n",
       "jmp         102855\n",
       "jfp          85536\n",
       "np            1562\n",
       "fn             159\n",
       "Name: POS, dtype: int64"
      ]
     },
     "execution_count": 15,
     "metadata": {},
     "output_type": "execute_result"
    }
   ],
   "source": [
    "master_DF['POS'].value_counts() #That last category is the only one that shouldn't be there. Let's remove it."
   ]
  },
  {
   "cell_type": "code",
   "execution_count": 16,
   "metadata": {},
   "outputs": [],
   "source": [
    "master_DF = master_DF[master_DF['POS'] != ('fn')] "
   ]
  },
  {
   "cell_type": "code",
   "execution_count": 17,
   "metadata": {
    "scrolled": true
   },
   "outputs": [
    {
     "data": {
      "text/plain": [
       "n          1370111\n",
       "nms        1306937\n",
       "nfs         707053\n",
       "nmp         635693\n",
       "jms         371646\n",
       "j           360502\n",
       "jfs         328370\n",
       "nfp         135066\n",
       "jmp         102855\n",
       "jfp          85536\n",
       "np            1562\n",
       "Name: POS, dtype: int64"
      ]
     },
     "execution_count": 17,
     "metadata": {},
     "output_type": "execute_result"
    }
   ],
   "source": [
    "master_DF['POS'].value_counts() #Success. "
   ]
  },
  {
   "cell_type": "code",
   "execution_count": 18,
   "metadata": {},
   "outputs": [
    {
     "data": {
      "text/html": [
       "<div>\n",
       "<style scoped>\n",
       "    .dataframe tbody tr th:only-of-type {\n",
       "        vertical-align: middle;\n",
       "    }\n",
       "\n",
       "    .dataframe tbody tr th {\n",
       "        vertical-align: top;\n",
       "    }\n",
       "\n",
       "    .dataframe thead th {\n",
       "        text-align: right;\n",
       "    }\n",
       "</style>\n",
       "<table border=\"1\" class=\"dataframe\">\n",
       "  <thead>\n",
       "    <tr style=\"text-align: right;\">\n",
       "      <th></th>\n",
       "      <th>SourceID</th>\n",
       "      <th>TokenID</th>\n",
       "      <th>Lemma</th>\n",
       "      <th>Word</th>\n",
       "      <th>POS</th>\n",
       "      <th>Variety</th>\n",
       "    </tr>\n",
       "  </thead>\n",
       "  <tbody>\n",
       "    <tr>\n",
       "      <td>9561034</td>\n",
       "      <td>528368</td>\n",
       "      <td>2416644862</td>\n",
       "      <td>manuscrito</td>\n",
       "      <td>manuscrita</td>\n",
       "      <td>jfs</td>\n",
       "      <td>ES</td>\n",
       "    </tr>\n",
       "    <tr>\n",
       "      <td>1586042</td>\n",
       "      <td>157012</td>\n",
       "      <td>293280632</td>\n",
       "      <td>visita</td>\n",
       "      <td>visita</td>\n",
       "      <td>nfs</td>\n",
       "      <td>CL</td>\n",
       "    </tr>\n",
       "    <tr>\n",
       "      <td>6502513</td>\n",
       "      <td>495728</td>\n",
       "      <td>1662194015</td>\n",
       "      <td>icnita</td>\n",
       "      <td>icnitas</td>\n",
       "      <td>n</td>\n",
       "      <td>ES</td>\n",
       "    </tr>\n",
       "    <tr>\n",
       "      <td>21658888</td>\n",
       "      <td>620270</td>\n",
       "      <td>2039438248</td>\n",
       "      <td>cepillo</td>\n",
       "      <td>Cepillo</td>\n",
       "      <td>nms</td>\n",
       "      <td>ES</td>\n",
       "    </tr>\n",
       "    <tr>\n",
       "      <td>1614634</td>\n",
       "      <td>1945085</td>\n",
       "      <td>973118422</td>\n",
       "      <td>delito</td>\n",
       "      <td>delito</td>\n",
       "      <td>nms</td>\n",
       "      <td>HN</td>\n",
       "    </tr>\n",
       "  </tbody>\n",
       "</table>\n",
       "</div>"
      ],
      "text/plain": [
       "         SourceID     TokenID       Lemma        Word      POS Variety\n",
       "9561034    528368  2416644862  manuscrito  manuscrita  jfs          ES\n",
       "1586042    157012   293280632      visita      visita  nfs          CL\n",
       "6502513    495728  1662194015      icnita     icnitas        n      ES\n",
       "21658888   620270  2039438248     cepillo     Cepillo  nms          ES\n",
       "1614634   1945085   973118422      delito      delito  nms          HN"
      ]
     },
     "execution_count": 18,
     "metadata": {},
     "output_type": "execute_result"
    }
   ],
   "source": [
    "master_DF.sample(5) #Let's take a sample to make sure all's going well:"
   ]
  },
  {
   "cell_type": "markdown",
   "metadata": {},
   "source": [
    "- The POS column provides useful information that I might use for linguistic analysis, so let's refine it:"
   ]
  },
  {
   "cell_type": "code",
   "execution_count": 19,
   "metadata": {},
   "outputs": [
    {
     "data": {
      "text/plain": [
       "array(['nmp    ', 'nfs    ', 'n', 'jfs    ', 'nms    ', 'j', 'jms    ',\n",
       "       'nfp    ', 'jmp    ', 'jfp    ', 'np'], dtype=object)"
      ]
     },
     "execution_count": 19,
     "metadata": {},
     "output_type": "execute_result"
    }
   ],
   "source": [
    "master_DF['POS'].unique()"
   ]
  },
  {
   "cell_type": "markdown",
   "metadata": {},
   "source": [
    "- There are two main problems here. First, that for some reason I couldn't find in the documentation some tokens were not tagged for gender and number (those tagged 'j' and 'n'). Secondly, there is extraneous white space in some categories, which was giving me issues when first trying out the code. Let's take care of one issue at a time:"
   ]
  },
  {
   "cell_type": "code",
   "execution_count": 20,
   "metadata": {},
   "outputs": [],
   "source": [
    "master_DF['POS'] = master_DF['POS'].str.strip()"
   ]
  },
  {
   "cell_type": "code",
   "execution_count": 21,
   "metadata": {},
   "outputs": [
    {
     "data": {
      "text/plain": [
       "array(['nmp', 'nfs', 'n', 'jfs', 'nms', 'j', 'jms', 'nfp', 'jmp', 'jfp',\n",
       "       'np'], dtype=object)"
      ]
     },
     "execution_count": 21,
     "metadata": {},
     "output_type": "execute_result"
    }
   ],
   "source": [
    "master_DF['POS'].unique() #White space problem solved"
   ]
  },
  {
   "cell_type": "markdown",
   "metadata": {},
   "source": [
    "- Now I'll create a simplified, binary POS column where each token is either a noun or an adjective. Let's also make the coding more transparent while we are at it:"
   ]
  },
  {
   "cell_type": "code",
   "execution_count": 22,
   "metadata": {},
   "outputs": [],
   "source": [
    "pos_dict = {'n': 'Noun', 'nms': 'Noun', 'nfs': 'Noun', 'nmp': 'Noun', 'nfp': 'Noun', 'np': 'Noun', \n",
    "             'j': 'Adjective', 'jms': 'Adjective', 'jfs': 'Adjective', 'jmp': 'Adjective', 'jfp': 'Adjective'}"
   ]
  },
  {
   "cell_type": "code",
   "execution_count": 23,
   "metadata": {},
   "outputs": [],
   "source": [
    "master_DF['POS_binary'] = master_DF['POS'].map(pos_dict)"
   ]
  },
  {
   "cell_type": "code",
   "execution_count": 24,
   "metadata": {},
   "outputs": [
    {
     "data": {
      "text/html": [
       "<div>\n",
       "<style scoped>\n",
       "    .dataframe tbody tr th:only-of-type {\n",
       "        vertical-align: middle;\n",
       "    }\n",
       "\n",
       "    .dataframe tbody tr th {\n",
       "        vertical-align: top;\n",
       "    }\n",
       "\n",
       "    .dataframe thead th {\n",
       "        text-align: right;\n",
       "    }\n",
       "</style>\n",
       "<table border=\"1\" class=\"dataframe\">\n",
       "  <thead>\n",
       "    <tr style=\"text-align: right;\">\n",
       "      <th></th>\n",
       "      <th>SourceID</th>\n",
       "      <th>TokenID</th>\n",
       "      <th>Lemma</th>\n",
       "      <th>Word</th>\n",
       "      <th>POS</th>\n",
       "      <th>Variety</th>\n",
       "      <th>POS_binary</th>\n",
       "    </tr>\n",
       "  </thead>\n",
       "  <tbody>\n",
       "    <tr>\n",
       "      <td>2137263</td>\n",
       "      <td>207118</td>\n",
       "      <td>1741482369</td>\n",
       "      <td>infinito</td>\n",
       "      <td>infinitos</td>\n",
       "      <td>nmp</td>\n",
       "      <td>CO</td>\n",
       "      <td>Noun</td>\n",
       "    </tr>\n",
       "    <tr>\n",
       "      <td>8663398</td>\n",
       "      <td>93295</td>\n",
       "      <td>817281631</td>\n",
       "      <td>poquito</td>\n",
       "      <td>poquito</td>\n",
       "      <td>n</td>\n",
       "      <td>AR</td>\n",
       "      <td>Noun</td>\n",
       "    </tr>\n",
       "    <tr>\n",
       "      <td>2746353</td>\n",
       "      <td>782092</td>\n",
       "      <td>257353809</td>\n",
       "      <td>platillo</td>\n",
       "      <td>platillo</td>\n",
       "      <td>nms</td>\n",
       "      <td>MX</td>\n",
       "      <td>Noun</td>\n",
       "    </tr>\n",
       "    <tr>\n",
       "      <td>3531015</td>\n",
       "      <td>181461</td>\n",
       "      <td>2611245345</td>\n",
       "      <td>cita</td>\n",
       "      <td>cita</td>\n",
       "      <td>nfs</td>\n",
       "      <td>CL</td>\n",
       "      <td>Noun</td>\n",
       "    </tr>\n",
       "    <tr>\n",
       "      <td>4311357</td>\n",
       "      <td>231452</td>\n",
       "      <td>127571377</td>\n",
       "      <td>escrito</td>\n",
       "      <td>escritos</td>\n",
       "      <td>nmp</td>\n",
       "      <td>CO</td>\n",
       "      <td>Noun</td>\n",
       "    </tr>\n",
       "    <tr>\n",
       "      <td>3280855</td>\n",
       "      <td>2181701</td>\n",
       "      <td>2147185991</td>\n",
       "      <td>hábito</td>\n",
       "      <td>hábito</td>\n",
       "      <td>nms</td>\n",
       "      <td>PE</td>\n",
       "      <td>Noun</td>\n",
       "    </tr>\n",
       "    <tr>\n",
       "      <td>3896955</td>\n",
       "      <td>1986036</td>\n",
       "      <td>2336878145</td>\n",
       "      <td>mito</td>\n",
       "      <td>mitos</td>\n",
       "      <td>nmp</td>\n",
       "      <td>MX</td>\n",
       "      <td>Noun</td>\n",
       "    </tr>\n",
       "    <tr>\n",
       "      <td>4065841</td>\n",
       "      <td>229073</td>\n",
       "      <td>438066207</td>\n",
       "      <td>estribillo</td>\n",
       "      <td>estribillo</td>\n",
       "      <td>nms</td>\n",
       "      <td>CO</td>\n",
       "      <td>Noun</td>\n",
       "    </tr>\n",
       "    <tr>\n",
       "      <td>3630919</td>\n",
       "      <td>2190382</td>\n",
       "      <td>109596229</td>\n",
       "      <td>brillo</td>\n",
       "      <td>brillo</td>\n",
       "      <td>nms</td>\n",
       "      <td>PA</td>\n",
       "      <td>Noun</td>\n",
       "    </tr>\n",
       "    <tr>\n",
       "      <td>3822460</td>\n",
       "      <td>471676</td>\n",
       "      <td>2305938488</td>\n",
       "      <td>sencillo</td>\n",
       "      <td>sencilla</td>\n",
       "      <td>jfs</td>\n",
       "      <td>ES</td>\n",
       "      <td>Adjective</td>\n",
       "    </tr>\n",
       "  </tbody>\n",
       "</table>\n",
       "</div>"
      ],
      "text/plain": [
       "        SourceID     TokenID       Lemma        Word  POS Variety POS_binary\n",
       "2137263   207118  1741482369    infinito   infinitos  nmp      CO       Noun\n",
       "8663398    93295   817281631     poquito     poquito    n      AR       Noun\n",
       "2746353   782092   257353809    platillo    platillo  nms      MX       Noun\n",
       "3531015   181461  2611245345        cita        cita  nfs      CL       Noun\n",
       "4311357   231452   127571377     escrito    escritos  nmp      CO       Noun\n",
       "3280855  2181701  2147185991      hábito      hábito  nms      PE       Noun\n",
       "3896955  1986036  2336878145        mito       mitos  nmp      MX       Noun\n",
       "4065841   229073   438066207  estribillo  estribillo  nms      CO       Noun\n",
       "3630919  2190382   109596229      brillo      brillo  nms      PA       Noun\n",
       "3822460   471676  2305938488    sencillo    sencilla  jfs      ES  Adjective"
      ]
     },
     "execution_count": 24,
     "metadata": {},
     "output_type": "execute_result"
    }
   ],
   "source": [
    "master_DF.sample(10) #It works. "
   ]
  },
  {
   "cell_type": "markdown",
   "metadata": {},
   "source": [
    "- As a solution for tokens that are not tagged for gender and number I'll create an 'Unknown label'. It is also possible to write code that will tag them based on certain patterns. Since that is not the focus of my analysis I won't do that now, but I might come back here if I have some extra time later. "
   ]
  },
  {
   "cell_type": "code",
   "execution_count": 25,
   "metadata": {},
   "outputs": [],
   "source": [
    "#Build dictionaries that map POS into desired gender and number values:\n",
    "\n",
    "number_dict = {'n': 'unknown', 'nms': 'singular', 'nfs': 'singular', 'nmp': 'plural', 'nfp': 'plural', \n",
    "                  'np': 'unknown', 'j': 'unknown', 'jms': 'singular', 'jfs': 'singular', 'jmp': 'plural', \n",
    "                  'jfp': 'plural'}\n",
    "\n",
    "gender_dict = {'n': 'unknown', 'nms': 'masculine', 'nfs': 'feminine', 'nmp': 'masculine', 'nfp': 'feminine', \n",
    "                  'np': 'unknown', 'j': 'unknown', 'jms': 'masculine', 'jfs': 'feminine', 'jmp': 'masculine', \n",
    "                  'jfp': 'feminine'}"
   ]
  },
  {
   "cell_type": "code",
   "execution_count": 26,
   "metadata": {},
   "outputs": [],
   "source": [
    "master_DF['Number'] = master_DF['POS'].map(number_dict) #Map new values"
   ]
  },
  {
   "cell_type": "code",
   "execution_count": 27,
   "metadata": {},
   "outputs": [
    {
     "data": {
      "text/html": [
       "<div>\n",
       "<style scoped>\n",
       "    .dataframe tbody tr th:only-of-type {\n",
       "        vertical-align: middle;\n",
       "    }\n",
       "\n",
       "    .dataframe tbody tr th {\n",
       "        vertical-align: top;\n",
       "    }\n",
       "\n",
       "    .dataframe thead th {\n",
       "        text-align: right;\n",
       "    }\n",
       "</style>\n",
       "<table border=\"1\" class=\"dataframe\">\n",
       "  <thead>\n",
       "    <tr style=\"text-align: right;\">\n",
       "      <th></th>\n",
       "      <th>SourceID</th>\n",
       "      <th>TokenID</th>\n",
       "      <th>Lemma</th>\n",
       "      <th>Word</th>\n",
       "      <th>POS</th>\n",
       "      <th>Variety</th>\n",
       "      <th>POS_binary</th>\n",
       "      <th>Number</th>\n",
       "    </tr>\n",
       "  </thead>\n",
       "  <tbody>\n",
       "    <tr>\n",
       "      <td>1170998</td>\n",
       "      <td>1054111</td>\n",
       "      <td>37015008</td>\n",
       "      <td>poquito</td>\n",
       "      <td>poquito</td>\n",
       "      <td>n</td>\n",
       "      <td>PR</td>\n",
       "      <td>Noun</td>\n",
       "      <td>unknown</td>\n",
       "    </tr>\n",
       "    <tr>\n",
       "      <td>448287</td>\n",
       "      <td>2119468</td>\n",
       "      <td>1592720463</td>\n",
       "      <td>éxito</td>\n",
       "      <td>éxito</td>\n",
       "      <td>n</td>\n",
       "      <td>NI</td>\n",
       "      <td>Noun</td>\n",
       "      <td>unknown</td>\n",
       "    </tr>\n",
       "    <tr>\n",
       "      <td>11115343</td>\n",
       "      <td>1764669</td>\n",
       "      <td>1893881538</td>\n",
       "      <td>animalito</td>\n",
       "      <td>animalito</td>\n",
       "      <td>n</td>\n",
       "      <td>ES</td>\n",
       "      <td>Noun</td>\n",
       "      <td>unknown</td>\n",
       "    </tr>\n",
       "    <tr>\n",
       "      <td>4445730</td>\n",
       "      <td>1695214</td>\n",
       "      <td>552898774</td>\n",
       "      <td>insólito</td>\n",
       "      <td>insólito</td>\n",
       "      <td>jms</td>\n",
       "      <td>ES</td>\n",
       "      <td>Adjective</td>\n",
       "      <td>singular</td>\n",
       "    </tr>\n",
       "    <tr>\n",
       "      <td>13532175</td>\n",
       "      <td>1787611</td>\n",
       "      <td>2125071812</td>\n",
       "      <td>tallito</td>\n",
       "      <td>tallitos</td>\n",
       "      <td>n</td>\n",
       "      <td>ES</td>\n",
       "      <td>Noun</td>\n",
       "      <td>unknown</td>\n",
       "    </tr>\n",
       "  </tbody>\n",
       "</table>\n",
       "</div>"
      ],
      "text/plain": [
       "         SourceID     TokenID      Lemma       Word  POS Variety POS_binary  \\\n",
       "1170998   1054111    37015008    poquito    poquito    n      PR       Noun   \n",
       "448287    2119468  1592720463      éxito      éxito    n      NI       Noun   \n",
       "11115343  1764669  1893881538  animalito  animalito    n      ES       Noun   \n",
       "4445730   1695214   552898774   insólito   insólito  jms      ES  Adjective   \n",
       "13532175  1787611  2125071812    tallito   tallitos    n      ES       Noun   \n",
       "\n",
       "            Number  \n",
       "1170998    unknown  \n",
       "448287     unknown  \n",
       "11115343   unknown  \n",
       "4445730   singular  \n",
       "13532175   unknown  "
      ]
     },
     "execution_count": 27,
     "metadata": {},
     "output_type": "execute_result"
    }
   ],
   "source": [
    "master_DF.sample(5) #Works well"
   ]
  },
  {
   "cell_type": "code",
   "execution_count": 28,
   "metadata": {},
   "outputs": [],
   "source": [
    "master_DF['Gender'] = master_DF['POS'].map(gender_dict)  #Map new values"
   ]
  },
  {
   "cell_type": "code",
   "execution_count": 29,
   "metadata": {},
   "outputs": [
    {
     "data": {
      "text/html": [
       "<div>\n",
       "<style scoped>\n",
       "    .dataframe tbody tr th:only-of-type {\n",
       "        vertical-align: middle;\n",
       "    }\n",
       "\n",
       "    .dataframe tbody tr th {\n",
       "        vertical-align: top;\n",
       "    }\n",
       "\n",
       "    .dataframe thead th {\n",
       "        text-align: right;\n",
       "    }\n",
       "</style>\n",
       "<table border=\"1\" class=\"dataframe\">\n",
       "  <thead>\n",
       "    <tr style=\"text-align: right;\">\n",
       "      <th></th>\n",
       "      <th>SourceID</th>\n",
       "      <th>TokenID</th>\n",
       "      <th>Lemma</th>\n",
       "      <th>Word</th>\n",
       "      <th>POS</th>\n",
       "      <th>Variety</th>\n",
       "      <th>POS_binary</th>\n",
       "      <th>Number</th>\n",
       "      <th>Gender</th>\n",
       "    </tr>\n",
       "  </thead>\n",
       "  <tbody>\n",
       "    <tr>\n",
       "      <td>2739279</td>\n",
       "      <td>174559</td>\n",
       "      <td>1863737153</td>\n",
       "      <td>inscrito</td>\n",
       "      <td>inscritas</td>\n",
       "      <td>j</td>\n",
       "      <td>CL</td>\n",
       "      <td>Adjective</td>\n",
       "      <td>unknown</td>\n",
       "      <td>unknown</td>\n",
       "    </tr>\n",
       "    <tr>\n",
       "      <td>1107196</td>\n",
       "      <td>760445</td>\n",
       "      <td>857513342</td>\n",
       "      <td>cita</td>\n",
       "      <td>cita</td>\n",
       "      <td>nfs</td>\n",
       "      <td>MX</td>\n",
       "      <td>Noun</td>\n",
       "      <td>singular</td>\n",
       "      <td>feminine</td>\n",
       "    </tr>\n",
       "    <tr>\n",
       "      <td>4488678</td>\n",
       "      <td>1003534</td>\n",
       "      <td>2543206323</td>\n",
       "      <td>favorito</td>\n",
       "      <td>favorito</td>\n",
       "      <td>jms</td>\n",
       "      <td>PA</td>\n",
       "      <td>Adjective</td>\n",
       "      <td>singular</td>\n",
       "      <td>masculine</td>\n",
       "    </tr>\n",
       "    <tr>\n",
       "      <td>869377</td>\n",
       "      <td>1626521</td>\n",
       "      <td>2099829641</td>\n",
       "      <td>castillo</td>\n",
       "      <td>Castillo</td>\n",
       "      <td>nms</td>\n",
       "      <td>EC</td>\n",
       "      <td>Noun</td>\n",
       "      <td>singular</td>\n",
       "      <td>masculine</td>\n",
       "    </tr>\n",
       "    <tr>\n",
       "      <td>4061125</td>\n",
       "      <td>1001415</td>\n",
       "      <td>849693026</td>\n",
       "      <td>sencillo</td>\n",
       "      <td>sencillo</td>\n",
       "      <td>jms</td>\n",
       "      <td>PA</td>\n",
       "      <td>Adjective</td>\n",
       "      <td>singular</td>\n",
       "      <td>masculine</td>\n",
       "    </tr>\n",
       "  </tbody>\n",
       "</table>\n",
       "</div>"
      ],
      "text/plain": [
       "        SourceID     TokenID     Lemma       Word  POS Variety POS_binary  \\\n",
       "2739279   174559  1863737153  inscrito  inscritas    j      CL  Adjective   \n",
       "1107196   760445   857513342      cita       cita  nfs      MX       Noun   \n",
       "4488678  1003534  2543206323  favorito   favorito  jms      PA  Adjective   \n",
       "869377   1626521  2099829641  castillo   Castillo  nms      EC       Noun   \n",
       "4061125  1001415   849693026  sencillo   sencillo  jms      PA  Adjective   \n",
       "\n",
       "           Number     Gender  \n",
       "2739279   unknown    unknown  \n",
       "1107196  singular   feminine  \n",
       "4488678  singular  masculine  \n",
       "869377   singular  masculine  \n",
       "4061125  singular  masculine  "
      ]
     },
     "execution_count": 29,
     "metadata": {},
     "output_type": "execute_result"
    }
   ],
   "source": [
    "master_DF.sample(5) #Works well"
   ]
  },
  {
   "cell_type": "markdown",
   "metadata": {},
   "source": [
    "-  Now the last (and most difficult) cleaning task. Even after removing millions of rows in prior steps, there are still many tokens that do not belong in the data frame because they are (i) lexicalized forms that have acquired a meaning of their own, or (ii) words that meet the word class and phonological requirement but simply do not happen to be diminutives. At first, I was going to try to solve this using a dictionary of Spanish as a list that I could cross-compare with the `Lemma` column. This is because diminituvized forms with a predictable meaning wouldn't show up in such a list. I couldn't find such a resource, though, and making one manually would take a really long time. Conversely and based on my knowledge of the topic, the forms I want to remove are much more frequent than diminutivized forms. It follows that if I extract a list of highly frequent forms from the corpus that end in the segments of interest I can get a list of words that I can later cross-compare with my data frame's `Lemma` column. Coincidentally, the corpus offers a useful resource for this purpose; that is, a lexicon. I'll load that, derive a frequency-based list of lemmas I want to exclude from the data frame from there, and then actually excluse those from the `master_DF` object:"
   ]
  },
  {
   "cell_type": "code",
   "execution_count": 30,
   "metadata": {},
   "outputs": [],
   "source": [
    "fname = '../../Diminutive-Suffix-Productivity/private/data/span_lexicon/span_dic.txt'     #Loading lexicon\n",
    "lexicon = pd.read_csv(fname,sep='\\t',encoding='iso-8859-1',skiprows=[1],low_memory=False) #Low memory setting required\n",
    "                                                                                          #due to NaN values"
   ]
  },
  {
   "cell_type": "code",
   "execution_count": 31,
   "metadata": {},
   "outputs": [
    {
     "data": {
      "text/html": [
       "<div>\n",
       "<style scoped>\n",
       "    .dataframe tbody tr th:only-of-type {\n",
       "        vertical-align: middle;\n",
       "    }\n",
       "\n",
       "    .dataframe tbody tr th {\n",
       "        vertical-align: top;\n",
       "    }\n",
       "\n",
       "    .dataframe thead th {\n",
       "        text-align: right;\n",
       "    }\n",
       "</style>\n",
       "<table border=\"1\" class=\"dataframe\">\n",
       "  <thead>\n",
       "    <tr style=\"text-align: right;\">\n",
       "      <th></th>\n",
       "      <th>wID</th>\n",
       "      <th>word</th>\n",
       "      <th>lemma</th>\n",
       "      <th>PoS</th>\n",
       "    </tr>\n",
       "  </thead>\n",
       "  <tbody>\n",
       "    <tr>\n",
       "      <td>0</td>\n",
       "      <td>1</td>\n",
       "      <td>,</td>\n",
       "      <td>$,</td>\n",
       "      <td>y</td>\n",
       "    </tr>\n",
       "    <tr>\n",
       "      <td>1</td>\n",
       "      <td>2</td>\n",
       "      <td>de</td>\n",
       "      <td>de</td>\n",
       "      <td>e</td>\n",
       "    </tr>\n",
       "    <tr>\n",
       "      <td>2</td>\n",
       "      <td>3</td>\n",
       "      <td>.</td>\n",
       "      <td>$.</td>\n",
       "      <td>y</td>\n",
       "    </tr>\n",
       "    <tr>\n",
       "      <td>3</td>\n",
       "      <td>4</td>\n",
       "      <td>la</td>\n",
       "      <td>la</td>\n",
       "      <td>ld-fs</td>\n",
       "    </tr>\n",
       "    <tr>\n",
       "      <td>4</td>\n",
       "      <td>5</td>\n",
       "      <td>y</td>\n",
       "      <td>y</td>\n",
       "      <td>cc</td>\n",
       "    </tr>\n",
       "    <tr>\n",
       "      <td>...</td>\n",
       "      <td>...</td>\n",
       "      <td>...</td>\n",
       "      <td>...</td>\n",
       "      <td>...</td>\n",
       "    </tr>\n",
       "    <tr>\n",
       "      <td>8754578</td>\n",
       "      <td>11925785</td>\n",
       "      <td>@@999948</td>\n",
       "      <td>NaN</td>\n",
       "      <td>NaN</td>\n",
       "    </tr>\n",
       "    <tr>\n",
       "      <td>8754579</td>\n",
       "      <td>11925786</td>\n",
       "      <td>@@99996</td>\n",
       "      <td>NaN</td>\n",
       "      <td>NaN</td>\n",
       "    </tr>\n",
       "    <tr>\n",
       "      <td>8754580</td>\n",
       "      <td>11925787</td>\n",
       "      <td>@@999965</td>\n",
       "      <td>NaN</td>\n",
       "      <td>NaN</td>\n",
       "    </tr>\n",
       "    <tr>\n",
       "      <td>8754581</td>\n",
       "      <td>11925788</td>\n",
       "      <td>@@999974</td>\n",
       "      <td>NaN</td>\n",
       "      <td>NaN</td>\n",
       "    </tr>\n",
       "    <tr>\n",
       "      <td>8754582</td>\n",
       "      <td>11925789</td>\n",
       "      <td>@@999977</td>\n",
       "      <td>NaN</td>\n",
       "      <td>NaN</td>\n",
       "    </tr>\n",
       "  </tbody>\n",
       "</table>\n",
       "<p>8754583 rows × 4 columns</p>\n",
       "</div>"
      ],
      "text/plain": [
       "              wID      word lemma    PoS\n",
       "0               1         ,    $,      y\n",
       "1               2        de    de      e\n",
       "2               3         .    $.      y\n",
       "3               4        la    la  ld-fs\n",
       "4               5         y     y     cc\n",
       "...           ...       ...   ...    ...\n",
       "8754578  11925785  @@999948   NaN    NaN\n",
       "8754579  11925786   @@99996   NaN    NaN\n",
       "8754580  11925787  @@999965   NaN    NaN\n",
       "8754581  11925788  @@999974   NaN    NaN\n",
       "8754582  11925789  @@999977   NaN    NaN\n",
       "\n",
       "[8754583 rows x 4 columns]"
      ]
     },
     "execution_count": 31,
     "metadata": {},
     "output_type": "execute_result"
    }
   ],
   "source": [
    "lexicon #A new, lexicon data frame"
   ]
  },
  {
   "cell_type": "code",
   "execution_count": 32,
   "metadata": {},
   "outputs": [
    {
     "data": {
      "text/html": [
       "<div>\n",
       "<style scoped>\n",
       "    .dataframe tbody tr th:only-of-type {\n",
       "        vertical-align: middle;\n",
       "    }\n",
       "\n",
       "    .dataframe tbody tr th {\n",
       "        vertical-align: top;\n",
       "    }\n",
       "\n",
       "    .dataframe thead th {\n",
       "        text-align: right;\n",
       "    }\n",
       "</style>\n",
       "<table border=\"1\" class=\"dataframe\">\n",
       "  <thead>\n",
       "    <tr style=\"text-align: right;\">\n",
       "      <th></th>\n",
       "      <th>WordID</th>\n",
       "      <th>Word</th>\n",
       "      <th>Lemma</th>\n",
       "      <th>POS</th>\n",
       "    </tr>\n",
       "  </thead>\n",
       "  <tbody>\n",
       "    <tr>\n",
       "      <td>0</td>\n",
       "      <td>1</td>\n",
       "      <td>,</td>\n",
       "      <td>$,</td>\n",
       "      <td>y</td>\n",
       "    </tr>\n",
       "    <tr>\n",
       "      <td>1</td>\n",
       "      <td>2</td>\n",
       "      <td>de</td>\n",
       "      <td>de</td>\n",
       "      <td>e</td>\n",
       "    </tr>\n",
       "    <tr>\n",
       "      <td>2</td>\n",
       "      <td>3</td>\n",
       "      <td>.</td>\n",
       "      <td>$.</td>\n",
       "      <td>y</td>\n",
       "    </tr>\n",
       "    <tr>\n",
       "      <td>3</td>\n",
       "      <td>4</td>\n",
       "      <td>la</td>\n",
       "      <td>la</td>\n",
       "      <td>ld-fs</td>\n",
       "    </tr>\n",
       "    <tr>\n",
       "      <td>4</td>\n",
       "      <td>5</td>\n",
       "      <td>y</td>\n",
       "      <td>y</td>\n",
       "      <td>cc</td>\n",
       "    </tr>\n",
       "    <tr>\n",
       "      <td>...</td>\n",
       "      <td>...</td>\n",
       "      <td>...</td>\n",
       "      <td>...</td>\n",
       "      <td>...</td>\n",
       "    </tr>\n",
       "    <tr>\n",
       "      <td>8754578</td>\n",
       "      <td>11925785</td>\n",
       "      <td>@@999948</td>\n",
       "      <td>NaN</td>\n",
       "      <td>NaN</td>\n",
       "    </tr>\n",
       "    <tr>\n",
       "      <td>8754579</td>\n",
       "      <td>11925786</td>\n",
       "      <td>@@99996</td>\n",
       "      <td>NaN</td>\n",
       "      <td>NaN</td>\n",
       "    </tr>\n",
       "    <tr>\n",
       "      <td>8754580</td>\n",
       "      <td>11925787</td>\n",
       "      <td>@@999965</td>\n",
       "      <td>NaN</td>\n",
       "      <td>NaN</td>\n",
       "    </tr>\n",
       "    <tr>\n",
       "      <td>8754581</td>\n",
       "      <td>11925788</td>\n",
       "      <td>@@999974</td>\n",
       "      <td>NaN</td>\n",
       "      <td>NaN</td>\n",
       "    </tr>\n",
       "    <tr>\n",
       "      <td>8754582</td>\n",
       "      <td>11925789</td>\n",
       "      <td>@@999977</td>\n",
       "      <td>NaN</td>\n",
       "      <td>NaN</td>\n",
       "    </tr>\n",
       "  </tbody>\n",
       "</table>\n",
       "<p>8754583 rows × 4 columns</p>\n",
       "</div>"
      ],
      "text/plain": [
       "           WordID      Word Lemma    POS\n",
       "0               1         ,    $,      y\n",
       "1               2        de    de      e\n",
       "2               3         .    $.      y\n",
       "3               4        la    la  ld-fs\n",
       "4               5         y     y     cc\n",
       "...           ...       ...   ...    ...\n",
       "8754578  11925785  @@999948   NaN    NaN\n",
       "8754579  11925786   @@99996   NaN    NaN\n",
       "8754580  11925787  @@999965   NaN    NaN\n",
       "8754581  11925788  @@999974   NaN    NaN\n",
       "8754582  11925789  @@999977   NaN    NaN\n",
       "\n",
       "[8754583 rows x 4 columns]"
      ]
     },
     "execution_count": 32,
     "metadata": {},
     "output_type": "execute_result"
    }
   ],
   "source": [
    "lexicon = lexicon.rename(columns={\"wID\": \"WordID\", \"word\": \"Word\", \"lemma\": \"Lemma\", \"PoS\": \"POS\"}) #Renaming columns.\n",
    "lexicon"
   ]
  },
  {
   "cell_type": "code",
   "execution_count": 33,
   "metadata": {},
   "outputs": [
    {
     "data": {
      "text/html": [
       "<div>\n",
       "<style scoped>\n",
       "    .dataframe tbody tr th:only-of-type {\n",
       "        vertical-align: middle;\n",
       "    }\n",
       "\n",
       "    .dataframe tbody tr th {\n",
       "        vertical-align: top;\n",
       "    }\n",
       "\n",
       "    .dataframe thead th {\n",
       "        text-align: right;\n",
       "    }\n",
       "</style>\n",
       "<table border=\"1\" class=\"dataframe\">\n",
       "  <thead>\n",
       "    <tr style=\"text-align: right;\">\n",
       "      <th></th>\n",
       "      <th>WordID</th>\n",
       "      <th>Word</th>\n",
       "      <th>Lemma</th>\n",
       "      <th>POS</th>\n",
       "    </tr>\n",
       "  </thead>\n",
       "  <tbody>\n",
       "    <tr>\n",
       "      <td>0</td>\n",
       "      <td>1</td>\n",
       "      <td>,</td>\n",
       "      <td>$,</td>\n",
       "      <td>y</td>\n",
       "    </tr>\n",
       "    <tr>\n",
       "      <td>1</td>\n",
       "      <td>2</td>\n",
       "      <td>de</td>\n",
       "      <td>de</td>\n",
       "      <td>e</td>\n",
       "    </tr>\n",
       "    <tr>\n",
       "      <td>2</td>\n",
       "      <td>3</td>\n",
       "      <td>.</td>\n",
       "      <td>$.</td>\n",
       "      <td>y</td>\n",
       "    </tr>\n",
       "    <tr>\n",
       "      <td>3</td>\n",
       "      <td>4</td>\n",
       "      <td>la</td>\n",
       "      <td>la</td>\n",
       "      <td>ld-fs</td>\n",
       "    </tr>\n",
       "    <tr>\n",
       "      <td>4</td>\n",
       "      <td>5</td>\n",
       "      <td>y</td>\n",
       "      <td>y</td>\n",
       "      <td>cc</td>\n",
       "    </tr>\n",
       "    <tr>\n",
       "      <td>...</td>\n",
       "      <td>...</td>\n",
       "      <td>...</td>\n",
       "      <td>...</td>\n",
       "      <td>...</td>\n",
       "    </tr>\n",
       "    <tr>\n",
       "      <td>8474411</td>\n",
       "      <td>11645618</td>\n",
       "      <td>descabellados</td>\n",
       "      <td>descabellar</td>\n",
       "      <td>v</td>\n",
       "    </tr>\n",
       "    <tr>\n",
       "      <td>8474412</td>\n",
       "      <td>11645619</td>\n",
       "      <td>hacendados</td>\n",
       "      <td>hacendar</td>\n",
       "      <td>v</td>\n",
       "    </tr>\n",
       "    <tr>\n",
       "      <td>8474413</td>\n",
       "      <td>11645620</td>\n",
       "      <td>reposeídas</td>\n",
       "      <td>reposeer</td>\n",
       "      <td>v</td>\n",
       "    </tr>\n",
       "    <tr>\n",
       "      <td>8474414</td>\n",
       "      <td>11645621</td>\n",
       "      <td>remozadas</td>\n",
       "      <td>remozar</td>\n",
       "      <td>v</td>\n",
       "    </tr>\n",
       "    <tr>\n",
       "      <td>8474415</td>\n",
       "      <td>11645622</td>\n",
       "      <td>radiodifundida</td>\n",
       "      <td>radiodifundir</td>\n",
       "      <td>v</td>\n",
       "    </tr>\n",
       "  </tbody>\n",
       "</table>\n",
       "<p>7952790 rows × 4 columns</p>\n",
       "</div>"
      ],
      "text/plain": [
       "           WordID            Word          Lemma    POS\n",
       "0               1               ,             $,      y\n",
       "1               2              de             de      e\n",
       "2               3               .             $.      y\n",
       "3               4              la             la  ld-fs\n",
       "4               5               y              y     cc\n",
       "...           ...             ...            ...    ...\n",
       "8474411  11645618   descabellados    descabellar      v\n",
       "8474412  11645619      hacendados       hacendar      v\n",
       "8474413  11645620      reposeídas       reposeer      v\n",
       "8474414  11645621       remozadas        remozar      v\n",
       "8474415  11645622  radiodifundida  radiodifundir      v\n",
       "\n",
       "[7952790 rows x 4 columns]"
      ]
     },
     "execution_count": 33,
     "metadata": {},
     "output_type": "execute_result"
    }
   ],
   "source": [
    "lexicon = lexicon.dropna() #Dropping NaN values (non-words that appear at the end of the data frame)\n",
    "lexicon"
   ]
  },
  {
   "cell_type": "code",
   "execution_count": 34,
   "metadata": {},
   "outputs": [
    {
     "data": {
      "text/plain": [
       "array(['y', 'e', 'ld-fs', 'cc', 'ld-ms', 'cs', 'ld-mp', 'xx', 'li-ms',\n",
       "       'po', 'r', 'vip-3s', 'ld-fp', 'li-fs', 'dp-', 'dd-', 'v', 'vip-3p',\n",
       "       'cS_22', 'vr', 'ld', 'nmp    ', 'nfs    ', 'j', 'pd-3cs', 'mc',\n",
       "       'ps', 'nms    ', 'nfp    ', 'vii-1/3s', 'dxmp-ind-', 'pi-0cn',\n",
       "       'pi-0ms', 'vis-3s', 'cS_21', 'dxms-ind-', 'pi', 'dxcs-ind-',\n",
       "       'vsp-1/3s', 'o', 'n', 'pr-3cs', 'dxfp-ind-', 'pq-3cn', 'dxfs-ind-',\n",
       "       'm$', 'pr-3cn\"', 'jms    ', 'li-mp', 'px-ms', 'vip-1s', 'cS_33',\n",
       "       'dxfs-', 'vps-ms', 'vif-3s', 'dxcs-dem-', 'jfs    ', 'jmp    ',\n",
       "       'pr-3cp', 'pi-3cs', 'pp-2cs', 'vip-1p', 'px', 'vc-1/3s', 'pp-1cs',\n",
       "       'cC_22', 'x', 'vpp', 'li-fp', 'pq-3cn\"', 'vip-2s', 'vii-3p',\n",
       "       'cC_21', 'jfp    ', 'i', 'e_32', 'vsp-3p', 'vis-3p', 'pi-3ms',\n",
       "       'e_21', 'dd', 'pp-2cp', 'pq-3cs', 'px-mp', 'cc-', 'b', 'cS_32',\n",
       "       'vsi-1/3s', 'dxcp-dem-', 'pr-3ms', 'vc-3p', 'pr-3fs', 'dxfp-',\n",
       "       'e_22', 'vif-3p', 'vis-1s', 'cS_31', 'vip-1p/vis-1p', 'pp-2p',\n",
       "       'pq-3cp', 'pv', 'cS_44', 'mo-ms-', 'pr-0mp', 'vif-2s', 'fn', 'p',\n",
       "       'vps-fs', 'vsp-1p', 'vc-1p', 'vsp-2s', 'pr-3mp', 'vif-1p', 'N',\n",
       "       'cS_43', 'vsj-1/3s', 'vsi-3p', 'vpp-00', 'vis-1p', 'vps-mp',\n",
       "       'pr-3fp', 'fv', 'cS_42', 'vii-1p', 'pq-3ms', 'vip-2p', 'vps-fp',\n",
       "       'vm-2s', 'cS_41', 'vif-1s', 'nj', 'px-00', 'dxmp-int-', 'jn',\n",
       "       'vc-2s', 'pr-3fs\"', 'vis-2s', 'prep', 'dxfp-int-', 'e_33',\n",
       "       'pd-3ms', 'np', 'mo', 'mo-fs-', 'vsf-1/3s', 'vii-2s', 'vm-3s',\n",
       "       'pd-3fs', 'pron', 'f', 'vsj-3p', 'dxcp-ind-', 'xs', 'vsi-1p',\n",
       "       'dxfs-int-', 'vif-2p', 'vsi-2s', 'fj', 'e_43', 'vsp-2p', 'e_31',\n",
       "       'v51    ', 'x_sp', 'xp', 'vm-2p', 'vm-3p', 'e_42', 'fp', 'vsf-3p',\n",
       "       'pd-3mp', 'pd-3fp', 'xe', 'xb', 'fe', 'vsj-1p', 'vis-2p',\n",
       "       'v29    ', 'fnj', 'fx', 'vc-2p', 'de', 'PN_MISC', 'vsf-2s', 'li',\n",
       "       'mo-mp-', 'vsf-2p', 'vii-2p', 'vsj-2s', 'fnp', 'xm', 'pn',\n",
       "       'mo-fp-', 'vsi-2p', 'xa', 'xw', 'dp', 'xd', 'v30    ', 'v60    ',\n",
       "       'v53    ', 'vsj-2p', 'ADJ', 'a', 'm', 'v24    ', 'xh', 'vsf-1p',\n",
       "       'xy', 'DET_DEM', 'vsp-', 'l', 'xf', 'v6     ', 'pr-3fp\"',\n",
       "       'v55    '], dtype=object)"
      ]
     },
     "execution_count": 34,
     "metadata": {},
     "output_type": "execute_result"
    }
   ],
   "source": [
    "lexicon['POS'].unique() #I have to clean this like I did before."
   ]
  },
  {
   "cell_type": "code",
   "execution_count": 35,
   "metadata": {},
   "outputs": [
    {
     "name": "stderr",
     "output_type": "stream",
     "text": [
      "C:\\ProgramData\\Anaconda3\\lib\\site-packages\\ipykernel_launcher.py:1: SettingWithCopyWarning: \n",
      "A value is trying to be set on a copy of a slice from a DataFrame.\n",
      "Try using .loc[row_indexer,col_indexer] = value instead\n",
      "\n",
      "See the caveats in the documentation: http://pandas.pydata.org/pandas-docs/stable/user_guide/indexing.html#returning-a-view-versus-a-copy\n",
      "  \"\"\"Entry point for launching an IPython kernel.\n"
     ]
    }
   ],
   "source": [
    "lexicon['POS'] = lexicon['POS'].str.strip() #Stripping white spaces off"
   ]
  },
  {
   "cell_type": "code",
   "execution_count": 36,
   "metadata": {},
   "outputs": [
    {
     "data": {
      "text/plain": [
       "array(['y', 'e', 'ld-fs', 'cc', 'ld-ms', 'cs', 'ld-mp', 'xx', 'li-ms',\n",
       "       'po', 'r', 'vip-3s', 'ld-fp', 'li-fs', 'dp-', 'dd-', 'v', 'vip-3p',\n",
       "       'cS_22', 'vr', 'ld', 'nmp', 'nfs', 'j', 'pd-3cs', 'mc', 'ps',\n",
       "       'nms', 'nfp', 'vii-1/3s', 'dxmp-ind-', 'pi-0cn', 'pi-0ms',\n",
       "       'vis-3s', 'cS_21', 'dxms-ind-', 'pi', 'dxcs-ind-', 'vsp-1/3s', 'o',\n",
       "       'n', 'pr-3cs', 'dxfp-ind-', 'pq-3cn', 'dxfs-ind-', 'm$', 'pr-3cn\"',\n",
       "       'jms', 'li-mp', 'px-ms', 'vip-1s', 'cS_33', 'dxfs-', 'vps-ms',\n",
       "       'vif-3s', 'dxcs-dem-', 'jfs', 'jmp', 'pr-3cp', 'pi-3cs', 'pp-2cs',\n",
       "       'vip-1p', 'px', 'vc-1/3s', 'pp-1cs', 'cC_22', 'x', 'vpp', 'li-fp',\n",
       "       'pq-3cn\"', 'vip-2s', 'vii-3p', 'cC_21', 'jfp', 'i', 'e_32',\n",
       "       'vsp-3p', 'vis-3p', 'pi-3ms', 'e_21', 'dd', 'pp-2cp', 'pq-3cs',\n",
       "       'px-mp', 'cc-', 'b', 'cS_32', 'vsi-1/3s', 'dxcp-dem-', 'pr-3ms',\n",
       "       'vc-3p', 'pr-3fs', 'dxfp-', 'e_22', 'vif-3p', 'vis-1s', 'cS_31',\n",
       "       'vip-1p/vis-1p', 'pp-2p', 'pq-3cp', 'pv', 'cS_44', 'mo-ms-',\n",
       "       'pr-0mp', 'vif-2s', 'fn', 'p', 'vps-fs', 'vsp-1p', 'vc-1p',\n",
       "       'vsp-2s', 'pr-3mp', 'vif-1p', 'N', 'cS_43', 'vsj-1/3s', 'vsi-3p',\n",
       "       'vpp-00', 'vis-1p', 'vps-mp', 'pr-3fp', 'fv', 'cS_42', 'vii-1p',\n",
       "       'pq-3ms', 'vip-2p', 'vps-fp', 'vm-2s', 'cS_41', 'vif-1s', 'nj',\n",
       "       'px-00', 'dxmp-int-', 'jn', 'vc-2s', 'pr-3fs\"', 'vis-2s', 'prep',\n",
       "       'dxfp-int-', 'e_33', 'pd-3ms', 'np', 'mo', 'mo-fs-', 'vsf-1/3s',\n",
       "       'vii-2s', 'vm-3s', 'pd-3fs', 'pron', 'f', 'vsj-3p', 'dxcp-ind-',\n",
       "       'xs', 'vsi-1p', 'dxfs-int-', 'vif-2p', 'vsi-2s', 'fj', 'e_43',\n",
       "       'vsp-2p', 'e_31', 'v51', 'x_sp', 'xp', 'vm-2p', 'vm-3p', 'e_42',\n",
       "       'fp', 'vsf-3p', 'pd-3mp', 'pd-3fp', 'xe', 'xb', 'fe', 'vsj-1p',\n",
       "       'vis-2p', 'v29', 'fnj', 'fx', 'vc-2p', 'de', 'PN_MISC', 'vsf-2s',\n",
       "       'li', 'mo-mp-', 'vsf-2p', 'vii-2p', 'vsj-2s', 'fnp', 'xm', 'pn',\n",
       "       'mo-fp-', 'vsi-2p', 'xa', 'xw', 'dp', 'xd', 'v30', 'v60', 'v53',\n",
       "       'vsj-2p', 'ADJ', 'a', 'm', 'v24', 'xh', 'vsf-1p', 'xy', 'DET_DEM',\n",
       "       'vsp-', 'l', 'xf', 'v6', 'pr-3fp\"', 'v55'], dtype=object)"
      ]
     },
     "execution_count": 36,
     "metadata": {},
     "output_type": "execute_result"
    }
   ],
   "source": [
    "lexicon['POS'].unique() #Success. I'll leave this as is and pickle it in case I want to use it in analyses later."
   ]
  },
  {
   "cell_type": "code",
   "execution_count": 37,
   "metadata": {},
   "outputs": [
    {
     "name": "stderr",
     "output_type": "stream",
     "text": [
      "C:\\ProgramData\\Anaconda3\\lib\\site-packages\\pandas\\core\\strings.py:1843: UserWarning: This pattern has match groups. To actually get the groups, use str.extract.\n",
      "  return func(self, *args, **kwargs)\n"
     ]
    }
   ],
   "source": [
    "dim_lexicon = lexicon[lexicon['Word'].str.contains(r'\\w*i(t|ll)(o|a)s?\\b', regex=True)] #Now let's extract the tokens \n",
    "                                                                                        #of interest"
   ]
  },
  {
   "cell_type": "code",
   "execution_count": 38,
   "metadata": {},
   "outputs": [
    {
     "data": {
      "text/html": [
       "<div>\n",
       "<style scoped>\n",
       "    .dataframe tbody tr th:only-of-type {\n",
       "        vertical-align: middle;\n",
       "    }\n",
       "\n",
       "    .dataframe tbody tr th {\n",
       "        vertical-align: top;\n",
       "    }\n",
       "\n",
       "    .dataframe thead th {\n",
       "        text-align: right;\n",
       "    }\n",
       "</style>\n",
       "<table border=\"1\" class=\"dataframe\">\n",
       "  <thead>\n",
       "    <tr style=\"text-align: right;\">\n",
       "      <th></th>\n",
       "      <th>WordID</th>\n",
       "      <th>Word</th>\n",
       "      <th>Lemma</th>\n",
       "      <th>POS</th>\n",
       "    </tr>\n",
       "  </thead>\n",
       "  <tbody>\n",
       "    <tr>\n",
       "      <td>713</td>\n",
       "      <td>714</td>\n",
       "      <td>éxito</td>\n",
       "      <td>éxito</td>\n",
       "      <td>n</td>\n",
       "    </tr>\n",
       "    <tr>\n",
       "      <td>798</td>\n",
       "      <td>799</td>\n",
       "      <td>necesita</td>\n",
       "      <td>necesitar</td>\n",
       "      <td>vip-3s</td>\n",
       "    </tr>\n",
       "    <tr>\n",
       "      <td>1599</td>\n",
       "      <td>1600</td>\n",
       "      <td>propósito</td>\n",
       "      <td>propósito</td>\n",
       "      <td>nms</td>\n",
       "    </tr>\n",
       "    <tr>\n",
       "      <td>1678</td>\n",
       "      <td>1679</td>\n",
       "      <td>ámbito</td>\n",
       "      <td>ámbito</td>\n",
       "      <td>n</td>\n",
       "    </tr>\n",
       "    <tr>\n",
       "      <td>1700</td>\n",
       "      <td>1701</td>\n",
       "      <td>visita</td>\n",
       "      <td>visita</td>\n",
       "      <td>nfs</td>\n",
       "    </tr>\n",
       "    <tr>\n",
       "      <td>...</td>\n",
       "      <td>...</td>\n",
       "      <td>...</td>\n",
       "      <td>...</td>\n",
       "      <td>...</td>\n",
       "    </tr>\n",
       "    <tr>\n",
       "      <td>8471444</td>\n",
       "      <td>11642632</td>\n",
       "      <td>Zurroncito</td>\n",
       "      <td>zurroncito</td>\n",
       "      <td>o</td>\n",
       "    </tr>\n",
       "    <tr>\n",
       "      <td>8471445</td>\n",
       "      <td>11642633</td>\n",
       "      <td>zurroncitos</td>\n",
       "      <td>zurroncito</td>\n",
       "      <td>n</td>\n",
       "    </tr>\n",
       "    <tr>\n",
       "      <td>8471514</td>\n",
       "      <td>11642703</td>\n",
       "      <td>zurullito</td>\n",
       "      <td>zurullito</td>\n",
       "      <td>j</td>\n",
       "    </tr>\n",
       "    <tr>\n",
       "      <td>8471536</td>\n",
       "      <td>11642725</td>\n",
       "      <td>zurunguillas</td>\n",
       "      <td>zurunguilla</td>\n",
       "      <td>n</td>\n",
       "    </tr>\n",
       "    <tr>\n",
       "      <td>8471650</td>\n",
       "      <td>11642840</td>\n",
       "      <td>Zutanito</td>\n",
       "      <td>zutanito</td>\n",
       "      <td>o</td>\n",
       "    </tr>\n",
       "  </tbody>\n",
       "</table>\n",
       "<p>123328 rows × 4 columns</p>\n",
       "</div>"
      ],
      "text/plain": [
       "           WordID          Word        Lemma     POS\n",
       "713           714         éxito        éxito       n\n",
       "798           799      necesita    necesitar  vip-3s\n",
       "1599         1600     propósito    propósito     nms\n",
       "1678         1679        ámbito       ámbito       n\n",
       "1700         1701        visita       visita     nfs\n",
       "...           ...           ...          ...     ...\n",
       "8471444  11642632    Zurroncito   zurroncito       o\n",
       "8471445  11642633   zurroncitos   zurroncito       n\n",
       "8471514  11642703     zurullito    zurullito       j\n",
       "8471536  11642725  zurunguillas  zurunguilla       n\n",
       "8471650  11642840      Zutanito     zutanito       o\n",
       "\n",
       "[123328 rows x 4 columns]"
      ]
     },
     "execution_count": 38,
     "metadata": {},
     "output_type": "execute_result"
    }
   ],
   "source": [
    "dim_lexicon #The regular expression approach worked"
   ]
  },
  {
   "cell_type": "code",
   "execution_count": 39,
   "metadata": {},
   "outputs": [
    {
     "data": {
      "text/plain": [
       "array(['n', 'nms', 'nfs', 'jfs', 'jms', 'nmp', 'nfp', 'j', 'jfp', 'jmp',\n",
       "       'np', 'fn'], dtype=object)"
      ]
     },
     "execution_count": 39,
     "metadata": {},
     "output_type": "execute_result"
    }
   ],
   "source": [
    "dim_lexicon = dim_lexicon[dim_lexicon['POS'].str.contains('n|j')]  #Removing classes that are not needed, as before.\n",
    "dim_lexicon['POS'].unique()"
   ]
  },
  {
   "cell_type": "code",
   "execution_count": 40,
   "metadata": {},
   "outputs": [
    {
     "data": {
      "text/plain": [
       "array(['n', 'nms', 'nfs', 'jfs', 'jms', 'nmp', 'nfp', 'j', 'jfp', 'jmp',\n",
       "       'np'], dtype=object)"
      ]
     },
     "execution_count": 40,
     "metadata": {},
     "output_type": "execute_result"
    }
   ],
   "source": [
    "dim_lexicon = dim_lexicon[dim_lexicon['POS'] != ('fn')] \n",
    "dim_lexicon['POS'].unique() #done"
   ]
  },
  {
   "cell_type": "code",
   "execution_count": 41,
   "metadata": {},
   "outputs": [
    {
     "data": {
      "text/plain": [
       "(70351, 4)"
      ]
     },
     "execution_count": 41,
     "metadata": {},
     "output_type": "execute_result"
    }
   ],
   "source": [
    "dim_lexicon.shape #Current size"
   ]
  },
  {
   "cell_type": "markdown",
   "metadata": {},
   "source": [
    "- Now let's extract that sought-after list of lemmas:"
   ]
  },
  {
   "cell_type": "code",
   "execution_count": 42,
   "metadata": {},
   "outputs": [
    {
     "data": {
      "text/plain": [
       "70351"
      ]
     },
     "execution_count": 42,
     "metadata": {},
     "output_type": "execute_result"
    },
    {
     "data": {
      "text/plain": [
       "<class 'pandas.core.series.Series'>"
      ]
     },
     "execution_count": 42,
     "metadata": {},
     "output_type": "execute_result"
    }
   ],
   "source": [
    "lemmas = dim_lexicon['Lemma']\n",
    "len(lemmas)\n",
    "type(lemmas) #All looks good"
   ]
  },
  {
   "cell_type": "markdown",
   "metadata": {},
   "source": [
    "- Now here's the tricky part, the lexicon includes all forms found in the corpus. The ones I want to extract are highly frequent, whereas diminutives will overall be less frequent. The issue is where to set the threshold. As for now, I'll set it at the top 200 forms, but I might come back to this later."
   ]
  },
  {
   "cell_type": "code",
   "execution_count": 43,
   "metadata": {},
   "outputs": [
    {
     "data": {
      "text/plain": [
       "113"
      ]
     },
     "execution_count": 43,
     "metadata": {},
     "output_type": "execute_result"
    },
    {
     "data": {
      "text/plain": [
       "<class 'set'>"
      ]
     },
     "execution_count": 43,
     "metadata": {},
     "output_type": "execute_result"
    }
   ],
   "source": [
    "lexicalized = set(lemmas[:200]) #A set so that it's easier to process\n",
    "len(lexicalized)\n",
    "type(lexicalized)"
   ]
  },
  {
   "cell_type": "code",
   "execution_count": 44,
   "metadata": {},
   "outputs": [
    {
     "data": {
      "text/plain": [
       "['abuelita', 'amarillo', 'anillo', 'apetito', 'arcilla', 'añito', 'banquillo', 'bendito', 'besito', 'bolsillo', 'bonito', 'brillo', 'cajita', 'capilla', 'carrito', 'casilla', 'casita', 'castillo', 'caudillo', 'cepillo', 'cigarrillo', 'circuito', 'cita', 'comillas', 'cosita', 'costilla', 'credito', 'crédito', 'cucharadita', 'cuchillo', 'cápita', 'delito', 'depósito', 'distrito', 'débito', 'dígito', 'ejército', 'escrito', 'explícito', 'exquisito', 'favorita', 'favorito', 'frito', 'granito', 'gratuito', 'grito', 'guerrilla', 'hito', 'hábito', 'ilícito', 'implícito', 'incógnita', 'infinito', 'inscrito', 'inédito', 'israelita', 'jesuita', 'ladrillo', 'lícito', 'maldito', 'mantequilla', 'manuscrito', 'maravilla', 'martillo', 'mejilla', 'meteorito', 'milla', 'mito', 'mosquito', 'mundillo', 'mérito', 'orilla', 'pandilla', 'parrilla', 'parásito', 'pasillo', 'pastilla', 'perito', 'perrito', 'pesadilla', 'planilla', 'plantilla', 'platillo', 'plebiscito', 'pleito', 'poquito', 'propósito', 'ratito', 'redondilla', 'requisito', 'rito', 'rodilla', 'semilla', 'sencillo', 'sevilla', 'señorita', 'silla', 'suscrito', 'súbdito', 'súbito', 'taquilla', 'tobillo', 'tortilla', 'tránsito', 'vainilla', 'ventanilla', 'villa', 'visita', 'vómito', 'zapatilla', 'ámbito', 'éxito', 'órbita']"
      ]
     },
     "execution_count": 44,
     "metadata": {},
     "output_type": "execute_result"
    }
   ],
   "source": [
    "sorted(lexicalized) #Let's take a look at it."
   ]
  },
  {
   "cell_type": "markdown",
   "metadata": {},
   "source": [
    "- Upon examining this list manually there are only 9 forms that are diminutives. I think this is a safe cutoff for now. I can also raise the threshold but that means increasingly more diminituvized forms that will seep through that I will have to remove manually. In addition, at this threshold the frequency of the words is too low to significantly affect the analysis. If time allows I might come back to this later and further refine it but I'll use it as it is for now."
   ]
  },
  {
   "cell_type": "code",
   "execution_count": 45,
   "metadata": {},
   "outputs": [
    {
     "data": {
      "text/plain": [
       "9"
      ]
     },
     "execution_count": 45,
     "metadata": {},
     "output_type": "execute_result"
    }
   ],
   "source": [
    "dims = ['ratito', 'abuelita', 'añito', 'casita', 'perrito', 'poquito', 'cosita', 'cajita', 'besito']\n",
    "len(dims)"
   ]
  },
  {
   "cell_type": "code",
   "execution_count": 46,
   "metadata": {},
   "outputs": [
    {
     "data": {
      "text/plain": [
       "104"
      ]
     },
     "execution_count": 46,
     "metadata": {},
     "output_type": "execute_result"
    }
   ],
   "source": [
    "lexicalized = [w for w in lexicalized if w not in dims] #Removing the above from the set\n",
    "len(lexicalized)"
   ]
  },
  {
   "cell_type": "markdown",
   "metadata": {},
   "source": [
    "- The final step is removing those forms from the the `master_DF` object:"
   ]
  },
  {
   "cell_type": "code",
   "execution_count": 47,
   "metadata": {},
   "outputs": [],
   "source": [
    "master_DF = master_DF[~master_DF['Lemma'].isin(lexicalized)] #Pandas way to select rows based on values not found in \n",
    "                                                             #another object."
   ]
  },
  {
   "cell_type": "code",
   "execution_count": 48,
   "metadata": {},
   "outputs": [
    {
     "data": {
      "text/plain": [
       "(1683096, 9)"
      ]
     },
     "execution_count": 48,
     "metadata": {},
     "output_type": "execute_result"
    }
   ],
   "source": [
    "master_DF.shape #It worked"
   ]
  },
  {
   "cell_type": "code",
   "execution_count": 49,
   "metadata": {},
   "outputs": [
    {
     "data": {
      "text/html": [
       "<div>\n",
       "<style scoped>\n",
       "    .dataframe tbody tr th:only-of-type {\n",
       "        vertical-align: middle;\n",
       "    }\n",
       "\n",
       "    .dataframe tbody tr th {\n",
       "        vertical-align: top;\n",
       "    }\n",
       "\n",
       "    .dataframe thead th {\n",
       "        text-align: right;\n",
       "    }\n",
       "</style>\n",
       "<table border=\"1\" class=\"dataframe\">\n",
       "  <thead>\n",
       "    <tr style=\"text-align: right;\">\n",
       "      <th></th>\n",
       "      <th>SourceID</th>\n",
       "      <th>TokenID</th>\n",
       "      <th>Lemma</th>\n",
       "      <th>Word</th>\n",
       "      <th>POS</th>\n",
       "      <th>Variety</th>\n",
       "      <th>POS_binary</th>\n",
       "      <th>Number</th>\n",
       "      <th>Gender</th>\n",
       "    </tr>\n",
       "  </thead>\n",
       "  <tbody>\n",
       "    <tr>\n",
       "      <td>387031</td>\n",
       "      <td>1046895</td>\n",
       "      <td>979363002</td>\n",
       "      <td>patito</td>\n",
       "      <td>patitos</td>\n",
       "      <td>nmp</td>\n",
       "      <td>PR</td>\n",
       "      <td>Noun</td>\n",
       "      <td>plural</td>\n",
       "      <td>masculine</td>\n",
       "    </tr>\n",
       "    <tr>\n",
       "      <td>7324888</td>\n",
       "      <td>832839</td>\n",
       "      <td>1939331596</td>\n",
       "      <td>chaparrito</td>\n",
       "      <td>chaparrita</td>\n",
       "      <td>j</td>\n",
       "      <td>MX</td>\n",
       "      <td>Adjective</td>\n",
       "      <td>unknown</td>\n",
       "      <td>unknown</td>\n",
       "    </tr>\n",
       "    <tr>\n",
       "      <td>5357781</td>\n",
       "      <td>2203439</td>\n",
       "      <td>1828524775</td>\n",
       "      <td>fortuito</td>\n",
       "      <td>fortuito</td>\n",
       "      <td>jms</td>\n",
       "      <td>PE</td>\n",
       "      <td>Adjective</td>\n",
       "      <td>singular</td>\n",
       "      <td>masculine</td>\n",
       "    </tr>\n",
       "    <tr>\n",
       "      <td>20092522</td>\n",
       "      <td>606013</td>\n",
       "      <td>302774511</td>\n",
       "      <td>fotito</td>\n",
       "      <td>fotito</td>\n",
       "      <td>n</td>\n",
       "      <td>ES</td>\n",
       "      <td>Noun</td>\n",
       "      <td>unknown</td>\n",
       "      <td>unknown</td>\n",
       "    </tr>\n",
       "    <tr>\n",
       "      <td>4942935</td>\n",
       "      <td>485867</td>\n",
       "      <td>1457774495</td>\n",
       "      <td>rencilla</td>\n",
       "      <td>rencilla</td>\n",
       "      <td>nfs</td>\n",
       "      <td>ES</td>\n",
       "      <td>Noun</td>\n",
       "      <td>singular</td>\n",
       "      <td>feminine</td>\n",
       "    </tr>\n",
       "  </tbody>\n",
       "</table>\n",
       "</div>"
      ],
      "text/plain": [
       "         SourceID     TokenID       Lemma        Word  POS Variety POS_binary  \\\n",
       "387031    1046895   979363002      patito     patitos  nmp      PR       Noun   \n",
       "7324888    832839  1939331596  chaparrito  chaparrita    j      MX  Adjective   \n",
       "5357781   2203439  1828524775    fortuito    fortuito  jms      PE  Adjective   \n",
       "20092522   606013   302774511      fotito      fotito    n      ES       Noun   \n",
       "4942935    485867  1457774495    rencilla    rencilla  nfs      ES       Noun   \n",
       "\n",
       "            Number     Gender  \n",
       "387031      plural  masculine  \n",
       "7324888    unknown    unknown  \n",
       "5357781   singular  masculine  \n",
       "20092522   unknown    unknown  \n",
       "4942935   singular   feminine  "
      ]
     },
     "execution_count": 49,
     "metadata": {},
     "output_type": "execute_result"
    }
   ],
   "source": [
    "master_DF.sample(5) #Samples to make sure all is working well"
   ]
  },
  {
   "cell_type": "markdown",
   "metadata": {},
   "source": [
    "## 3. Exploratory analysis"
   ]
  },
  {
   "cell_type": "markdown",
   "metadata": {},
   "source": [
    "- Now let's move on to the analysis. I'll start with the exploratory analysis and focus on inferential statistics and statistic measures of productivity in a third notebook. As a reminder, my main goal is to quantify the productivity of two competing suffixes (*-ito*/*-illo*) accross and within dialects, so the first thing to do is to add one last columns that specifie which suffix was used. Note that since the function below takes lemmas as input it is not necessary to include plural suffixes (e.g., *-itos*) in the syntax:"
   ]
  },
  {
   "cell_type": "code",
   "execution_count": 50,
   "metadata": {},
   "outputs": [],
   "source": [
    "def get_dim(lemma):   \n",
    "    \"\"\"Takes a lemma as input, returns the diminutive suffix it contains\"\"\"\n",
    "    if lemma[-4:] == 'illo' or lemma[-4:] == 'illa':\n",
    "        return '-illo'\n",
    "    else: return '-ito'"
   ]
  },
  {
   "cell_type": "code",
   "execution_count": 51,
   "metadata": {},
   "outputs": [],
   "source": [
    "master_DF['Diminutive'] = master_DF['Lemma'].map(get_dim) #Mapping values into a new columns"
   ]
  },
  {
   "cell_type": "code",
   "execution_count": 52,
   "metadata": {},
   "outputs": [
    {
     "data": {
      "text/html": [
       "<div>\n",
       "<style scoped>\n",
       "    .dataframe tbody tr th:only-of-type {\n",
       "        vertical-align: middle;\n",
       "    }\n",
       "\n",
       "    .dataframe tbody tr th {\n",
       "        vertical-align: top;\n",
       "    }\n",
       "\n",
       "    .dataframe thead th {\n",
       "        text-align: right;\n",
       "    }\n",
       "</style>\n",
       "<table border=\"1\" class=\"dataframe\">\n",
       "  <thead>\n",
       "    <tr style=\"text-align: right;\">\n",
       "      <th></th>\n",
       "      <th>SourceID</th>\n",
       "      <th>TokenID</th>\n",
       "      <th>Lemma</th>\n",
       "      <th>Word</th>\n",
       "      <th>POS</th>\n",
       "      <th>Variety</th>\n",
       "      <th>POS_binary</th>\n",
       "      <th>Number</th>\n",
       "      <th>Gender</th>\n",
       "      <th>Diminutive</th>\n",
       "    </tr>\n",
       "  </thead>\n",
       "  <tbody>\n",
       "    <tr>\n",
       "      <td>5336735</td>\n",
       "      <td>244730</td>\n",
       "      <td>2647016035</td>\n",
       "      <td>pailita</td>\n",
       "      <td>pailita</td>\n",
       "      <td>n</td>\n",
       "      <td>CO</td>\n",
       "      <td>Noun</td>\n",
       "      <td>unknown</td>\n",
       "      <td>unknown</td>\n",
       "      <td>-ito</td>\n",
       "    </tr>\n",
       "    <tr>\n",
       "      <td>6024960</td>\n",
       "      <td>1166786</td>\n",
       "      <td>1193622279</td>\n",
       "      <td>chispita</td>\n",
       "      <td>chispita</td>\n",
       "      <td>n</td>\n",
       "      <td>US</td>\n",
       "      <td>Noun</td>\n",
       "      <td>unknown</td>\n",
       "      <td>unknown</td>\n",
       "      <td>-ito</td>\n",
       "    </tr>\n",
       "    <tr>\n",
       "      <td>2519851</td>\n",
       "      <td>171329</td>\n",
       "      <td>2306719823</td>\n",
       "      <td>escuelita</td>\n",
       "      <td>Escuelita</td>\n",
       "      <td>n</td>\n",
       "      <td>CL</td>\n",
       "      <td>Noun</td>\n",
       "      <td>unknown</td>\n",
       "      <td>unknown</td>\n",
       "      <td>-ito</td>\n",
       "    </tr>\n",
       "    <tr>\n",
       "      <td>5750918</td>\n",
       "      <td>2014965</td>\n",
       "      <td>2336877703</td>\n",
       "      <td>grandecito</td>\n",
       "      <td>grandecito</td>\n",
       "      <td>n</td>\n",
       "      <td>MX</td>\n",
       "      <td>Noun</td>\n",
       "      <td>unknown</td>\n",
       "      <td>unknown</td>\n",
       "      <td>-ito</td>\n",
       "    </tr>\n",
       "    <tr>\n",
       "      <td>4275801</td>\n",
       "      <td>43784</td>\n",
       "      <td>704642108</td>\n",
       "      <td>tanguito</td>\n",
       "      <td>tanguito</td>\n",
       "      <td>j</td>\n",
       "      <td>AR</td>\n",
       "      <td>Adjective</td>\n",
       "      <td>unknown</td>\n",
       "      <td>unknown</td>\n",
       "      <td>-ito</td>\n",
       "    </tr>\n",
       "  </tbody>\n",
       "</table>\n",
       "</div>"
      ],
      "text/plain": [
       "        SourceID     TokenID       Lemma        Word POS Variety POS_binary  \\\n",
       "5336735   244730  2647016035     pailita     pailita   n      CO       Noun   \n",
       "6024960  1166786  1193622279    chispita    chispita   n      US       Noun   \n",
       "2519851   171329  2306719823   escuelita   Escuelita   n      CL       Noun   \n",
       "5750918  2014965  2336877703  grandecito  grandecito   n      MX       Noun   \n",
       "4275801    43784   704642108    tanguito    tanguito   j      AR  Adjective   \n",
       "\n",
       "          Number   Gender Diminutive  \n",
       "5336735  unknown  unknown       -ito  \n",
       "6024960  unknown  unknown       -ito  \n",
       "2519851  unknown  unknown       -ito  \n",
       "5750918  unknown  unknown       -ito  \n",
       "4275801  unknown  unknown       -ito  "
      ]
     },
     "execution_count": 52,
     "metadata": {},
     "output_type": "execute_result"
    }
   ],
   "source": [
    "master_DF.sample(5) #Samples to make sure it worked"
   ]
  },
  {
   "cell_type": "code",
   "execution_count": 53,
   "metadata": {},
   "outputs": [
    {
     "name": "stdout",
     "output_type": "stream",
     "text": [
      "<class 'pandas.core.frame.DataFrame'>\n",
      "Int64Index: 1683096 entries, 1338 to 2064489\n",
      "Data columns (total 10 columns):\n",
      "SourceID      1683096 non-null object\n",
      "TokenID       1683096 non-null object\n",
      "Lemma         1683096 non-null object\n",
      "Word          1683096 non-null object\n",
      "POS           1683096 non-null object\n",
      "Variety       1683096 non-null object\n",
      "POS_binary    1683096 non-null object\n",
      "Number        1683096 non-null object\n",
      "Gender        1683096 non-null object\n",
      "Diminutive    1683096 non-null object\n",
      "dtypes: object(10)\n",
      "memory usage: 141.3+ MB\n"
     ]
    }
   ],
   "source": [
    "master_DF.info() #Some general information about the resulting data frame"
   ]
  },
  {
   "cell_type": "code",
   "execution_count": 54,
   "metadata": {},
   "outputs": [
    {
     "data": {
      "text/html": [
       "<div>\n",
       "<style scoped>\n",
       "    .dataframe tbody tr th:only-of-type {\n",
       "        vertical-align: middle;\n",
       "    }\n",
       "\n",
       "    .dataframe tbody tr th {\n",
       "        vertical-align: top;\n",
       "    }\n",
       "\n",
       "    .dataframe thead th {\n",
       "        text-align: right;\n",
       "    }\n",
       "</style>\n",
       "<table border=\"1\" class=\"dataframe\">\n",
       "  <thead>\n",
       "    <tr style=\"text-align: right;\">\n",
       "      <th></th>\n",
       "      <th>SourceID</th>\n",
       "      <th>TokenID</th>\n",
       "      <th>Lemma</th>\n",
       "      <th>Word</th>\n",
       "      <th>POS</th>\n",
       "      <th>Variety</th>\n",
       "      <th>POS_binary</th>\n",
       "      <th>Number</th>\n",
       "      <th>Gender</th>\n",
       "      <th>Diminutive</th>\n",
       "    </tr>\n",
       "  </thead>\n",
       "  <tbody>\n",
       "    <tr>\n",
       "      <td>count</td>\n",
       "      <td>1683096</td>\n",
       "      <td>1683096</td>\n",
       "      <td>1683096</td>\n",
       "      <td>1683096</td>\n",
       "      <td>1683096</td>\n",
       "      <td>1683096</td>\n",
       "      <td>1683096</td>\n",
       "      <td>1683096</td>\n",
       "      <td>1683096</td>\n",
       "      <td>1683096</td>\n",
       "    </tr>\n",
       "    <tr>\n",
       "      <td>unique</td>\n",
       "      <td>513557</td>\n",
       "      <td>1578532</td>\n",
       "      <td>40316</td>\n",
       "      <td>50249</td>\n",
       "      <td>11</td>\n",
       "      <td>20</td>\n",
       "      <td>2</td>\n",
       "      <td>3</td>\n",
       "      <td>3</td>\n",
       "      <td>2</td>\n",
       "    </tr>\n",
       "    <tr>\n",
       "      <td>top</td>\n",
       "      <td>969008</td>\n",
       "      <td>1212766059</td>\n",
       "      <td>poquito</td>\n",
       "      <td>poquito</td>\n",
       "      <td>n</td>\n",
       "      <td>ES</td>\n",
       "      <td>Noun</td>\n",
       "      <td>unknown</td>\n",
       "      <td>unknown</td>\n",
       "      <td>-ito</td>\n",
       "    </tr>\n",
       "    <tr>\n",
       "      <td>freq</td>\n",
       "      <td>5420</td>\n",
       "      <td>2</td>\n",
       "      <td>62254</td>\n",
       "      <td>57051</td>\n",
       "      <td>847516</td>\n",
       "      <td>425198</td>\n",
       "      <td>1322542</td>\n",
       "      <td>1088936</td>\n",
       "      <td>1088936</td>\n",
       "      <td>1437506</td>\n",
       "    </tr>\n",
       "  </tbody>\n",
       "</table>\n",
       "</div>"
      ],
      "text/plain": [
       "        SourceID     TokenID    Lemma     Word      POS  Variety POS_binary  \\\n",
       "count    1683096     1683096  1683096  1683096  1683096  1683096    1683096   \n",
       "unique    513557     1578532    40316    50249       11       20          2   \n",
       "top       969008  1212766059  poquito  poquito        n       ES       Noun   \n",
       "freq        5420           2    62254    57051   847516   425198    1322542   \n",
       "\n",
       "         Number   Gender Diminutive  \n",
       "count   1683096  1683096    1683096  \n",
       "unique        3        3          2  \n",
       "top     unknown  unknown       -ito  \n",
       "freq    1088936  1088936    1437506  "
      ]
     },
     "execution_count": 54,
     "metadata": {},
     "output_type": "execute_result"
    }
   ],
   "source": [
    "master_DF.describe() #Descriptive stats"
   ]
  },
  {
   "cell_type": "markdown",
   "metadata": {},
   "source": [
    "- We get plenty of information here. There are 1,683,096 tokens tokens and 50249 types. 'Poquito' is the most frequent lemma. Spain is the most widely represented country. Noun is the most frequent part of speech and *-ito* is the most common diminutive. To get information about gender and number we'll have to take an extra step because most tokens were not tagged for either category. All that were tagged for gender were also tagged for number, so we only need to create one subset. It turns out that most are masculine and singular:"
   ]
  },
  {
   "cell_type": "code",
   "execution_count": 55,
   "metadata": {},
   "outputs": [
    {
     "data": {
      "text/html": [
       "<div>\n",
       "<style scoped>\n",
       "    .dataframe tbody tr th:only-of-type {\n",
       "        vertical-align: middle;\n",
       "    }\n",
       "\n",
       "    .dataframe tbody tr th {\n",
       "        vertical-align: top;\n",
       "    }\n",
       "\n",
       "    .dataframe thead th {\n",
       "        text-align: right;\n",
       "    }\n",
       "</style>\n",
       "<table border=\"1\" class=\"dataframe\">\n",
       "  <thead>\n",
       "    <tr style=\"text-align: right;\">\n",
       "      <th></th>\n",
       "      <th>SourceID</th>\n",
       "      <th>TokenID</th>\n",
       "      <th>Lemma</th>\n",
       "      <th>Word</th>\n",
       "      <th>POS</th>\n",
       "      <th>Variety</th>\n",
       "      <th>POS_binary</th>\n",
       "      <th>Number</th>\n",
       "      <th>Gender</th>\n",
       "      <th>Diminutive</th>\n",
       "    </tr>\n",
       "  </thead>\n",
       "  <tbody>\n",
       "    <tr>\n",
       "      <td>count</td>\n",
       "      <td>594160</td>\n",
       "      <td>594160</td>\n",
       "      <td>594160</td>\n",
       "      <td>594160</td>\n",
       "      <td>594160</td>\n",
       "      <td>594160</td>\n",
       "      <td>594160</td>\n",
       "      <td>594160</td>\n",
       "      <td>594160</td>\n",
       "      <td>594160</td>\n",
       "    </tr>\n",
       "    <tr>\n",
       "      <td>unique</td>\n",
       "      <td>274525</td>\n",
       "      <td>562043</td>\n",
       "      <td>1491</td>\n",
       "      <td>3205</td>\n",
       "      <td>8</td>\n",
       "      <td>20</td>\n",
       "      <td>2</td>\n",
       "      <td>2</td>\n",
       "      <td>2</td>\n",
       "      <td>2</td>\n",
       "    </tr>\n",
       "    <tr>\n",
       "      <td>top</td>\n",
       "      <td>1704776</td>\n",
       "      <td>995050913</td>\n",
       "      <td>hipócrita</td>\n",
       "      <td>hipócrita</td>\n",
       "      <td>nms</td>\n",
       "      <td>ES</td>\n",
       "      <td>Noun</td>\n",
       "      <td>singular</td>\n",
       "      <td>masculine</td>\n",
       "      <td>-ito</td>\n",
       "    </tr>\n",
       "    <tr>\n",
       "      <td>freq</td>\n",
       "      <td>1085</td>\n",
       "      <td>2</td>\n",
       "      <td>14447</td>\n",
       "      <td>8093</td>\n",
       "      <td>198237</td>\n",
       "      <td>158942</td>\n",
       "      <td>473464</td>\n",
       "      <td>457170</td>\n",
       "      <td>348311</td>\n",
       "      <td>405782</td>\n",
       "    </tr>\n",
       "  </tbody>\n",
       "</table>\n",
       "</div>"
      ],
      "text/plain": [
       "        SourceID    TokenID      Lemma       Word     POS Variety POS_binary  \\\n",
       "count     594160     594160     594160     594160  594160  594160     594160   \n",
       "unique    274525     562043       1491       3205       8      20          2   \n",
       "top      1704776  995050913  hipócrita  hipócrita     nms      ES       Noun   \n",
       "freq        1085          2      14447       8093  198237  158942     473464   \n",
       "\n",
       "          Number     Gender Diminutive  \n",
       "count     594160     594160     594160  \n",
       "unique         2          2          2  \n",
       "top     singular  masculine       -ito  \n",
       "freq      457170     348311     405782  "
      ]
     },
     "execution_count": 55,
     "metadata": {},
     "output_type": "execute_result"
    }
   ],
   "source": [
    "master_DF[(master_DF['Gender'] == 'masculine')|(master_DF['Gender'] == 'feminine')].describe()"
   ]
  },
  {
   "cell_type": "code",
   "execution_count": 56,
   "metadata": {},
   "outputs": [
    {
     "data": {
      "text/plain": [
       "ES    425198\n",
       "MX    197457\n",
       "AR    152628\n",
       "US    146858\n",
       "CO    114993\n",
       "PA    105266\n",
       "PE    104564\n",
       "CL     61740\n",
       "CU     43920\n",
       "GT     43793\n",
       "EC     41787\n",
       "UY     33784\n",
       "SV     31547\n",
       "PR     31031\n",
       "CR     29262\n",
       "DO     26130\n",
       "BO     25514\n",
       "NI     23883\n",
       "HN     23262\n",
       "PY     20479\n",
       "Name: Variety, dtype: int64"
      ]
     },
     "execution_count": 56,
     "metadata": {},
     "output_type": "execute_result"
    }
   ],
   "source": [
    "master_DF['Variety'].value_counts() #Counts for diminutive by country. Now that this is only a first step because \n",
    "                                    #(i) the by-variety corpora vary widely in size and (ii) I'm using token counts \n",
    "                                    #rather than type counts. "
   ]
  },
  {
   "cell_type": "code",
   "execution_count": 57,
   "metadata": {},
   "outputs": [
    {
     "data": {
      "text/plain": [
       "Noun         1322542\n",
       "Adjective     360554\n",
       "Name: POS_binary, dtype: int64"
      ]
     },
     "execution_count": 57,
     "metadata": {},
     "output_type": "execute_result"
    }
   ],
   "source": [
    "master_DF['POS_binary'].value_counts() #Counts for part of speech."
   ]
  },
  {
   "cell_type": "code",
   "execution_count": 58,
   "metadata": {},
   "outputs": [
    {
     "data": {
      "text/plain": [
       "-ito     1437506\n",
       "-illo     245590\n",
       "Name: Diminutive, dtype: int64"
      ]
     },
     "execution_count": 58,
     "metadata": {},
     "output_type": "execute_result"
    }
   ],
   "source": [
    "master_DF['Diminutive'].value_counts() #An overall count for usage of the suffixes. Again, preliminary. "
   ]
  },
  {
   "cell_type": "code",
   "execution_count": 59,
   "metadata": {},
   "outputs": [
    {
     "data": {
      "text/html": [
       "<div>\n",
       "<style scoped>\n",
       "    .dataframe tbody tr th:only-of-type {\n",
       "        vertical-align: middle;\n",
       "    }\n",
       "\n",
       "    .dataframe tbody tr th {\n",
       "        vertical-align: top;\n",
       "    }\n",
       "\n",
       "    .dataframe thead th {\n",
       "        text-align: right;\n",
       "    }\n",
       "</style>\n",
       "<table border=\"1\" class=\"dataframe\">\n",
       "  <thead>\n",
       "    <tr style=\"text-align: right;\">\n",
       "      <th>Diminutive</th>\n",
       "      <th>-illo</th>\n",
       "      <th>-ito</th>\n",
       "    </tr>\n",
       "    <tr>\n",
       "      <th>POS_binary</th>\n",
       "      <th></th>\n",
       "      <th></th>\n",
       "    </tr>\n",
       "  </thead>\n",
       "  <tbody>\n",
       "    <tr>\n",
       "      <td>Adjective</td>\n",
       "      <td>16001</td>\n",
       "      <td>344553</td>\n",
       "    </tr>\n",
       "    <tr>\n",
       "      <td>Noun</td>\n",
       "      <td>229589</td>\n",
       "      <td>1092953</td>\n",
       "    </tr>\n",
       "  </tbody>\n",
       "</table>\n",
       "</div>"
      ],
      "text/plain": [
       "Diminutive   -illo     -ito\n",
       "POS_binary                 \n",
       "Adjective    16001   344553\n",
       "Noun        229589  1092953"
      ]
     },
     "execution_count": 59,
     "metadata": {},
     "output_type": "execute_result"
    }
   ],
   "source": [
    "DiminutivexPOS = master_DF.groupby('POS_binary').Diminutive.value_counts() #A table of diminutive by part of speech. \n",
    "DiminutivexPOS.unstack()"
   ]
  },
  {
   "cell_type": "code",
   "execution_count": 60,
   "metadata": {},
   "outputs": [
    {
     "data": {
      "text/html": [
       "<div>\n",
       "<style scoped>\n",
       "    .dataframe tbody tr th:only-of-type {\n",
       "        vertical-align: middle;\n",
       "    }\n",
       "\n",
       "    .dataframe tbody tr th {\n",
       "        vertical-align: top;\n",
       "    }\n",
       "\n",
       "    .dataframe thead th {\n",
       "        text-align: right;\n",
       "    }\n",
       "</style>\n",
       "<table border=\"1\" class=\"dataframe\">\n",
       "  <thead>\n",
       "    <tr style=\"text-align: right;\">\n",
       "      <th>POS_binary</th>\n",
       "      <th>Adjective</th>\n",
       "      <th>Noun</th>\n",
       "    </tr>\n",
       "    <tr>\n",
       "      <th>Diminutive</th>\n",
       "      <th></th>\n",
       "      <th></th>\n",
       "    </tr>\n",
       "  </thead>\n",
       "  <tbody>\n",
       "    <tr>\n",
       "      <td>-illo</td>\n",
       "      <td>16001</td>\n",
       "      <td>229589</td>\n",
       "    </tr>\n",
       "    <tr>\n",
       "      <td>-ito</td>\n",
       "      <td>344553</td>\n",
       "      <td>1092953</td>\n",
       "    </tr>\n",
       "  </tbody>\n",
       "</table>\n",
       "</div>"
      ],
      "text/plain": [
       "POS_binary  Adjective     Noun\n",
       "Diminutive                    \n",
       "-illo           16001   229589\n",
       "-ito           344553  1092953"
      ]
     },
     "execution_count": 60,
     "metadata": {},
     "output_type": "execute_result"
    }
   ],
   "source": [
    "POSxDiminutive = master_DF.groupby('Diminutive').POS_binary.value_counts() #The opposite \n",
    "POSxDiminutive.unstack()"
   ]
  },
  {
   "cell_type": "code",
   "execution_count": 61,
   "metadata": {},
   "outputs": [
    {
     "data": {
      "text/html": [
       "<div>\n",
       "<style scoped>\n",
       "    .dataframe tbody tr th:only-of-type {\n",
       "        vertical-align: middle;\n",
       "    }\n",
       "\n",
       "    .dataframe tbody tr th {\n",
       "        vertical-align: top;\n",
       "    }\n",
       "\n",
       "    .dataframe thead th {\n",
       "        text-align: right;\n",
       "    }\n",
       "</style>\n",
       "<table border=\"1\" class=\"dataframe\">\n",
       "  <thead>\n",
       "    <tr style=\"text-align: right;\">\n",
       "      <th>Diminutive</th>\n",
       "      <th>-illo</th>\n",
       "      <th>-ito</th>\n",
       "    </tr>\n",
       "    <tr>\n",
       "      <th>Variety</th>\n",
       "      <th></th>\n",
       "      <th></th>\n",
       "    </tr>\n",
       "  </thead>\n",
       "  <tbody>\n",
       "    <tr>\n",
       "      <td>AR</td>\n",
       "      <td>15659</td>\n",
       "      <td>136969</td>\n",
       "    </tr>\n",
       "    <tr>\n",
       "      <td>BO</td>\n",
       "      <td>3616</td>\n",
       "      <td>21898</td>\n",
       "    </tr>\n",
       "    <tr>\n",
       "      <td>CL</td>\n",
       "      <td>7498</td>\n",
       "      <td>54242</td>\n",
       "    </tr>\n",
       "    <tr>\n",
       "      <td>CO</td>\n",
       "      <td>17826</td>\n",
       "      <td>97167</td>\n",
       "    </tr>\n",
       "    <tr>\n",
       "      <td>CR</td>\n",
       "      <td>5747</td>\n",
       "      <td>23515</td>\n",
       "    </tr>\n",
       "    <tr>\n",
       "      <td>CU</td>\n",
       "      <td>6759</td>\n",
       "      <td>37161</td>\n",
       "    </tr>\n",
       "    <tr>\n",
       "      <td>DO</td>\n",
       "      <td>3765</td>\n",
       "      <td>22365</td>\n",
       "    </tr>\n",
       "    <tr>\n",
       "      <td>EC</td>\n",
       "      <td>6723</td>\n",
       "      <td>35064</td>\n",
       "    </tr>\n",
       "    <tr>\n",
       "      <td>ES</td>\n",
       "      <td>79982</td>\n",
       "      <td>345216</td>\n",
       "    </tr>\n",
       "    <tr>\n",
       "      <td>GT</td>\n",
       "      <td>4974</td>\n",
       "      <td>38819</td>\n",
       "    </tr>\n",
       "    <tr>\n",
       "      <td>HN</td>\n",
       "      <td>3257</td>\n",
       "      <td>20005</td>\n",
       "    </tr>\n",
       "    <tr>\n",
       "      <td>MX</td>\n",
       "      <td>26462</td>\n",
       "      <td>170995</td>\n",
       "    </tr>\n",
       "    <tr>\n",
       "      <td>NI</td>\n",
       "      <td>3144</td>\n",
       "      <td>20739</td>\n",
       "    </tr>\n",
       "    <tr>\n",
       "      <td>PA</td>\n",
       "      <td>12334</td>\n",
       "      <td>92932</td>\n",
       "    </tr>\n",
       "    <tr>\n",
       "      <td>PE</td>\n",
       "      <td>12192</td>\n",
       "      <td>92372</td>\n",
       "    </tr>\n",
       "    <tr>\n",
       "      <td>PR</td>\n",
       "      <td>3947</td>\n",
       "      <td>27084</td>\n",
       "    </tr>\n",
       "    <tr>\n",
       "      <td>PY</td>\n",
       "      <td>2651</td>\n",
       "      <td>17828</td>\n",
       "    </tr>\n",
       "    <tr>\n",
       "      <td>SV</td>\n",
       "      <td>3860</td>\n",
       "      <td>27687</td>\n",
       "    </tr>\n",
       "    <tr>\n",
       "      <td>US</td>\n",
       "      <td>20919</td>\n",
       "      <td>125939</td>\n",
       "    </tr>\n",
       "    <tr>\n",
       "      <td>UY</td>\n",
       "      <td>4275</td>\n",
       "      <td>29509</td>\n",
       "    </tr>\n",
       "  </tbody>\n",
       "</table>\n",
       "</div>"
      ],
      "text/plain": [
       "Diminutive  -illo    -ito\n",
       "Variety                  \n",
       "AR          15659  136969\n",
       "BO           3616   21898\n",
       "CL           7498   54242\n",
       "CO          17826   97167\n",
       "CR           5747   23515\n",
       "CU           6759   37161\n",
       "DO           3765   22365\n",
       "EC           6723   35064\n",
       "ES          79982  345216\n",
       "GT           4974   38819\n",
       "HN           3257   20005\n",
       "MX          26462  170995\n",
       "NI           3144   20739\n",
       "PA          12334   92932\n",
       "PE          12192   92372\n",
       "PR           3947   27084\n",
       "PY           2651   17828\n",
       "SV           3860   27687\n",
       "US          20919  125939\n",
       "UY           4275   29509"
      ]
     },
     "execution_count": 61,
     "metadata": {},
     "output_type": "execute_result"
    }
   ],
   "source": [
    "DiminutivexVariety = master_DF.groupby('Variety').Diminutive.value_counts() #A table of diminutive by variety. The main\n",
    "DiminutivexVariety.unstack()                                                #focus of this project."
   ]
  },
  {
   "cell_type": "code",
   "execution_count": 62,
   "metadata": {},
   "outputs": [
    {
     "data": {
      "text/html": [
       "<div>\n",
       "<style scoped>\n",
       "    .dataframe tbody tr th:only-of-type {\n",
       "        vertical-align: middle;\n",
       "    }\n",
       "\n",
       "    .dataframe tbody tr th {\n",
       "        vertical-align: top;\n",
       "    }\n",
       "\n",
       "    .dataframe thead th {\n",
       "        text-align: right;\n",
       "    }\n",
       "</style>\n",
       "<table border=\"1\" class=\"dataframe\">\n",
       "  <thead>\n",
       "    <tr style=\"text-align: right;\">\n",
       "      <th>Variety</th>\n",
       "      <th>AR</th>\n",
       "      <th>BO</th>\n",
       "      <th>CL</th>\n",
       "      <th>CO</th>\n",
       "      <th>CR</th>\n",
       "      <th>CU</th>\n",
       "      <th>DO</th>\n",
       "      <th>EC</th>\n",
       "      <th>ES</th>\n",
       "      <th>GT</th>\n",
       "      <th>HN</th>\n",
       "      <th>MX</th>\n",
       "      <th>NI</th>\n",
       "      <th>PA</th>\n",
       "      <th>PE</th>\n",
       "      <th>PR</th>\n",
       "      <th>PY</th>\n",
       "      <th>SV</th>\n",
       "      <th>US</th>\n",
       "      <th>UY</th>\n",
       "    </tr>\n",
       "    <tr>\n",
       "      <th>Diminutive</th>\n",
       "      <th></th>\n",
       "      <th></th>\n",
       "      <th></th>\n",
       "      <th></th>\n",
       "      <th></th>\n",
       "      <th></th>\n",
       "      <th></th>\n",
       "      <th></th>\n",
       "      <th></th>\n",
       "      <th></th>\n",
       "      <th></th>\n",
       "      <th></th>\n",
       "      <th></th>\n",
       "      <th></th>\n",
       "      <th></th>\n",
       "      <th></th>\n",
       "      <th></th>\n",
       "      <th></th>\n",
       "      <th></th>\n",
       "      <th></th>\n",
       "    </tr>\n",
       "  </thead>\n",
       "  <tbody>\n",
       "    <tr>\n",
       "      <td>-illo</td>\n",
       "      <td>15659</td>\n",
       "      <td>3616</td>\n",
       "      <td>7498</td>\n",
       "      <td>17826</td>\n",
       "      <td>5747</td>\n",
       "      <td>6759</td>\n",
       "      <td>3765</td>\n",
       "      <td>6723</td>\n",
       "      <td>79982</td>\n",
       "      <td>4974</td>\n",
       "      <td>3257</td>\n",
       "      <td>26462</td>\n",
       "      <td>3144</td>\n",
       "      <td>12334</td>\n",
       "      <td>12192</td>\n",
       "      <td>3947</td>\n",
       "      <td>2651</td>\n",
       "      <td>3860</td>\n",
       "      <td>20919</td>\n",
       "      <td>4275</td>\n",
       "    </tr>\n",
       "    <tr>\n",
       "      <td>-ito</td>\n",
       "      <td>136969</td>\n",
       "      <td>21898</td>\n",
       "      <td>54242</td>\n",
       "      <td>97167</td>\n",
       "      <td>23515</td>\n",
       "      <td>37161</td>\n",
       "      <td>22365</td>\n",
       "      <td>35064</td>\n",
       "      <td>345216</td>\n",
       "      <td>38819</td>\n",
       "      <td>20005</td>\n",
       "      <td>170995</td>\n",
       "      <td>20739</td>\n",
       "      <td>92932</td>\n",
       "      <td>92372</td>\n",
       "      <td>27084</td>\n",
       "      <td>17828</td>\n",
       "      <td>27687</td>\n",
       "      <td>125939</td>\n",
       "      <td>29509</td>\n",
       "    </tr>\n",
       "  </tbody>\n",
       "</table>\n",
       "</div>"
      ],
      "text/plain": [
       "Variety         AR     BO     CL     CO     CR     CU     DO     EC      ES  \\\n",
       "Diminutive                                                                    \n",
       "-illo        15659   3616   7498  17826   5747   6759   3765   6723   79982   \n",
       "-ito        136969  21898  54242  97167  23515  37161  22365  35064  345216   \n",
       "\n",
       "Variety        GT     HN      MX     NI     PA     PE     PR     PY     SV  \\\n",
       "Diminutive                                                                   \n",
       "-illo        4974   3257   26462   3144  12334  12192   3947   2651   3860   \n",
       "-ito        38819  20005  170995  20739  92932  92372  27084  17828  27687   \n",
       "\n",
       "Variety         US     UY  \n",
       "Diminutive                 \n",
       "-illo        20919   4275  \n",
       "-ito        125939  29509  "
      ]
     },
     "execution_count": 62,
     "metadata": {},
     "output_type": "execute_result"
    }
   ],
   "source": [
    "VarietyxDiminutive = master_DF.groupby('Diminutive').Variety.value_counts() #The opposite\n",
    "VarietyxDiminutive.unstack()"
   ]
  },
  {
   "cell_type": "code",
   "execution_count": 63,
   "metadata": {},
   "outputs": [
    {
     "data": {
      "text/html": [
       "<div>\n",
       "<style scoped>\n",
       "    .dataframe tbody tr th:only-of-type {\n",
       "        vertical-align: middle;\n",
       "    }\n",
       "\n",
       "    .dataframe tbody tr th {\n",
       "        vertical-align: top;\n",
       "    }\n",
       "\n",
       "    .dataframe thead th {\n",
       "        text-align: right;\n",
       "    }\n",
       "</style>\n",
       "<table border=\"1\" class=\"dataframe\">\n",
       "  <thead>\n",
       "    <tr style=\"text-align: right;\">\n",
       "      <th></th>\n",
       "      <th></th>\n",
       "      <th>count</th>\n",
       "      <th>unique</th>\n",
       "      <th>top</th>\n",
       "      <th>freq</th>\n",
       "    </tr>\n",
       "    <tr>\n",
       "      <th>Variety</th>\n",
       "      <th>POS_binary</th>\n",
       "      <th></th>\n",
       "      <th></th>\n",
       "      <th></th>\n",
       "      <th></th>\n",
       "    </tr>\n",
       "  </thead>\n",
       "  <tbody>\n",
       "    <tr>\n",
       "      <td rowspan=\"2\" valign=\"top\">AR</td>\n",
       "      <td>Adjective</td>\n",
       "      <td>31612</td>\n",
       "      <td>2</td>\n",
       "      <td>-ito</td>\n",
       "      <td>31039</td>\n",
       "    </tr>\n",
       "    <tr>\n",
       "      <td>Noun</td>\n",
       "      <td>121016</td>\n",
       "      <td>2</td>\n",
       "      <td>-ito</td>\n",
       "      <td>105930</td>\n",
       "    </tr>\n",
       "    <tr>\n",
       "      <td rowspan=\"2\" valign=\"top\">BO</td>\n",
       "      <td>Adjective</td>\n",
       "      <td>6016</td>\n",
       "      <td>2</td>\n",
       "      <td>-ito</td>\n",
       "      <td>5777</td>\n",
       "    </tr>\n",
       "    <tr>\n",
       "      <td>Noun</td>\n",
       "      <td>19498</td>\n",
       "      <td>2</td>\n",
       "      <td>-ito</td>\n",
       "      <td>16121</td>\n",
       "    </tr>\n",
       "    <tr>\n",
       "      <td rowspan=\"2\" valign=\"top\">CL</td>\n",
       "      <td>Adjective</td>\n",
       "      <td>13996</td>\n",
       "      <td>2</td>\n",
       "      <td>-ito</td>\n",
       "      <td>13508</td>\n",
       "    </tr>\n",
       "    <tr>\n",
       "      <td>Noun</td>\n",
       "      <td>47744</td>\n",
       "      <td>2</td>\n",
       "      <td>-ito</td>\n",
       "      <td>40734</td>\n",
       "    </tr>\n",
       "    <tr>\n",
       "      <td rowspan=\"2\" valign=\"top\">CO</td>\n",
       "      <td>Adjective</td>\n",
       "      <td>26476</td>\n",
       "      <td>2</td>\n",
       "      <td>-ito</td>\n",
       "      <td>25294</td>\n",
       "    </tr>\n",
       "    <tr>\n",
       "      <td>Noun</td>\n",
       "      <td>88517</td>\n",
       "      <td>2</td>\n",
       "      <td>-ito</td>\n",
       "      <td>71873</td>\n",
       "    </tr>\n",
       "    <tr>\n",
       "      <td rowspan=\"2\" valign=\"top\">CR</td>\n",
       "      <td>Adjective</td>\n",
       "      <td>5648</td>\n",
       "      <td>2</td>\n",
       "      <td>-ito</td>\n",
       "      <td>5198</td>\n",
       "    </tr>\n",
       "    <tr>\n",
       "      <td>Noun</td>\n",
       "      <td>23614</td>\n",
       "      <td>2</td>\n",
       "      <td>-ito</td>\n",
       "      <td>18317</td>\n",
       "    </tr>\n",
       "    <tr>\n",
       "      <td rowspan=\"2\" valign=\"top\">CU</td>\n",
       "      <td>Adjective</td>\n",
       "      <td>10519</td>\n",
       "      <td>2</td>\n",
       "      <td>-ito</td>\n",
       "      <td>10308</td>\n",
       "    </tr>\n",
       "    <tr>\n",
       "      <td>Noun</td>\n",
       "      <td>33401</td>\n",
       "      <td>2</td>\n",
       "      <td>-ito</td>\n",
       "      <td>26853</td>\n",
       "    </tr>\n",
       "    <tr>\n",
       "      <td rowspan=\"2\" valign=\"top\">DO</td>\n",
       "      <td>Adjective</td>\n",
       "      <td>5704</td>\n",
       "      <td>2</td>\n",
       "      <td>-ito</td>\n",
       "      <td>5186</td>\n",
       "    </tr>\n",
       "    <tr>\n",
       "      <td>Noun</td>\n",
       "      <td>20426</td>\n",
       "      <td>2</td>\n",
       "      <td>-ito</td>\n",
       "      <td>17179</td>\n",
       "    </tr>\n",
       "    <tr>\n",
       "      <td rowspan=\"2\" valign=\"top\">EC</td>\n",
       "      <td>Adjective</td>\n",
       "      <td>9936</td>\n",
       "      <td>2</td>\n",
       "      <td>-ito</td>\n",
       "      <td>9663</td>\n",
       "    </tr>\n",
       "    <tr>\n",
       "      <td>Noun</td>\n",
       "      <td>31851</td>\n",
       "      <td>2</td>\n",
       "      <td>-ito</td>\n",
       "      <td>25401</td>\n",
       "    </tr>\n",
       "    <tr>\n",
       "      <td rowspan=\"2\" valign=\"top\">ES</td>\n",
       "      <td>Adjective</td>\n",
       "      <td>87777</td>\n",
       "      <td>2</td>\n",
       "      <td>-ito</td>\n",
       "      <td>81433</td>\n",
       "    </tr>\n",
       "    <tr>\n",
       "      <td>Noun</td>\n",
       "      <td>337421</td>\n",
       "      <td>2</td>\n",
       "      <td>-ito</td>\n",
       "      <td>263783</td>\n",
       "    </tr>\n",
       "    <tr>\n",
       "      <td rowspan=\"2\" valign=\"top\">GT</td>\n",
       "      <td>Adjective</td>\n",
       "      <td>8475</td>\n",
       "      <td>2</td>\n",
       "      <td>-ito</td>\n",
       "      <td>8209</td>\n",
       "    </tr>\n",
       "    <tr>\n",
       "      <td>Noun</td>\n",
       "      <td>35318</td>\n",
       "      <td>2</td>\n",
       "      <td>-ito</td>\n",
       "      <td>30610</td>\n",
       "    </tr>\n",
       "    <tr>\n",
       "      <td rowspan=\"2\" valign=\"top\">HN</td>\n",
       "      <td>Adjective</td>\n",
       "      <td>5240</td>\n",
       "      <td>2</td>\n",
       "      <td>-ito</td>\n",
       "      <td>5049</td>\n",
       "    </tr>\n",
       "    <tr>\n",
       "      <td>Noun</td>\n",
       "      <td>18022</td>\n",
       "      <td>2</td>\n",
       "      <td>-ito</td>\n",
       "      <td>14956</td>\n",
       "    </tr>\n",
       "    <tr>\n",
       "      <td rowspan=\"2\" valign=\"top\">MX</td>\n",
       "      <td>Adjective</td>\n",
       "      <td>42440</td>\n",
       "      <td>2</td>\n",
       "      <td>-ito</td>\n",
       "      <td>41058</td>\n",
       "    </tr>\n",
       "    <tr>\n",
       "      <td>Noun</td>\n",
       "      <td>155017</td>\n",
       "      <td>2</td>\n",
       "      <td>-ito</td>\n",
       "      <td>129937</td>\n",
       "    </tr>\n",
       "    <tr>\n",
       "      <td rowspan=\"2\" valign=\"top\">NI</td>\n",
       "      <td>Adjective</td>\n",
       "      <td>5113</td>\n",
       "      <td>2</td>\n",
       "      <td>-ito</td>\n",
       "      <td>4919</td>\n",
       "    </tr>\n",
       "    <tr>\n",
       "      <td>Noun</td>\n",
       "      <td>18770</td>\n",
       "      <td>2</td>\n",
       "      <td>-ito</td>\n",
       "      <td>15820</td>\n",
       "    </tr>\n",
       "    <tr>\n",
       "      <td rowspan=\"2\" valign=\"top\">PA</td>\n",
       "      <td>Adjective</td>\n",
       "      <td>22825</td>\n",
       "      <td>2</td>\n",
       "      <td>-ito</td>\n",
       "      <td>22052</td>\n",
       "    </tr>\n",
       "    <tr>\n",
       "      <td>Noun</td>\n",
       "      <td>82441</td>\n",
       "      <td>2</td>\n",
       "      <td>-ito</td>\n",
       "      <td>70880</td>\n",
       "    </tr>\n",
       "    <tr>\n",
       "      <td rowspan=\"2\" valign=\"top\">PE</td>\n",
       "      <td>Adjective</td>\n",
       "      <td>22676</td>\n",
       "      <td>2</td>\n",
       "      <td>-ito</td>\n",
       "      <td>21915</td>\n",
       "    </tr>\n",
       "    <tr>\n",
       "      <td>Noun</td>\n",
       "      <td>81888</td>\n",
       "      <td>2</td>\n",
       "      <td>-ito</td>\n",
       "      <td>70457</td>\n",
       "    </tr>\n",
       "    <tr>\n",
       "      <td rowspan=\"2\" valign=\"top\">PR</td>\n",
       "      <td>Adjective</td>\n",
       "      <td>6600</td>\n",
       "      <td>2</td>\n",
       "      <td>-ito</td>\n",
       "      <td>6358</td>\n",
       "    </tr>\n",
       "    <tr>\n",
       "      <td>Noun</td>\n",
       "      <td>24431</td>\n",
       "      <td>2</td>\n",
       "      <td>-ito</td>\n",
       "      <td>20726</td>\n",
       "    </tr>\n",
       "    <tr>\n",
       "      <td rowspan=\"2\" valign=\"top\">PY</td>\n",
       "      <td>Adjective</td>\n",
       "      <td>4396</td>\n",
       "      <td>2</td>\n",
       "      <td>-ito</td>\n",
       "      <td>4291</td>\n",
       "    </tr>\n",
       "    <tr>\n",
       "      <td>Noun</td>\n",
       "      <td>16083</td>\n",
       "      <td>2</td>\n",
       "      <td>-ito</td>\n",
       "      <td>13537</td>\n",
       "    </tr>\n",
       "    <tr>\n",
       "      <td rowspan=\"2\" valign=\"top\">SV</td>\n",
       "      <td>Adjective</td>\n",
       "      <td>6846</td>\n",
       "      <td>2</td>\n",
       "      <td>-ito</td>\n",
       "      <td>6537</td>\n",
       "    </tr>\n",
       "    <tr>\n",
       "      <td>Noun</td>\n",
       "      <td>24701</td>\n",
       "      <td>2</td>\n",
       "      <td>-ito</td>\n",
       "      <td>21150</td>\n",
       "    </tr>\n",
       "    <tr>\n",
       "      <td rowspan=\"2\" valign=\"top\">US</td>\n",
       "      <td>Adjective</td>\n",
       "      <td>31149</td>\n",
       "      <td>2</td>\n",
       "      <td>-ito</td>\n",
       "      <td>29812</td>\n",
       "    </tr>\n",
       "    <tr>\n",
       "      <td>Noun</td>\n",
       "      <td>115709</td>\n",
       "      <td>2</td>\n",
       "      <td>-ito</td>\n",
       "      <td>96127</td>\n",
       "    </tr>\n",
       "    <tr>\n",
       "      <td rowspan=\"2\" valign=\"top\">UY</td>\n",
       "      <td>Adjective</td>\n",
       "      <td>7110</td>\n",
       "      <td>2</td>\n",
       "      <td>-ito</td>\n",
       "      <td>6947</td>\n",
       "    </tr>\n",
       "    <tr>\n",
       "      <td>Noun</td>\n",
       "      <td>26674</td>\n",
       "      <td>2</td>\n",
       "      <td>-ito</td>\n",
       "      <td>22562</td>\n",
       "    </tr>\n",
       "  </tbody>\n",
       "</table>\n",
       "</div>"
      ],
      "text/plain": [
       "                     count unique   top    freq\n",
       "Variety POS_binary                             \n",
       "AR      Adjective    31612      2  -ito   31039\n",
       "        Noun        121016      2  -ito  105930\n",
       "BO      Adjective     6016      2  -ito    5777\n",
       "        Noun         19498      2  -ito   16121\n",
       "CL      Adjective    13996      2  -ito   13508\n",
       "        Noun         47744      2  -ito   40734\n",
       "CO      Adjective    26476      2  -ito   25294\n",
       "        Noun         88517      2  -ito   71873\n",
       "CR      Adjective     5648      2  -ito    5198\n",
       "        Noun         23614      2  -ito   18317\n",
       "CU      Adjective    10519      2  -ito   10308\n",
       "        Noun         33401      2  -ito   26853\n",
       "DO      Adjective     5704      2  -ito    5186\n",
       "        Noun         20426      2  -ito   17179\n",
       "EC      Adjective     9936      2  -ito    9663\n",
       "        Noun         31851      2  -ito   25401\n",
       "ES      Adjective    87777      2  -ito   81433\n",
       "        Noun        337421      2  -ito  263783\n",
       "GT      Adjective     8475      2  -ito    8209\n",
       "        Noun         35318      2  -ito   30610\n",
       "HN      Adjective     5240      2  -ito    5049\n",
       "        Noun         18022      2  -ito   14956\n",
       "MX      Adjective    42440      2  -ito   41058\n",
       "        Noun        155017      2  -ito  129937\n",
       "NI      Adjective     5113      2  -ito    4919\n",
       "        Noun         18770      2  -ito   15820\n",
       "PA      Adjective    22825      2  -ito   22052\n",
       "        Noun         82441      2  -ito   70880\n",
       "PE      Adjective    22676      2  -ito   21915\n",
       "        Noun         81888      2  -ito   70457\n",
       "PR      Adjective     6600      2  -ito    6358\n",
       "        Noun         24431      2  -ito   20726\n",
       "PY      Adjective     4396      2  -ito    4291\n",
       "        Noun         16083      2  -ito   13537\n",
       "SV      Adjective     6846      2  -ito    6537\n",
       "        Noun         24701      2  -ito   21150\n",
       "US      Adjective    31149      2  -ito   29812\n",
       "        Noun        115709      2  -ito   96127\n",
       "UY      Adjective     7110      2  -ito    6947\n",
       "        Noun         26674      2  -ito   22562"
      ]
     },
     "execution_count": 63,
     "metadata": {},
     "output_type": "execute_result"
    }
   ],
   "source": [
    "DiminutivexVariety_POS = master_DF.groupby(['Variety','POS_binary']).Diminutive.describe() #A combination of the\n",
    "DiminutivexVariety_POS                                                                     #former two. "
   ]
  },
  {
   "cell_type": "markdown",
   "metadata": {},
   "source": [
    "- Lastly, let's take some first data visualization steps:"
   ]
  },
  {
   "cell_type": "code",
   "execution_count": 110,
   "metadata": {},
   "outputs": [
    {
     "data": {
      "text/plain": [
       "<matplotlib.axes._subplots.AxesSubplot object at 0x000001EDAB84B7C8>"
      ]
     },
     "execution_count": 110,
     "metadata": {},
     "output_type": "execute_result"
    },
    {
     "data": {
      "image/png": "[encoded data removed]",
      "text/plain": [
       "<Figure size 576x288 with 1 Axes>"
      ]
     },
     "metadata": {
      "needs_background": "light"
     },
     "output_type": "display_data"
    }
   ],
   "source": [
    "#Build plot\n",
    "\n",
    "DiminutivexPOS.unstack().plot.barh(rot=0, figsize=(8,4), color=['navy', 'gold'], edgecolor='black', fontsize=12,\n",
    "                                   title='Figure 1. Diminutive tokens by POS')\n",
    "\n",
    "#Save plot\n",
    "\n",
    "plt.savefig('../figures/DiminutivexPOS.png', dpi = 600)"
   ]
  },
  {
   "cell_type": "markdown",
   "metadata": {},
   "source": [
    "- Interesting information here, as of now it appears that there's a bigger gap in usage depending on the part of speech. *-illo* might be markedly less common with adjectives."
   ]
  },
  {
   "cell_type": "code",
   "execution_count": 111,
   "metadata": {},
   "outputs": [
    {
     "data": {
      "text/plain": [
       "<matplotlib.axes._subplots.AxesSubplot object at 0x000001EDAB82CD08>"
      ]
     },
     "execution_count": 111,
     "metadata": {},
     "output_type": "execute_result"
    },
    {
     "data": {
      "image/png": "[encoded data removed]",
      "text/plain": [
       "<Figure size 576x576 with 1 Axes>"
      ]
     },
     "metadata": {
      "needs_background": "light"
     },
     "output_type": "display_data"
    }
   ],
   "source": [
    "#Build plot\n",
    "\n",
    "DiminutivexVariety.unstack().plot.barh(rot=0,figsize=(8,8),color=['navy', 'gold'], edgecolor='black', fontsize=12,\n",
    "                                       title ='Figure 2. Diminutive tokens by country.')\n",
    "\n",
    "#Save plot\n",
    "\n",
    "plt.savefig('../figures/DiminutivexVariety.png', dpi = 600)"
   ]
  },
  {
   "cell_type": "markdown",
   "metadata": {},
   "source": [
    "- Again, some more interesting information. The ratio is similar for most countries other than Spain, which is where *-illo* is claimed to be more productive in the descriptive literature."
   ]
  },
  {
   "cell_type": "code",
   "execution_count": 112,
   "metadata": {},
   "outputs": [
    {
     "data": {
      "text/plain": [
       "array([<matplotlib.axes._subplots.AxesSubplot object at 0x000001EDAB7F3948>,\n",
       "       <matplotlib.axes._subplots.AxesSubplot object at 0x000001EDAB7E7108>],\n",
       "      dtype=object)"
      ]
     },
     "execution_count": 112,
     "metadata": {},
     "output_type": "execute_result"
    },
    {
     "data": {
      "image/png": "[encoded data removed]",
      "text/plain": [
       "<Figure size 720x720 with 2 Axes>"
      ]
     },
     "metadata": {
      "needs_background": "light"
     },
     "output_type": "display_data"
    }
   ],
   "source": [
    "#Build plot\n",
    "\n",
    "DiminutivexVariety.unstack().plot.barh(rot=0, figsize=(10,10), color=['navy', 'gold'], edgecolor='black', fontsize=12,\n",
    "                                       subplots=True, title ='Figure 3. Usage of -illo and -ito by country.')\n",
    "#Save plot\n",
    "\n",
    "plt.savefig('../figures/DiminutivexVariety_subplots.png', dpi = 600)"
   ]
  },
  {
   "cell_type": "markdown",
   "metadata": {},
   "source": [
    "- The difference appears to be clearer here for *-illo* usage. Again, this is preliminary given that I'm working with token counts and that I'm not using statistics yet, but it's a good point of departure."
   ]
  },
  {
   "cell_type": "markdown",
   "metadata": {},
   "source": [
    "## 4. Storing files"
   ]
  },
  {
   "cell_type": "code",
   "execution_count": 67,
   "metadata": {},
   "outputs": [],
   "source": [
    "#Master data frame\n",
    "\n",
    "master_DF.to_pickle('master_DF.pkl')\n",
    "\n",
    "#Lexicon\n",
    "\n",
    "lexicon.to_pickle('lexicon.pkl')"
   ]
  }
 ],
 "metadata": {
  "kernelspec": {
   "display_name": "Python 3",
   "language": "python",
   "name": "python3"
  },
  "language_info": {
   "codemirror_mode": {
    "name": "ipython",
    "version": 3
   },
   "file_extension": ".py",
   "mimetype": "text/x-python",
   "name": "python",
   "nbconvert_exporter": "python",
   "pygments_lexer": "ipython3",
   "version": "3.7.4"
  }
 },
 "nbformat": 4,
 "nbformat_minor": 2
}
