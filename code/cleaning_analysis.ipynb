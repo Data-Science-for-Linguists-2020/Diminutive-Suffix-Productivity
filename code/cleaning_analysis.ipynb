{
 "cells": [
  {
   "cell_type": "markdown",
   "metadata": {},
   "source": [
    "## Diminutive Suffix Productivity: further cleaning and descriptive analysis\n",
    "Juan Berrios | jeb358@pitt.edu | Last updated: March 17, 2020"
   ]
  },
  {
   "cell_type": "markdown",
   "metadata": {},
   "source": [
    "**Summary and overview:**"
   ]
  },
  {
   "cell_type": "markdown",
   "metadata": {},
   "source": [
    "- This notebook is a continuation of the [corpus processing notebook](https://github.com/Data-Science-for-Linguists-2020/Diminutive-Suffix-Productivity/blob/master/code/corpus_processing.ipynb) in my repository. The purpose is to finish cleaning the data frame objects I've built (which were previously pickled in order to be loaded here) and create a master, cross-dialectal data frame to explore descriptive statistics and get started on the linguistics analysis of the data."
   ]
  },
  {
   "cell_type": "markdown",
   "metadata": {},
   "source": [
    "**Contents:**\n",
    "- [Section 1](###1.-Preparation)  includes the necessary preparations and looading of the files.\n",
    "- [Section 2](###2.-Further-cleaning)  includes code for performing further cleaning on the data to remove extraneous rows that are still left.\n",
    "- [Section 3](###3.-Exploratory-analysis) is the start of the analysis, with a focus on descriptive statistics and data visualization.\n",
    "- [Section 4](###4.-Storing-files)  includes code for storing the results as pickled files."
   ]
  },
  {
   "cell_type": "markdown",
   "metadata": {},
   "source": [
    "### 1. Preparation"
   ]
  },
  {
   "cell_type": "markdown",
   "metadata": {},
   "source": [
    "- Loading libraries and additional settings:"
   ]
  },
  {
   "cell_type": "code",
   "execution_count": 1,
   "metadata": {},
   "outputs": [
    {
     "name": "stdout",
     "output_type": "stream",
     "text": [
      "Pretty printing has been turned OFF\n"
     ]
    }
   ],
   "source": [
    "#Importing libraries\n",
    "import glob, pickle, re\n",
    "import pandas as pd\n",
    "import numpy as np\n",
    "import matplotlib.pyplot as plt\n",
    "import seaborn as sns\n",
    "\n",
    "#Turning pretty print off:\n",
    "%pprint\n",
    "\n",
    "#Releasing all output:                                            \n",
    "from IPython.core.interactiveshell import InteractiveShell #Prints all commands rather than the last one.\n",
    "InteractiveShell.ast_node_interactivity = \"all\""
   ]
  },
  {
   "cell_type": "markdown",
   "metadata": {},
   "source": [
    "- Loading pickle files"
   ]
  },
  {
   "cell_type": "code",
   "execution_count": 2,
   "metadata": {},
   "outputs": [],
   "source": [
    "ar_DF = pickle.load(open('ar_DF.pkl', 'rb'))\n",
    "bo_DF = pickle.load(open('bo_DF.pkl', 'rb'))\n",
    "cl_DF = pickle.load(open('cl_DF.pkl', 'rb'))\n",
    "co_DF = pickle.load(open('co_DF.pkl', 'rb'))\n",
    "cr_DF = pickle.load(open('cr_DF.pkl', 'rb'))\n",
    "cu_DF = pickle.load(open('cu_DF.pkl', 'rb'))\n",
    "do_DF = pickle.load(open('do_DF.pkl', 'rb'))\n",
    "ec_DF = pickle.load(open('ec_DF.pkl', 'rb'))\n",
    "es_DF = pickle.load(open('es_DF.pkl', 'rb'))\n",
    "gt_DF = pickle.load(open('gt_DF.pkl', 'rb'))\n",
    "hn_DF = pickle.load(open('hn_DF.pkl', 'rb'))\n",
    "mx_DF = pickle.load(open('mx_DF.pkl', 'rb'))\n",
    "ni_DF = pickle.load(open('ni_DF.pkl', 'rb'))\n",
    "pa_DF = pickle.load(open('pa_DF.pkl', 'rb'))\n",
    "pe_DF = pickle.load(open('pe_DF.pkl', 'rb'))\n",
    "pr_DF = pickle.load(open('pr_DF.pkl', 'rb'))\n",
    "py_DF = pickle.load(open('py_DF.pkl', 'rb'))\n",
    "sv_DF = pickle.load(open('sv_DF.pkl', 'rb'))\n",
    "us_DF = pickle.load(open('us_DF.pkl', 'rb'))\n",
    "uy_DF = pickle.load(open('uy_DF.pkl', 'rb'))"
   ]
  },
  {
   "cell_type": "code",
   "execution_count": 3,
   "metadata": {},
   "outputs": [
    {
     "data": {
      "text/plain": [
       "<class 'pandas.core.frame.DataFrame'>"
      ]
     },
     "execution_count": 3,
     "metadata": {},
     "output_type": "execute_result"
    },
    {
     "data": {
      "text/plain": [
       "<class 'pandas.core.frame.DataFrame'>"
      ]
     },
     "execution_count": 3,
     "metadata": {},
     "output_type": "execute_result"
    },
    {
     "data": {
      "text/plain": [
       "<class 'pandas.core.frame.DataFrame'>"
      ]
     },
     "execution_count": 3,
     "metadata": {},
     "output_type": "execute_result"
    },
    {
     "data": {
      "text/plain": [
       "<class 'pandas.core.frame.DataFrame'>"
      ]
     },
     "execution_count": 3,
     "metadata": {},
     "output_type": "execute_result"
    },
    {
     "data": {
      "text/plain": [
       "<class 'pandas.core.frame.DataFrame'>"
      ]
     },
     "execution_count": 3,
     "metadata": {},
     "output_type": "execute_result"
    },
    {
     "data": {
      "text/plain": [
       "<class 'pandas.core.frame.DataFrame'>"
      ]
     },
     "execution_count": 3,
     "metadata": {},
     "output_type": "execute_result"
    },
    {
     "data": {
      "text/plain": [
       "<class 'pandas.core.frame.DataFrame'>"
      ]
     },
     "execution_count": 3,
     "metadata": {},
     "output_type": "execute_result"
    },
    {
     "data": {
      "text/plain": [
       "<class 'pandas.core.frame.DataFrame'>"
      ]
     },
     "execution_count": 3,
     "metadata": {},
     "output_type": "execute_result"
    },
    {
     "data": {
      "text/plain": [
       "<class 'pandas.core.frame.DataFrame'>"
      ]
     },
     "execution_count": 3,
     "metadata": {},
     "output_type": "execute_result"
    },
    {
     "data": {
      "text/plain": [
       "<class 'pandas.core.frame.DataFrame'>"
      ]
     },
     "execution_count": 3,
     "metadata": {},
     "output_type": "execute_result"
    },
    {
     "data": {
      "text/plain": [
       "<class 'pandas.core.frame.DataFrame'>"
      ]
     },
     "execution_count": 3,
     "metadata": {},
     "output_type": "execute_result"
    },
    {
     "data": {
      "text/plain": [
       "<class 'pandas.core.frame.DataFrame'>"
      ]
     },
     "execution_count": 3,
     "metadata": {},
     "output_type": "execute_result"
    },
    {
     "data": {
      "text/plain": [
       "<class 'pandas.core.frame.DataFrame'>"
      ]
     },
     "execution_count": 3,
     "metadata": {},
     "output_type": "execute_result"
    },
    {
     "data": {
      "text/plain": [
       "<class 'pandas.core.frame.DataFrame'>"
      ]
     },
     "execution_count": 3,
     "metadata": {},
     "output_type": "execute_result"
    },
    {
     "data": {
      "text/plain": [
       "<class 'pandas.core.frame.DataFrame'>"
      ]
     },
     "execution_count": 3,
     "metadata": {},
     "output_type": "execute_result"
    },
    {
     "data": {
      "text/plain": [
       "<class 'pandas.core.frame.DataFrame'>"
      ]
     },
     "execution_count": 3,
     "metadata": {},
     "output_type": "execute_result"
    },
    {
     "data": {
      "text/plain": [
       "<class 'pandas.core.frame.DataFrame'>"
      ]
     },
     "execution_count": 3,
     "metadata": {},
     "output_type": "execute_result"
    },
    {
     "data": {
      "text/plain": [
       "<class 'pandas.core.frame.DataFrame'>"
      ]
     },
     "execution_count": 3,
     "metadata": {},
     "output_type": "execute_result"
    },
    {
     "data": {
      "text/plain": [
       "<class 'pandas.core.frame.DataFrame'>"
      ]
     },
     "execution_count": 3,
     "metadata": {},
     "output_type": "execute_result"
    },
    {
     "data": {
      "text/plain": [
       "<class 'pandas.core.frame.DataFrame'>"
      ]
     },
     "execution_count": 3,
     "metadata": {},
     "output_type": "execute_result"
    }
   ],
   "source": [
    "type(ar_DF)\n",
    "type(bo_DF)\n",
    "type(cl_DF)\n",
    "type(co_DF)\n",
    "type(cr_DF)\n",
    "type(cu_DF)\n",
    "type(do_DF)\n",
    "type(ec_DF)\n",
    "type(es_DF)\n",
    "type(gt_DF)\n",
    "type(hn_DF)\n",
    "type(mx_DF)\n",
    "type(ni_DF)\n",
    "type(pa_DF)\n",
    "type(pe_DF)\n",
    "type(pr_DF)\n",
    "type(py_DF)\n",
    "type(sv_DF)\n",
    "type(us_DF)\n",
    "type(uy_DF)"
   ]
  },
  {
   "cell_type": "code",
   "execution_count": 4,
   "metadata": {},
   "outputs": [
    {
     "name": "stdout",
     "output_type": "stream",
     "text": [
      "Argentina rows: 616845\n",
      "Bolivia rows: 143682\n",
      "Chile rows: 247619\n",
      "Colombia rows: 646821\n",
      "Costa Rica: 125645\n",
      "Cuba rows: 214837\n",
      "Dominican Republic rows: 145577\n",
      "Ecuador rows: 234485\n",
      "Spain rows: 1719752\n",
      "Guatemala rows: 224592\n",
      "Honduras rows: 136451\n",
      "Mexico rows: 939030\n",
      "Nicaragua rows: 129622\n",
      "Panama rows: 455817\n",
      "Peru rows: 451522\n",
      "Puerto Rico rows: 145101\n",
      "Paraguay rows: 103839\n",
      "El Salvador rows: 146933\n",
      "US rows rows: 626729\n",
      "Uruguay rows: 137585\n"
     ]
    }
   ],
   "source": [
    "print('Argentina rows:', ar_DF.shape[0])\n",
    "print('Bolivia rows:', bo_DF.shape[0])\n",
    "print('Chile rows:', cl_DF.shape[0])\n",
    "print('Colombia rows:', co_DF.shape[0])\n",
    "print('Costa Rica:', cr_DF.shape[0])\n",
    "print('Cuba rows:', cu_DF.shape[0])\n",
    "print('Dominican Republic rows:', do_DF.shape[0])\n",
    "print('Ecuador rows:', ec_DF.shape[0])\n",
    "print('Spain rows:', es_DF.shape[0])\n",
    "print('Guatemala rows:', gt_DF.shape[0])\n",
    "print('Honduras rows:', hn_DF.shape[0])\n",
    "print('Mexico rows:', mx_DF.shape[0])\n",
    "print('Nicaragua rows:', ni_DF.shape[0])\n",
    "print('Panama rows:', pa_DF.shape[0])\n",
    "print('Peru rows:', pe_DF.shape[0])\n",
    "print('Puerto Rico rows:', pr_DF.shape[0])\n",
    "print('Paraguay rows:', py_DF.shape[0])\n",
    "print('El Salvador rows:', sv_DF.shape[0])\n",
    "print('US rows rows:', us_DF.shape[0])\n",
    "print('Uruguay rows:', uy_DF.shape[0])"
   ]
  },
  {
   "cell_type": "code",
   "execution_count": 5,
   "metadata": {},
   "outputs": [],
   "source": [
    "master_DF = pd.concat([ar_DF, bo_DF, cl_DF, co_DF, cr_DF, cu_DF, do_DF, ec_DF, es_DF, gt_DF, hn_DF,\n",
    "                mx_DF, ni_DF, pa_DF, pe_DF, pr_DF, py_DF, sv_DF, us_DF, uy_DF], sort=True)"
   ]
  },
  {
   "cell_type": "code",
   "execution_count": 6,
   "metadata": {},
   "outputs": [
    {
     "name": "stdout",
     "output_type": "stream",
     "text": [
      "Master rows: 7592484\n"
     ]
    }
   ],
   "source": [
    "print('Master rows:', master_DF.shape[0])"
   ]
  },
  {
   "cell_type": "code",
   "execution_count": 7,
   "metadata": {},
   "outputs": [],
   "source": [
    "master_DF = master_DF.dropna()"
   ]
  },
  {
   "cell_type": "code",
   "execution_count": 8,
   "metadata": {},
   "outputs": [
    {
     "name": "stdout",
     "output_type": "stream",
     "text": [
      "Master rows: 7590609\n"
     ]
    }
   ],
   "source": [
    "print('Master rows:', master_DF.shape[0])"
   ]
  },
  {
   "cell_type": "code",
   "execution_count": 9,
   "metadata": {},
   "outputs": [
    {
     "data": {
      "text/plain": [
       "Index(['Lemma', 'POS', 'SourceID', 'TokenID', 'Variety', 'Word'], dtype='object')"
      ]
     },
     "execution_count": 9,
     "metadata": {},
     "output_type": "execute_result"
    }
   ],
   "source": [
    "master_DF.keys()"
   ]
  },
  {
   "cell_type": "code",
   "execution_count": 10,
   "metadata": {},
   "outputs": [],
   "source": [
    "master_DF = master_DF[['SourceID', 'TokenID', 'Lemma', 'Word', 'POS', 'Variety']]"
   ]
  },
  {
   "cell_type": "code",
   "execution_count": 11,
   "metadata": {},
   "outputs": [
    {
     "data": {
      "text/plain": [
       "Index(['SourceID', 'TokenID', 'Lemma', 'Word', 'POS', 'Variety'], dtype='object')"
      ]
     },
     "execution_count": 11,
     "metadata": {},
     "output_type": "execute_result"
    }
   ],
   "source": [
    "master_DF.keys()"
   ]
  },
  {
   "cell_type": "markdown",
   "metadata": {},
   "source": [
    "### 2. Further cleaning"
   ]
  },
  {
   "cell_type": "code",
   "execution_count": 12,
   "metadata": {},
   "outputs": [
    {
     "data": {
      "text/plain": [
       "n           1370111\n",
       "nms         1306937\n",
       "o            848151\n",
       "nfs          707053\n",
       "nmp          635693\n",
       "vip-3s       613522\n",
       "jms          371646\n",
       "j            360502\n",
       "jfs          328370\n",
       "vip-1s       235896\n",
       "nfp          135066\n",
       "vps-ms       129978\n",
       "jmp          102855\n",
       "vsp-1/3s     100798\n",
       "jfp           85536\n",
       "vip-2s        81871\n",
       "r             49707\n",
       "v             45588\n",
       "vps-fs        36387\n",
       "vps-mp        19406\n",
       "vps-fp        13977\n",
       "vsp-2s         6941\n",
       "np             1562\n",
       "x              1142\n",
       "m$              991\n",
       "i               420\n",
       "vr              201\n",
       "fn              159\n",
       "vm-2s           108\n",
       "xy               19\n",
       "e                12\n",
       "y                 3\n",
       "vm-3s             1\n",
       "Name: POS, dtype: int64"
      ]
     },
     "execution_count": 12,
     "metadata": {},
     "output_type": "execute_result"
    }
   ],
   "source": [
    "master_DF['POS'].value_counts()"
   ]
  },
  {
   "cell_type": "code",
   "execution_count": 13,
   "metadata": {},
   "outputs": [],
   "source": [
    "master_DF = master_DF[master_DF['POS'].str.contains('n|j')] "
   ]
  },
  {
   "cell_type": "code",
   "execution_count": 14,
   "metadata": {},
   "outputs": [
    {
     "data": {
      "text/plain": [
       "(5405490, 6)"
      ]
     },
     "execution_count": 14,
     "metadata": {},
     "output_type": "execute_result"
    }
   ],
   "source": [
    "master_DF.shape"
   ]
  },
  {
   "cell_type": "code",
   "execution_count": 15,
   "metadata": {},
   "outputs": [
    {
     "data": {
      "text/plain": [
       "n          1370111\n",
       "nms        1306937\n",
       "nfs         707053\n",
       "nmp         635693\n",
       "jms         371646\n",
       "j           360502\n",
       "jfs         328370\n",
       "nfp         135066\n",
       "jmp         102855\n",
       "jfp          85536\n",
       "np            1562\n",
       "fn             159\n",
       "Name: POS, dtype: int64"
      ]
     },
     "execution_count": 15,
     "metadata": {},
     "output_type": "execute_result"
    }
   ],
   "source": [
    "master_DF['POS'].value_counts()"
   ]
  },
  {
   "cell_type": "code",
   "execution_count": 16,
   "metadata": {},
   "outputs": [],
   "source": [
    "master_DF = master_DF[master_DF['POS'] != ('fn')] "
   ]
  },
  {
   "cell_type": "code",
   "execution_count": 17,
   "metadata": {},
   "outputs": [
    {
     "data": {
      "text/html": [
       "<div>\n",
       "<style scoped>\n",
       "    .dataframe tbody tr th:only-of-type {\n",
       "        vertical-align: middle;\n",
       "    }\n",
       "\n",
       "    .dataframe tbody tr th {\n",
       "        vertical-align: top;\n",
       "    }\n",
       "\n",
       "    .dataframe thead th {\n",
       "        text-align: right;\n",
       "    }\n",
       "</style>\n",
       "<table border=\"1\" class=\"dataframe\">\n",
       "  <thead>\n",
       "    <tr style=\"text-align: right;\">\n",
       "      <th></th>\n",
       "      <th>SourceID</th>\n",
       "      <th>TokenID</th>\n",
       "      <th>Lemma</th>\n",
       "      <th>Word</th>\n",
       "      <th>POS</th>\n",
       "      <th>Variety</th>\n",
       "    </tr>\n",
       "  </thead>\n",
       "  <tbody>\n",
       "    <tr>\n",
       "      <td>2748001</td>\n",
       "      <td>1334916</td>\n",
       "      <td>1228863491</td>\n",
       "      <td>castillo</td>\n",
       "      <td>Castillo</td>\n",
       "      <td>nms</td>\n",
       "      <td>AR</td>\n",
       "    </tr>\n",
       "    <tr>\n",
       "      <td>10540625</td>\n",
       "      <td>1753621</td>\n",
       "      <td>2127988076</td>\n",
       "      <td>sevilla</td>\n",
       "      <td>Sevilla</td>\n",
       "      <td>n</td>\n",
       "      <td>ES</td>\n",
       "    </tr>\n",
       "    <tr>\n",
       "      <td>947021</td>\n",
       "      <td>2276932</td>\n",
       "      <td>258204365</td>\n",
       "      <td>rabillo</td>\n",
       "      <td>rabillo</td>\n",
       "      <td>nms</td>\n",
       "      <td>US</td>\n",
       "    </tr>\n",
       "    <tr>\n",
       "      <td>221459</td>\n",
       "      <td>1645962</td>\n",
       "      <td>268337648</td>\n",
       "      <td>escrito</td>\n",
       "      <td>escritos</td>\n",
       "      <td>nmp</td>\n",
       "      <td>ES</td>\n",
       "    </tr>\n",
       "    <tr>\n",
       "      <td>6928047</td>\n",
       "      <td>74161</td>\n",
       "      <td>2416500635</td>\n",
       "      <td>pleito</td>\n",
       "      <td>pleito</td>\n",
       "      <td>nms</td>\n",
       "      <td>AR</td>\n",
       "    </tr>\n",
       "  </tbody>\n",
       "</table>\n",
       "</div>"
      ],
      "text/plain": [
       "         SourceID     TokenID     Lemma      Word      POS Variety\n",
       "2748001   1334916  1228863491  castillo  Castillo  nms          AR\n",
       "10540625  1753621  2127988076   sevilla   Sevilla        n      ES\n",
       "947021    2276932   258204365   rabillo   rabillo  nms          US\n",
       "221459    1645962   268337648   escrito  escritos  nmp          ES\n",
       "6928047     74161  2416500635    pleito    pleito  nms          AR"
      ]
     },
     "execution_count": 17,
     "metadata": {},
     "output_type": "execute_result"
    }
   ],
   "source": [
    "master_DF.sample(5)"
   ]
  },
  {
   "cell_type": "code",
   "execution_count": 18,
   "metadata": {},
   "outputs": [
    {
     "data": {
      "text/plain": [
       "n          1370111\n",
       "nms        1306937\n",
       "nfs         707053\n",
       "nmp         635693\n",
       "jms         371646\n",
       "j           360502\n",
       "jfs         328370\n",
       "nfp         135066\n",
       "jmp         102855\n",
       "jfp          85536\n",
       "np            1562\n",
       "Name: POS, dtype: int64"
      ]
     },
     "execution_count": 18,
     "metadata": {},
     "output_type": "execute_result"
    }
   ],
   "source": [
    "master_DF['POS'].value_counts()"
   ]
  },
  {
   "cell_type": "code",
   "execution_count": 19,
   "metadata": {},
   "outputs": [
    {
     "data": {
      "text/plain": [
       "array(['nmp    ', 'nfs    ', 'n', 'jfs    ', 'nms    ', 'j', 'jms    ',\n",
       "       'nfp    ', 'jmp    ', 'jfp    ', 'np'], dtype=object)"
      ]
     },
     "execution_count": 19,
     "metadata": {},
     "output_type": "execute_result"
    }
   ],
   "source": [
    "master_DF['POS'].unique()"
   ]
  },
  {
   "cell_type": "code",
   "execution_count": 20,
   "metadata": {},
   "outputs": [],
   "source": [
    "master_DF['POS'] = master_DF['POS'].str.strip()"
   ]
  },
  {
   "cell_type": "code",
   "execution_count": 21,
   "metadata": {},
   "outputs": [
    {
     "data": {
      "text/plain": [
       "array(['nmp', 'nfs', 'n', 'jfs', 'nms', 'j', 'jms', 'nfp', 'jmp', 'jfp',\n",
       "       'np'], dtype=object)"
      ]
     },
     "execution_count": 21,
     "metadata": {},
     "output_type": "execute_result"
    }
   ],
   "source": [
    "master_DF['POS'].unique()"
   ]
  },
  {
   "cell_type": "code",
   "execution_count": 22,
   "metadata": {},
   "outputs": [],
   "source": [
    "pos_dict = {'n': 'n', 'nms': 'n', 'nfs': 'n', 'nmp': 'n', 'nfp': 'n', 'np': 'n', \n",
    "             'j': 'j', 'jms': 'j', 'jfs': 'j', 'jmp': 'j', 'jfp': 'j'}"
   ]
  },
  {
   "cell_type": "code",
   "execution_count": 23,
   "metadata": {},
   "outputs": [],
   "source": [
    "master_DF['POS_binary'] = master_DF['POS'].map(pos_dict)"
   ]
  },
  {
   "cell_type": "code",
   "execution_count": 24,
   "metadata": {},
   "outputs": [
    {
     "data": {
      "text/html": [
       "<div>\n",
       "<style scoped>\n",
       "    .dataframe tbody tr th:only-of-type {\n",
       "        vertical-align: middle;\n",
       "    }\n",
       "\n",
       "    .dataframe tbody tr th {\n",
       "        vertical-align: top;\n",
       "    }\n",
       "\n",
       "    .dataframe thead th {\n",
       "        text-align: right;\n",
       "    }\n",
       "</style>\n",
       "<table border=\"1\" class=\"dataframe\">\n",
       "  <thead>\n",
       "    <tr style=\"text-align: right;\">\n",
       "      <th></th>\n",
       "      <th>SourceID</th>\n",
       "      <th>TokenID</th>\n",
       "      <th>Lemma</th>\n",
       "      <th>Word</th>\n",
       "      <th>POS</th>\n",
       "      <th>Variety</th>\n",
       "      <th>POS_binary</th>\n",
       "    </tr>\n",
       "  </thead>\n",
       "  <tbody>\n",
       "    <tr>\n",
       "      <td>14834782</td>\n",
       "      <td>1794396</td>\n",
       "      <td>1088030266</td>\n",
       "      <td>parejita</td>\n",
       "      <td>parejita</td>\n",
       "      <td>n</td>\n",
       "      <td>ES</td>\n",
       "      <td>n</td>\n",
       "    </tr>\n",
       "    <tr>\n",
       "      <td>274707</td>\n",
       "      <td>1087628</td>\n",
       "      <td>1636645155</td>\n",
       "      <td>principito</td>\n",
       "      <td>principito</td>\n",
       "      <td>n</td>\n",
       "      <td>SV</td>\n",
       "      <td>n</td>\n",
       "    </tr>\n",
       "    <tr>\n",
       "      <td>2356817</td>\n",
       "      <td>1104505</td>\n",
       "      <td>874932574</td>\n",
       "      <td>compañerito</td>\n",
       "      <td>compañeritos</td>\n",
       "      <td>n</td>\n",
       "      <td>SV</td>\n",
       "      <td>n</td>\n",
       "    </tr>\n",
       "    <tr>\n",
       "      <td>2214956</td>\n",
       "      <td>1582849</td>\n",
       "      <td>1941940429</td>\n",
       "      <td>pegadito</td>\n",
       "      <td>pegadita</td>\n",
       "      <td>j</td>\n",
       "      <td>CU</td>\n",
       "      <td>j</td>\n",
       "    </tr>\n",
       "    <tr>\n",
       "      <td>1246989</td>\n",
       "      <td>2276815</td>\n",
       "      <td>956973181</td>\n",
       "      <td>súbito</td>\n",
       "      <td>súbito</td>\n",
       "      <td>jms</td>\n",
       "      <td>US</td>\n",
       "      <td>j</td>\n",
       "    </tr>\n",
       "    <tr>\n",
       "      <td>4233039</td>\n",
       "      <td>231102</td>\n",
       "      <td>277576212</td>\n",
       "      <td>escrito</td>\n",
       "      <td>escrito</td>\n",
       "      <td>jms</td>\n",
       "      <td>CO</td>\n",
       "      <td>j</td>\n",
       "    </tr>\n",
       "    <tr>\n",
       "      <td>2872891</td>\n",
       "      <td>464057</td>\n",
       "      <td>1374454448</td>\n",
       "      <td>bonito</td>\n",
       "      <td>bonitas</td>\n",
       "      <td>jfp</td>\n",
       "      <td>ES</td>\n",
       "      <td>j</td>\n",
       "    </tr>\n",
       "    <tr>\n",
       "      <td>456391</td>\n",
       "      <td>1897463</td>\n",
       "      <td>377090968</td>\n",
       "      <td>bonito</td>\n",
       "      <td>bonitos</td>\n",
       "      <td>jmp</td>\n",
       "      <td>GT</td>\n",
       "      <td>j</td>\n",
       "    </tr>\n",
       "    <tr>\n",
       "      <td>6986223</td>\n",
       "      <td>498662</td>\n",
       "      <td>185756180</td>\n",
       "      <td>sencillo</td>\n",
       "      <td>sencillo</td>\n",
       "      <td>jms</td>\n",
       "      <td>ES</td>\n",
       "      <td>j</td>\n",
       "    </tr>\n",
       "    <tr>\n",
       "      <td>278629</td>\n",
       "      <td>1310563</td>\n",
       "      <td>403463016</td>\n",
       "      <td>aulicrédito</td>\n",
       "      <td>aulicréditos</td>\n",
       "      <td>n</td>\n",
       "      <td>AR</td>\n",
       "      <td>n</td>\n",
       "    </tr>\n",
       "  </tbody>\n",
       "</table>\n",
       "</div>"
      ],
      "text/plain": [
       "         SourceID     TokenID        Lemma          Word  POS Variety  \\\n",
       "14834782  1794396  1088030266     parejita      parejita    n      ES   \n",
       "274707    1087628  1636645155   principito    principito    n      SV   \n",
       "2356817   1104505   874932574  compañerito  compañeritos    n      SV   \n",
       "2214956   1582849  1941940429     pegadito      pegadita    j      CU   \n",
       "1246989   2276815   956973181       súbito        súbito  jms      US   \n",
       "4233039    231102   277576212      escrito       escrito  jms      CO   \n",
       "2872891    464057  1374454448       bonito       bonitas  jfp      ES   \n",
       "456391    1897463   377090968       bonito       bonitos  jmp      GT   \n",
       "6986223    498662   185756180     sencillo      sencillo  jms      ES   \n",
       "278629    1310563   403463016  aulicrédito  aulicréditos    n      AR   \n",
       "\n",
       "         POS_binary  \n",
       "14834782          n  \n",
       "274707            n  \n",
       "2356817           n  \n",
       "2214956           j  \n",
       "1246989           j  \n",
       "4233039           j  \n",
       "2872891           j  \n",
       "456391            j  \n",
       "6986223           j  \n",
       "278629            n  "
      ]
     },
     "execution_count": 24,
     "metadata": {},
     "output_type": "execute_result"
    }
   ],
   "source": [
    "master_DF.sample(10)"
   ]
  },
  {
   "cell_type": "code",
   "execution_count": 25,
   "metadata": {},
   "outputs": [],
   "source": [
    "number_dict = {'n': 'unknown', 'nms': 'singular', 'nfs': 'singular', 'nmp': 'plural', 'nfp': 'plural', \n",
    "                  'np': 'unknown', 'j': 'unknown', 'jms': 'singular', 'jfs': 'singular', 'jmp': 'plural', \n",
    "                  'jfp': 'plural'}"
   ]
  },
  {
   "cell_type": "code",
   "execution_count": 26,
   "metadata": {},
   "outputs": [],
   "source": [
    "gender_dict = {'n': 'unknown', 'nms': 'masculine', 'nfs': 'feminine', 'nmp': 'masculine', 'nfp': 'feminine', \n",
    "                  'np': 'unknown', 'j': 'unknown', 'jms': 'masculine', 'jfs': 'feminine', 'jmp': 'masculine', \n",
    "                  'jfp': 'feminine'}"
   ]
  },
  {
   "cell_type": "code",
   "execution_count": 27,
   "metadata": {},
   "outputs": [],
   "source": [
    "master_DF['Number'] = master_DF['POS'].map(number_dict)"
   ]
  },
  {
   "cell_type": "code",
   "execution_count": 28,
   "metadata": {},
   "outputs": [
    {
     "data": {
      "text/html": [
       "<div>\n",
       "<style scoped>\n",
       "    .dataframe tbody tr th:only-of-type {\n",
       "        vertical-align: middle;\n",
       "    }\n",
       "\n",
       "    .dataframe tbody tr th {\n",
       "        vertical-align: top;\n",
       "    }\n",
       "\n",
       "    .dataframe thead th {\n",
       "        text-align: right;\n",
       "    }\n",
       "</style>\n",
       "<table border=\"1\" class=\"dataframe\">\n",
       "  <thead>\n",
       "    <tr style=\"text-align: right;\">\n",
       "      <th></th>\n",
       "      <th>SourceID</th>\n",
       "      <th>TokenID</th>\n",
       "      <th>Lemma</th>\n",
       "      <th>Word</th>\n",
       "      <th>POS</th>\n",
       "      <th>Variety</th>\n",
       "      <th>POS_binary</th>\n",
       "      <th>Number</th>\n",
       "    </tr>\n",
       "  </thead>\n",
       "  <tbody>\n",
       "    <tr>\n",
       "      <td>4362179</td>\n",
       "      <td>231118</td>\n",
       "      <td>1741508840</td>\n",
       "      <td>éxito</td>\n",
       "      <td>éxito</td>\n",
       "      <td>n</td>\n",
       "      <td>CO</td>\n",
       "      <td>n</td>\n",
       "      <td>unknown</td>\n",
       "    </tr>\n",
       "    <tr>\n",
       "      <td>18582499</td>\n",
       "      <td>596688</td>\n",
       "      <td>1650853096</td>\n",
       "      <td>banquillo</td>\n",
       "      <td>banquillo</td>\n",
       "      <td>nms</td>\n",
       "      <td>ES</td>\n",
       "      <td>n</td>\n",
       "      <td>singular</td>\n",
       "    </tr>\n",
       "    <tr>\n",
       "      <td>6530697</td>\n",
       "      <td>1710462</td>\n",
       "      <td>132916522</td>\n",
       "      <td>rodilla</td>\n",
       "      <td>rodilla</td>\n",
       "      <td>nfs</td>\n",
       "      <td>ES</td>\n",
       "      <td>n</td>\n",
       "      <td>singular</td>\n",
       "    </tr>\n",
       "    <tr>\n",
       "      <td>7523883</td>\n",
       "      <td>1377635</td>\n",
       "      <td>910288480</td>\n",
       "      <td>ámbito</td>\n",
       "      <td>ámbito</td>\n",
       "      <td>n</td>\n",
       "      <td>AR</td>\n",
       "      <td>n</td>\n",
       "      <td>unknown</td>\n",
       "    </tr>\n",
       "    <tr>\n",
       "      <td>22223491</td>\n",
       "      <td>626903</td>\n",
       "      <td>493852117</td>\n",
       "      <td>ámbito</td>\n",
       "      <td>ámbito</td>\n",
       "      <td>n</td>\n",
       "      <td>ES</td>\n",
       "      <td>n</td>\n",
       "      <td>unknown</td>\n",
       "    </tr>\n",
       "  </tbody>\n",
       "</table>\n",
       "</div>"
      ],
      "text/plain": [
       "         SourceID     TokenID      Lemma       Word  POS Variety POS_binary  \\\n",
       "4362179    231118  1741508840      éxito      éxito    n      CO          n   \n",
       "18582499   596688  1650853096  banquillo  banquillo  nms      ES          n   \n",
       "6530697   1710462   132916522    rodilla    rodilla  nfs      ES          n   \n",
       "7523883   1377635   910288480     ámbito     ámbito    n      AR          n   \n",
       "22223491   626903   493852117     ámbito     ámbito    n      ES          n   \n",
       "\n",
       "            Number  \n",
       "4362179    unknown  \n",
       "18582499  singular  \n",
       "6530697   singular  \n",
       "7523883    unknown  \n",
       "22223491   unknown  "
      ]
     },
     "execution_count": 28,
     "metadata": {},
     "output_type": "execute_result"
    }
   ],
   "source": [
    "master_DF.sample(5)"
   ]
  },
  {
   "cell_type": "code",
   "execution_count": 29,
   "metadata": {},
   "outputs": [],
   "source": [
    "master_DF['Gender'] = master_DF['POS'].map(gender_dict)"
   ]
  },
  {
   "cell_type": "code",
   "execution_count": 30,
   "metadata": {},
   "outputs": [
    {
     "data": {
      "text/html": [
       "<div>\n",
       "<style scoped>\n",
       "    .dataframe tbody tr th:only-of-type {\n",
       "        vertical-align: middle;\n",
       "    }\n",
       "\n",
       "    .dataframe tbody tr th {\n",
       "        vertical-align: top;\n",
       "    }\n",
       "\n",
       "    .dataframe thead th {\n",
       "        text-align: right;\n",
       "    }\n",
       "</style>\n",
       "<table border=\"1\" class=\"dataframe\">\n",
       "  <thead>\n",
       "    <tr style=\"text-align: right;\">\n",
       "      <th></th>\n",
       "      <th>SourceID</th>\n",
       "      <th>TokenID</th>\n",
       "      <th>Lemma</th>\n",
       "      <th>Word</th>\n",
       "      <th>POS</th>\n",
       "      <th>Variety</th>\n",
       "      <th>POS_binary</th>\n",
       "      <th>Number</th>\n",
       "      <th>Gender</th>\n",
       "    </tr>\n",
       "  </thead>\n",
       "  <tbody>\n",
       "    <tr>\n",
       "      <td>4330110</td>\n",
       "      <td>797586</td>\n",
       "      <td>1139570343</td>\n",
       "      <td>palomita</td>\n",
       "      <td>palomitas</td>\n",
       "      <td>nfp</td>\n",
       "      <td>MX</td>\n",
       "      <td>n</td>\n",
       "      <td>plural</td>\n",
       "      <td>feminine</td>\n",
       "    </tr>\n",
       "    <tr>\n",
       "      <td>14119045</td>\n",
       "      <td>1795199</td>\n",
       "      <td>1766487683</td>\n",
       "      <td>mito</td>\n",
       "      <td>mitos</td>\n",
       "      <td>nmp</td>\n",
       "      <td>ES</td>\n",
       "      <td>n</td>\n",
       "      <td>plural</td>\n",
       "      <td>masculine</td>\n",
       "    </tr>\n",
       "    <tr>\n",
       "      <td>15522373</td>\n",
       "      <td>583158</td>\n",
       "      <td>2337974028</td>\n",
       "      <td>ojito</td>\n",
       "      <td>Ojitos</td>\n",
       "      <td>nmp</td>\n",
       "      <td>ES</td>\n",
       "      <td>n</td>\n",
       "      <td>plural</td>\n",
       "      <td>masculine</td>\n",
       "    </tr>\n",
       "    <tr>\n",
       "      <td>3242808</td>\n",
       "      <td>32732</td>\n",
       "      <td>203252987</td>\n",
       "      <td>crédito</td>\n",
       "      <td>crédito</td>\n",
       "      <td>nms</td>\n",
       "      <td>AR</td>\n",
       "      <td>n</td>\n",
       "      <td>singular</td>\n",
       "      <td>masculine</td>\n",
       "    </tr>\n",
       "    <tr>\n",
       "      <td>698981</td>\n",
       "      <td>122756</td>\n",
       "      <td>1185634605</td>\n",
       "      <td>cita</td>\n",
       "      <td>cita</td>\n",
       "      <td>nfs</td>\n",
       "      <td>BO</td>\n",
       "      <td>n</td>\n",
       "      <td>singular</td>\n",
       "      <td>feminine</td>\n",
       "    </tr>\n",
       "  </tbody>\n",
       "</table>\n",
       "</div>"
      ],
      "text/plain": [
       "         SourceID     TokenID     Lemma       Word  POS Variety POS_binary  \\\n",
       "4330110    797586  1139570343  palomita  palomitas  nfp      MX          n   \n",
       "14119045  1795199  1766487683      mito      mitos  nmp      ES          n   \n",
       "15522373   583158  2337974028     ojito     Ojitos  nmp      ES          n   \n",
       "3242808     32732   203252987   crédito    crédito  nms      AR          n   \n",
       "698981     122756  1185634605      cita       cita  nfs      BO          n   \n",
       "\n",
       "            Number     Gender  \n",
       "4330110     plural   feminine  \n",
       "14119045    plural  masculine  \n",
       "15522373    plural  masculine  \n",
       "3242808   singular  masculine  \n",
       "698981    singular   feminine  "
      ]
     },
     "execution_count": 30,
     "metadata": {},
     "output_type": "execute_result"
    }
   ],
   "source": [
    "master_DF.sample(5)"
   ]
  },
  {
   "cell_type": "markdown",
   "metadata": {},
   "source": [
    "Frequency-based approach to remove last extraneous rows:"
   ]
  },
  {
   "cell_type": "code",
   "execution_count": 31,
   "metadata": {},
   "outputs": [],
   "source": [
    "fname = '../../Diminutive-Suffix-Productivity/private/data/span_lexicon/span_dic.txt'\n",
    "lexicon = pd.read_csv(fname,sep='\\t',encoding='iso-8859-1',skiprows=[1],low_memory=False) "
   ]
  },
  {
   "cell_type": "code",
   "execution_count": 32,
   "metadata": {},
   "outputs": [
    {
     "data": {
      "text/html": [
       "<div>\n",
       "<style scoped>\n",
       "    .dataframe tbody tr th:only-of-type {\n",
       "        vertical-align: middle;\n",
       "    }\n",
       "\n",
       "    .dataframe tbody tr th {\n",
       "        vertical-align: top;\n",
       "    }\n",
       "\n",
       "    .dataframe thead th {\n",
       "        text-align: right;\n",
       "    }\n",
       "</style>\n",
       "<table border=\"1\" class=\"dataframe\">\n",
       "  <thead>\n",
       "    <tr style=\"text-align: right;\">\n",
       "      <th></th>\n",
       "      <th>wID</th>\n",
       "      <th>word</th>\n",
       "      <th>lemma</th>\n",
       "      <th>PoS</th>\n",
       "    </tr>\n",
       "  </thead>\n",
       "  <tbody>\n",
       "    <tr>\n",
       "      <td>0</td>\n",
       "      <td>1</td>\n",
       "      <td>,</td>\n",
       "      <td>$,</td>\n",
       "      <td>y</td>\n",
       "    </tr>\n",
       "    <tr>\n",
       "      <td>1</td>\n",
       "      <td>2</td>\n",
       "      <td>de</td>\n",
       "      <td>de</td>\n",
       "      <td>e</td>\n",
       "    </tr>\n",
       "    <tr>\n",
       "      <td>2</td>\n",
       "      <td>3</td>\n",
       "      <td>.</td>\n",
       "      <td>$.</td>\n",
       "      <td>y</td>\n",
       "    </tr>\n",
       "    <tr>\n",
       "      <td>3</td>\n",
       "      <td>4</td>\n",
       "      <td>la</td>\n",
       "      <td>la</td>\n",
       "      <td>ld-fs</td>\n",
       "    </tr>\n",
       "    <tr>\n",
       "      <td>4</td>\n",
       "      <td>5</td>\n",
       "      <td>y</td>\n",
       "      <td>y</td>\n",
       "      <td>cc</td>\n",
       "    </tr>\n",
       "    <tr>\n",
       "      <td>...</td>\n",
       "      <td>...</td>\n",
       "      <td>...</td>\n",
       "      <td>...</td>\n",
       "      <td>...</td>\n",
       "    </tr>\n",
       "    <tr>\n",
       "      <td>8754578</td>\n",
       "      <td>11925785</td>\n",
       "      <td>@@999948</td>\n",
       "      <td>NaN</td>\n",
       "      <td>NaN</td>\n",
       "    </tr>\n",
       "    <tr>\n",
       "      <td>8754579</td>\n",
       "      <td>11925786</td>\n",
       "      <td>@@99996</td>\n",
       "      <td>NaN</td>\n",
       "      <td>NaN</td>\n",
       "    </tr>\n",
       "    <tr>\n",
       "      <td>8754580</td>\n",
       "      <td>11925787</td>\n",
       "      <td>@@999965</td>\n",
       "      <td>NaN</td>\n",
       "      <td>NaN</td>\n",
       "    </tr>\n",
       "    <tr>\n",
       "      <td>8754581</td>\n",
       "      <td>11925788</td>\n",
       "      <td>@@999974</td>\n",
       "      <td>NaN</td>\n",
       "      <td>NaN</td>\n",
       "    </tr>\n",
       "    <tr>\n",
       "      <td>8754582</td>\n",
       "      <td>11925789</td>\n",
       "      <td>@@999977</td>\n",
       "      <td>NaN</td>\n",
       "      <td>NaN</td>\n",
       "    </tr>\n",
       "  </tbody>\n",
       "</table>\n",
       "<p>8754583 rows × 4 columns</p>\n",
       "</div>"
      ],
      "text/plain": [
       "              wID      word lemma    PoS\n",
       "0               1         ,    $,      y\n",
       "1               2        de    de      e\n",
       "2               3         .    $.      y\n",
       "3               4        la    la  ld-fs\n",
       "4               5         y     y     cc\n",
       "...           ...       ...   ...    ...\n",
       "8754578  11925785  @@999948   NaN    NaN\n",
       "8754579  11925786   @@99996   NaN    NaN\n",
       "8754580  11925787  @@999965   NaN    NaN\n",
       "8754581  11925788  @@999974   NaN    NaN\n",
       "8754582  11925789  @@999977   NaN    NaN\n",
       "\n",
       "[8754583 rows x 4 columns]"
      ]
     },
     "execution_count": 32,
     "metadata": {},
     "output_type": "execute_result"
    }
   ],
   "source": [
    "lexicon"
   ]
  },
  {
   "cell_type": "code",
   "execution_count": 33,
   "metadata": {},
   "outputs": [],
   "source": [
    "lexicon = lexicon.rename(columns={\"wID\": \"WordID\", \"word\": \"Word\", \"lemma\": \"Lemma\", \"PoS\": \"POS\"})"
   ]
  },
  {
   "cell_type": "code",
   "execution_count": 34,
   "metadata": {},
   "outputs": [
    {
     "data": {
      "text/html": [
       "<div>\n",
       "<style scoped>\n",
       "    .dataframe tbody tr th:only-of-type {\n",
       "        vertical-align: middle;\n",
       "    }\n",
       "\n",
       "    .dataframe tbody tr th {\n",
       "        vertical-align: top;\n",
       "    }\n",
       "\n",
       "    .dataframe thead th {\n",
       "        text-align: right;\n",
       "    }\n",
       "</style>\n",
       "<table border=\"1\" class=\"dataframe\">\n",
       "  <thead>\n",
       "    <tr style=\"text-align: right;\">\n",
       "      <th></th>\n",
       "      <th>WordID</th>\n",
       "      <th>Word</th>\n",
       "      <th>Lemma</th>\n",
       "      <th>POS</th>\n",
       "    </tr>\n",
       "  </thead>\n",
       "  <tbody>\n",
       "    <tr>\n",
       "      <td>0</td>\n",
       "      <td>1</td>\n",
       "      <td>,</td>\n",
       "      <td>$,</td>\n",
       "      <td>y</td>\n",
       "    </tr>\n",
       "    <tr>\n",
       "      <td>1</td>\n",
       "      <td>2</td>\n",
       "      <td>de</td>\n",
       "      <td>de</td>\n",
       "      <td>e</td>\n",
       "    </tr>\n",
       "    <tr>\n",
       "      <td>2</td>\n",
       "      <td>3</td>\n",
       "      <td>.</td>\n",
       "      <td>$.</td>\n",
       "      <td>y</td>\n",
       "    </tr>\n",
       "    <tr>\n",
       "      <td>3</td>\n",
       "      <td>4</td>\n",
       "      <td>la</td>\n",
       "      <td>la</td>\n",
       "      <td>ld-fs</td>\n",
       "    </tr>\n",
       "    <tr>\n",
       "      <td>4</td>\n",
       "      <td>5</td>\n",
       "      <td>y</td>\n",
       "      <td>y</td>\n",
       "      <td>cc</td>\n",
       "    </tr>\n",
       "    <tr>\n",
       "      <td>...</td>\n",
       "      <td>...</td>\n",
       "      <td>...</td>\n",
       "      <td>...</td>\n",
       "      <td>...</td>\n",
       "    </tr>\n",
       "    <tr>\n",
       "      <td>8754578</td>\n",
       "      <td>11925785</td>\n",
       "      <td>@@999948</td>\n",
       "      <td>NaN</td>\n",
       "      <td>NaN</td>\n",
       "    </tr>\n",
       "    <tr>\n",
       "      <td>8754579</td>\n",
       "      <td>11925786</td>\n",
       "      <td>@@99996</td>\n",
       "      <td>NaN</td>\n",
       "      <td>NaN</td>\n",
       "    </tr>\n",
       "    <tr>\n",
       "      <td>8754580</td>\n",
       "      <td>11925787</td>\n",
       "      <td>@@999965</td>\n",
       "      <td>NaN</td>\n",
       "      <td>NaN</td>\n",
       "    </tr>\n",
       "    <tr>\n",
       "      <td>8754581</td>\n",
       "      <td>11925788</td>\n",
       "      <td>@@999974</td>\n",
       "      <td>NaN</td>\n",
       "      <td>NaN</td>\n",
       "    </tr>\n",
       "    <tr>\n",
       "      <td>8754582</td>\n",
       "      <td>11925789</td>\n",
       "      <td>@@999977</td>\n",
       "      <td>NaN</td>\n",
       "      <td>NaN</td>\n",
       "    </tr>\n",
       "  </tbody>\n",
       "</table>\n",
       "<p>8754583 rows × 4 columns</p>\n",
       "</div>"
      ],
      "text/plain": [
       "           WordID      Word Lemma    POS\n",
       "0               1         ,    $,      y\n",
       "1               2        de    de      e\n",
       "2               3         .    $.      y\n",
       "3               4        la    la  ld-fs\n",
       "4               5         y     y     cc\n",
       "...           ...       ...   ...    ...\n",
       "8754578  11925785  @@999948   NaN    NaN\n",
       "8754579  11925786   @@99996   NaN    NaN\n",
       "8754580  11925787  @@999965   NaN    NaN\n",
       "8754581  11925788  @@999974   NaN    NaN\n",
       "8754582  11925789  @@999977   NaN    NaN\n",
       "\n",
       "[8754583 rows x 4 columns]"
      ]
     },
     "execution_count": 34,
     "metadata": {},
     "output_type": "execute_result"
    }
   ],
   "source": [
    "lexicon"
   ]
  },
  {
   "cell_type": "code",
   "execution_count": 35,
   "metadata": {},
   "outputs": [],
   "source": [
    "lexicon = lexicon.dropna()"
   ]
  },
  {
   "cell_type": "code",
   "execution_count": 36,
   "metadata": {},
   "outputs": [
    {
     "data": {
      "text/html": [
       "<div>\n",
       "<style scoped>\n",
       "    .dataframe tbody tr th:only-of-type {\n",
       "        vertical-align: middle;\n",
       "    }\n",
       "\n",
       "    .dataframe tbody tr th {\n",
       "        vertical-align: top;\n",
       "    }\n",
       "\n",
       "    .dataframe thead th {\n",
       "        text-align: right;\n",
       "    }\n",
       "</style>\n",
       "<table border=\"1\" class=\"dataframe\">\n",
       "  <thead>\n",
       "    <tr style=\"text-align: right;\">\n",
       "      <th></th>\n",
       "      <th>WordID</th>\n",
       "      <th>Word</th>\n",
       "      <th>Lemma</th>\n",
       "      <th>POS</th>\n",
       "    </tr>\n",
       "  </thead>\n",
       "  <tbody>\n",
       "    <tr>\n",
       "      <td>0</td>\n",
       "      <td>1</td>\n",
       "      <td>,</td>\n",
       "      <td>$,</td>\n",
       "      <td>y</td>\n",
       "    </tr>\n",
       "    <tr>\n",
       "      <td>1</td>\n",
       "      <td>2</td>\n",
       "      <td>de</td>\n",
       "      <td>de</td>\n",
       "      <td>e</td>\n",
       "    </tr>\n",
       "    <tr>\n",
       "      <td>2</td>\n",
       "      <td>3</td>\n",
       "      <td>.</td>\n",
       "      <td>$.</td>\n",
       "      <td>y</td>\n",
       "    </tr>\n",
       "    <tr>\n",
       "      <td>3</td>\n",
       "      <td>4</td>\n",
       "      <td>la</td>\n",
       "      <td>la</td>\n",
       "      <td>ld-fs</td>\n",
       "    </tr>\n",
       "    <tr>\n",
       "      <td>4</td>\n",
       "      <td>5</td>\n",
       "      <td>y</td>\n",
       "      <td>y</td>\n",
       "      <td>cc</td>\n",
       "    </tr>\n",
       "    <tr>\n",
       "      <td>...</td>\n",
       "      <td>...</td>\n",
       "      <td>...</td>\n",
       "      <td>...</td>\n",
       "      <td>...</td>\n",
       "    </tr>\n",
       "    <tr>\n",
       "      <td>8474411</td>\n",
       "      <td>11645618</td>\n",
       "      <td>descabellados</td>\n",
       "      <td>descabellar</td>\n",
       "      <td>v</td>\n",
       "    </tr>\n",
       "    <tr>\n",
       "      <td>8474412</td>\n",
       "      <td>11645619</td>\n",
       "      <td>hacendados</td>\n",
       "      <td>hacendar</td>\n",
       "      <td>v</td>\n",
       "    </tr>\n",
       "    <tr>\n",
       "      <td>8474413</td>\n",
       "      <td>11645620</td>\n",
       "      <td>reposeídas</td>\n",
       "      <td>reposeer</td>\n",
       "      <td>v</td>\n",
       "    </tr>\n",
       "    <tr>\n",
       "      <td>8474414</td>\n",
       "      <td>11645621</td>\n",
       "      <td>remozadas</td>\n",
       "      <td>remozar</td>\n",
       "      <td>v</td>\n",
       "    </tr>\n",
       "    <tr>\n",
       "      <td>8474415</td>\n",
       "      <td>11645622</td>\n",
       "      <td>radiodifundida</td>\n",
       "      <td>radiodifundir</td>\n",
       "      <td>v</td>\n",
       "    </tr>\n",
       "  </tbody>\n",
       "</table>\n",
       "<p>7952790 rows × 4 columns</p>\n",
       "</div>"
      ],
      "text/plain": [
       "           WordID            Word          Lemma    POS\n",
       "0               1               ,             $,      y\n",
       "1               2              de             de      e\n",
       "2               3               .             $.      y\n",
       "3               4              la             la  ld-fs\n",
       "4               5               y              y     cc\n",
       "...           ...             ...            ...    ...\n",
       "8474411  11645618   descabellados    descabellar      v\n",
       "8474412  11645619      hacendados       hacendar      v\n",
       "8474413  11645620      reposeídas       reposeer      v\n",
       "8474414  11645621       remozadas        remozar      v\n",
       "8474415  11645622  radiodifundida  radiodifundir      v\n",
       "\n",
       "[7952790 rows x 4 columns]"
      ]
     },
     "execution_count": 36,
     "metadata": {},
     "output_type": "execute_result"
    }
   ],
   "source": [
    "lexicon"
   ]
  },
  {
   "cell_type": "code",
   "execution_count": 37,
   "metadata": {},
   "outputs": [
    {
     "data": {
      "text/plain": [
       "array(['y', 'e', 'ld-fs', 'cc', 'ld-ms', 'cs', 'ld-mp', 'xx', 'li-ms',\n",
       "       'po', 'r', 'vip-3s', 'ld-fp', 'li-fs', 'dp-', 'dd-', 'v', 'vip-3p',\n",
       "       'cS_22', 'vr', 'ld', 'nmp    ', 'nfs    ', 'j', 'pd-3cs', 'mc',\n",
       "       'ps', 'nms    ', 'nfp    ', 'vii-1/3s', 'dxmp-ind-', 'pi-0cn',\n",
       "       'pi-0ms', 'vis-3s', 'cS_21', 'dxms-ind-', 'pi', 'dxcs-ind-',\n",
       "       'vsp-1/3s', 'o', 'n', 'pr-3cs', 'dxfp-ind-', 'pq-3cn', 'dxfs-ind-',\n",
       "       'm$', 'pr-3cn\"', 'jms    ', 'li-mp', 'px-ms', 'vip-1s', 'cS_33',\n",
       "       'dxfs-', 'vps-ms', 'vif-3s', 'dxcs-dem-', 'jfs    ', 'jmp    ',\n",
       "       'pr-3cp', 'pi-3cs', 'pp-2cs', 'vip-1p', 'px', 'vc-1/3s', 'pp-1cs',\n",
       "       'cC_22', 'x', 'vpp', 'li-fp', 'pq-3cn\"', 'vip-2s', 'vii-3p',\n",
       "       'cC_21', 'jfp    ', 'i', 'e_32', 'vsp-3p', 'vis-3p', 'pi-3ms',\n",
       "       'e_21', 'dd', 'pp-2cp', 'pq-3cs', 'px-mp', 'cc-', 'b', 'cS_32',\n",
       "       'vsi-1/3s', 'dxcp-dem-', 'pr-3ms', 'vc-3p', 'pr-3fs', 'dxfp-',\n",
       "       'e_22', 'vif-3p', 'vis-1s', 'cS_31', 'vip-1p/vis-1p', 'pp-2p',\n",
       "       'pq-3cp', 'pv', 'cS_44', 'mo-ms-', 'pr-0mp', 'vif-2s', 'fn', 'p',\n",
       "       'vps-fs', 'vsp-1p', 'vc-1p', 'vsp-2s', 'pr-3mp', 'vif-1p', 'N',\n",
       "       'cS_43', 'vsj-1/3s', 'vsi-3p', 'vpp-00', 'vis-1p', 'vps-mp',\n",
       "       'pr-3fp', 'fv', 'cS_42', 'vii-1p', 'pq-3ms', 'vip-2p', 'vps-fp',\n",
       "       'vm-2s', 'cS_41', 'vif-1s', 'nj', 'px-00', 'dxmp-int-', 'jn',\n",
       "       'vc-2s', 'pr-3fs\"', 'vis-2s', 'prep', 'dxfp-int-', 'e_33',\n",
       "       'pd-3ms', 'np', 'mo', 'mo-fs-', 'vsf-1/3s', 'vii-2s', 'vm-3s',\n",
       "       'pd-3fs', 'pron', 'f', 'vsj-3p', 'dxcp-ind-', 'xs', 'vsi-1p',\n",
       "       'dxfs-int-', 'vif-2p', 'vsi-2s', 'fj', 'e_43', 'vsp-2p', 'e_31',\n",
       "       'v51    ', 'x_sp', 'xp', 'vm-2p', 'vm-3p', 'e_42', 'fp', 'vsf-3p',\n",
       "       'pd-3mp', 'pd-3fp', 'xe', 'xb', 'fe', 'vsj-1p', 'vis-2p',\n",
       "       'v29    ', 'fnj', 'fx', 'vc-2p', 'de', 'PN_MISC', 'vsf-2s', 'li',\n",
       "       'mo-mp-', 'vsf-2p', 'vii-2p', 'vsj-2s', 'fnp', 'xm', 'pn',\n",
       "       'mo-fp-', 'vsi-2p', 'xa', 'xw', 'dp', 'xd', 'v30    ', 'v60    ',\n",
       "       'v53    ', 'vsj-2p', 'ADJ', 'a', 'm', 'v24    ', 'xh', 'vsf-1p',\n",
       "       'xy', 'DET_DEM', 'vsp-', 'l', 'xf', 'v6     ', 'pr-3fp\"',\n",
       "       'v55    '], dtype=object)"
      ]
     },
     "execution_count": 37,
     "metadata": {},
     "output_type": "execute_result"
    }
   ],
   "source": [
    "lexicon['POS'].unique()"
   ]
  },
  {
   "cell_type": "code",
   "execution_count": 38,
   "metadata": {},
   "outputs": [
    {
     "name": "stderr",
     "output_type": "stream",
     "text": [
      "C:\\ProgramData\\Anaconda3\\lib\\site-packages\\ipykernel_launcher.py:1: SettingWithCopyWarning: \n",
      "A value is trying to be set on a copy of a slice from a DataFrame.\n",
      "Try using .loc[row_indexer,col_indexer] = value instead\n",
      "\n",
      "See the caveats in the documentation: http://pandas.pydata.org/pandas-docs/stable/user_guide/indexing.html#returning-a-view-versus-a-copy\n",
      "  \"\"\"Entry point for launching an IPython kernel.\n"
     ]
    }
   ],
   "source": [
    "lexicon['POS'] = lexicon['POS'].str.strip()"
   ]
  },
  {
   "cell_type": "code",
   "execution_count": 39,
   "metadata": {},
   "outputs": [
    {
     "data": {
      "text/plain": [
       "array(['y', 'e', 'ld-fs', 'cc', 'ld-ms', 'cs', 'ld-mp', 'xx', 'li-ms',\n",
       "       'po', 'r', 'vip-3s', 'ld-fp', 'li-fs', 'dp-', 'dd-', 'v', 'vip-3p',\n",
       "       'cS_22', 'vr', 'ld', 'nmp', 'nfs', 'j', 'pd-3cs', 'mc', 'ps',\n",
       "       'nms', 'nfp', 'vii-1/3s', 'dxmp-ind-', 'pi-0cn', 'pi-0ms',\n",
       "       'vis-3s', 'cS_21', 'dxms-ind-', 'pi', 'dxcs-ind-', 'vsp-1/3s', 'o',\n",
       "       'n', 'pr-3cs', 'dxfp-ind-', 'pq-3cn', 'dxfs-ind-', 'm$', 'pr-3cn\"',\n",
       "       'jms', 'li-mp', 'px-ms', 'vip-1s', 'cS_33', 'dxfs-', 'vps-ms',\n",
       "       'vif-3s', 'dxcs-dem-', 'jfs', 'jmp', 'pr-3cp', 'pi-3cs', 'pp-2cs',\n",
       "       'vip-1p', 'px', 'vc-1/3s', 'pp-1cs', 'cC_22', 'x', 'vpp', 'li-fp',\n",
       "       'pq-3cn\"', 'vip-2s', 'vii-3p', 'cC_21', 'jfp', 'i', 'e_32',\n",
       "       'vsp-3p', 'vis-3p', 'pi-3ms', 'e_21', 'dd', 'pp-2cp', 'pq-3cs',\n",
       "       'px-mp', 'cc-', 'b', 'cS_32', 'vsi-1/3s', 'dxcp-dem-', 'pr-3ms',\n",
       "       'vc-3p', 'pr-3fs', 'dxfp-', 'e_22', 'vif-3p', 'vis-1s', 'cS_31',\n",
       "       'vip-1p/vis-1p', 'pp-2p', 'pq-3cp', 'pv', 'cS_44', 'mo-ms-',\n",
       "       'pr-0mp', 'vif-2s', 'fn', 'p', 'vps-fs', 'vsp-1p', 'vc-1p',\n",
       "       'vsp-2s', 'pr-3mp', 'vif-1p', 'N', 'cS_43', 'vsj-1/3s', 'vsi-3p',\n",
       "       'vpp-00', 'vis-1p', 'vps-mp', 'pr-3fp', 'fv', 'cS_42', 'vii-1p',\n",
       "       'pq-3ms', 'vip-2p', 'vps-fp', 'vm-2s', 'cS_41', 'vif-1s', 'nj',\n",
       "       'px-00', 'dxmp-int-', 'jn', 'vc-2s', 'pr-3fs\"', 'vis-2s', 'prep',\n",
       "       'dxfp-int-', 'e_33', 'pd-3ms', 'np', 'mo', 'mo-fs-', 'vsf-1/3s',\n",
       "       'vii-2s', 'vm-3s', 'pd-3fs', 'pron', 'f', 'vsj-3p', 'dxcp-ind-',\n",
       "       'xs', 'vsi-1p', 'dxfs-int-', 'vif-2p', 'vsi-2s', 'fj', 'e_43',\n",
       "       'vsp-2p', 'e_31', 'v51', 'x_sp', 'xp', 'vm-2p', 'vm-3p', 'e_42',\n",
       "       'fp', 'vsf-3p', 'pd-3mp', 'pd-3fp', 'xe', 'xb', 'fe', 'vsj-1p',\n",
       "       'vis-2p', 'v29', 'fnj', 'fx', 'vc-2p', 'de', 'PN_MISC', 'vsf-2s',\n",
       "       'li', 'mo-mp-', 'vsf-2p', 'vii-2p', 'vsj-2s', 'fnp', 'xm', 'pn',\n",
       "       'mo-fp-', 'vsi-2p', 'xa', 'xw', 'dp', 'xd', 'v30', 'v60', 'v53',\n",
       "       'vsj-2p', 'ADJ', 'a', 'm', 'v24', 'xh', 'vsf-1p', 'xy', 'DET_DEM',\n",
       "       'vsp-', 'l', 'xf', 'v6', 'pr-3fp\"', 'v55'], dtype=object)"
      ]
     },
     "execution_count": 39,
     "metadata": {},
     "output_type": "execute_result"
    }
   ],
   "source": [
    "lexicon['POS'].unique()"
   ]
  },
  {
   "cell_type": "code",
   "execution_count": 40,
   "metadata": {},
   "outputs": [
    {
     "name": "stderr",
     "output_type": "stream",
     "text": [
      "C:\\ProgramData\\Anaconda3\\lib\\site-packages\\pandas\\core\\strings.py:1843: UserWarning: This pattern has match groups. To actually get the groups, use str.extract.\n",
      "  return func(self, *args, **kwargs)\n"
     ]
    }
   ],
   "source": [
    "dim_lexicon = lexicon[lexicon['Word'].str.contains(r'\\w*i(t|ll)(o|a)s?\\b')]"
   ]
  },
  {
   "cell_type": "code",
   "execution_count": 41,
   "metadata": {},
   "outputs": [
    {
     "data": {
      "text/html": [
       "<div>\n",
       "<style scoped>\n",
       "    .dataframe tbody tr th:only-of-type {\n",
       "        vertical-align: middle;\n",
       "    }\n",
       "\n",
       "    .dataframe tbody tr th {\n",
       "        vertical-align: top;\n",
       "    }\n",
       "\n",
       "    .dataframe thead th {\n",
       "        text-align: right;\n",
       "    }\n",
       "</style>\n",
       "<table border=\"1\" class=\"dataframe\">\n",
       "  <thead>\n",
       "    <tr style=\"text-align: right;\">\n",
       "      <th></th>\n",
       "      <th>WordID</th>\n",
       "      <th>Word</th>\n",
       "      <th>Lemma</th>\n",
       "      <th>POS</th>\n",
       "    </tr>\n",
       "  </thead>\n",
       "  <tbody>\n",
       "    <tr>\n",
       "      <td>713</td>\n",
       "      <td>714</td>\n",
       "      <td>éxito</td>\n",
       "      <td>éxito</td>\n",
       "      <td>n</td>\n",
       "    </tr>\n",
       "    <tr>\n",
       "      <td>798</td>\n",
       "      <td>799</td>\n",
       "      <td>necesita</td>\n",
       "      <td>necesitar</td>\n",
       "      <td>vip-3s</td>\n",
       "    </tr>\n",
       "    <tr>\n",
       "      <td>1599</td>\n",
       "      <td>1600</td>\n",
       "      <td>propósito</td>\n",
       "      <td>propósito</td>\n",
       "      <td>nms</td>\n",
       "    </tr>\n",
       "    <tr>\n",
       "      <td>1678</td>\n",
       "      <td>1679</td>\n",
       "      <td>ámbito</td>\n",
       "      <td>ámbito</td>\n",
       "      <td>n</td>\n",
       "    </tr>\n",
       "    <tr>\n",
       "      <td>1700</td>\n",
       "      <td>1701</td>\n",
       "      <td>visita</td>\n",
       "      <td>visita</td>\n",
       "      <td>nfs</td>\n",
       "    </tr>\n",
       "    <tr>\n",
       "      <td>...</td>\n",
       "      <td>...</td>\n",
       "      <td>...</td>\n",
       "      <td>...</td>\n",
       "      <td>...</td>\n",
       "    </tr>\n",
       "    <tr>\n",
       "      <td>8471444</td>\n",
       "      <td>11642632</td>\n",
       "      <td>Zurroncito</td>\n",
       "      <td>zurroncito</td>\n",
       "      <td>o</td>\n",
       "    </tr>\n",
       "    <tr>\n",
       "      <td>8471445</td>\n",
       "      <td>11642633</td>\n",
       "      <td>zurroncitos</td>\n",
       "      <td>zurroncito</td>\n",
       "      <td>n</td>\n",
       "    </tr>\n",
       "    <tr>\n",
       "      <td>8471514</td>\n",
       "      <td>11642703</td>\n",
       "      <td>zurullito</td>\n",
       "      <td>zurullito</td>\n",
       "      <td>j</td>\n",
       "    </tr>\n",
       "    <tr>\n",
       "      <td>8471536</td>\n",
       "      <td>11642725</td>\n",
       "      <td>zurunguillas</td>\n",
       "      <td>zurunguilla</td>\n",
       "      <td>n</td>\n",
       "    </tr>\n",
       "    <tr>\n",
       "      <td>8471650</td>\n",
       "      <td>11642840</td>\n",
       "      <td>Zutanito</td>\n",
       "      <td>zutanito</td>\n",
       "      <td>o</td>\n",
       "    </tr>\n",
       "  </tbody>\n",
       "</table>\n",
       "<p>123328 rows × 4 columns</p>\n",
       "</div>"
      ],
      "text/plain": [
       "           WordID          Word        Lemma     POS\n",
       "713           714         éxito        éxito       n\n",
       "798           799      necesita    necesitar  vip-3s\n",
       "1599         1600     propósito    propósito     nms\n",
       "1678         1679        ámbito       ámbito       n\n",
       "1700         1701        visita       visita     nfs\n",
       "...           ...           ...          ...     ...\n",
       "8471444  11642632    Zurroncito   zurroncito       o\n",
       "8471445  11642633   zurroncitos   zurroncito       n\n",
       "8471514  11642703     zurullito    zurullito       j\n",
       "8471536  11642725  zurunguillas  zurunguilla       n\n",
       "8471650  11642840      Zutanito     zutanito       o\n",
       "\n",
       "[123328 rows x 4 columns]"
      ]
     },
     "execution_count": 41,
     "metadata": {},
     "output_type": "execute_result"
    }
   ],
   "source": [
    "dim_lexicon"
   ]
  },
  {
   "cell_type": "code",
   "execution_count": 42,
   "metadata": {},
   "outputs": [],
   "source": [
    "dim_lexicon = dim_lexicon[dim_lexicon['POS'].str.contains('n|j')] "
   ]
  },
  {
   "cell_type": "code",
   "execution_count": 43,
   "metadata": {},
   "outputs": [
    {
     "data": {
      "text/plain": [
       "array(['n', 'nms', 'nfs', 'jfs', 'jms', 'nmp', 'nfp', 'j', 'jfp', 'jmp',\n",
       "       'np', 'fn'], dtype=object)"
      ]
     },
     "execution_count": 43,
     "metadata": {},
     "output_type": "execute_result"
    }
   ],
   "source": [
    "dim_lexicon['POS'].unique()"
   ]
  },
  {
   "cell_type": "code",
   "execution_count": 44,
   "metadata": {},
   "outputs": [],
   "source": [
    "dim_lexicon = dim_lexicon[dim_lexicon['POS'] != ('fn')] "
   ]
  },
  {
   "cell_type": "code",
   "execution_count": 45,
   "metadata": {},
   "outputs": [
    {
     "data": {
      "text/plain": [
       "array(['n', 'nms', 'nfs', 'jfs', 'jms', 'nmp', 'nfp', 'j', 'jfp', 'jmp',\n",
       "       'np'], dtype=object)"
      ]
     },
     "execution_count": 45,
     "metadata": {},
     "output_type": "execute_result"
    }
   ],
   "source": [
    "dim_lexicon['POS'].unique()"
   ]
  },
  {
   "cell_type": "code",
   "execution_count": 46,
   "metadata": {},
   "outputs": [
    {
     "data": {
      "text/plain": [
       "(70351, 4)"
      ]
     },
     "execution_count": 46,
     "metadata": {},
     "output_type": "execute_result"
    }
   ],
   "source": [
    "dim_lexicon.shape"
   ]
  },
  {
   "cell_type": "code",
   "execution_count": 47,
   "metadata": {},
   "outputs": [],
   "source": [
    "lemmas = dim_lexicon['Lemma']"
   ]
  },
  {
   "cell_type": "code",
   "execution_count": 48,
   "metadata": {},
   "outputs": [
    {
     "data": {
      "text/plain": [
       "70351"
      ]
     },
     "execution_count": 48,
     "metadata": {},
     "output_type": "execute_result"
    },
    {
     "data": {
      "text/plain": [
       "<class 'pandas.core.series.Series'>"
      ]
     },
     "execution_count": 48,
     "metadata": {},
     "output_type": "execute_result"
    }
   ],
   "source": [
    "len(lemmas)\n",
    "type(lemmas)"
   ]
  },
  {
   "cell_type": "code",
   "execution_count": 49,
   "metadata": {},
   "outputs": [],
   "source": [
    "lexicalized = set(lemmas[:200])"
   ]
  },
  {
   "cell_type": "code",
   "execution_count": 50,
   "metadata": {},
   "outputs": [
    {
     "data": {
      "text/plain": [
       "113"
      ]
     },
     "execution_count": 50,
     "metadata": {},
     "output_type": "execute_result"
    }
   ],
   "source": [
    "len(lexicalized)"
   ]
  },
  {
   "cell_type": "code",
   "execution_count": 51,
   "metadata": {},
   "outputs": [
    {
     "data": {
      "text/plain": [
       "<class 'set'>"
      ]
     },
     "execution_count": 51,
     "metadata": {},
     "output_type": "execute_result"
    }
   ],
   "source": [
    "type(lexicalized)"
   ]
  },
  {
   "cell_type": "code",
   "execution_count": 52,
   "metadata": {},
   "outputs": [
    {
     "data": {
      "text/plain": [
       "{'amarillo', 'depósito', 'orilla', 'capilla', 'martillo', 'ladrillo', 'órbita', 'escrito', 'tránsito', 'maldito', 'sevilla', 'brillo', 'castillo', 'circuito', 'hito', 'propósito', 'pandilla', 'cápita', 'rodilla', 'dígito', 'ratito', 'distrito', 'abuelita', 'semilla', 'apetito', 'ilícito', 'sencillo', 'añito', 'inédito', 'granito', 'perito', 'caudillo', 'jesuita', 'mosquito', 'cucharadita', 'rito', 'pleito', 'ejército', 'pastilla', 'tobillo', 'lícito', 'pesadilla', 'platillo', 'mejilla', 'pasillo', 'casita', 'milla', 'crédito', 'perrito', 'mundillo', 'súbito', 'súbdito', 'zapatilla', 'poquito', 'redondilla', 'arcilla', 'cosita', 'costilla', 'planilla', 'mérito', 'anillo', 'israelita', 'silla', 'guerrilla', 'cigarrillo', 'incógnita', 'cepillo', 'ámbito', 'ventanilla', 'delito', 'maravilla', 'carrito', 'credito', 'grito', 'señorita', 'débito', 'cajita', 'infinito', 'suscrito', 'mantequilla', 'éxito', 'requisito', 'bendito', 'mito', 'gratuito', 'bolsillo', 'cita', 'taquilla', 'cuchillo', 'manuscrito', 'parásito', 'explícito', 'comillas', 'parrilla', 'exquisito', 'meteorito', 'casilla', 'plantilla', 'besito', 'implícito', 'visita', 'bonito', 'favorita', 'favorito', 'frito', 'hábito', 'vainilla', 'plebiscito', 'banquillo', 'villa', 'vómito', 'tortilla', 'inscrito'}"
      ]
     },
     "execution_count": 52,
     "metadata": {},
     "output_type": "execute_result"
    }
   ],
   "source": [
    "lexicalized"
   ]
  },
  {
   "cell_type": "markdown",
   "metadata": {},
   "source": [
    "Final step:"
   ]
  },
  {
   "cell_type": "code",
   "execution_count": 53,
   "metadata": {},
   "outputs": [],
   "source": [
    "master_DF = master_DF[~master_DF['Lemma'].isin(lexicalized)] #Pandas way to select rows of based on values bot found in a list."
   ]
  },
  {
   "cell_type": "code",
   "execution_count": 54,
   "metadata": {},
   "outputs": [
    {
     "data": {
      "text/plain": [
       "(1536896, 9)"
      ]
     },
     "execution_count": 54,
     "metadata": {},
     "output_type": "execute_result"
    }
   ],
   "source": [
    "master_DF.shape"
   ]
  },
  {
   "cell_type": "code",
   "execution_count": 55,
   "metadata": {},
   "outputs": [
    {
     "data": {
      "text/html": [
       "<div>\n",
       "<style scoped>\n",
       "    .dataframe tbody tr th:only-of-type {\n",
       "        vertical-align: middle;\n",
       "    }\n",
       "\n",
       "    .dataframe tbody tr th {\n",
       "        vertical-align: top;\n",
       "    }\n",
       "\n",
       "    .dataframe thead th {\n",
       "        text-align: right;\n",
       "    }\n",
       "</style>\n",
       "<table border=\"1\" class=\"dataframe\">\n",
       "  <thead>\n",
       "    <tr style=\"text-align: right;\">\n",
       "      <th></th>\n",
       "      <th>SourceID</th>\n",
       "      <th>TokenID</th>\n",
       "      <th>Lemma</th>\n",
       "      <th>Word</th>\n",
       "      <th>POS</th>\n",
       "      <th>Variety</th>\n",
       "      <th>POS_binary</th>\n",
       "      <th>Number</th>\n",
       "      <th>Gender</th>\n",
       "    </tr>\n",
       "  </thead>\n",
       "  <tbody>\n",
       "    <tr>\n",
       "      <td>985719</td>\n",
       "      <td>759060</td>\n",
       "      <td>829374508</td>\n",
       "      <td>viejito</td>\n",
       "      <td>viejito</td>\n",
       "      <td>n</td>\n",
       "      <td>MX</td>\n",
       "      <td>n</td>\n",
       "      <td>unknown</td>\n",
       "      <td>unknown</td>\n",
       "    </tr>\n",
       "    <tr>\n",
       "      <td>1428077</td>\n",
       "      <td>154058</td>\n",
       "      <td>2358358117</td>\n",
       "      <td>papita</td>\n",
       "      <td>papitas</td>\n",
       "      <td>n</td>\n",
       "      <td>CL</td>\n",
       "      <td>n</td>\n",
       "      <td>unknown</td>\n",
       "      <td>unknown</td>\n",
       "    </tr>\n",
       "    <tr>\n",
       "      <td>3815217</td>\n",
       "      <td>2193082</td>\n",
       "      <td>227886897</td>\n",
       "      <td>riolito</td>\n",
       "      <td>riolito</td>\n",
       "      <td>n</td>\n",
       "      <td>PA</td>\n",
       "      <td>n</td>\n",
       "      <td>unknown</td>\n",
       "      <td>unknown</td>\n",
       "    </tr>\n",
       "    <tr>\n",
       "      <td>2899330</td>\n",
       "      <td>986984</td>\n",
       "      <td>2454348832</td>\n",
       "      <td>chiquito</td>\n",
       "      <td>chiquitos</td>\n",
       "      <td>nmp</td>\n",
       "      <td>PE</td>\n",
       "      <td>n</td>\n",
       "      <td>plural</td>\n",
       "      <td>masculine</td>\n",
       "    </tr>\n",
       "    <tr>\n",
       "      <td>584441</td>\n",
       "      <td>2382682</td>\n",
       "      <td>190472791</td>\n",
       "      <td>calladito</td>\n",
       "      <td>calladito</td>\n",
       "      <td>j</td>\n",
       "      <td>UY</td>\n",
       "      <td>j</td>\n",
       "      <td>unknown</td>\n",
       "      <td>unknown</td>\n",
       "    </tr>\n",
       "  </tbody>\n",
       "</table>\n",
       "</div>"
      ],
      "text/plain": [
       "        SourceID     TokenID      Lemma       Word  POS Variety POS_binary  \\\n",
       "985719    759060   829374508    viejito    viejito    n      MX          n   \n",
       "1428077   154058  2358358117     papita    papitas    n      CL          n   \n",
       "3815217  2193082   227886897    riolito    riolito    n      PA          n   \n",
       "2899330   986984  2454348832   chiquito  chiquitos  nmp      PE          n   \n",
       "584441   2382682   190472791  calladito  calladito    j      UY          j   \n",
       "\n",
       "          Number     Gender  \n",
       "985719   unknown    unknown  \n",
       "1428077  unknown    unknown  \n",
       "3815217  unknown    unknown  \n",
       "2899330   plural  masculine  \n",
       "584441   unknown    unknown  "
      ]
     },
     "execution_count": 55,
     "metadata": {},
     "output_type": "execute_result"
    }
   ],
   "source": [
    "master_DF.sample(5)"
   ]
  },
  {
   "cell_type": "markdown",
   "metadata": {},
   "source": [
    "### 3. Exploratory analysis"
   ]
  },
  {
   "cell_type": "code",
   "execution_count": 56,
   "metadata": {},
   "outputs": [],
   "source": [
    "def get_dim(lemma):\n",
    "    if lemma[-4:] == 'illo' or lemma[-4:] == 'illa':\n",
    "        return '-illo'\n",
    "    else: return '-ito'"
   ]
  },
  {
   "cell_type": "code",
   "execution_count": 57,
   "metadata": {},
   "outputs": [],
   "source": [
    "master_DF['Diminutive'] = master_DF['Lemma'].map(get_dim)"
   ]
  },
  {
   "cell_type": "code",
   "execution_count": 58,
   "metadata": {},
   "outputs": [
    {
     "data": {
      "text/html": [
       "<div>\n",
       "<style scoped>\n",
       "    .dataframe tbody tr th:only-of-type {\n",
       "        vertical-align: middle;\n",
       "    }\n",
       "\n",
       "    .dataframe tbody tr th {\n",
       "        vertical-align: top;\n",
       "    }\n",
       "\n",
       "    .dataframe thead th {\n",
       "        text-align: right;\n",
       "    }\n",
       "</style>\n",
       "<table border=\"1\" class=\"dataframe\">\n",
       "  <thead>\n",
       "    <tr style=\"text-align: right;\">\n",
       "      <th></th>\n",
       "      <th>SourceID</th>\n",
       "      <th>TokenID</th>\n",
       "      <th>Lemma</th>\n",
       "      <th>Word</th>\n",
       "      <th>POS</th>\n",
       "      <th>Variety</th>\n",
       "      <th>POS_binary</th>\n",
       "      <th>Number</th>\n",
       "      <th>Gender</th>\n",
       "      <th>Diminutive</th>\n",
       "    </tr>\n",
       "  </thead>\n",
       "  <tbody>\n",
       "    <tr>\n",
       "      <td>22786242</td>\n",
       "      <td>631832</td>\n",
       "      <td>230663588</td>\n",
       "      <td>hipócrita</td>\n",
       "      <td>hipócrita</td>\n",
       "      <td>jms</td>\n",
       "      <td>ES</td>\n",
       "      <td>j</td>\n",
       "      <td>singular</td>\n",
       "      <td>masculine</td>\n",
       "      <td>-ito</td>\n",
       "    </tr>\n",
       "    <tr>\n",
       "      <td>9672203</td>\n",
       "      <td>1399935</td>\n",
       "      <td>990021903</td>\n",
       "      <td>osito</td>\n",
       "      <td>ositos</td>\n",
       "      <td>n</td>\n",
       "      <td>AR</td>\n",
       "      <td>n</td>\n",
       "      <td>unknown</td>\n",
       "      <td>unknown</td>\n",
       "      <td>-ito</td>\n",
       "    </tr>\n",
       "    <tr>\n",
       "      <td>4966783</td>\n",
       "      <td>1009407</td>\n",
       "      <td>2302356114</td>\n",
       "      <td>circunscrito</td>\n",
       "      <td>circunscrito</td>\n",
       "      <td>j</td>\n",
       "      <td>PE</td>\n",
       "      <td>j</td>\n",
       "      <td>unknown</td>\n",
       "      <td>unknown</td>\n",
       "      <td>-ito</td>\n",
       "    </tr>\n",
       "    <tr>\n",
       "      <td>1323713</td>\n",
       "      <td>1572745</td>\n",
       "      <td>939161814</td>\n",
       "      <td>barquito</td>\n",
       "      <td>barquito</td>\n",
       "      <td>n</td>\n",
       "      <td>CU</td>\n",
       "      <td>n</td>\n",
       "      <td>unknown</td>\n",
       "      <td>unknown</td>\n",
       "      <td>-ito</td>\n",
       "    </tr>\n",
       "    <tr>\n",
       "      <td>2556549</td>\n",
       "      <td>350706</td>\n",
       "      <td>1170144191</td>\n",
       "      <td>coletilla</td>\n",
       "      <td>coletilla</td>\n",
       "      <td>nfs</td>\n",
       "      <td>CU</td>\n",
       "      <td>n</td>\n",
       "      <td>singular</td>\n",
       "      <td>feminine</td>\n",
       "      <td>-illo</td>\n",
       "    </tr>\n",
       "  </tbody>\n",
       "</table>\n",
       "</div>"
      ],
      "text/plain": [
       "         SourceID     TokenID         Lemma          Word  POS Variety  \\\n",
       "22786242   631832   230663588     hipócrita     hipócrita  jms      ES   \n",
       "9672203   1399935   990021903         osito        ositos    n      AR   \n",
       "4966783   1009407  2302356114  circunscrito  circunscrito    j      PE   \n",
       "1323713   1572745   939161814      barquito      barquito    n      CU   \n",
       "2556549    350706  1170144191     coletilla     coletilla  nfs      CU   \n",
       "\n",
       "         POS_binary    Number     Gender Diminutive  \n",
       "22786242          j  singular  masculine       -ito  \n",
       "9672203           n   unknown    unknown       -ito  \n",
       "4966783           j   unknown    unknown       -ito  \n",
       "1323713           n   unknown    unknown       -ito  \n",
       "2556549           n  singular   feminine      -illo  "
      ]
     },
     "execution_count": 58,
     "metadata": {},
     "output_type": "execute_result"
    }
   ],
   "source": [
    "master_DF.sample(5)"
   ]
  },
  {
   "cell_type": "code",
   "execution_count": 59,
   "metadata": {},
   "outputs": [
    {
     "name": "stdout",
     "output_type": "stream",
     "text": [
      "<class 'pandas.core.frame.DataFrame'>\n",
      "Int64Index: 1536896 entries, 1338 to 2061267\n",
      "Data columns (total 10 columns):\n",
      "SourceID      1536896 non-null object\n",
      "TokenID       1536896 non-null object\n",
      "Lemma         1536896 non-null object\n",
      "Word          1536896 non-null object\n",
      "POS           1536896 non-null object\n",
      "Variety       1536896 non-null object\n",
      "POS_binary    1536896 non-null object\n",
      "Number        1536896 non-null object\n",
      "Gender        1536896 non-null object\n",
      "Diminutive    1536896 non-null object\n",
      "dtypes: object(10)\n",
      "memory usage: 129.0+ MB\n"
     ]
    }
   ],
   "source": [
    "master_DF.info()"
   ]
  },
  {
   "cell_type": "code",
   "execution_count": 60,
   "metadata": {},
   "outputs": [
    {
     "data": {
      "text/html": [
       "<div>\n",
       "<style scoped>\n",
       "    .dataframe tbody tr th:only-of-type {\n",
       "        vertical-align: middle;\n",
       "    }\n",
       "\n",
       "    .dataframe tbody tr th {\n",
       "        vertical-align: top;\n",
       "    }\n",
       "\n",
       "    .dataframe thead th {\n",
       "        text-align: right;\n",
       "    }\n",
       "</style>\n",
       "<table border=\"1\" class=\"dataframe\">\n",
       "  <thead>\n",
       "    <tr style=\"text-align: right;\">\n",
       "      <th></th>\n",
       "      <th>SourceID</th>\n",
       "      <th>TokenID</th>\n",
       "      <th>Lemma</th>\n",
       "      <th>Word</th>\n",
       "      <th>POS</th>\n",
       "      <th>Variety</th>\n",
       "      <th>POS_binary</th>\n",
       "      <th>Number</th>\n",
       "      <th>Gender</th>\n",
       "      <th>Diminutive</th>\n",
       "    </tr>\n",
       "  </thead>\n",
       "  <tbody>\n",
       "    <tr>\n",
       "      <td>count</td>\n",
       "      <td>1536896</td>\n",
       "      <td>1536896</td>\n",
       "      <td>1536896</td>\n",
       "      <td>1536896</td>\n",
       "      <td>1536896</td>\n",
       "      <td>1536896</td>\n",
       "      <td>1536896</td>\n",
       "      <td>1536896</td>\n",
       "      <td>1536896</td>\n",
       "      <td>1536896</td>\n",
       "    </tr>\n",
       "    <tr>\n",
       "      <td>unique</td>\n",
       "      <td>490972</td>\n",
       "      <td>1443283</td>\n",
       "      <td>40307</td>\n",
       "      <td>50201</td>\n",
       "      <td>11</td>\n",
       "      <td>20</td>\n",
       "      <td>2</td>\n",
       "      <td>3</td>\n",
       "      <td>3</td>\n",
       "      <td>2</td>\n",
       "    </tr>\n",
       "    <tr>\n",
       "      <td>top</td>\n",
       "      <td>1704776</td>\n",
       "      <td>1269287915</td>\n",
       "      <td>hipócrita</td>\n",
       "      <td>hipócrita</td>\n",
       "      <td>n</td>\n",
       "      <td>ES</td>\n",
       "      <td>n</td>\n",
       "      <td>unknown</td>\n",
       "      <td>unknown</td>\n",
       "      <td>-ito</td>\n",
       "    </tr>\n",
       "    <tr>\n",
       "      <td>freq</td>\n",
       "      <td>2119</td>\n",
       "      <td>2</td>\n",
       "      <td>16233</td>\n",
       "      <td>8093</td>\n",
       "      <td>711896</td>\n",
       "      <td>380958</td>\n",
       "      <td>1176343</td>\n",
       "      <td>953315</td>\n",
       "      <td>953315</td>\n",
       "      <td>1291306</td>\n",
       "    </tr>\n",
       "  </tbody>\n",
       "</table>\n",
       "</div>"
      ],
      "text/plain": [
       "        SourceID     TokenID      Lemma       Word      POS  Variety  \\\n",
       "count    1536896     1536896    1536896    1536896  1536896  1536896   \n",
       "unique    490972     1443283      40307      50201       11       20   \n",
       "top      1704776  1269287915  hipócrita  hipócrita        n       ES   \n",
       "freq        2119           2      16233       8093   711896   380958   \n",
       "\n",
       "       POS_binary   Number   Gender Diminutive  \n",
       "count     1536896  1536896  1536896    1536896  \n",
       "unique          2        3        3          2  \n",
       "top             n  unknown  unknown       -ito  \n",
       "freq      1176343   953315   953315    1291306  "
      ]
     },
     "execution_count": 60,
     "metadata": {},
     "output_type": "execute_result"
    }
   ],
   "source": [
    "master_DF.describe() "
   ]
  },
  {
   "cell_type": "markdown",
   "metadata": {},
   "source": [
    "- We get plenty of information here. There are X tokens and X types. X is the most frequent lemma. Spain is the most widely represented country. Noun is the most frequent part of speech and -ito is the most common diminutive. To get information about gender and number we'll have to take an extra step because most tokens were not tagged for either category. All that were tagged for gender were also tagged for number, so we only need to create one subset. It turns out that most are masculine and singular."
   ]
  },
  {
   "cell_type": "code",
   "execution_count": 61,
   "metadata": {},
   "outputs": [
    {
     "data": {
      "text/html": [
       "<div>\n",
       "<style scoped>\n",
       "    .dataframe tbody tr th:only-of-type {\n",
       "        vertical-align: middle;\n",
       "    }\n",
       "\n",
       "    .dataframe tbody tr th {\n",
       "        vertical-align: top;\n",
       "    }\n",
       "\n",
       "    .dataframe thead th {\n",
       "        text-align: right;\n",
       "    }\n",
       "</style>\n",
       "<table border=\"1\" class=\"dataframe\">\n",
       "  <thead>\n",
       "    <tr style=\"text-align: right;\">\n",
       "      <th></th>\n",
       "      <th>SourceID</th>\n",
       "      <th>TokenID</th>\n",
       "      <th>Lemma</th>\n",
       "      <th>Word</th>\n",
       "      <th>POS</th>\n",
       "      <th>Variety</th>\n",
       "      <th>POS_binary</th>\n",
       "      <th>Number</th>\n",
       "      <th>Gender</th>\n",
       "      <th>Diminutive</th>\n",
       "    </tr>\n",
       "  </thead>\n",
       "  <tbody>\n",
       "    <tr>\n",
       "      <td>count</td>\n",
       "      <td>583581</td>\n",
       "      <td>583581</td>\n",
       "      <td>583581</td>\n",
       "      <td>583581</td>\n",
       "      <td>583581</td>\n",
       "      <td>583581</td>\n",
       "      <td>583581</td>\n",
       "      <td>583581</td>\n",
       "      <td>583581</td>\n",
       "      <td>583581</td>\n",
       "    </tr>\n",
       "    <tr>\n",
       "      <td>unique</td>\n",
       "      <td>272021</td>\n",
       "      <td>552963</td>\n",
       "      <td>1490</td>\n",
       "      <td>3201</td>\n",
       "      <td>8</td>\n",
       "      <td>20</td>\n",
       "      <td>2</td>\n",
       "      <td>2</td>\n",
       "      <td>2</td>\n",
       "      <td>2</td>\n",
       "    </tr>\n",
       "    <tr>\n",
       "      <td>top</td>\n",
       "      <td>1704776</td>\n",
       "      <td>1380796754</td>\n",
       "      <td>hipócrita</td>\n",
       "      <td>hipócrita</td>\n",
       "      <td>nms</td>\n",
       "      <td>ES</td>\n",
       "      <td>n</td>\n",
       "      <td>singular</td>\n",
       "      <td>masculine</td>\n",
       "      <td>-ito</td>\n",
       "    </tr>\n",
       "    <tr>\n",
       "      <td>freq</td>\n",
       "      <td>1085</td>\n",
       "      <td>2</td>\n",
       "      <td>14447</td>\n",
       "      <td>8093</td>\n",
       "      <td>190953</td>\n",
       "      <td>156790</td>\n",
       "      <td>462885</td>\n",
       "      <td>449886</td>\n",
       "      <td>337732</td>\n",
       "      <td>395203</td>\n",
       "    </tr>\n",
       "  </tbody>\n",
       "</table>\n",
       "</div>"
      ],
      "text/plain": [
       "        SourceID     TokenID      Lemma       Word     POS Variety POS_binary  \\\n",
       "count     583581      583581     583581     583581  583581  583581     583581   \n",
       "unique    272021      552963       1490       3201       8      20          2   \n",
       "top      1704776  1380796754  hipócrita  hipócrita     nms      ES          n   \n",
       "freq        1085           2      14447       8093  190953  156790     462885   \n",
       "\n",
       "          Number     Gender Diminutive  \n",
       "count     583581     583581     583581  \n",
       "unique         2          2          2  \n",
       "top     singular  masculine       -ito  \n",
       "freq      449886     337732     395203  "
      ]
     },
     "execution_count": 61,
     "metadata": {},
     "output_type": "execute_result"
    }
   ],
   "source": [
    "master_DF[(master_DF['Gender'] == 'masculine')|(master_DF['Gender'] == 'feminine')].describe()"
   ]
  },
  {
   "cell_type": "code",
   "execution_count": 62,
   "metadata": {},
   "outputs": [
    {
     "data": {
      "text/plain": [
       "ES    380958\n",
       "MX    182396\n",
       "AR    139839\n",
       "US    133663\n",
       "CO    107277\n",
       "PA     94293\n",
       "PE     93613\n",
       "CL     56541\n",
       "CU     40988\n",
       "GT     40622\n",
       "EC     38981\n",
       "UY     31198\n",
       "SV     28981\n",
       "PR     28737\n",
       "CR     26847\n",
       "DO     24524\n",
       "BO     24252\n",
       "NI     22168\n",
       "HN     21861\n",
       "PY     19157\n",
       "Name: Variety, dtype: int64"
      ]
     },
     "execution_count": 62,
     "metadata": {},
     "output_type": "execute_result"
    }
   ],
   "source": [
    "master_DF['Variety'].value_counts()"
   ]
  },
  {
   "cell_type": "code",
   "execution_count": 63,
   "metadata": {},
   "outputs": [
    {
     "data": {
      "text/plain": [
       "n    1176343\n",
       "j     360553\n",
       "Name: POS_binary, dtype: int64"
      ]
     },
     "execution_count": 63,
     "metadata": {},
     "output_type": "execute_result"
    }
   ],
   "source": [
    "master_DF['POS_binary'].value_counts()"
   ]
  },
  {
   "cell_type": "code",
   "execution_count": 64,
   "metadata": {},
   "outputs": [
    {
     "data": {
      "text/plain": [
       "-ito     1291306\n",
       "-illo     245590\n",
       "Name: Diminutive, dtype: int64"
      ]
     },
     "execution_count": 64,
     "metadata": {},
     "output_type": "execute_result"
    }
   ],
   "source": [
    "master_DF['Diminutive'].value_counts()"
   ]
  },
  {
   "cell_type": "code",
   "execution_count": 65,
   "metadata": {},
   "outputs": [
    {
     "data": {
      "text/html": [
       "<div>\n",
       "<style scoped>\n",
       "    .dataframe tbody tr th:only-of-type {\n",
       "        vertical-align: middle;\n",
       "    }\n",
       "\n",
       "    .dataframe tbody tr th {\n",
       "        vertical-align: top;\n",
       "    }\n",
       "\n",
       "    .dataframe thead th {\n",
       "        text-align: right;\n",
       "    }\n",
       "</style>\n",
       "<table border=\"1\" class=\"dataframe\">\n",
       "  <thead>\n",
       "    <tr style=\"text-align: right;\">\n",
       "      <th>Diminutive</th>\n",
       "      <th>-illo</th>\n",
       "      <th>-ito</th>\n",
       "    </tr>\n",
       "    <tr>\n",
       "      <th>POS_binary</th>\n",
       "      <th></th>\n",
       "      <th></th>\n",
       "    </tr>\n",
       "  </thead>\n",
       "  <tbody>\n",
       "    <tr>\n",
       "      <td>j</td>\n",
       "      <td>16001</td>\n",
       "      <td>344552</td>\n",
       "    </tr>\n",
       "    <tr>\n",
       "      <td>n</td>\n",
       "      <td>229589</td>\n",
       "      <td>946754</td>\n",
       "    </tr>\n",
       "  </tbody>\n",
       "</table>\n",
       "</div>"
      ],
      "text/plain": [
       "Diminutive   -illo    -ito\n",
       "POS_binary                \n",
       "j            16001  344552\n",
       "n           229589  946754"
      ]
     },
     "execution_count": 65,
     "metadata": {},
     "output_type": "execute_result"
    }
   ],
   "source": [
    "DiminutivexPOS = master_DF.groupby('POS_binary').Diminutive.value_counts()\n",
    "DiminutivexPOS.unstack()"
   ]
  },
  {
   "cell_type": "code",
   "execution_count": 66,
   "metadata": {},
   "outputs": [
    {
     "data": {
      "text/html": [
       "<div>\n",
       "<style scoped>\n",
       "    .dataframe tbody tr th:only-of-type {\n",
       "        vertical-align: middle;\n",
       "    }\n",
       "\n",
       "    .dataframe tbody tr th {\n",
       "        vertical-align: top;\n",
       "    }\n",
       "\n",
       "    .dataframe thead th {\n",
       "        text-align: right;\n",
       "    }\n",
       "</style>\n",
       "<table border=\"1\" class=\"dataframe\">\n",
       "  <thead>\n",
       "    <tr style=\"text-align: right;\">\n",
       "      <th>POS_binary</th>\n",
       "      <th>j</th>\n",
       "      <th>n</th>\n",
       "    </tr>\n",
       "    <tr>\n",
       "      <th>Diminutive</th>\n",
       "      <th></th>\n",
       "      <th></th>\n",
       "    </tr>\n",
       "  </thead>\n",
       "  <tbody>\n",
       "    <tr>\n",
       "      <td>-illo</td>\n",
       "      <td>16001</td>\n",
       "      <td>229589</td>\n",
       "    </tr>\n",
       "    <tr>\n",
       "      <td>-ito</td>\n",
       "      <td>344552</td>\n",
       "      <td>946754</td>\n",
       "    </tr>\n",
       "  </tbody>\n",
       "</table>\n",
       "</div>"
      ],
      "text/plain": [
       "POS_binary       j       n\n",
       "Diminutive                \n",
       "-illo        16001  229589\n",
       "-ito        344552  946754"
      ]
     },
     "execution_count": 66,
     "metadata": {},
     "output_type": "execute_result"
    }
   ],
   "source": [
    "POSxDiminutive = master_DF.groupby('Diminutive').POS_binary.value_counts()\n",
    "POSxDiminutive.unstack()"
   ]
  },
  {
   "cell_type": "code",
   "execution_count": 67,
   "metadata": {},
   "outputs": [
    {
     "data": {
      "text/html": [
       "<div>\n",
       "<style scoped>\n",
       "    .dataframe tbody tr th:only-of-type {\n",
       "        vertical-align: middle;\n",
       "    }\n",
       "\n",
       "    .dataframe tbody tr th {\n",
       "        vertical-align: top;\n",
       "    }\n",
       "\n",
       "    .dataframe thead th {\n",
       "        text-align: right;\n",
       "    }\n",
       "</style>\n",
       "<table border=\"1\" class=\"dataframe\">\n",
       "  <thead>\n",
       "    <tr style=\"text-align: right;\">\n",
       "      <th>Diminutive</th>\n",
       "      <th>-illo</th>\n",
       "      <th>-ito</th>\n",
       "    </tr>\n",
       "    <tr>\n",
       "      <th>Variety</th>\n",
       "      <th></th>\n",
       "      <th></th>\n",
       "    </tr>\n",
       "  </thead>\n",
       "  <tbody>\n",
       "    <tr>\n",
       "      <td>AR</td>\n",
       "      <td>15659</td>\n",
       "      <td>124180</td>\n",
       "    </tr>\n",
       "    <tr>\n",
       "      <td>BO</td>\n",
       "      <td>3616</td>\n",
       "      <td>20636</td>\n",
       "    </tr>\n",
       "    <tr>\n",
       "      <td>CL</td>\n",
       "      <td>7498</td>\n",
       "      <td>49043</td>\n",
       "    </tr>\n",
       "    <tr>\n",
       "      <td>CO</td>\n",
       "      <td>17826</td>\n",
       "      <td>89451</td>\n",
       "    </tr>\n",
       "    <tr>\n",
       "      <td>CR</td>\n",
       "      <td>5747</td>\n",
       "      <td>21100</td>\n",
       "    </tr>\n",
       "    <tr>\n",
       "      <td>CU</td>\n",
       "      <td>6759</td>\n",
       "      <td>34229</td>\n",
       "    </tr>\n",
       "    <tr>\n",
       "      <td>DO</td>\n",
       "      <td>3765</td>\n",
       "      <td>20759</td>\n",
       "    </tr>\n",
       "    <tr>\n",
       "      <td>EC</td>\n",
       "      <td>6723</td>\n",
       "      <td>32258</td>\n",
       "    </tr>\n",
       "    <tr>\n",
       "      <td>ES</td>\n",
       "      <td>79982</td>\n",
       "      <td>300976</td>\n",
       "    </tr>\n",
       "    <tr>\n",
       "      <td>GT</td>\n",
       "      <td>4974</td>\n",
       "      <td>35648</td>\n",
       "    </tr>\n",
       "    <tr>\n",
       "      <td>HN</td>\n",
       "      <td>3257</td>\n",
       "      <td>18604</td>\n",
       "    </tr>\n",
       "    <tr>\n",
       "      <td>MX</td>\n",
       "      <td>26462</td>\n",
       "      <td>155934</td>\n",
       "    </tr>\n",
       "    <tr>\n",
       "      <td>NI</td>\n",
       "      <td>3144</td>\n",
       "      <td>19024</td>\n",
       "    </tr>\n",
       "    <tr>\n",
       "      <td>PA</td>\n",
       "      <td>12334</td>\n",
       "      <td>81959</td>\n",
       "    </tr>\n",
       "    <tr>\n",
       "      <td>PE</td>\n",
       "      <td>12192</td>\n",
       "      <td>81421</td>\n",
       "    </tr>\n",
       "    <tr>\n",
       "      <td>PR</td>\n",
       "      <td>3947</td>\n",
       "      <td>24790</td>\n",
       "    </tr>\n",
       "    <tr>\n",
       "      <td>PY</td>\n",
       "      <td>2651</td>\n",
       "      <td>16506</td>\n",
       "    </tr>\n",
       "    <tr>\n",
       "      <td>SV</td>\n",
       "      <td>3860</td>\n",
       "      <td>25121</td>\n",
       "    </tr>\n",
       "    <tr>\n",
       "      <td>US</td>\n",
       "      <td>20919</td>\n",
       "      <td>112744</td>\n",
       "    </tr>\n",
       "    <tr>\n",
       "      <td>UY</td>\n",
       "      <td>4275</td>\n",
       "      <td>26923</td>\n",
       "    </tr>\n",
       "  </tbody>\n",
       "</table>\n",
       "</div>"
      ],
      "text/plain": [
       "Diminutive  -illo    -ito\n",
       "Variety                  \n",
       "AR          15659  124180\n",
       "BO           3616   20636\n",
       "CL           7498   49043\n",
       "CO          17826   89451\n",
       "CR           5747   21100\n",
       "CU           6759   34229\n",
       "DO           3765   20759\n",
       "EC           6723   32258\n",
       "ES          79982  300976\n",
       "GT           4974   35648\n",
       "HN           3257   18604\n",
       "MX          26462  155934\n",
       "NI           3144   19024\n",
       "PA          12334   81959\n",
       "PE          12192   81421\n",
       "PR           3947   24790\n",
       "PY           2651   16506\n",
       "SV           3860   25121\n",
       "US          20919  112744\n",
       "UY           4275   26923"
      ]
     },
     "execution_count": 67,
     "metadata": {},
     "output_type": "execute_result"
    }
   ],
   "source": [
    "DiminutivexVariety = master_DF.groupby('Variety').Diminutive.value_counts()\n",
    "DiminutivexVariety.unstack()"
   ]
  },
  {
   "cell_type": "code",
   "execution_count": 68,
   "metadata": {},
   "outputs": [
    {
     "data": {
      "text/html": [
       "<div>\n",
       "<style scoped>\n",
       "    .dataframe tbody tr th:only-of-type {\n",
       "        vertical-align: middle;\n",
       "    }\n",
       "\n",
       "    .dataframe tbody tr th {\n",
       "        vertical-align: top;\n",
       "    }\n",
       "\n",
       "    .dataframe thead th {\n",
       "        text-align: right;\n",
       "    }\n",
       "</style>\n",
       "<table border=\"1\" class=\"dataframe\">\n",
       "  <thead>\n",
       "    <tr style=\"text-align: right;\">\n",
       "      <th>Variety</th>\n",
       "      <th>AR</th>\n",
       "      <th>BO</th>\n",
       "      <th>CL</th>\n",
       "      <th>CO</th>\n",
       "      <th>CR</th>\n",
       "      <th>CU</th>\n",
       "      <th>DO</th>\n",
       "      <th>EC</th>\n",
       "      <th>ES</th>\n",
       "      <th>GT</th>\n",
       "      <th>HN</th>\n",
       "      <th>MX</th>\n",
       "      <th>NI</th>\n",
       "      <th>PA</th>\n",
       "      <th>PE</th>\n",
       "      <th>PR</th>\n",
       "      <th>PY</th>\n",
       "      <th>SV</th>\n",
       "      <th>US</th>\n",
       "      <th>UY</th>\n",
       "    </tr>\n",
       "    <tr>\n",
       "      <th>Diminutive</th>\n",
       "      <th></th>\n",
       "      <th></th>\n",
       "      <th></th>\n",
       "      <th></th>\n",
       "      <th></th>\n",
       "      <th></th>\n",
       "      <th></th>\n",
       "      <th></th>\n",
       "      <th></th>\n",
       "      <th></th>\n",
       "      <th></th>\n",
       "      <th></th>\n",
       "      <th></th>\n",
       "      <th></th>\n",
       "      <th></th>\n",
       "      <th></th>\n",
       "      <th></th>\n",
       "      <th></th>\n",
       "      <th></th>\n",
       "      <th></th>\n",
       "    </tr>\n",
       "  </thead>\n",
       "  <tbody>\n",
       "    <tr>\n",
       "      <td>-illo</td>\n",
       "      <td>15659</td>\n",
       "      <td>3616</td>\n",
       "      <td>7498</td>\n",
       "      <td>17826</td>\n",
       "      <td>5747</td>\n",
       "      <td>6759</td>\n",
       "      <td>3765</td>\n",
       "      <td>6723</td>\n",
       "      <td>79982</td>\n",
       "      <td>4974</td>\n",
       "      <td>3257</td>\n",
       "      <td>26462</td>\n",
       "      <td>3144</td>\n",
       "      <td>12334</td>\n",
       "      <td>12192</td>\n",
       "      <td>3947</td>\n",
       "      <td>2651</td>\n",
       "      <td>3860</td>\n",
       "      <td>20919</td>\n",
       "      <td>4275</td>\n",
       "    </tr>\n",
       "    <tr>\n",
       "      <td>-ito</td>\n",
       "      <td>124180</td>\n",
       "      <td>20636</td>\n",
       "      <td>49043</td>\n",
       "      <td>89451</td>\n",
       "      <td>21100</td>\n",
       "      <td>34229</td>\n",
       "      <td>20759</td>\n",
       "      <td>32258</td>\n",
       "      <td>300976</td>\n",
       "      <td>35648</td>\n",
       "      <td>18604</td>\n",
       "      <td>155934</td>\n",
       "      <td>19024</td>\n",
       "      <td>81959</td>\n",
       "      <td>81421</td>\n",
       "      <td>24790</td>\n",
       "      <td>16506</td>\n",
       "      <td>25121</td>\n",
       "      <td>112744</td>\n",
       "      <td>26923</td>\n",
       "    </tr>\n",
       "  </tbody>\n",
       "</table>\n",
       "</div>"
      ],
      "text/plain": [
       "Variety         AR     BO     CL     CO     CR     CU     DO     EC      ES  \\\n",
       "Diminutive                                                                    \n",
       "-illo        15659   3616   7498  17826   5747   6759   3765   6723   79982   \n",
       "-ito        124180  20636  49043  89451  21100  34229  20759  32258  300976   \n",
       "\n",
       "Variety        GT     HN      MX     NI     PA     PE     PR     PY     SV  \\\n",
       "Diminutive                                                                   \n",
       "-illo        4974   3257   26462   3144  12334  12192   3947   2651   3860   \n",
       "-ito        35648  18604  155934  19024  81959  81421  24790  16506  25121   \n",
       "\n",
       "Variety         US     UY  \n",
       "Diminutive                 \n",
       "-illo        20919   4275  \n",
       "-ito        112744  26923  "
      ]
     },
     "execution_count": 68,
     "metadata": {},
     "output_type": "execute_result"
    }
   ],
   "source": [
    "VarietyxDiminutive = master_DF.groupby('Diminutive').Variety.value_counts()\n",
    "VarietyxDiminutive.unstack()"
   ]
  },
  {
   "cell_type": "code",
   "execution_count": 69,
   "metadata": {},
   "outputs": [
    {
     "data": {
      "text/html": [
       "<div>\n",
       "<style scoped>\n",
       "    .dataframe tbody tr th:only-of-type {\n",
       "        vertical-align: middle;\n",
       "    }\n",
       "\n",
       "    .dataframe tbody tr th {\n",
       "        vertical-align: top;\n",
       "    }\n",
       "\n",
       "    .dataframe thead th {\n",
       "        text-align: right;\n",
       "    }\n",
       "</style>\n",
       "<table border=\"1\" class=\"dataframe\">\n",
       "  <thead>\n",
       "    <tr style=\"text-align: right;\">\n",
       "      <th></th>\n",
       "      <th></th>\n",
       "      <th>count</th>\n",
       "      <th>unique</th>\n",
       "      <th>top</th>\n",
       "      <th>freq</th>\n",
       "    </tr>\n",
       "    <tr>\n",
       "      <th>Variety</th>\n",
       "      <th>POS_binary</th>\n",
       "      <th></th>\n",
       "      <th></th>\n",
       "      <th></th>\n",
       "      <th></th>\n",
       "    </tr>\n",
       "  </thead>\n",
       "  <tbody>\n",
       "    <tr>\n",
       "      <td rowspan=\"2\" valign=\"top\">AR</td>\n",
       "      <td>j</td>\n",
       "      <td>31612</td>\n",
       "      <td>2</td>\n",
       "      <td>-ito</td>\n",
       "      <td>31039</td>\n",
       "    </tr>\n",
       "    <tr>\n",
       "      <td>n</td>\n",
       "      <td>108227</td>\n",
       "      <td>2</td>\n",
       "      <td>-ito</td>\n",
       "      <td>93141</td>\n",
       "    </tr>\n",
       "    <tr>\n",
       "      <td rowspan=\"2\" valign=\"top\">BO</td>\n",
       "      <td>j</td>\n",
       "      <td>6016</td>\n",
       "      <td>2</td>\n",
       "      <td>-ito</td>\n",
       "      <td>5777</td>\n",
       "    </tr>\n",
       "    <tr>\n",
       "      <td>n</td>\n",
       "      <td>18236</td>\n",
       "      <td>2</td>\n",
       "      <td>-ito</td>\n",
       "      <td>14859</td>\n",
       "    </tr>\n",
       "    <tr>\n",
       "      <td rowspan=\"2\" valign=\"top\">CL</td>\n",
       "      <td>j</td>\n",
       "      <td>13996</td>\n",
       "      <td>2</td>\n",
       "      <td>-ito</td>\n",
       "      <td>13508</td>\n",
       "    </tr>\n",
       "    <tr>\n",
       "      <td>n</td>\n",
       "      <td>42545</td>\n",
       "      <td>2</td>\n",
       "      <td>-ito</td>\n",
       "      <td>35535</td>\n",
       "    </tr>\n",
       "    <tr>\n",
       "      <td rowspan=\"2\" valign=\"top\">CO</td>\n",
       "      <td>j</td>\n",
       "      <td>26475</td>\n",
       "      <td>2</td>\n",
       "      <td>-ito</td>\n",
       "      <td>25293</td>\n",
       "    </tr>\n",
       "    <tr>\n",
       "      <td>n</td>\n",
       "      <td>80802</td>\n",
       "      <td>2</td>\n",
       "      <td>-ito</td>\n",
       "      <td>64158</td>\n",
       "    </tr>\n",
       "    <tr>\n",
       "      <td rowspan=\"2\" valign=\"top\">CR</td>\n",
       "      <td>j</td>\n",
       "      <td>5648</td>\n",
       "      <td>2</td>\n",
       "      <td>-ito</td>\n",
       "      <td>5198</td>\n",
       "    </tr>\n",
       "    <tr>\n",
       "      <td>n</td>\n",
       "      <td>21199</td>\n",
       "      <td>2</td>\n",
       "      <td>-ito</td>\n",
       "      <td>15902</td>\n",
       "    </tr>\n",
       "    <tr>\n",
       "      <td rowspan=\"2\" valign=\"top\">CU</td>\n",
       "      <td>j</td>\n",
       "      <td>10519</td>\n",
       "      <td>2</td>\n",
       "      <td>-ito</td>\n",
       "      <td>10308</td>\n",
       "    </tr>\n",
       "    <tr>\n",
       "      <td>n</td>\n",
       "      <td>30469</td>\n",
       "      <td>2</td>\n",
       "      <td>-ito</td>\n",
       "      <td>23921</td>\n",
       "    </tr>\n",
       "    <tr>\n",
       "      <td rowspan=\"2\" valign=\"top\">DO</td>\n",
       "      <td>j</td>\n",
       "      <td>5704</td>\n",
       "      <td>2</td>\n",
       "      <td>-ito</td>\n",
       "      <td>5186</td>\n",
       "    </tr>\n",
       "    <tr>\n",
       "      <td>n</td>\n",
       "      <td>18820</td>\n",
       "      <td>2</td>\n",
       "      <td>-ito</td>\n",
       "      <td>15573</td>\n",
       "    </tr>\n",
       "    <tr>\n",
       "      <td rowspan=\"2\" valign=\"top\">EC</td>\n",
       "      <td>j</td>\n",
       "      <td>9936</td>\n",
       "      <td>2</td>\n",
       "      <td>-ito</td>\n",
       "      <td>9663</td>\n",
       "    </tr>\n",
       "    <tr>\n",
       "      <td>n</td>\n",
       "      <td>29045</td>\n",
       "      <td>2</td>\n",
       "      <td>-ito</td>\n",
       "      <td>22595</td>\n",
       "    </tr>\n",
       "    <tr>\n",
       "      <td rowspan=\"2\" valign=\"top\">ES</td>\n",
       "      <td>j</td>\n",
       "      <td>87777</td>\n",
       "      <td>2</td>\n",
       "      <td>-ito</td>\n",
       "      <td>81433</td>\n",
       "    </tr>\n",
       "    <tr>\n",
       "      <td>n</td>\n",
       "      <td>293181</td>\n",
       "      <td>2</td>\n",
       "      <td>-ito</td>\n",
       "      <td>219543</td>\n",
       "    </tr>\n",
       "    <tr>\n",
       "      <td rowspan=\"2\" valign=\"top\">GT</td>\n",
       "      <td>j</td>\n",
       "      <td>8475</td>\n",
       "      <td>2</td>\n",
       "      <td>-ito</td>\n",
       "      <td>8209</td>\n",
       "    </tr>\n",
       "    <tr>\n",
       "      <td>n</td>\n",
       "      <td>32147</td>\n",
       "      <td>2</td>\n",
       "      <td>-ito</td>\n",
       "      <td>27439</td>\n",
       "    </tr>\n",
       "    <tr>\n",
       "      <td rowspan=\"2\" valign=\"top\">HN</td>\n",
       "      <td>j</td>\n",
       "      <td>5240</td>\n",
       "      <td>2</td>\n",
       "      <td>-ito</td>\n",
       "      <td>5049</td>\n",
       "    </tr>\n",
       "    <tr>\n",
       "      <td>n</td>\n",
       "      <td>16621</td>\n",
       "      <td>2</td>\n",
       "      <td>-ito</td>\n",
       "      <td>13555</td>\n",
       "    </tr>\n",
       "    <tr>\n",
       "      <td rowspan=\"2\" valign=\"top\">MX</td>\n",
       "      <td>j</td>\n",
       "      <td>42440</td>\n",
       "      <td>2</td>\n",
       "      <td>-ito</td>\n",
       "      <td>41058</td>\n",
       "    </tr>\n",
       "    <tr>\n",
       "      <td>n</td>\n",
       "      <td>139956</td>\n",
       "      <td>2</td>\n",
       "      <td>-ito</td>\n",
       "      <td>114876</td>\n",
       "    </tr>\n",
       "    <tr>\n",
       "      <td rowspan=\"2\" valign=\"top\">NI</td>\n",
       "      <td>j</td>\n",
       "      <td>5113</td>\n",
       "      <td>2</td>\n",
       "      <td>-ito</td>\n",
       "      <td>4919</td>\n",
       "    </tr>\n",
       "    <tr>\n",
       "      <td>n</td>\n",
       "      <td>17055</td>\n",
       "      <td>2</td>\n",
       "      <td>-ito</td>\n",
       "      <td>14105</td>\n",
       "    </tr>\n",
       "    <tr>\n",
       "      <td rowspan=\"2\" valign=\"top\">PA</td>\n",
       "      <td>j</td>\n",
       "      <td>22825</td>\n",
       "      <td>2</td>\n",
       "      <td>-ito</td>\n",
       "      <td>22052</td>\n",
       "    </tr>\n",
       "    <tr>\n",
       "      <td>n</td>\n",
       "      <td>71468</td>\n",
       "      <td>2</td>\n",
       "      <td>-ito</td>\n",
       "      <td>59907</td>\n",
       "    </tr>\n",
       "    <tr>\n",
       "      <td rowspan=\"2\" valign=\"top\">PE</td>\n",
       "      <td>j</td>\n",
       "      <td>22676</td>\n",
       "      <td>2</td>\n",
       "      <td>-ito</td>\n",
       "      <td>21915</td>\n",
       "    </tr>\n",
       "    <tr>\n",
       "      <td>n</td>\n",
       "      <td>70937</td>\n",
       "      <td>2</td>\n",
       "      <td>-ito</td>\n",
       "      <td>59506</td>\n",
       "    </tr>\n",
       "    <tr>\n",
       "      <td rowspan=\"2\" valign=\"top\">PR</td>\n",
       "      <td>j</td>\n",
       "      <td>6600</td>\n",
       "      <td>2</td>\n",
       "      <td>-ito</td>\n",
       "      <td>6358</td>\n",
       "    </tr>\n",
       "    <tr>\n",
       "      <td>n</td>\n",
       "      <td>22137</td>\n",
       "      <td>2</td>\n",
       "      <td>-ito</td>\n",
       "      <td>18432</td>\n",
       "    </tr>\n",
       "    <tr>\n",
       "      <td rowspan=\"2\" valign=\"top\">PY</td>\n",
       "      <td>j</td>\n",
       "      <td>4396</td>\n",
       "      <td>2</td>\n",
       "      <td>-ito</td>\n",
       "      <td>4291</td>\n",
       "    </tr>\n",
       "    <tr>\n",
       "      <td>n</td>\n",
       "      <td>14761</td>\n",
       "      <td>2</td>\n",
       "      <td>-ito</td>\n",
       "      <td>12215</td>\n",
       "    </tr>\n",
       "    <tr>\n",
       "      <td rowspan=\"2\" valign=\"top\">SV</td>\n",
       "      <td>j</td>\n",
       "      <td>6846</td>\n",
       "      <td>2</td>\n",
       "      <td>-ito</td>\n",
       "      <td>6537</td>\n",
       "    </tr>\n",
       "    <tr>\n",
       "      <td>n</td>\n",
       "      <td>22135</td>\n",
       "      <td>2</td>\n",
       "      <td>-ito</td>\n",
       "      <td>18584</td>\n",
       "    </tr>\n",
       "    <tr>\n",
       "      <td rowspan=\"2\" valign=\"top\">US</td>\n",
       "      <td>j</td>\n",
       "      <td>31149</td>\n",
       "      <td>2</td>\n",
       "      <td>-ito</td>\n",
       "      <td>29812</td>\n",
       "    </tr>\n",
       "    <tr>\n",
       "      <td>n</td>\n",
       "      <td>102514</td>\n",
       "      <td>2</td>\n",
       "      <td>-ito</td>\n",
       "      <td>82932</td>\n",
       "    </tr>\n",
       "    <tr>\n",
       "      <td rowspan=\"2\" valign=\"top\">UY</td>\n",
       "      <td>j</td>\n",
       "      <td>7110</td>\n",
       "      <td>2</td>\n",
       "      <td>-ito</td>\n",
       "      <td>6947</td>\n",
       "    </tr>\n",
       "    <tr>\n",
       "      <td>n</td>\n",
       "      <td>24088</td>\n",
       "      <td>2</td>\n",
       "      <td>-ito</td>\n",
       "      <td>19976</td>\n",
       "    </tr>\n",
       "  </tbody>\n",
       "</table>\n",
       "</div>"
      ],
      "text/plain": [
       "                     count unique   top    freq\n",
       "Variety POS_binary                             \n",
       "AR      j            31612      2  -ito   31039\n",
       "        n           108227      2  -ito   93141\n",
       "BO      j             6016      2  -ito    5777\n",
       "        n            18236      2  -ito   14859\n",
       "CL      j            13996      2  -ito   13508\n",
       "        n            42545      2  -ito   35535\n",
       "CO      j            26475      2  -ito   25293\n",
       "        n            80802      2  -ito   64158\n",
       "CR      j             5648      2  -ito    5198\n",
       "        n            21199      2  -ito   15902\n",
       "CU      j            10519      2  -ito   10308\n",
       "        n            30469      2  -ito   23921\n",
       "DO      j             5704      2  -ito    5186\n",
       "        n            18820      2  -ito   15573\n",
       "EC      j             9936      2  -ito    9663\n",
       "        n            29045      2  -ito   22595\n",
       "ES      j            87777      2  -ito   81433\n",
       "        n           293181      2  -ito  219543\n",
       "GT      j             8475      2  -ito    8209\n",
       "        n            32147      2  -ito   27439\n",
       "HN      j             5240      2  -ito    5049\n",
       "        n            16621      2  -ito   13555\n",
       "MX      j            42440      2  -ito   41058\n",
       "        n           139956      2  -ito  114876\n",
       "NI      j             5113      2  -ito    4919\n",
       "        n            17055      2  -ito   14105\n",
       "PA      j            22825      2  -ito   22052\n",
       "        n            71468      2  -ito   59907\n",
       "PE      j            22676      2  -ito   21915\n",
       "        n            70937      2  -ito   59506\n",
       "PR      j             6600      2  -ito    6358\n",
       "        n            22137      2  -ito   18432\n",
       "PY      j             4396      2  -ito    4291\n",
       "        n            14761      2  -ito   12215\n",
       "SV      j             6846      2  -ito    6537\n",
       "        n            22135      2  -ito   18584\n",
       "US      j            31149      2  -ito   29812\n",
       "        n           102514      2  -ito   82932\n",
       "UY      j             7110      2  -ito    6947\n",
       "        n            24088      2  -ito   19976"
      ]
     },
     "execution_count": 69,
     "metadata": {},
     "output_type": "execute_result"
    }
   ],
   "source": [
    "DiminutivexVariety_POS = master_DF.groupby(['Variety','POS_binary']).Diminutive.describe()\n",
    "DiminutivexVariety_POS"
   ]
  },
  {
   "cell_type": "code",
   "execution_count": 70,
   "metadata": {},
   "outputs": [
    {
     "data": {
      "text/plain": [
       "<matplotlib.axes._subplots.AxesSubplot object at 0x0000026BDC1FE888>"
      ]
     },
     "execution_count": 70,
     "metadata": {},
     "output_type": "execute_result"
    },
    {
     "data": {
      "image/png": "[encoded data removed]",
      "text/plain": [
       "<Figure size 576x288 with 1 Axes>"
      ]
     },
     "metadata": {
      "needs_background": "light"
     },
     "output_type": "display_data"
    }
   ],
   "source": [
    "# Plot the Time Zone data as a bar-graph\n",
    "DiminutivexPOS.unstack().plot.barh(rot=0, figsize=(8,4),title='Figure 1. Diminutive tokens by POS')"
   ]
  },
  {
   "cell_type": "code",
   "execution_count": 71,
   "metadata": {},
   "outputs": [
    {
     "data": {
      "text/plain": [
       "<matplotlib.axes._subplots.AxesSubplot object at 0x0000026BDC1EA6C8>"
      ]
     },
     "execution_count": 71,
     "metadata": {},
     "output_type": "execute_result"
    },
    {
     "data": {
      "image/png": "[encoded data removed]",
      "text/plain": [
       "<Figure size 576x576 with 1 Axes>"
      ]
     },
     "metadata": {
      "needs_background": "light"
     },
     "output_type": "display_data"
    }
   ],
   "source": [
    "DiminutivexVariety.unstack().plot.barh(rot=0,figsize=(8,8),title ='Figure 2. Diminutive tokens by country.')"
   ]
  },
  {
   "cell_type": "code",
   "execution_count": 72,
   "metadata": {},
   "outputs": [
    {
     "data": {
      "text/plain": [
       "array([<matplotlib.axes._subplots.AxesSubplot object at 0x0000026BDC205E48>,\n",
       "       <matplotlib.axes._subplots.AxesSubplot object at 0x0000026BDC1B0608>],\n",
       "      dtype=object)"
      ]
     },
     "execution_count": 72,
     "metadata": {},
     "output_type": "execute_result"
    },
    {
     "data": {
      "image/png": "[encoded data removed]",
      "text/plain": [
       "<Figure size 576x576 with 2 Axes>"
      ]
     },
     "metadata": {
      "needs_background": "light"
     },
     "output_type": "display_data"
    }
   ],
   "source": [
    "# Plot the Time Zone data as a bar-graph\n",
    "DiminutivexVariety.unstack().plot.barh(rot=0, figsize=(8,8), \n",
    "                                       subplots=True, title ='Figure 3. Usage of -illo and -ito by country.')"
   ]
  },
  {
   "cell_type": "markdown",
   "metadata": {},
   "source": [
    "### 4. Storing files"
   ]
  },
  {
   "cell_type": "code",
   "execution_count": 73,
   "metadata": {},
   "outputs": [],
   "source": [
    "f = open ('master_DF.pkl', 'wb')\n",
    "pickle.dump(master_DF, f, -1)\n",
    "f.close()"
   ]
  }
 ],
 "metadata": {
  "kernelspec": {
   "display_name": "Python 3",
   "language": "python",
   "name": "python3"
  },
  "language_info": {
   "codemirror_mode": {
    "name": "ipython",
    "version": 3
   },
   "file_extension": ".py",
   "mimetype": "text/x-python",
   "name": "python",
   "nbconvert_exporter": "python",
   "pygments_lexer": "ipython3",
   "version": "3.7.4"
  }
 },
 "nbformat": 4,
 "nbformat_minor": 2
}
