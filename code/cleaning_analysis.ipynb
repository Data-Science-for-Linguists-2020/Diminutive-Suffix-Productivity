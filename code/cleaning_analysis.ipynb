{
 "cells": [
  {
   "cell_type": "markdown",
   "metadata": {},
   "source": [
    "# Diminutive Suffix Productivity: further cleaning and exploratory  analysis\n",
    "Juan Berrios | jeb358@pitt.edu | Last updated: April 14, 2020"
   ]
  },
  {
   "cell_type": "markdown",
   "metadata": {},
   "source": [
    "**Summary and overview:**"
   ]
  },
  {
   "cell_type": "markdown",
   "metadata": {},
   "source": [
    "- This notebook is a continuation of the [corpus processing notebook](https://github.com/Data-Science-for-Linguists-2020/Diminutive-Suffix-Productivity/blob/master/code/corpus_processing.ipynb) in my repository. The purpose is to finish cleaning the data frame objects I've built (which were previously pickled in order to be loaded here) and create a master, cross-dialectal data frame for exploratory analysis."
   ]
  },
  {
   "cell_type": "markdown",
   "metadata": {},
   "source": [
    "**Contents:**\n",
    "1. [Preparation](#1.-Preparation): includes the necessary preparations and loading of the files.\n",
    "2. [Further cleaning and manipulation](#2.-Further-cleaning-and-manipulation): includes code for performing further cleaning on the data. New, refined columns needed for explatory analysis are also added.\n",
    "3. [Exploratory analysis](#3.-Exploratory-analysis): the start of the analysis, with a focus on descriptive statistics and data visualization.\n",
    "4. [Storing files](#4.-Storing-files): includes code for storing the results as pickled files."
   ]
  },
  {
   "cell_type": "markdown",
   "metadata": {},
   "source": [
    "## 1. Preparation"
   ]
  },
  {
   "cell_type": "markdown",
   "metadata": {},
   "source": [
    "- Loading libraries and additional settings:"
   ]
  },
  {
   "cell_type": "code",
   "execution_count": 1,
   "metadata": {},
   "outputs": [
    {
     "name": "stdout",
     "output_type": "stream",
     "text": [
      "Pretty printing has been turned OFF\n"
     ]
    }
   ],
   "source": [
    "#Importing libraries\n",
    "import pickle, re\n",
    "import pandas as pd\n",
    "import numpy as np\n",
    "import matplotlib\n",
    "import matplotlib.pyplot as plt\n",
    "\n",
    "#Turning pretty print off:\n",
    "%pprint\n",
    "\n",
    "# Settings for plotting\n",
    "\n",
    "matplotlib.rcParams['font.sans-serif'] = \"Century Gothic\"\n",
    "matplotlib.rcParams['font.family'] = \"sans-serif\"\n",
    "matplotlib.rcParams['axes.titlesize'] = 18\n",
    "matplotlib.rcParams['axes.labelsize'] = 14\n",
    "\n",
    "#Releasing all output:                                            \n",
    "from IPython.core.interactiveshell import InteractiveShell #Prints all commands rather than the last one.\n",
    "InteractiveShell.ast_node_interactivity = \"all\""
   ]
  },
  {
   "cell_type": "markdown",
   "metadata": {},
   "source": [
    "- Loading pickle files:"
   ]
  },
  {
   "cell_type": "code",
   "execution_count": 2,
   "metadata": {},
   "outputs": [],
   "source": [
    "ar_DF = pd.read_pickle('pkl/ar_DF.pkl')\n",
    "bo_DF = pd.read_pickle('pkl/bo_DF.pkl')\n",
    "cl_DF = pd.read_pickle('pkl/cl_DF.pkl')\n",
    "co_DF = pd.read_pickle('pkl/co_DF.pkl')\n",
    "cr_DF = pd.read_pickle('pkl/cr_DF.pkl')\n",
    "cu_DF = pd.read_pickle('pkl/cu_DF.pkl')\n",
    "do_DF = pd.read_pickle('pkl/do_DF.pkl')\n",
    "ec_DF = pd.read_pickle('pkl/ec_DF.pkl')\n",
    "es_DF = pd.read_pickle('pkl/es_DF.pkl')\n",
    "gt_DF = pd.read_pickle('pkl/gt_DF.pkl')\n",
    "hn_DF = pd.read_pickle('pkl/hn_DF.pkl')\n",
    "mx_DF = pd.read_pickle('pkl/mx_DF.pkl')\n",
    "ni_DF = pd.read_pickle('pkl/ni_DF.pkl')\n",
    "pa_DF = pd.read_pickle('pkl/pa_DF.pkl')\n",
    "pe_DF = pd.read_pickle('pkl/pe_DF.pkl')\n",
    "pr_DF = pd.read_pickle('pkl/pr_DF.pkl')\n",
    "py_DF = pd.read_pickle('pkl/py_DF.pkl')\n",
    "sv_DF = pd.read_pickle('pkl/sv_DF.pkl')\n",
    "us_DF = pd.read_pickle('pkl/us_DF.pkl')\n",
    "uy_DF = pd.read_pickle('pkl/uy_DF.pkl')"
   ]
  },
  {
   "cell_type": "markdown",
   "metadata": {},
   "source": [
    "- Looks good. Now let's take a first look at the size (number of rows, since all have 6 colums) of the data frames as they are:"
   ]
  },
  {
   "cell_type": "code",
   "execution_count": 3,
   "metadata": {},
   "outputs": [
    {
     "name": "stdout",
     "output_type": "stream",
     "text": [
      "Argentina rows: 660311\n",
      "Bolivia rows: 154638\n",
      "Chile rows: 268361\n",
      "Colombia rows: 693246\n",
      "Costa Rica: 136838\n",
      "Cuba rows: 233697\n",
      "Dominican Republic rows: 156046\n",
      "Ecuador rows: 250880\n",
      "Spain rows: 1872540\n",
      "Guatemala rows: 242961\n",
      "Honduras rows: 148014\n",
      "Mexico rows: 1012937\n",
      "Nicaragua rows: 140314\n",
      "Panama rows: 104494\n",
      "Peru rows: 483191\n",
      "Puerto Rico rows: 157161\n",
      "Paraguay rows: 112066\n",
      "El Salvador rows: 159553\n",
      "US rows rows: 679110\n",
      "Uruguay rows: 147800\n"
     ]
    }
   ],
   "source": [
    "print('Argentina rows:', ar_DF.shape[0])\n",
    "print('Bolivia rows:', bo_DF.shape[0])\n",
    "print('Chile rows:', cl_DF.shape[0])\n",
    "print('Colombia rows:', co_DF.shape[0])\n",
    "print('Costa Rica:', cr_DF.shape[0])\n",
    "print('Cuba rows:', cu_DF.shape[0])\n",
    "print('Dominican Republic rows:', do_DF.shape[0])\n",
    "print('Ecuador rows:', ec_DF.shape[0])\n",
    "print('Spain rows:', es_DF.shape[0])\n",
    "print('Guatemala rows:', gt_DF.shape[0])\n",
    "print('Honduras rows:', hn_DF.shape[0])\n",
    "print('Mexico rows:', mx_DF.shape[0])\n",
    "print('Nicaragua rows:', ni_DF.shape[0])\n",
    "print('Panama rows:', pa_DF.shape[0])\n",
    "print('Peru rows:', pe_DF.shape[0])\n",
    "print('Puerto Rico rows:', pr_DF.shape[0])\n",
    "print('Paraguay rows:', py_DF.shape[0])\n",
    "print('El Salvador rows:', sv_DF.shape[0])\n",
    "print('US rows rows:', us_DF.shape[0])\n",
    "print('Uruguay rows:', uy_DF.shape[0])"
   ]
  },
  {
   "cell_type": "markdown",
   "metadata": {},
   "source": [
    "- And as a last step to use less memory and write shorter, more efficient code let's build a master data frame that includes all varieties. Since there is a `Variety` column that I added in the first notebook, the rows can be properly identified and I can go back to the individual by-variety data frames if needed. I'll also verify how large it is."
   ]
  },
  {
   "cell_type": "code",
   "execution_count": 4,
   "metadata": {},
   "outputs": [],
   "source": [
    "master_DF = pd.concat([ar_DF, bo_DF, cl_DF, co_DF, cr_DF, cu_DF, do_DF, ec_DF, es_DF, gt_DF, hn_DF,\n",
    "                mx_DF, ni_DF, pa_DF, pe_DF, pr_DF, py_DF, sv_DF, us_DF, uy_DF], sort=True)"
   ]
  },
  {
   "cell_type": "code",
   "execution_count": 5,
   "metadata": {},
   "outputs": [
    {
     "name": "stdout",
     "output_type": "stream",
     "text": [
      "Master rows: 7814158\n"
     ]
    }
   ],
   "source": [
    "print('Master rows:', master_DF.shape[0])"
   ]
  },
  {
   "cell_type": "markdown",
   "metadata": {},
   "source": [
    "- I noticed that some data frames had NaN values, which might be why I was running into some issues in the prior notebook (the test one didn't have any). To make sure that won't be a problem anymore I'll drop those rows:"
   ]
  },
  {
   "cell_type": "code",
   "execution_count": 6,
   "metadata": {},
   "outputs": [],
   "source": [
    "master_DF = master_DF.dropna() "
   ]
  },
  {
   "cell_type": "code",
   "execution_count": 7,
   "metadata": {},
   "outputs": [
    {
     "name": "stdout",
     "output_type": "stream",
     "text": [
      "Master rows: 7814158\n"
     ]
    }
   ],
   "source": [
    "print('Master rows:', master_DF.shape[0])"
   ]
  },
  {
   "cell_type": "code",
   "execution_count": 8,
   "metadata": {},
   "outputs": [
    {
     "data": {
      "text/plain": [
       "Index(['Lemma', 'POS', 'SourceID', 'TokenID', 'Variety', 'Word'], dtype='object')"
      ]
     },
     "execution_count": 8,
     "metadata": {},
     "output_type": "execute_result"
    }
   ],
   "source": [
    "master_DF.keys() #The order of the columns was shuffled, to turn it back:"
   ]
  },
  {
   "cell_type": "code",
   "execution_count": 9,
   "metadata": {},
   "outputs": [],
   "source": [
    "master_DF = master_DF[['SourceID', 'TokenID', 'Lemma', 'Word', 'POS', 'Variety']]"
   ]
  },
  {
   "cell_type": "code",
   "execution_count": 10,
   "metadata": {},
   "outputs": [
    {
     "data": {
      "text/plain": [
       "Index(['SourceID', 'TokenID', 'Lemma', 'Word', 'POS', 'Variety'], dtype='object')"
      ]
     },
     "execution_count": 10,
     "metadata": {},
     "output_type": "execute_result"
    }
   ],
   "source": [
    "master_DF.keys() #Success"
   ]
  },
  {
   "cell_type": "markdown",
   "metadata": {},
   "source": [
    "## 2. Further cleaning and manipulation"
   ]
  },
  {
   "cell_type": "markdown",
   "metadata": {},
   "source": [
    "- In the first notebook I reduced a gigantic amount (30GB when zipped) of data to manageable smaller sizes. The data frames as they are only include tokens that end in the segments of interest. The problem is that many of those just happen to end in the same segments as diminutives but are not diminutives themselves. To solve this problem, let's first remove categories to which the morphological pattern doesn't apply (and refine the POS column in the process):"
   ]
  },
  {
   "cell_type": "code",
   "execution_count": 11,
   "metadata": {},
   "outputs": [
    {
     "data": {
      "text/plain": [
       "n           1344048\n",
       "nms         1244791\n",
       "o            863537\n",
       "nmp          743416\n",
       "nfs          685679\n",
       "vip-3s       587155\n",
       "nfp          402123\n",
       "jms          355214\n",
       "j            352325\n",
       "jfs          314719\n",
       "vip-1s       224604\n",
       "vps-ms       124389\n",
       "jmp          116276\n",
       "jfp          108247\n",
       "vsp-1/3s      95586\n",
       "vip-2s        80953\n",
       "r             48042\n",
       "v             43731\n",
       "vps-fs        34918\n",
       "vps-mp        18749\n",
       "vps-fp        13627\n",
       "vsp-2s         6653\n",
       "x              1891\n",
       "np             1509\n",
       "m$             1080\n",
       "i               402\n",
       "vr              208\n",
       "fn              153\n",
       "vm-2s            99\n",
       "xy               17\n",
       "e                13\n",
       "y                 3\n",
       "vm-3s             1\n",
       "Name: POS, dtype: int64"
      ]
     },
     "execution_count": 11,
     "metadata": {},
     "output_type": "execute_result"
    }
   ],
   "source": [
    "master_DF['POS'].value_counts() #Most of this I don't need"
   ]
  },
  {
   "cell_type": "code",
   "execution_count": 12,
   "metadata": {},
   "outputs": [],
   "source": [
    "master_DF = master_DF[master_DF['POS'].str.contains('n|j')] #Extracts only noun and adjective classes. A very limited\n",
    "                                                            #set of gerunds can also take diminutive suffixes but the \n",
    "                                                            #amount is negligeable and won't be enough for analysis so \n",
    "                                                            #I'll exclude them."
   ]
  },
  {
   "cell_type": "code",
   "execution_count": 13,
   "metadata": {},
   "outputs": [
    {
     "data": {
      "text/plain": [
       "(5668500, 6)"
      ]
     },
     "execution_count": 13,
     "metadata": {},
     "output_type": "execute_result"
    }
   ],
   "source": [
    "master_DF.shape #Current size"
   ]
  },
  {
   "cell_type": "code",
   "execution_count": 14,
   "metadata": {},
   "outputs": [
    {
     "data": {
      "text/plain": [
       "n          1344048\n",
       "nms        1244791\n",
       "nmp         743416\n",
       "nfs         685679\n",
       "nfp         402123\n",
       "jms         355214\n",
       "j           352325\n",
       "jfs         314719\n",
       "jmp         116276\n",
       "jfp         108247\n",
       "np            1509\n",
       "fn             153\n",
       "Name: POS, dtype: int64"
      ]
     },
     "execution_count": 14,
     "metadata": {},
     "output_type": "execute_result"
    }
   ],
   "source": [
    "master_DF['POS'].value_counts() #That last category is the only one that shouldn't be there. Let's remove it."
   ]
  },
  {
   "cell_type": "code",
   "execution_count": 15,
   "metadata": {},
   "outputs": [],
   "source": [
    "master_DF = master_DF[master_DF['POS'] != ('fn')] "
   ]
  },
  {
   "cell_type": "code",
   "execution_count": 16,
   "metadata": {
    "scrolled": true
   },
   "outputs": [
    {
     "data": {
      "text/plain": [
       "n          1344048\n",
       "nms        1244791\n",
       "nmp         743416\n",
       "nfs         685679\n",
       "nfp         402123\n",
       "jms         355214\n",
       "j           352325\n",
       "jfs         314719\n",
       "jmp         116276\n",
       "jfp         108247\n",
       "np            1509\n",
       "Name: POS, dtype: int64"
      ]
     },
     "execution_count": 16,
     "metadata": {},
     "output_type": "execute_result"
    }
   ],
   "source": [
    "master_DF['POS'].value_counts() #Success. "
   ]
  },
  {
   "cell_type": "code",
   "execution_count": 17,
   "metadata": {},
   "outputs": [
    {
     "data": {
      "text/html": [
       "<div>\n",
       "<style scoped>\n",
       "    .dataframe tbody tr th:only-of-type {\n",
       "        vertical-align: middle;\n",
       "    }\n",
       "\n",
       "    .dataframe tbody tr th {\n",
       "        vertical-align: top;\n",
       "    }\n",
       "\n",
       "    .dataframe thead th {\n",
       "        text-align: right;\n",
       "    }\n",
       "</style>\n",
       "<table border=\"1\" class=\"dataframe\">\n",
       "  <thead>\n",
       "    <tr style=\"text-align: right;\">\n",
       "      <th></th>\n",
       "      <th>SourceID</th>\n",
       "      <th>TokenID</th>\n",
       "      <th>Lemma</th>\n",
       "      <th>Word</th>\n",
       "      <th>POS</th>\n",
       "      <th>Variety</th>\n",
       "    </tr>\n",
       "  </thead>\n",
       "  <tbody>\n",
       "    <tr>\n",
       "      <td>3685086</td>\n",
       "      <td>716524</td>\n",
       "      <td>2445457151</td>\n",
       "      <td>trapito</td>\n",
       "      <td>trapito</td>\n",
       "      <td>n</td>\n",
       "      <td>GT</td>\n",
       "    </tr>\n",
       "    <tr>\n",
       "      <td>1298920</td>\n",
       "      <td>963445</td>\n",
       "      <td>857802800</td>\n",
       "      <td>guerrillo</td>\n",
       "      <td>guerrillos</td>\n",
       "      <td>nmp</td>\n",
       "      <td>PA</td>\n",
       "    </tr>\n",
       "    <tr>\n",
       "      <td>2349376</td>\n",
       "      <td>2172794</td>\n",
       "      <td>708230677</td>\n",
       "      <td>zapatilla</td>\n",
       "      <td>zapatillas</td>\n",
       "      <td>nfp</td>\n",
       "      <td>PE</td>\n",
       "    </tr>\n",
       "    <tr>\n",
       "      <td>7970055</td>\n",
       "      <td>88862</td>\n",
       "      <td>239502053</td>\n",
       "      <td>señorita</td>\n",
       "      <td>señorita</td>\n",
       "      <td>nfs</td>\n",
       "      <td>AR</td>\n",
       "    </tr>\n",
       "    <tr>\n",
       "      <td>1699001</td>\n",
       "      <td>1084921</td>\n",
       "      <td>11746053</td>\n",
       "      <td>pesadilla</td>\n",
       "      <td>pesadilla</td>\n",
       "      <td>nfs</td>\n",
       "      <td>PY</td>\n",
       "    </tr>\n",
       "  </tbody>\n",
       "</table>\n",
       "</div>"
      ],
      "text/plain": [
       "        SourceID     TokenID      Lemma        Word      POS Variety\n",
       "3685086   716524  2445457151    trapito     trapito        n      GT\n",
       "1298920   963445   857802800  guerrillo  guerrillos  nmp          PA\n",
       "2349376  2172794   708230677  zapatilla  zapatillas  nfp          PE\n",
       "7970055    88862   239502053   señorita    señorita  nfs          AR\n",
       "1699001  1084921    11746053  pesadilla   pesadilla  nfs          PY"
      ]
     },
     "execution_count": 17,
     "metadata": {},
     "output_type": "execute_result"
    }
   ],
   "source": [
    "master_DF.sample(5) #Let's take a sample to make sure all's going well:"
   ]
  },
  {
   "cell_type": "markdown",
   "metadata": {},
   "source": [
    "- The POS column provides useful information that I might use for linguistic analysis, so let's refine it:"
   ]
  },
  {
   "cell_type": "code",
   "execution_count": 18,
   "metadata": {},
   "outputs": [
    {
     "data": {
      "text/plain": [
       "array(['nmp    ', 'nfs    ', 'n', 'jfs    ', 'nms    ', 'nfp    ', 'j',\n",
       "       'jms    ', 'jmp    ', 'jfp    ', 'np'], dtype=object)"
      ]
     },
     "execution_count": 18,
     "metadata": {},
     "output_type": "execute_result"
    }
   ],
   "source": [
    "master_DF['POS'].unique()"
   ]
  },
  {
   "cell_type": "markdown",
   "metadata": {},
   "source": [
    "- There are two main problems here. First, that for some reason I couldn't find in the documentation some tokens were not tagged for gender and number (those tagged 'j' and 'n'). Secondly, there is extraneous white space in some categories, which was giving me issues when first trying out the code. Let's take care of one issue at a time:"
   ]
  },
  {
   "cell_type": "code",
   "execution_count": 19,
   "metadata": {},
   "outputs": [],
   "source": [
    "master_DF['POS'] = master_DF['POS'].str.strip()"
   ]
  },
  {
   "cell_type": "code",
   "execution_count": 20,
   "metadata": {},
   "outputs": [
    {
     "data": {
      "text/plain": [
       "array(['nmp', 'nfs', 'n', 'jfs', 'nms', 'nfp', 'j', 'jms', 'jmp', 'jfp',\n",
       "       'np'], dtype=object)"
      ]
     },
     "execution_count": 20,
     "metadata": {},
     "output_type": "execute_result"
    }
   ],
   "source": [
    "master_DF['POS'].unique() #White space problem solved"
   ]
  },
  {
   "cell_type": "markdown",
   "metadata": {},
   "source": [
    "- Now I'll create a simplified, binary POS column where each token is either a noun or an adjective. Let's also make the coding more transparent while we are at it:"
   ]
  },
  {
   "cell_type": "code",
   "execution_count": 21,
   "metadata": {},
   "outputs": [],
   "source": [
    "pos_dict = {'n': 'Noun', 'nms': 'Noun', 'nfs': 'Noun', 'nmp': 'Noun', 'nfp': 'Noun', 'np': 'Noun', \n",
    "             'j': 'Adjective', 'jms': 'Adjective', 'jfs': 'Adjective', 'jmp': 'Adjective', 'jfp': 'Adjective'}"
   ]
  },
  {
   "cell_type": "code",
   "execution_count": 22,
   "metadata": {},
   "outputs": [],
   "source": [
    "master_DF['POS_binary'] = master_DF['POS'].map(pos_dict)"
   ]
  },
  {
   "cell_type": "code",
   "execution_count": 23,
   "metadata": {},
   "outputs": [
    {
     "data": {
      "text/html": [
       "<div>\n",
       "<style scoped>\n",
       "    .dataframe tbody tr th:only-of-type {\n",
       "        vertical-align: middle;\n",
       "    }\n",
       "\n",
       "    .dataframe tbody tr th {\n",
       "        vertical-align: top;\n",
       "    }\n",
       "\n",
       "    .dataframe thead th {\n",
       "        text-align: right;\n",
       "    }\n",
       "</style>\n",
       "<table border=\"1\" class=\"dataframe\">\n",
       "  <thead>\n",
       "    <tr style=\"text-align: right;\">\n",
       "      <th></th>\n",
       "      <th>SourceID</th>\n",
       "      <th>TokenID</th>\n",
       "      <th>Lemma</th>\n",
       "      <th>Word</th>\n",
       "      <th>POS</th>\n",
       "      <th>Variety</th>\n",
       "      <th>POS_binary</th>\n",
       "    </tr>\n",
       "  </thead>\n",
       "  <tbody>\n",
       "    <tr>\n",
       "      <td>892786</td>\n",
       "      <td>958342</td>\n",
       "      <td>98425493</td>\n",
       "      <td>visita</td>\n",
       "      <td>visita</td>\n",
       "      <td>nfs</td>\n",
       "      <td>PA</td>\n",
       "      <td>Noun</td>\n",
       "    </tr>\n",
       "    <tr>\n",
       "      <td>27997066</td>\n",
       "      <td>674871</td>\n",
       "      <td>2192828279</td>\n",
       "      <td>teresito</td>\n",
       "      <td>teresita</td>\n",
       "      <td>j</td>\n",
       "      <td>ES</td>\n",
       "      <td>Adjective</td>\n",
       "    </tr>\n",
       "    <tr>\n",
       "      <td>5213216</td>\n",
       "      <td>1520474</td>\n",
       "      <td>622110247</td>\n",
       "      <td>grupito</td>\n",
       "      <td>grupito</td>\n",
       "      <td>n</td>\n",
       "      <td>CO</td>\n",
       "      <td>Noun</td>\n",
       "    </tr>\n",
       "    <tr>\n",
       "      <td>4296788</td>\n",
       "      <td>1002958</td>\n",
       "      <td>1725274318</td>\n",
       "      <td>manuscrito</td>\n",
       "      <td>manuscritos</td>\n",
       "      <td>nmp</td>\n",
       "      <td>PE</td>\n",
       "      <td>Noun</td>\n",
       "    </tr>\n",
       "    <tr>\n",
       "      <td>16260698</td>\n",
       "      <td>584933</td>\n",
       "      <td>502180509</td>\n",
       "      <td>palomita</td>\n",
       "      <td>Palomitas</td>\n",
       "      <td>nfp</td>\n",
       "      <td>ES</td>\n",
       "      <td>Noun</td>\n",
       "    </tr>\n",
       "    <tr>\n",
       "      <td>26428371</td>\n",
       "      <td>672264</td>\n",
       "      <td>564262587</td>\n",
       "      <td>xito</td>\n",
       "      <td>xito</td>\n",
       "      <td>n</td>\n",
       "      <td>ES</td>\n",
       "      <td>Noun</td>\n",
       "    </tr>\n",
       "    <tr>\n",
       "      <td>12216463</td>\n",
       "      <td>2094291</td>\n",
       "      <td>2036316817</td>\n",
       "      <td>éxito</td>\n",
       "      <td>éxito</td>\n",
       "      <td>n</td>\n",
       "      <td>MX</td>\n",
       "      <td>Noun</td>\n",
       "    </tr>\n",
       "    <tr>\n",
       "      <td>9165540</td>\n",
       "      <td>1742429</td>\n",
       "      <td>1828227169</td>\n",
       "      <td>plantilla</td>\n",
       "      <td>plantilla</td>\n",
       "      <td>nfs</td>\n",
       "      <td>ES</td>\n",
       "      <td>Noun</td>\n",
       "    </tr>\n",
       "    <tr>\n",
       "      <td>1425745</td>\n",
       "      <td>1631480</td>\n",
       "      <td>411363325</td>\n",
       "      <td>ámbito</td>\n",
       "      <td>ámbito</td>\n",
       "      <td>n</td>\n",
       "      <td>EC</td>\n",
       "      <td>Noun</td>\n",
       "    </tr>\n",
       "    <tr>\n",
       "      <td>10014093</td>\n",
       "      <td>2373673</td>\n",
       "      <td>430729199</td>\n",
       "      <td>sito</td>\n",
       "      <td>sito</td>\n",
       "      <td>jms</td>\n",
       "      <td>US</td>\n",
       "      <td>Adjective</td>\n",
       "    </tr>\n",
       "  </tbody>\n",
       "</table>\n",
       "</div>"
      ],
      "text/plain": [
       "         SourceID     TokenID       Lemma         Word  POS Variety POS_binary\n",
       "892786     958342    98425493      visita       visita  nfs      PA       Noun\n",
       "27997066   674871  2192828279    teresito     teresita    j      ES  Adjective\n",
       "5213216   1520474   622110247     grupito      grupito    n      CO       Noun\n",
       "4296788   1002958  1725274318  manuscrito  manuscritos  nmp      PE       Noun\n",
       "16260698   584933   502180509    palomita    Palomitas  nfp      ES       Noun\n",
       "26428371   672264   564262587        xito         xito    n      ES       Noun\n",
       "12216463  2094291  2036316817       éxito        éxito    n      MX       Noun\n",
       "9165540   1742429  1828227169   plantilla    plantilla  nfs      ES       Noun\n",
       "1425745   1631480   411363325      ámbito       ámbito    n      EC       Noun\n",
       "10014093  2373673   430729199        sito         sito  jms      US  Adjective"
      ]
     },
     "execution_count": 23,
     "metadata": {},
     "output_type": "execute_result"
    }
   ],
   "source": [
    "master_DF.sample(10) #It works. "
   ]
  },
  {
   "cell_type": "markdown",
   "metadata": {},
   "source": [
    "- As a solution for tokens that are not tagged for gender and number I'll create an 'Unknown label'. It is also possible to write code that will tag them based on certain patterns. Since that is not the focus of my analysis I won't do that now, but I might come back here if I have some extra time later. "
   ]
  },
  {
   "cell_type": "code",
   "execution_count": 24,
   "metadata": {},
   "outputs": [],
   "source": [
    "#Build dictionaries that map POS into desired gender and number values:\n",
    "\n",
    "number_dict = {'n': 'unknown', 'nms': 'singular', 'nfs': 'singular', 'nmp': 'plural', 'nfp': 'plural', \n",
    "                  'np': 'unknown', 'j': 'unknown', 'jms': 'singular', 'jfs': 'singular', 'jmp': 'plural', \n",
    "                  'jfp': 'plural'}\n",
    "\n",
    "gender_dict = {'n': 'unknown', 'nms': 'masculine', 'nfs': 'feminine', 'nmp': 'masculine', 'nfp': 'feminine', \n",
    "                  'np': 'unknown', 'j': 'unknown', 'jms': 'masculine', 'jfs': 'feminine', 'jmp': 'masculine', \n",
    "                  'jfp': 'feminine'}"
   ]
  },
  {
   "cell_type": "code",
   "execution_count": 25,
   "metadata": {},
   "outputs": [],
   "source": [
    "master_DF['Number'] = master_DF['POS'].map(number_dict) #Map new values"
   ]
  },
  {
   "cell_type": "code",
   "execution_count": 26,
   "metadata": {},
   "outputs": [
    {
     "data": {
      "text/html": [
       "<div>\n",
       "<style scoped>\n",
       "    .dataframe tbody tr th:only-of-type {\n",
       "        vertical-align: middle;\n",
       "    }\n",
       "\n",
       "    .dataframe tbody tr th {\n",
       "        vertical-align: top;\n",
       "    }\n",
       "\n",
       "    .dataframe thead th {\n",
       "        text-align: right;\n",
       "    }\n",
       "</style>\n",
       "<table border=\"1\" class=\"dataframe\">\n",
       "  <thead>\n",
       "    <tr style=\"text-align: right;\">\n",
       "      <th></th>\n",
       "      <th>SourceID</th>\n",
       "      <th>TokenID</th>\n",
       "      <th>Lemma</th>\n",
       "      <th>Word</th>\n",
       "      <th>POS</th>\n",
       "      <th>Variety</th>\n",
       "      <th>POS_binary</th>\n",
       "      <th>Number</th>\n",
       "    </tr>\n",
       "  </thead>\n",
       "  <tbody>\n",
       "    <tr>\n",
       "      <td>918500</td>\n",
       "      <td>1604269</td>\n",
       "      <td>1784698662</td>\n",
       "      <td>requisito</td>\n",
       "      <td>requisitos</td>\n",
       "      <td>nmp</td>\n",
       "      <td>DO</td>\n",
       "      <td>Noun</td>\n",
       "      <td>plural</td>\n",
       "    </tr>\n",
       "    <tr>\n",
       "      <td>10414581</td>\n",
       "      <td>2058428</td>\n",
       "      <td>1581845821</td>\n",
       "      <td>ámbito</td>\n",
       "      <td>ámbito</td>\n",
       "      <td>n</td>\n",
       "      <td>MX</td>\n",
       "      <td>Noun</td>\n",
       "      <td>unknown</td>\n",
       "    </tr>\n",
       "    <tr>\n",
       "      <td>10290905</td>\n",
       "      <td>532001</td>\n",
       "      <td>2813314</td>\n",
       "      <td>banquillo</td>\n",
       "      <td>banquillo</td>\n",
       "      <td>nms</td>\n",
       "      <td>ES</td>\n",
       "      <td>Noun</td>\n",
       "      <td>singular</td>\n",
       "    </tr>\n",
       "    <tr>\n",
       "      <td>13902918</td>\n",
       "      <td>1791611</td>\n",
       "      <td>2125077775</td>\n",
       "      <td>hoplita</td>\n",
       "      <td>hoplitas</td>\n",
       "      <td>n</td>\n",
       "      <td>ES</td>\n",
       "      <td>Noun</td>\n",
       "      <td>unknown</td>\n",
       "    </tr>\n",
       "    <tr>\n",
       "      <td>4271534</td>\n",
       "      <td>477543</td>\n",
       "      <td>397421144</td>\n",
       "      <td>hábito</td>\n",
       "      <td>hábitos</td>\n",
       "      <td>nmp</td>\n",
       "      <td>ES</td>\n",
       "      <td>Noun</td>\n",
       "      <td>plural</td>\n",
       "    </tr>\n",
       "  </tbody>\n",
       "</table>\n",
       "</div>"
      ],
      "text/plain": [
       "         SourceID     TokenID      Lemma        Word  POS Variety POS_binary  \\\n",
       "918500    1604269  1784698662  requisito  requisitos  nmp      DO       Noun   \n",
       "10414581  2058428  1581845821     ámbito      ámbito    n      MX       Noun   \n",
       "10290905   532001     2813314  banquillo   banquillo  nms      ES       Noun   \n",
       "13902918  1791611  2125077775    hoplita    hoplitas    n      ES       Noun   \n",
       "4271534    477543   397421144     hábito     hábitos  nmp      ES       Noun   \n",
       "\n",
       "            Number  \n",
       "918500      plural  \n",
       "10414581   unknown  \n",
       "10290905  singular  \n",
       "13902918   unknown  \n",
       "4271534     plural  "
      ]
     },
     "execution_count": 26,
     "metadata": {},
     "output_type": "execute_result"
    }
   ],
   "source": [
    "master_DF.sample(5) #Works well"
   ]
  },
  {
   "cell_type": "code",
   "execution_count": 27,
   "metadata": {},
   "outputs": [],
   "source": [
    "master_DF['Gender'] = master_DF['POS'].map(gender_dict)  #Map new values"
   ]
  },
  {
   "cell_type": "code",
   "execution_count": 28,
   "metadata": {},
   "outputs": [
    {
     "data": {
      "text/html": [
       "<div>\n",
       "<style scoped>\n",
       "    .dataframe tbody tr th:only-of-type {\n",
       "        vertical-align: middle;\n",
       "    }\n",
       "\n",
       "    .dataframe tbody tr th {\n",
       "        vertical-align: top;\n",
       "    }\n",
       "\n",
       "    .dataframe thead th {\n",
       "        text-align: right;\n",
       "    }\n",
       "</style>\n",
       "<table border=\"1\" class=\"dataframe\">\n",
       "  <thead>\n",
       "    <tr style=\"text-align: right;\">\n",
       "      <th></th>\n",
       "      <th>SourceID</th>\n",
       "      <th>TokenID</th>\n",
       "      <th>Lemma</th>\n",
       "      <th>Word</th>\n",
       "      <th>POS</th>\n",
       "      <th>Variety</th>\n",
       "      <th>POS_binary</th>\n",
       "      <th>Number</th>\n",
       "      <th>Gender</th>\n",
       "    </tr>\n",
       "  </thead>\n",
       "  <tbody>\n",
       "    <tr>\n",
       "      <td>803746</td>\n",
       "      <td>1651396</td>\n",
       "      <td>1087294092</td>\n",
       "      <td>redondilla</td>\n",
       "      <td>Redondilla</td>\n",
       "      <td>nfs</td>\n",
       "      <td>ES</td>\n",
       "      <td>Noun</td>\n",
       "      <td>singular</td>\n",
       "      <td>feminine</td>\n",
       "    </tr>\n",
       "    <tr>\n",
       "      <td>13043815</td>\n",
       "      <td>560703</td>\n",
       "      <td>440968451</td>\n",
       "      <td>plantilla</td>\n",
       "      <td>plantillas</td>\n",
       "      <td>nfp</td>\n",
       "      <td>ES</td>\n",
       "      <td>Noun</td>\n",
       "      <td>plural</td>\n",
       "      <td>feminine</td>\n",
       "    </tr>\n",
       "    <tr>\n",
       "      <td>4336448</td>\n",
       "      <td>1353685</td>\n",
       "      <td>922860331</td>\n",
       "      <td>ilícito</td>\n",
       "      <td>ilícito</td>\n",
       "      <td>jms</td>\n",
       "      <td>AR</td>\n",
       "      <td>Adjective</td>\n",
       "      <td>singular</td>\n",
       "      <td>masculine</td>\n",
       "    </tr>\n",
       "    <tr>\n",
       "      <td>10108810</td>\n",
       "      <td>1401709</td>\n",
       "      <td>1903455202</td>\n",
       "      <td>carrito</td>\n",
       "      <td>carrito</td>\n",
       "      <td>nms</td>\n",
       "      <td>AR</td>\n",
       "      <td>Noun</td>\n",
       "      <td>singular</td>\n",
       "      <td>masculine</td>\n",
       "    </tr>\n",
       "    <tr>\n",
       "      <td>1324315</td>\n",
       "      <td>1081393</td>\n",
       "      <td>2213214001</td>\n",
       "      <td>cosilla</td>\n",
       "      <td>cosillas</td>\n",
       "      <td>n</td>\n",
       "      <td>PY</td>\n",
       "      <td>Noun</td>\n",
       "      <td>unknown</td>\n",
       "      <td>unknown</td>\n",
       "    </tr>\n",
       "  </tbody>\n",
       "</table>\n",
       "</div>"
      ],
      "text/plain": [
       "         SourceID     TokenID       Lemma        Word  POS Variety POS_binary  \\\n",
       "803746    1651396  1087294092  redondilla  Redondilla  nfs      ES       Noun   \n",
       "13043815   560703   440968451   plantilla  plantillas  nfp      ES       Noun   \n",
       "4336448   1353685   922860331     ilícito     ilícito  jms      AR  Adjective   \n",
       "10108810  1401709  1903455202     carrito     carrito  nms      AR       Noun   \n",
       "1324315   1081393  2213214001     cosilla    cosillas    n      PY       Noun   \n",
       "\n",
       "            Number     Gender  \n",
       "803746    singular   feminine  \n",
       "13043815    plural   feminine  \n",
       "4336448   singular  masculine  \n",
       "10108810  singular  masculine  \n",
       "1324315    unknown    unknown  "
      ]
     },
     "execution_count": 28,
     "metadata": {},
     "output_type": "execute_result"
    }
   ],
   "source": [
    "master_DF.sample(5) #Works well"
   ]
  },
  {
   "cell_type": "markdown",
   "metadata": {},
   "source": [
    "-  Now the last (and most difficult) cleaning task. Even after removing millions of rows in prior steps, there are still many tokens that do not belong in the data frame because they are (i) lexicalized forms that have acquired a meaning of their own, or (ii) words that meet the word class and phonological requirement but simply do not happen to be diminutives. At first, I was going to try to solve this using a dictionary of Spanish as a list that I could cross-compare with the `Lemma` column. This is because diminutivized forms with a predictable meaning wouldn't show up in such a list. I couldn't find such a resource, though, and making one manually would take a really long time. Conversely and based on my knowledge of the topic, the forms I want to remove are much more frequent than diminutivized forms. It follows that if I extract a list of highly frequent forms from the corpus that end in the segments of interest I can get a list that I can later cross-compare with my data frame's `Lemma` column. Coincidentally, the corpus offers a useful resource for this purpose; that is, a lexicon. I'll load that, derive a frequency-based list of lemmas I want to exclude from the data frame from there, and then actually excluse those from the `master_DF` object:"
   ]
  },
  {
   "cell_type": "code",
   "execution_count": 29,
   "metadata": {},
   "outputs": [],
   "source": [
    "fname = '../../Diminutive-Suffix-Productivity/private/data/span_lexicon/span_dic.txt'     #Loading lexicon\n",
    "lexicon = pd.read_csv(fname,sep='\\t',encoding='iso-8859-1',skiprows=[1],low_memory=False) #Low memory setting required\n",
    "                                                                                          #due to NaN values"
   ]
  },
  {
   "cell_type": "code",
   "execution_count": 30,
   "metadata": {},
   "outputs": [
    {
     "data": {
      "text/html": [
       "<div>\n",
       "<style scoped>\n",
       "    .dataframe tbody tr th:only-of-type {\n",
       "        vertical-align: middle;\n",
       "    }\n",
       "\n",
       "    .dataframe tbody tr th {\n",
       "        vertical-align: top;\n",
       "    }\n",
       "\n",
       "    .dataframe thead th {\n",
       "        text-align: right;\n",
       "    }\n",
       "</style>\n",
       "<table border=\"1\" class=\"dataframe\">\n",
       "  <thead>\n",
       "    <tr style=\"text-align: right;\">\n",
       "      <th></th>\n",
       "      <th>wID</th>\n",
       "      <th>word</th>\n",
       "      <th>lemma</th>\n",
       "      <th>PoS</th>\n",
       "    </tr>\n",
       "  </thead>\n",
       "  <tbody>\n",
       "    <tr>\n",
       "      <td>0</td>\n",
       "      <td>1</td>\n",
       "      <td>,</td>\n",
       "      <td>$,</td>\n",
       "      <td>y</td>\n",
       "    </tr>\n",
       "    <tr>\n",
       "      <td>1</td>\n",
       "      <td>2</td>\n",
       "      <td>de</td>\n",
       "      <td>de</td>\n",
       "      <td>e</td>\n",
       "    </tr>\n",
       "    <tr>\n",
       "      <td>2</td>\n",
       "      <td>3</td>\n",
       "      <td>.</td>\n",
       "      <td>$.</td>\n",
       "      <td>y</td>\n",
       "    </tr>\n",
       "    <tr>\n",
       "      <td>3</td>\n",
       "      <td>4</td>\n",
       "      <td>la</td>\n",
       "      <td>la</td>\n",
       "      <td>ld-fs</td>\n",
       "    </tr>\n",
       "    <tr>\n",
       "      <td>4</td>\n",
       "      <td>5</td>\n",
       "      <td>y</td>\n",
       "      <td>y</td>\n",
       "      <td>cc</td>\n",
       "    </tr>\n",
       "    <tr>\n",
       "      <td>...</td>\n",
       "      <td>...</td>\n",
       "      <td>...</td>\n",
       "      <td>...</td>\n",
       "      <td>...</td>\n",
       "    </tr>\n",
       "    <tr>\n",
       "      <td>8754578</td>\n",
       "      <td>11925785</td>\n",
       "      <td>@@999948</td>\n",
       "      <td>NaN</td>\n",
       "      <td>NaN</td>\n",
       "    </tr>\n",
       "    <tr>\n",
       "      <td>8754579</td>\n",
       "      <td>11925786</td>\n",
       "      <td>@@99996</td>\n",
       "      <td>NaN</td>\n",
       "      <td>NaN</td>\n",
       "    </tr>\n",
       "    <tr>\n",
       "      <td>8754580</td>\n",
       "      <td>11925787</td>\n",
       "      <td>@@999965</td>\n",
       "      <td>NaN</td>\n",
       "      <td>NaN</td>\n",
       "    </tr>\n",
       "    <tr>\n",
       "      <td>8754581</td>\n",
       "      <td>11925788</td>\n",
       "      <td>@@999974</td>\n",
       "      <td>NaN</td>\n",
       "      <td>NaN</td>\n",
       "    </tr>\n",
       "    <tr>\n",
       "      <td>8754582</td>\n",
       "      <td>11925789</td>\n",
       "      <td>@@999977</td>\n",
       "      <td>NaN</td>\n",
       "      <td>NaN</td>\n",
       "    </tr>\n",
       "  </tbody>\n",
       "</table>\n",
       "<p>8754583 rows × 4 columns</p>\n",
       "</div>"
      ],
      "text/plain": [
       "              wID      word lemma    PoS\n",
       "0               1         ,    $,      y\n",
       "1               2        de    de      e\n",
       "2               3         .    $.      y\n",
       "3               4        la    la  ld-fs\n",
       "4               5         y     y     cc\n",
       "...           ...       ...   ...    ...\n",
       "8754578  11925785  @@999948   NaN    NaN\n",
       "8754579  11925786   @@99996   NaN    NaN\n",
       "8754580  11925787  @@999965   NaN    NaN\n",
       "8754581  11925788  @@999974   NaN    NaN\n",
       "8754582  11925789  @@999977   NaN    NaN\n",
       "\n",
       "[8754583 rows x 4 columns]"
      ]
     },
     "execution_count": 30,
     "metadata": {},
     "output_type": "execute_result"
    }
   ],
   "source": [
    "lexicon #A new, lexicon data frame"
   ]
  },
  {
   "cell_type": "code",
   "execution_count": 31,
   "metadata": {},
   "outputs": [
    {
     "data": {
      "text/html": [
       "<div>\n",
       "<style scoped>\n",
       "    .dataframe tbody tr th:only-of-type {\n",
       "        vertical-align: middle;\n",
       "    }\n",
       "\n",
       "    .dataframe tbody tr th {\n",
       "        vertical-align: top;\n",
       "    }\n",
       "\n",
       "    .dataframe thead th {\n",
       "        text-align: right;\n",
       "    }\n",
       "</style>\n",
       "<table border=\"1\" class=\"dataframe\">\n",
       "  <thead>\n",
       "    <tr style=\"text-align: right;\">\n",
       "      <th></th>\n",
       "      <th>WordID</th>\n",
       "      <th>Word</th>\n",
       "      <th>Lemma</th>\n",
       "      <th>POS</th>\n",
       "    </tr>\n",
       "  </thead>\n",
       "  <tbody>\n",
       "    <tr>\n",
       "      <td>0</td>\n",
       "      <td>1</td>\n",
       "      <td>,</td>\n",
       "      <td>$,</td>\n",
       "      <td>y</td>\n",
       "    </tr>\n",
       "    <tr>\n",
       "      <td>1</td>\n",
       "      <td>2</td>\n",
       "      <td>de</td>\n",
       "      <td>de</td>\n",
       "      <td>e</td>\n",
       "    </tr>\n",
       "    <tr>\n",
       "      <td>2</td>\n",
       "      <td>3</td>\n",
       "      <td>.</td>\n",
       "      <td>$.</td>\n",
       "      <td>y</td>\n",
       "    </tr>\n",
       "    <tr>\n",
       "      <td>3</td>\n",
       "      <td>4</td>\n",
       "      <td>la</td>\n",
       "      <td>la</td>\n",
       "      <td>ld-fs</td>\n",
       "    </tr>\n",
       "    <tr>\n",
       "      <td>4</td>\n",
       "      <td>5</td>\n",
       "      <td>y</td>\n",
       "      <td>y</td>\n",
       "      <td>cc</td>\n",
       "    </tr>\n",
       "    <tr>\n",
       "      <td>...</td>\n",
       "      <td>...</td>\n",
       "      <td>...</td>\n",
       "      <td>...</td>\n",
       "      <td>...</td>\n",
       "    </tr>\n",
       "    <tr>\n",
       "      <td>8754578</td>\n",
       "      <td>11925785</td>\n",
       "      <td>@@999948</td>\n",
       "      <td>NaN</td>\n",
       "      <td>NaN</td>\n",
       "    </tr>\n",
       "    <tr>\n",
       "      <td>8754579</td>\n",
       "      <td>11925786</td>\n",
       "      <td>@@99996</td>\n",
       "      <td>NaN</td>\n",
       "      <td>NaN</td>\n",
       "    </tr>\n",
       "    <tr>\n",
       "      <td>8754580</td>\n",
       "      <td>11925787</td>\n",
       "      <td>@@999965</td>\n",
       "      <td>NaN</td>\n",
       "      <td>NaN</td>\n",
       "    </tr>\n",
       "    <tr>\n",
       "      <td>8754581</td>\n",
       "      <td>11925788</td>\n",
       "      <td>@@999974</td>\n",
       "      <td>NaN</td>\n",
       "      <td>NaN</td>\n",
       "    </tr>\n",
       "    <tr>\n",
       "      <td>8754582</td>\n",
       "      <td>11925789</td>\n",
       "      <td>@@999977</td>\n",
       "      <td>NaN</td>\n",
       "      <td>NaN</td>\n",
       "    </tr>\n",
       "  </tbody>\n",
       "</table>\n",
       "<p>8754583 rows × 4 columns</p>\n",
       "</div>"
      ],
      "text/plain": [
       "           WordID      Word Lemma    POS\n",
       "0               1         ,    $,      y\n",
       "1               2        de    de      e\n",
       "2               3         .    $.      y\n",
       "3               4        la    la  ld-fs\n",
       "4               5         y     y     cc\n",
       "...           ...       ...   ...    ...\n",
       "8754578  11925785  @@999948   NaN    NaN\n",
       "8754579  11925786   @@99996   NaN    NaN\n",
       "8754580  11925787  @@999965   NaN    NaN\n",
       "8754581  11925788  @@999974   NaN    NaN\n",
       "8754582  11925789  @@999977   NaN    NaN\n",
       "\n",
       "[8754583 rows x 4 columns]"
      ]
     },
     "execution_count": 31,
     "metadata": {},
     "output_type": "execute_result"
    }
   ],
   "source": [
    "lexicon = lexicon.rename(columns={\"wID\": \"WordID\", \"word\": \"Word\", \"lemma\": \"Lemma\", \"PoS\": \"POS\"}) #Renaming columns.\n",
    "lexicon"
   ]
  },
  {
   "cell_type": "code",
   "execution_count": 32,
   "metadata": {},
   "outputs": [
    {
     "data": {
      "text/html": [
       "<div>\n",
       "<style scoped>\n",
       "    .dataframe tbody tr th:only-of-type {\n",
       "        vertical-align: middle;\n",
       "    }\n",
       "\n",
       "    .dataframe tbody tr th {\n",
       "        vertical-align: top;\n",
       "    }\n",
       "\n",
       "    .dataframe thead th {\n",
       "        text-align: right;\n",
       "    }\n",
       "</style>\n",
       "<table border=\"1\" class=\"dataframe\">\n",
       "  <thead>\n",
       "    <tr style=\"text-align: right;\">\n",
       "      <th></th>\n",
       "      <th>WordID</th>\n",
       "      <th>Word</th>\n",
       "      <th>Lemma</th>\n",
       "      <th>POS</th>\n",
       "    </tr>\n",
       "  </thead>\n",
       "  <tbody>\n",
       "    <tr>\n",
       "      <td>0</td>\n",
       "      <td>1</td>\n",
       "      <td>,</td>\n",
       "      <td>$,</td>\n",
       "      <td>y</td>\n",
       "    </tr>\n",
       "    <tr>\n",
       "      <td>1</td>\n",
       "      <td>2</td>\n",
       "      <td>de</td>\n",
       "      <td>de</td>\n",
       "      <td>e</td>\n",
       "    </tr>\n",
       "    <tr>\n",
       "      <td>2</td>\n",
       "      <td>3</td>\n",
       "      <td>.</td>\n",
       "      <td>$.</td>\n",
       "      <td>y</td>\n",
       "    </tr>\n",
       "    <tr>\n",
       "      <td>3</td>\n",
       "      <td>4</td>\n",
       "      <td>la</td>\n",
       "      <td>la</td>\n",
       "      <td>ld-fs</td>\n",
       "    </tr>\n",
       "    <tr>\n",
       "      <td>4</td>\n",
       "      <td>5</td>\n",
       "      <td>y</td>\n",
       "      <td>y</td>\n",
       "      <td>cc</td>\n",
       "    </tr>\n",
       "    <tr>\n",
       "      <td>...</td>\n",
       "      <td>...</td>\n",
       "      <td>...</td>\n",
       "      <td>...</td>\n",
       "      <td>...</td>\n",
       "    </tr>\n",
       "    <tr>\n",
       "      <td>8474411</td>\n",
       "      <td>11645618</td>\n",
       "      <td>descabellados</td>\n",
       "      <td>descabellar</td>\n",
       "      <td>v</td>\n",
       "    </tr>\n",
       "    <tr>\n",
       "      <td>8474412</td>\n",
       "      <td>11645619</td>\n",
       "      <td>hacendados</td>\n",
       "      <td>hacendar</td>\n",
       "      <td>v</td>\n",
       "    </tr>\n",
       "    <tr>\n",
       "      <td>8474413</td>\n",
       "      <td>11645620</td>\n",
       "      <td>reposeídas</td>\n",
       "      <td>reposeer</td>\n",
       "      <td>v</td>\n",
       "    </tr>\n",
       "    <tr>\n",
       "      <td>8474414</td>\n",
       "      <td>11645621</td>\n",
       "      <td>remozadas</td>\n",
       "      <td>remozar</td>\n",
       "      <td>v</td>\n",
       "    </tr>\n",
       "    <tr>\n",
       "      <td>8474415</td>\n",
       "      <td>11645622</td>\n",
       "      <td>radiodifundida</td>\n",
       "      <td>radiodifundir</td>\n",
       "      <td>v</td>\n",
       "    </tr>\n",
       "  </tbody>\n",
       "</table>\n",
       "<p>7952790 rows × 4 columns</p>\n",
       "</div>"
      ],
      "text/plain": [
       "           WordID            Word          Lemma    POS\n",
       "0               1               ,             $,      y\n",
       "1               2              de             de      e\n",
       "2               3               .             $.      y\n",
       "3               4              la             la  ld-fs\n",
       "4               5               y              y     cc\n",
       "...           ...             ...            ...    ...\n",
       "8474411  11645618   descabellados    descabellar      v\n",
       "8474412  11645619      hacendados       hacendar      v\n",
       "8474413  11645620      reposeídas       reposeer      v\n",
       "8474414  11645621       remozadas        remozar      v\n",
       "8474415  11645622  radiodifundida  radiodifundir      v\n",
       "\n",
       "[7952790 rows x 4 columns]"
      ]
     },
     "execution_count": 32,
     "metadata": {},
     "output_type": "execute_result"
    }
   ],
   "source": [
    "lexicon = lexicon.dropna() #Dropping NaN values (non-words that appear at the end of the data frame)\n",
    "lexicon"
   ]
  },
  {
   "cell_type": "code",
   "execution_count": 33,
   "metadata": {},
   "outputs": [
    {
     "data": {
      "text/plain": [
       "array(['y', 'e', 'ld-fs', 'cc', 'ld-ms', 'cs', 'ld-mp', 'xx', 'li-ms',\n",
       "       'po', 'r', 'vip-3s', 'ld-fp', 'li-fs', 'dp-', 'dd-', 'v', 'vip-3p',\n",
       "       'cS_22', 'vr', 'ld', 'nmp    ', 'nfs    ', 'j', 'pd-3cs', 'mc',\n",
       "       'ps', 'nms    ', 'nfp    ', 'vii-1/3s', 'dxmp-ind-', 'pi-0cn',\n",
       "       'pi-0ms', 'vis-3s', 'cS_21', 'dxms-ind-', 'pi', 'dxcs-ind-',\n",
       "       'vsp-1/3s', 'o', 'n', 'pr-3cs', 'dxfp-ind-', 'pq-3cn', 'dxfs-ind-',\n",
       "       'm$', 'pr-3cn\"', 'jms    ', 'li-mp', 'px-ms', 'vip-1s', 'cS_33',\n",
       "       'dxfs-', 'vps-ms', 'vif-3s', 'dxcs-dem-', 'jfs    ', 'jmp    ',\n",
       "       'pr-3cp', 'pi-3cs', 'pp-2cs', 'vip-1p', 'px', 'vc-1/3s', 'pp-1cs',\n",
       "       'cC_22', 'x', 'vpp', 'li-fp', 'pq-3cn\"', 'vip-2s', 'vii-3p',\n",
       "       'cC_21', 'jfp    ', 'i', 'e_32', 'vsp-3p', 'vis-3p', 'pi-3ms',\n",
       "       'e_21', 'dd', 'pp-2cp', 'pq-3cs', 'px-mp', 'cc-', 'b', 'cS_32',\n",
       "       'vsi-1/3s', 'dxcp-dem-', 'pr-3ms', 'vc-3p', 'pr-3fs', 'dxfp-',\n",
       "       'e_22', 'vif-3p', 'vis-1s', 'cS_31', 'vip-1p/vis-1p', 'pp-2p',\n",
       "       'pq-3cp', 'pv', 'cS_44', 'mo-ms-', 'pr-0mp', 'vif-2s', 'fn', 'p',\n",
       "       'vps-fs', 'vsp-1p', 'vc-1p', 'vsp-2s', 'pr-3mp', 'vif-1p', 'N',\n",
       "       'cS_43', 'vsj-1/3s', 'vsi-3p', 'vpp-00', 'vis-1p', 'vps-mp',\n",
       "       'pr-3fp', 'fv', 'cS_42', 'vii-1p', 'pq-3ms', 'vip-2p', 'vps-fp',\n",
       "       'vm-2s', 'cS_41', 'vif-1s', 'nj', 'px-00', 'dxmp-int-', 'jn',\n",
       "       'vc-2s', 'pr-3fs\"', 'vis-2s', 'prep', 'dxfp-int-', 'e_33',\n",
       "       'pd-3ms', 'np', 'mo', 'mo-fs-', 'vsf-1/3s', 'vii-2s', 'vm-3s',\n",
       "       'pd-3fs', 'pron', 'f', 'vsj-3p', 'dxcp-ind-', 'xs', 'vsi-1p',\n",
       "       'dxfs-int-', 'vif-2p', 'vsi-2s', 'fj', 'e_43', 'vsp-2p', 'e_31',\n",
       "       'v51    ', 'x_sp', 'xp', 'vm-2p', 'vm-3p', 'e_42', 'fp', 'vsf-3p',\n",
       "       'pd-3mp', 'pd-3fp', 'xe', 'xb', 'fe', 'vsj-1p', 'vis-2p',\n",
       "       'v29    ', 'fnj', 'fx', 'vc-2p', 'de', 'PN_MISC', 'vsf-2s', 'li',\n",
       "       'mo-mp-', 'vsf-2p', 'vii-2p', 'vsj-2s', 'fnp', 'xm', 'pn',\n",
       "       'mo-fp-', 'vsi-2p', 'xa', 'xw', 'dp', 'xd', 'v30    ', 'v60    ',\n",
       "       'v53    ', 'vsj-2p', 'ADJ', 'a', 'm', 'v24    ', 'xh', 'vsf-1p',\n",
       "       'xy', 'DET_DEM', 'vsp-', 'l', 'xf', 'v6     ', 'pr-3fp\"',\n",
       "       'v55    '], dtype=object)"
      ]
     },
     "execution_count": 33,
     "metadata": {},
     "output_type": "execute_result"
    }
   ],
   "source": [
    "lexicon['POS'].unique() #I have to clean this like I did before."
   ]
  },
  {
   "cell_type": "code",
   "execution_count": 34,
   "metadata": {},
   "outputs": [
    {
     "name": "stderr",
     "output_type": "stream",
     "text": [
      "C:\\ProgramData\\Anaconda3\\lib\\site-packages\\ipykernel_launcher.py:1: SettingWithCopyWarning: \n",
      "A value is trying to be set on a copy of a slice from a DataFrame.\n",
      "Try using .loc[row_indexer,col_indexer] = value instead\n",
      "\n",
      "See the caveats in the documentation: http://pandas.pydata.org/pandas-docs/stable/user_guide/indexing.html#returning-a-view-versus-a-copy\n",
      "  \"\"\"Entry point for launching an IPython kernel.\n"
     ]
    }
   ],
   "source": [
    "lexicon['POS'] = lexicon['POS'].str.strip() #Stripping white spaces off"
   ]
  },
  {
   "cell_type": "code",
   "execution_count": 35,
   "metadata": {},
   "outputs": [
    {
     "data": {
      "text/plain": [
       "array(['y', 'e', 'ld-fs', 'cc', 'ld-ms', 'cs', 'ld-mp', 'xx', 'li-ms',\n",
       "       'po', 'r', 'vip-3s', 'ld-fp', 'li-fs', 'dp-', 'dd-', 'v', 'vip-3p',\n",
       "       'cS_22', 'vr', 'ld', 'nmp', 'nfs', 'j', 'pd-3cs', 'mc', 'ps',\n",
       "       'nms', 'nfp', 'vii-1/3s', 'dxmp-ind-', 'pi-0cn', 'pi-0ms',\n",
       "       'vis-3s', 'cS_21', 'dxms-ind-', 'pi', 'dxcs-ind-', 'vsp-1/3s', 'o',\n",
       "       'n', 'pr-3cs', 'dxfp-ind-', 'pq-3cn', 'dxfs-ind-', 'm$', 'pr-3cn\"',\n",
       "       'jms', 'li-mp', 'px-ms', 'vip-1s', 'cS_33', 'dxfs-', 'vps-ms',\n",
       "       'vif-3s', 'dxcs-dem-', 'jfs', 'jmp', 'pr-3cp', 'pi-3cs', 'pp-2cs',\n",
       "       'vip-1p', 'px', 'vc-1/3s', 'pp-1cs', 'cC_22', 'x', 'vpp', 'li-fp',\n",
       "       'pq-3cn\"', 'vip-2s', 'vii-3p', 'cC_21', 'jfp', 'i', 'e_32',\n",
       "       'vsp-3p', 'vis-3p', 'pi-3ms', 'e_21', 'dd', 'pp-2cp', 'pq-3cs',\n",
       "       'px-mp', 'cc-', 'b', 'cS_32', 'vsi-1/3s', 'dxcp-dem-', 'pr-3ms',\n",
       "       'vc-3p', 'pr-3fs', 'dxfp-', 'e_22', 'vif-3p', 'vis-1s', 'cS_31',\n",
       "       'vip-1p/vis-1p', 'pp-2p', 'pq-3cp', 'pv', 'cS_44', 'mo-ms-',\n",
       "       'pr-0mp', 'vif-2s', 'fn', 'p', 'vps-fs', 'vsp-1p', 'vc-1p',\n",
       "       'vsp-2s', 'pr-3mp', 'vif-1p', 'N', 'cS_43', 'vsj-1/3s', 'vsi-3p',\n",
       "       'vpp-00', 'vis-1p', 'vps-mp', 'pr-3fp', 'fv', 'cS_42', 'vii-1p',\n",
       "       'pq-3ms', 'vip-2p', 'vps-fp', 'vm-2s', 'cS_41', 'vif-1s', 'nj',\n",
       "       'px-00', 'dxmp-int-', 'jn', 'vc-2s', 'pr-3fs\"', 'vis-2s', 'prep',\n",
       "       'dxfp-int-', 'e_33', 'pd-3ms', 'np', 'mo', 'mo-fs-', 'vsf-1/3s',\n",
       "       'vii-2s', 'vm-3s', 'pd-3fs', 'pron', 'f', 'vsj-3p', 'dxcp-ind-',\n",
       "       'xs', 'vsi-1p', 'dxfs-int-', 'vif-2p', 'vsi-2s', 'fj', 'e_43',\n",
       "       'vsp-2p', 'e_31', 'v51', 'x_sp', 'xp', 'vm-2p', 'vm-3p', 'e_42',\n",
       "       'fp', 'vsf-3p', 'pd-3mp', 'pd-3fp', 'xe', 'xb', 'fe', 'vsj-1p',\n",
       "       'vis-2p', 'v29', 'fnj', 'fx', 'vc-2p', 'de', 'PN_MISC', 'vsf-2s',\n",
       "       'li', 'mo-mp-', 'vsf-2p', 'vii-2p', 'vsj-2s', 'fnp', 'xm', 'pn',\n",
       "       'mo-fp-', 'vsi-2p', 'xa', 'xw', 'dp', 'xd', 'v30', 'v60', 'v53',\n",
       "       'vsj-2p', 'ADJ', 'a', 'm', 'v24', 'xh', 'vsf-1p', 'xy', 'DET_DEM',\n",
       "       'vsp-', 'l', 'xf', 'v6', 'pr-3fp\"', 'v55'], dtype=object)"
      ]
     },
     "execution_count": 35,
     "metadata": {},
     "output_type": "execute_result"
    }
   ],
   "source": [
    "lexicon['POS'].unique() #Success. I'll leave this as is and pickle it in case I want to use it in analyses later."
   ]
  },
  {
   "cell_type": "code",
   "execution_count": 36,
   "metadata": {},
   "outputs": [
    {
     "name": "stderr",
     "output_type": "stream",
     "text": [
      "C:\\ProgramData\\Anaconda3\\lib\\site-packages\\pandas\\core\\strings.py:1843: UserWarning: This pattern has match groups. To actually get the groups, use str.extract.\n",
      "  return func(self, *args, **kwargs)\n"
     ]
    }
   ],
   "source": [
    "dim_lexicon = lexicon[lexicon['Word'].str.contains(r'\\w*i(t|ll)(o|a)s?\\b', regex=True)] #Now let's extract the tokens \n",
    "                                                                                        #of interest"
   ]
  },
  {
   "cell_type": "code",
   "execution_count": 37,
   "metadata": {},
   "outputs": [
    {
     "data": {
      "text/html": [
       "<div>\n",
       "<style scoped>\n",
       "    .dataframe tbody tr th:only-of-type {\n",
       "        vertical-align: middle;\n",
       "    }\n",
       "\n",
       "    .dataframe tbody tr th {\n",
       "        vertical-align: top;\n",
       "    }\n",
       "\n",
       "    .dataframe thead th {\n",
       "        text-align: right;\n",
       "    }\n",
       "</style>\n",
       "<table border=\"1\" class=\"dataframe\">\n",
       "  <thead>\n",
       "    <tr style=\"text-align: right;\">\n",
       "      <th></th>\n",
       "      <th>WordID</th>\n",
       "      <th>Word</th>\n",
       "      <th>Lemma</th>\n",
       "      <th>POS</th>\n",
       "    </tr>\n",
       "  </thead>\n",
       "  <tbody>\n",
       "    <tr>\n",
       "      <td>713</td>\n",
       "      <td>714</td>\n",
       "      <td>éxito</td>\n",
       "      <td>éxito</td>\n",
       "      <td>n</td>\n",
       "    </tr>\n",
       "    <tr>\n",
       "      <td>798</td>\n",
       "      <td>799</td>\n",
       "      <td>necesita</td>\n",
       "      <td>necesitar</td>\n",
       "      <td>vip-3s</td>\n",
       "    </tr>\n",
       "    <tr>\n",
       "      <td>1599</td>\n",
       "      <td>1600</td>\n",
       "      <td>propósito</td>\n",
       "      <td>propósito</td>\n",
       "      <td>nms</td>\n",
       "    </tr>\n",
       "    <tr>\n",
       "      <td>1678</td>\n",
       "      <td>1679</td>\n",
       "      <td>ámbito</td>\n",
       "      <td>ámbito</td>\n",
       "      <td>n</td>\n",
       "    </tr>\n",
       "    <tr>\n",
       "      <td>1700</td>\n",
       "      <td>1701</td>\n",
       "      <td>visita</td>\n",
       "      <td>visita</td>\n",
       "      <td>nfs</td>\n",
       "    </tr>\n",
       "    <tr>\n",
       "      <td>...</td>\n",
       "      <td>...</td>\n",
       "      <td>...</td>\n",
       "      <td>...</td>\n",
       "      <td>...</td>\n",
       "    </tr>\n",
       "    <tr>\n",
       "      <td>8471444</td>\n",
       "      <td>11642632</td>\n",
       "      <td>Zurroncito</td>\n",
       "      <td>zurroncito</td>\n",
       "      <td>o</td>\n",
       "    </tr>\n",
       "    <tr>\n",
       "      <td>8471445</td>\n",
       "      <td>11642633</td>\n",
       "      <td>zurroncitos</td>\n",
       "      <td>zurroncito</td>\n",
       "      <td>n</td>\n",
       "    </tr>\n",
       "    <tr>\n",
       "      <td>8471514</td>\n",
       "      <td>11642703</td>\n",
       "      <td>zurullito</td>\n",
       "      <td>zurullito</td>\n",
       "      <td>j</td>\n",
       "    </tr>\n",
       "    <tr>\n",
       "      <td>8471536</td>\n",
       "      <td>11642725</td>\n",
       "      <td>zurunguillas</td>\n",
       "      <td>zurunguilla</td>\n",
       "      <td>n</td>\n",
       "    </tr>\n",
       "    <tr>\n",
       "      <td>8471650</td>\n",
       "      <td>11642840</td>\n",
       "      <td>Zutanito</td>\n",
       "      <td>zutanito</td>\n",
       "      <td>o</td>\n",
       "    </tr>\n",
       "  </tbody>\n",
       "</table>\n",
       "<p>123328 rows × 4 columns</p>\n",
       "</div>"
      ],
      "text/plain": [
       "           WordID          Word        Lemma     POS\n",
       "713           714         éxito        éxito       n\n",
       "798           799      necesita    necesitar  vip-3s\n",
       "1599         1600     propósito    propósito     nms\n",
       "1678         1679        ámbito       ámbito       n\n",
       "1700         1701        visita       visita     nfs\n",
       "...           ...           ...          ...     ...\n",
       "8471444  11642632    Zurroncito   zurroncito       o\n",
       "8471445  11642633   zurroncitos   zurroncito       n\n",
       "8471514  11642703     zurullito    zurullito       j\n",
       "8471536  11642725  zurunguillas  zurunguilla       n\n",
       "8471650  11642840      Zutanito     zutanito       o\n",
       "\n",
       "[123328 rows x 4 columns]"
      ]
     },
     "execution_count": 37,
     "metadata": {},
     "output_type": "execute_result"
    }
   ],
   "source": [
    "dim_lexicon #The regular expression approach worked"
   ]
  },
  {
   "cell_type": "code",
   "execution_count": 38,
   "metadata": {},
   "outputs": [
    {
     "data": {
      "text/plain": [
       "array(['n', 'nms', 'nfs', 'jfs', 'jms', 'nmp', 'nfp', 'j', 'jfp', 'jmp',\n",
       "       'np', 'fn'], dtype=object)"
      ]
     },
     "execution_count": 38,
     "metadata": {},
     "output_type": "execute_result"
    }
   ],
   "source": [
    "dim_lexicon = dim_lexicon[dim_lexicon['POS'].str.contains('n|j')]  #Removing classes that are not needed, as before.\n",
    "dim_lexicon['POS'].unique()"
   ]
  },
  {
   "cell_type": "code",
   "execution_count": 39,
   "metadata": {},
   "outputs": [
    {
     "data": {
      "text/plain": [
       "array(['n', 'nms', 'nfs', 'jfs', 'jms', 'nmp', 'nfp', 'j', 'jfp', 'jmp',\n",
       "       'np'], dtype=object)"
      ]
     },
     "execution_count": 39,
     "metadata": {},
     "output_type": "execute_result"
    }
   ],
   "source": [
    "dim_lexicon = dim_lexicon[dim_lexicon['POS'] != ('fn')] \n",
    "dim_lexicon['POS'].unique() #done"
   ]
  },
  {
   "cell_type": "code",
   "execution_count": 40,
   "metadata": {},
   "outputs": [
    {
     "data": {
      "text/plain": [
       "(70351, 4)"
      ]
     },
     "execution_count": 40,
     "metadata": {},
     "output_type": "execute_result"
    }
   ],
   "source": [
    "dim_lexicon.shape #Current size"
   ]
  },
  {
   "cell_type": "markdown",
   "metadata": {},
   "source": [
    "- Now let's extract that sought-after list of lemmas:"
   ]
  },
  {
   "cell_type": "code",
   "execution_count": 41,
   "metadata": {},
   "outputs": [
    {
     "data": {
      "text/plain": [
       "70351"
      ]
     },
     "execution_count": 41,
     "metadata": {},
     "output_type": "execute_result"
    },
    {
     "data": {
      "text/plain": [
       "<class 'pandas.core.series.Series'>"
      ]
     },
     "execution_count": 41,
     "metadata": {},
     "output_type": "execute_result"
    }
   ],
   "source": [
    "lemmas = dim_lexicon['Lemma']\n",
    "len(lemmas)\n",
    "type(lemmas) #All looks good"
   ]
  },
  {
   "cell_type": "markdown",
   "metadata": {},
   "source": [
    "- Now here's the tricky part, the lexicon includes all forms found in the corpus. The ones I want to extract are highly frequent, whereas diminutives will overall be less frequent. The issue is where to set the threshold. As for now, I'll set it at the top 500 forms, but I might come back to this later."
   ]
  },
  {
   "cell_type": "code",
   "execution_count": 42,
   "metadata": {},
   "outputs": [
    {
     "data": {
      "text/plain": [
       "267"
      ]
     },
     "execution_count": 42,
     "metadata": {},
     "output_type": "execute_result"
    },
    {
     "data": {
      "text/plain": [
       "<class 'set'>"
      ]
     },
     "execution_count": 42,
     "metadata": {},
     "output_type": "execute_result"
    }
   ],
   "source": [
    "lexicalized = set(lemmas[:500]) #A set so that it's easier to process\n",
    "len(lexicalized)\n",
    "type(lexicalized)"
   ]
  },
  {
   "cell_type": "code",
   "execution_count": 43,
   "metadata": {},
   "outputs": [
    {
     "data": {
      "text/plain": [
       "['abuelita', 'abuelito', 'acólito', 'adscrito', 'alcantarilla', 'amarillo', 'amiguito', 'angelito', 'anillo', 'animalito', 'apetito', 'arbolito', 'arcilla', 'ardilla', 'añito', 'bajito', 'banquillo', 'barbilla', 'bendito', 'beneplácito', 'besito', 'bocadillo', 'bocadillos', 'bolita', 'bolsillo', 'bolsita', 'bombilla', 'bombillo', 'bonito', 'boquilla', 'brillo', 'caballito', 'cabecilla', 'cabecita', 'cajita', 'calzoncillo', 'camarilla', 'camilla', 'capilla', 'capita', 'carita', 'carrito', 'cartilla', 'casilla', 'casita', 'castillo', 'caudillo', 'cepillo', 'chiquillo', 'chiquita', 'chiquito', 'chiringuito', 'chorrito', 'cigarrillo', 'circuito', 'cita', 'clarito', 'coito', 'colmillo', 'comillas', 'congénito', 'corazoncito', 'coronilla', 'corralito', 'corto', 'cosilla', 'cosita', 'cosmopolita', 'costilla', 'credito', 'crédito', 'cuadrilla', 'cuadrito', 'cucharadita', 'cuchilla', 'cuchillo', 'cápita', 'delito', 'depósito', 'descrito', 'descrédito', 'despropósito', 'dinamita', 'distrito', 'débito', 'dígito', 'ejército', 'electrólito', 'emérito', 'ermita', 'erudito', 'escrito', 'escuelita', 'espinilla', 'estampilla', 'estatuilla', 'estribillo', 'expedito', 'explícito', 'exquisito', 'favorita', 'favorito', 'figurita', 'finiquito', 'finito', 'flequillo', 'fortuito', 'frito', 'galletita', 'gatillo', 'gatito', 'gordito', 'gotita', 'grafito', 'granito', 'gratuito', 'grilla', 'grillo', 'grito', 'grupito', 'guerrilla', 'guita', 'hermanita', 'hermanito', 'hijita', 'hijito', 'hipócrita', 'hito', 'horquilla', 'hábito', 'igualito', 'ilícito', 'implícito', 'inaudito', 'incógnita', 'infinito', 'inscrito', 'insólito', 'inédito', 'israelita', 'jesuita', 'jovencita', 'jovencito', 'jueguito', 'ladrillo', 'leucocito', 'librito', 'liguilla', 'linfocito', 'lícito', 'maldito', 'manita', 'mantequilla', 'manuscrito', 'manzanilla', 'maravilla', 'margarita', 'martillo', 'mascarilla', 'mejilla', 'mejorcito', 'mercadillo', 'mesita', 'meteorito', 'mezquita', 'milla', 'mito', 'mosquito', 'muchachito', 'mundillo', 'mérito', 'negrita', 'niñita', 'novillo', 'ojito', 'orilla', 'osito', 'pacotilla', 'pajarito', 'palillo', 'palito', 'palomita', 'pandilla', 'papelito', 'papilla', 'parrilla', 'parásito', 'pasillo', 'pasito', 'pastilla', 'patita', 'patito', 'pedacito', 'pequeñito', 'perito', 'perrito', 'pesadilla', 'pito', 'planilla', 'plantilla', 'platillo', 'plebiscito', 'pleito', 'pobrecito', 'polilla', 'poquito', 'primogénito', 'principito', 'propósito', 'prurito', 'pueblecito', 'pueblito', 'puntilla', 'puntito', 'púlpito', 'quintilla', 'quita', 'ratito', 'recóndito', 'redondilla', 'regalito', 'rejilla', 'rencilla', 'requisito', 'rinconcito', 'rito', 'rodilla', 'rodillo', 'rédito', 'seguidilla', 'semilla', 'sencillo', 'sevilla', 'señorita', 'silla', 'sito', 'solito', 'sombrilla', 'suscrito', 'séquito', 'sólito', 'súbdito', 'súbito', 'tablilla', 'taquilla', 'tiempito', 'tobillo', 'tomillo', 'tornillo', 'tortilla', 'trocito', 'tránsito', 'tácito', 'vainilla', 'vajilla', 'varilla', 'varita', 'ventanilla', 'viejita', 'viejito', 'villa', 'visita', 'vómito', 'zapatilla', 'ámbito', 'éxito', 'órbita']"
      ]
     },
     "execution_count": 43,
     "metadata": {},
     "output_type": "execute_result"
    }
   ],
   "source": [
    "sorted(lexicalized) #Let's take a look at it."
   ]
  },
  {
   "cell_type": "markdown",
   "metadata": {},
   "source": [
    "- Upon examining this list manually there are 75 forms that are diminutives. I think this is a safe cutoff for now. I can also raise the threshold but that means increasingly more diminutivized forms that will seep through that I will have to remove manually. In addition, at this threshold the frequency of the words is too low to significantly affect the analysis. If time allows I might come back to this later and further refine it but I'll use it as it is for now."
   ]
  },
  {
   "cell_type": "code",
   "execution_count": 44,
   "metadata": {},
   "outputs": [
    {
     "data": {
      "text/plain": [
       "75"
      ]
     },
     "execution_count": 44,
     "metadata": {},
     "output_type": "execute_result"
    }
   ],
   "source": [
    "dims = ['abuelita', 'abuelito', 'amiguito', 'angelito', 'animalito', 'arbolito', 'añito', 'bajito', 'besito', \n",
    "        'bolita', 'bolsita', 'caballito', 'cabecita', 'cajita', 'capita', 'carita', 'carrito', 'casita', \n",
    "        'chiquillo', 'chiquita', 'chiquito', 'chorrito', 'clarito', 'corazoncito', 'cosilla', 'cosita', 'cuadrito', \n",
    "        'figurita', 'galletita', 'gatito', 'gordito', 'gotita', 'grupito', 'hermanita', 'hermanito', 'hijita', \n",
    "        'hijito', 'igualito', 'jovencita', 'jovencito', 'jueguito', 'librito', 'manita', 'mejorcito', 'mesita', \n",
    "        'muchachito', 'negrita', 'niñita', 'ojito', 'osito', 'pajarito', 'palito', 'palomita', 'papelito', 'patita', \n",
    "        'patito', 'pedacito', 'pequeñito', 'perrito', 'pobrecito', 'poquito', 'principito', 'pueblecito', 'pueblito', \n",
    "        'puntito', 'ratito', 'regalito', 'rejilla', 'rinconcito', 'solito', 'sólito', 'tiempito', 'trocito', 'viejita',\n",
    "        'viejito']\n",
    "len(dims)"
   ]
  },
  {
   "cell_type": "code",
   "execution_count": 45,
   "metadata": {},
   "outputs": [
    {
     "data": {
      "text/plain": [
       "192"
      ]
     },
     "execution_count": 45,
     "metadata": {},
     "output_type": "execute_result"
    }
   ],
   "source": [
    "lexicalized = [w for w in lexicalized if w not in dims] #Removing the above from the set\n",
    "len(lexicalized)"
   ]
  },
  {
   "cell_type": "markdown",
   "metadata": {},
   "source": [
    "- The final step is removing those forms from the the `master_DF` object:"
   ]
  },
  {
   "cell_type": "code",
   "execution_count": 46,
   "metadata": {},
   "outputs": [],
   "source": [
    "master_DF = master_DF[~master_DF['Lemma'].isin(lexicalized)] #Pandas way to select rows based on values not found in \n",
    "                                                             #another object."
   ]
  },
  {
   "cell_type": "code",
   "execution_count": 47,
   "metadata": {},
   "outputs": [
    {
     "data": {
      "text/plain": [
       "(1429012, 9)"
      ]
     },
     "execution_count": 47,
     "metadata": {},
     "output_type": "execute_result"
    }
   ],
   "source": [
    "master_DF.shape #It worked"
   ]
  },
  {
   "cell_type": "code",
   "execution_count": 48,
   "metadata": {},
   "outputs": [
    {
     "data": {
      "text/html": [
       "<div>\n",
       "<style scoped>\n",
       "    .dataframe tbody tr th:only-of-type {\n",
       "        vertical-align: middle;\n",
       "    }\n",
       "\n",
       "    .dataframe tbody tr th {\n",
       "        vertical-align: top;\n",
       "    }\n",
       "\n",
       "    .dataframe thead th {\n",
       "        text-align: right;\n",
       "    }\n",
       "</style>\n",
       "<table border=\"1\" class=\"dataframe\">\n",
       "  <thead>\n",
       "    <tr style=\"text-align: right;\">\n",
       "      <th></th>\n",
       "      <th>SourceID</th>\n",
       "      <th>TokenID</th>\n",
       "      <th>Lemma</th>\n",
       "      <th>Word</th>\n",
       "      <th>POS</th>\n",
       "      <th>Variety</th>\n",
       "      <th>POS_binary</th>\n",
       "      <th>Number</th>\n",
       "      <th>Gender</th>\n",
       "    </tr>\n",
       "  </thead>\n",
       "  <tbody>\n",
       "    <tr>\n",
       "      <td>239748</td>\n",
       "      <td>2467623</td>\n",
       "      <td>417646241</td>\n",
       "      <td>decúbito</td>\n",
       "      <td>decúbito</td>\n",
       "      <td>nms</td>\n",
       "      <td>BO</td>\n",
       "      <td>Noun</td>\n",
       "      <td>singular</td>\n",
       "      <td>masculine</td>\n",
       "    </tr>\n",
       "    <tr>\n",
       "      <td>7647553</td>\n",
       "      <td>83211</td>\n",
       "      <td>2501693357</td>\n",
       "      <td>frutilla</td>\n",
       "      <td>frutilla</td>\n",
       "      <td>nfs</td>\n",
       "      <td>AR</td>\n",
       "      <td>Noun</td>\n",
       "      <td>singular</td>\n",
       "      <td>feminine</td>\n",
       "    </tr>\n",
       "    <tr>\n",
       "      <td>6979355</td>\n",
       "      <td>1181043</td>\n",
       "      <td>2236540675</td>\n",
       "      <td>bechito</td>\n",
       "      <td>bechitos</td>\n",
       "      <td>j</td>\n",
       "      <td>US</td>\n",
       "      <td>Adjective</td>\n",
       "      <td>unknown</td>\n",
       "      <td>unknown</td>\n",
       "    </tr>\n",
       "    <tr>\n",
       "      <td>6436974</td>\n",
       "      <td>257052</td>\n",
       "      <td>145549097</td>\n",
       "      <td>poquito</td>\n",
       "      <td>poquitos</td>\n",
       "      <td>n</td>\n",
       "      <td>CO</td>\n",
       "      <td>Noun</td>\n",
       "      <td>unknown</td>\n",
       "      <td>unknown</td>\n",
       "    </tr>\n",
       "    <tr>\n",
       "      <td>10151045</td>\n",
       "      <td>534500</td>\n",
       "      <td>468150448</td>\n",
       "      <td>piedrita</td>\n",
       "      <td>piedritas</td>\n",
       "      <td>n</td>\n",
       "      <td>ES</td>\n",
       "      <td>Noun</td>\n",
       "      <td>unknown</td>\n",
       "      <td>unknown</td>\n",
       "    </tr>\n",
       "  </tbody>\n",
       "</table>\n",
       "</div>"
      ],
      "text/plain": [
       "         SourceID     TokenID     Lemma       Word  POS Variety POS_binary  \\\n",
       "239748    2467623   417646241  decúbito   decúbito  nms      BO       Noun   \n",
       "7647553     83211  2501693357  frutilla   frutilla  nfs      AR       Noun   \n",
       "6979355   1181043  2236540675   bechito   bechitos    j      US  Adjective   \n",
       "6436974    257052   145549097   poquito   poquitos    n      CO       Noun   \n",
       "10151045   534500   468150448  piedrita  piedritas    n      ES       Noun   \n",
       "\n",
       "            Number     Gender  \n",
       "239748    singular  masculine  \n",
       "7647553   singular   feminine  \n",
       "6979355    unknown    unknown  \n",
       "6436974    unknown    unknown  \n",
       "10151045   unknown    unknown  "
      ]
     },
     "execution_count": 48,
     "metadata": {},
     "output_type": "execute_result"
    }
   ],
   "source": [
    "master_DF.sample(5) #Samples to make sure all is working well"
   ]
  },
  {
   "cell_type": "markdown",
   "metadata": {},
   "source": [
    "## 3. Exploratory analysis"
   ]
  },
  {
   "cell_type": "markdown",
   "metadata": {},
   "source": [
    "- Now let's move on to the analysis. I'll start with the exploratory analysis and focus on inferential statistics and statistic measures of productivity in a third notebook. As a reminder, my main goal is to quantify the productivity of two competing suffixes (*-ito*/*-illo*) accross and within dialects, so the first thing to do is to add one last column that specifies which suffix was used. Note that since the function below takes lemmas as input it is not necessary to include plural suffixes (e.g., *-itos*) in the syntax:"
   ]
  },
  {
   "cell_type": "code",
   "execution_count": 49,
   "metadata": {},
   "outputs": [],
   "source": [
    "def get_dim(lemma):   \n",
    "    \"\"\"Takes a lemma as input, returns the diminutive suffix it contains\"\"\"\n",
    "    if lemma[-4:] == 'illo' or lemma[-4:] == 'illa':\n",
    "        return '-illo'\n",
    "    else: return '-ito'"
   ]
  },
  {
   "cell_type": "code",
   "execution_count": 50,
   "metadata": {},
   "outputs": [],
   "source": [
    "master_DF['Diminutive'] = master_DF['Lemma'].map(get_dim) #Mapping values into a new columns"
   ]
  },
  {
   "cell_type": "code",
   "execution_count": 51,
   "metadata": {},
   "outputs": [
    {
     "data": {
      "text/html": [
       "<div>\n",
       "<style scoped>\n",
       "    .dataframe tbody tr th:only-of-type {\n",
       "        vertical-align: middle;\n",
       "    }\n",
       "\n",
       "    .dataframe tbody tr th {\n",
       "        vertical-align: top;\n",
       "    }\n",
       "\n",
       "    .dataframe thead th {\n",
       "        text-align: right;\n",
       "    }\n",
       "</style>\n",
       "<table border=\"1\" class=\"dataframe\">\n",
       "  <thead>\n",
       "    <tr style=\"text-align: right;\">\n",
       "      <th></th>\n",
       "      <th>SourceID</th>\n",
       "      <th>TokenID</th>\n",
       "      <th>Lemma</th>\n",
       "      <th>Word</th>\n",
       "      <th>POS</th>\n",
       "      <th>Variety</th>\n",
       "      <th>POS_binary</th>\n",
       "      <th>Number</th>\n",
       "      <th>Gender</th>\n",
       "      <th>Diminutive</th>\n",
       "    </tr>\n",
       "  </thead>\n",
       "  <tbody>\n",
       "    <tr>\n",
       "      <td>9467538</td>\n",
       "      <td>102497</td>\n",
       "      <td>2382127430</td>\n",
       "      <td>párpadito</td>\n",
       "      <td>párpaditos</td>\n",
       "      <td>n</td>\n",
       "      <td>AR</td>\n",
       "      <td>Noun</td>\n",
       "      <td>unknown</td>\n",
       "      <td>unknown</td>\n",
       "      <td>-ito</td>\n",
       "    </tr>\n",
       "    <tr>\n",
       "      <td>6315152</td>\n",
       "      <td>1173512</td>\n",
       "      <td>2494065874</td>\n",
       "      <td>pelito</td>\n",
       "      <td>pelitos</td>\n",
       "      <td>n</td>\n",
       "      <td>US</td>\n",
       "      <td>Noun</td>\n",
       "      <td>unknown</td>\n",
       "      <td>unknown</td>\n",
       "      <td>-ito</td>\n",
       "    </tr>\n",
       "    <tr>\n",
       "      <td>1170771</td>\n",
       "      <td>9762</td>\n",
       "      <td>211157729</td>\n",
       "      <td>cdita</td>\n",
       "      <td>cdita</td>\n",
       "      <td>n</td>\n",
       "      <td>AR</td>\n",
       "      <td>Noun</td>\n",
       "      <td>unknown</td>\n",
       "      <td>unknown</td>\n",
       "      <td>-ito</td>\n",
       "    </tr>\n",
       "    <tr>\n",
       "      <td>492926</td>\n",
       "      <td>969008</td>\n",
       "      <td>1611170956</td>\n",
       "      <td>perrito</td>\n",
       "      <td>perrita</td>\n",
       "      <td>n</td>\n",
       "      <td>PE</td>\n",
       "      <td>Noun</td>\n",
       "      <td>unknown</td>\n",
       "      <td>unknown</td>\n",
       "      <td>-ito</td>\n",
       "    </tr>\n",
       "    <tr>\n",
       "      <td>11074821</td>\n",
       "      <td>885370</td>\n",
       "      <td>2620690831</td>\n",
       "      <td>pobrecito</td>\n",
       "      <td>pobrecito</td>\n",
       "      <td>n</td>\n",
       "      <td>MX</td>\n",
       "      <td>Noun</td>\n",
       "      <td>unknown</td>\n",
       "      <td>unknown</td>\n",
       "      <td>-ito</td>\n",
       "    </tr>\n",
       "  </tbody>\n",
       "</table>\n",
       "</div>"
      ],
      "text/plain": [
       "         SourceID     TokenID      Lemma        Word POS Variety POS_binary  \\\n",
       "9467538    102497  2382127430  párpadito  párpaditos   n      AR       Noun   \n",
       "6315152   1173512  2494065874     pelito     pelitos   n      US       Noun   \n",
       "1170771      9762   211157729      cdita       cdita   n      AR       Noun   \n",
       "492926     969008  1611170956    perrito     perrita   n      PE       Noun   \n",
       "11074821   885370  2620690831  pobrecito   pobrecito   n      MX       Noun   \n",
       "\n",
       "           Number   Gender Diminutive  \n",
       "9467538   unknown  unknown       -ito  \n",
       "6315152   unknown  unknown       -ito  \n",
       "1170771   unknown  unknown       -ito  \n",
       "492926    unknown  unknown       -ito  \n",
       "11074821  unknown  unknown       -ito  "
      ]
     },
     "execution_count": 51,
     "metadata": {},
     "output_type": "execute_result"
    }
   ],
   "source": [
    "master_DF.sample(5) #Samples to make sure it worked"
   ]
  },
  {
   "cell_type": "code",
   "execution_count": 52,
   "metadata": {},
   "outputs": [
    {
     "name": "stdout",
     "output_type": "stream",
     "text": [
      "<class 'pandas.core.frame.DataFrame'>\n",
      "Int64Index: 1429012 entries, 1338 to 2064489\n",
      "Data columns (total 10 columns):\n",
      "SourceID      1429012 non-null object\n",
      "TokenID       1429012 non-null object\n",
      "Lemma         1429012 non-null object\n",
      "Word          1429012 non-null object\n",
      "POS           1429012 non-null object\n",
      "Variety       1429012 non-null object\n",
      "POS_binary    1429012 non-null object\n",
      "Number        1429012 non-null object\n",
      "Gender        1429012 non-null object\n",
      "Diminutive    1429012 non-null object\n",
      "dtypes: object(10)\n",
      "memory usage: 119.9+ MB\n"
     ]
    }
   ],
   "source": [
    "master_DF.info() #Some general information about the resulting data frame"
   ]
  },
  {
   "cell_type": "code",
   "execution_count": 53,
   "metadata": {},
   "outputs": [
    {
     "data": {
      "text/html": [
       "<div>\n",
       "<style scoped>\n",
       "    .dataframe tbody tr th:only-of-type {\n",
       "        vertical-align: middle;\n",
       "    }\n",
       "\n",
       "    .dataframe tbody tr th {\n",
       "        vertical-align: top;\n",
       "    }\n",
       "\n",
       "    .dataframe thead th {\n",
       "        text-align: right;\n",
       "    }\n",
       "</style>\n",
       "<table border=\"1\" class=\"dataframe\">\n",
       "  <thead>\n",
       "    <tr style=\"text-align: right;\">\n",
       "      <th></th>\n",
       "      <th>SourceID</th>\n",
       "      <th>TokenID</th>\n",
       "      <th>Lemma</th>\n",
       "      <th>Word</th>\n",
       "      <th>POS</th>\n",
       "      <th>Variety</th>\n",
       "      <th>POS_binary</th>\n",
       "      <th>Number</th>\n",
       "      <th>Gender</th>\n",
       "      <th>Diminutive</th>\n",
       "    </tr>\n",
       "  </thead>\n",
       "  <tbody>\n",
       "    <tr>\n",
       "      <td>count</td>\n",
       "      <td>1429012</td>\n",
       "      <td>1429012</td>\n",
       "      <td>1429012</td>\n",
       "      <td>1429012</td>\n",
       "      <td>1429012</td>\n",
       "      <td>1429012</td>\n",
       "      <td>1429012</td>\n",
       "      <td>1429012</td>\n",
       "      <td>1429012</td>\n",
       "      <td>1429012</td>\n",
       "    </tr>\n",
       "    <tr>\n",
       "      <td>unique</td>\n",
       "      <td>461812</td>\n",
       "      <td>1429012</td>\n",
       "      <td>49526</td>\n",
       "      <td>62073</td>\n",
       "      <td>11</td>\n",
       "      <td>20</td>\n",
       "      <td>2</td>\n",
       "      <td>3</td>\n",
       "      <td>3</td>\n",
       "      <td>2</td>\n",
       "    </tr>\n",
       "    <tr>\n",
       "      <td>top</td>\n",
       "      <td>969008</td>\n",
       "      <td>1524629503</td>\n",
       "      <td>poquito</td>\n",
       "      <td>poquito</td>\n",
       "      <td>n</td>\n",
       "      <td>ES</td>\n",
       "      <td>Noun</td>\n",
       "      <td>unknown</td>\n",
       "      <td>unknown</td>\n",
       "      <td>-ito</td>\n",
       "    </tr>\n",
       "    <tr>\n",
       "      <td>freq</td>\n",
       "      <td>2722</td>\n",
       "      <td>1</td>\n",
       "      <td>59520</td>\n",
       "      <td>54543</td>\n",
       "      <td>822553</td>\n",
       "      <td>383969</td>\n",
       "      <td>1170533</td>\n",
       "      <td>1035299</td>\n",
       "      <td>1035299</td>\n",
       "      <td>1195810</td>\n",
       "    </tr>\n",
       "  </tbody>\n",
       "</table>\n",
       "</div>"
      ],
      "text/plain": [
       "        SourceID     TokenID    Lemma     Word      POS  Variety POS_binary  \\\n",
       "count    1429012     1429012  1429012  1429012  1429012  1429012    1429012   \n",
       "unique    461812     1429012    49526    62073       11       20          2   \n",
       "top       969008  1524629503  poquito  poquito        n       ES       Noun   \n",
       "freq        2722           1    59520    54543   822553   383969    1170533   \n",
       "\n",
       "         Number   Gender Diminutive  \n",
       "count   1429012  1429012    1429012  \n",
       "unique        3        3          2  \n",
       "top     unknown  unknown       -ito  \n",
       "freq    1035299  1035299    1195810  "
      ]
     },
     "execution_count": 53,
     "metadata": {},
     "output_type": "execute_result"
    }
   ],
   "source": [
    "master_DF.describe() #Descriptive stats"
   ]
  },
  {
   "cell_type": "markdown",
   "metadata": {},
   "source": [
    "- We get plenty of information here. There are 1,429,012 tokens tokens and 62073 types. 'Poquito' is the most frequent lemma. Spain is the most widely represented country. Noun is the most frequent part of speech and *-ito* is the most common diminutive. To get information about gender and number we'll have to take an extra step because most tokens were not tagged for either category. All that were tagged for gender were also tagged for number, so we only need to create one subset. It turns out that most are masculine and singular:"
   ]
  },
  {
   "cell_type": "code",
   "execution_count": 54,
   "metadata": {},
   "outputs": [
    {
     "data": {
      "text/html": [
       "<div>\n",
       "<style scoped>\n",
       "    .dataframe tbody tr th:only-of-type {\n",
       "        vertical-align: middle;\n",
       "    }\n",
       "\n",
       "    .dataframe tbody tr th {\n",
       "        vertical-align: top;\n",
       "    }\n",
       "\n",
       "    .dataframe thead th {\n",
       "        text-align: right;\n",
       "    }\n",
       "</style>\n",
       "<table border=\"1\" class=\"dataframe\">\n",
       "  <thead>\n",
       "    <tr style=\"text-align: right;\">\n",
       "      <th></th>\n",
       "      <th>SourceID</th>\n",
       "      <th>TokenID</th>\n",
       "      <th>Lemma</th>\n",
       "      <th>Word</th>\n",
       "      <th>POS</th>\n",
       "      <th>Variety</th>\n",
       "      <th>POS_binary</th>\n",
       "      <th>Number</th>\n",
       "      <th>Gender</th>\n",
       "      <th>Diminutive</th>\n",
       "    </tr>\n",
       "  </thead>\n",
       "  <tbody>\n",
       "    <tr>\n",
       "      <td>count</td>\n",
       "      <td>393713</td>\n",
       "      <td>393713</td>\n",
       "      <td>393713</td>\n",
       "      <td>393713</td>\n",
       "      <td>393713</td>\n",
       "      <td>393713</td>\n",
       "      <td>393713</td>\n",
       "      <td>393713</td>\n",
       "      <td>393713</td>\n",
       "      <td>393713</td>\n",
       "    </tr>\n",
       "    <tr>\n",
       "      <td>unique</td>\n",
       "      <td>201177</td>\n",
       "      <td>393713</td>\n",
       "      <td>1496</td>\n",
       "      <td>3912</td>\n",
       "      <td>8</td>\n",
       "      <td>20</td>\n",
       "      <td>2</td>\n",
       "      <td>2</td>\n",
       "      <td>2</td>\n",
       "      <td>2</td>\n",
       "    </tr>\n",
       "    <tr>\n",
       "      <td>top</td>\n",
       "      <td>1704776</td>\n",
       "      <td>2106064895</td>\n",
       "      <td>chiquito</td>\n",
       "      <td>perrito</td>\n",
       "      <td>nms</td>\n",
       "      <td>ES</td>\n",
       "      <td>Noun</td>\n",
       "      <td>singular</td>\n",
       "      <td>masculine</td>\n",
       "      <td>-ito</td>\n",
       "    </tr>\n",
       "    <tr>\n",
       "      <td>freq</td>\n",
       "      <td>1062</td>\n",
       "      <td>1</td>\n",
       "      <td>13377</td>\n",
       "      <td>6217</td>\n",
       "      <td>123156</td>\n",
       "      <td>110553</td>\n",
       "      <td>346471</td>\n",
       "      <td>248332</td>\n",
       "      <td>226897</td>\n",
       "      <td>241227</td>\n",
       "    </tr>\n",
       "  </tbody>\n",
       "</table>\n",
       "</div>"
      ],
      "text/plain": [
       "        SourceID     TokenID     Lemma     Word     POS Variety POS_binary  \\\n",
       "count     393713      393713    393713   393713  393713  393713     393713   \n",
       "unique    201177      393713      1496     3912       8      20          2   \n",
       "top      1704776  2106064895  chiquito  perrito     nms      ES       Noun   \n",
       "freq        1062           1     13377     6217  123156  110553     346471   \n",
       "\n",
       "          Number     Gender Diminutive  \n",
       "count     393713     393713     393713  \n",
       "unique         2          2          2  \n",
       "top     singular  masculine       -ito  \n",
       "freq      248332     226897     241227  "
      ]
     },
     "execution_count": 54,
     "metadata": {},
     "output_type": "execute_result"
    }
   ],
   "source": [
    "master_DF[(master_DF['Gender'] == 'masculine')|(master_DF['Gender'] == 'feminine')].describe()"
   ]
  },
  {
   "cell_type": "code",
   "execution_count": 55,
   "metadata": {},
   "outputs": [
    {
     "data": {
      "text/plain": [
       "ES    383969\n",
       "MX    175786\n",
       "US    132334\n",
       "AR    132280\n",
       "CO    100274\n",
       "PE     95710\n",
       "CL     56116\n",
       "GT     40494\n",
       "CU     38394\n",
       "EC     36515\n",
       "UY     29229\n",
       "PR     28465\n",
       "SV     28407\n",
       "CR     27437\n",
       "DO     23441\n",
       "BO     22295\n",
       "NI     21871\n",
       "HN     20679\n",
       "PY     18093\n",
       "PA     17223\n",
       "Name: Variety, dtype: int64"
      ]
     },
     "execution_count": 55,
     "metadata": {},
     "output_type": "execute_result"
    }
   ],
   "source": [
    "master_DF['Variety'].value_counts() #Counts for diminutive by country. Now that this is only a first step because \n",
    "                                    #(i) the by-variety corpora vary widely in size and (ii) I'm using token counts \n",
    "                                    #rather than type counts. "
   ]
  },
  {
   "cell_type": "code",
   "execution_count": 56,
   "metadata": {},
   "outputs": [
    {
     "data": {
      "text/plain": [
       "Noun         1170533\n",
       "Adjective     258479\n",
       "Name: POS_binary, dtype: int64"
      ]
     },
     "execution_count": 56,
     "metadata": {},
     "output_type": "execute_result"
    }
   ],
   "source": [
    "master_DF['POS_binary'].value_counts() #Counts for part of speech."
   ]
  },
  {
   "cell_type": "code",
   "execution_count": 57,
   "metadata": {},
   "outputs": [
    {
     "data": {
      "text/plain": [
       "-ito     1195810\n",
       "-illo     233202\n",
       "Name: Diminutive, dtype: int64"
      ]
     },
     "execution_count": 57,
     "metadata": {},
     "output_type": "execute_result"
    }
   ],
   "source": [
    "master_DF['Diminutive'].value_counts() #An overall count for usage of the suffixes. Again, preliminary. "
   ]
  },
  {
   "cell_type": "code",
   "execution_count": 58,
   "metadata": {},
   "outputs": [
    {
     "data": {
      "text/html": [
       "<div>\n",
       "<style scoped>\n",
       "    .dataframe tbody tr th:only-of-type {\n",
       "        vertical-align: middle;\n",
       "    }\n",
       "\n",
       "    .dataframe tbody tr th {\n",
       "        vertical-align: top;\n",
       "    }\n",
       "\n",
       "    .dataframe thead th {\n",
       "        text-align: right;\n",
       "    }\n",
       "</style>\n",
       "<table border=\"1\" class=\"dataframe\">\n",
       "  <thead>\n",
       "    <tr style=\"text-align: right;\">\n",
       "      <th>Diminutive</th>\n",
       "      <th>-illo</th>\n",
       "      <th>-ito</th>\n",
       "    </tr>\n",
       "    <tr>\n",
       "      <th>POS_binary</th>\n",
       "      <th></th>\n",
       "      <th></th>\n",
       "    </tr>\n",
       "  </thead>\n",
       "  <tbody>\n",
       "    <tr>\n",
       "      <td>Adjective</td>\n",
       "      <td>20455</td>\n",
       "      <td>238024</td>\n",
       "    </tr>\n",
       "    <tr>\n",
       "      <td>Noun</td>\n",
       "      <td>212747</td>\n",
       "      <td>957786</td>\n",
       "    </tr>\n",
       "  </tbody>\n",
       "</table>\n",
       "</div>"
      ],
      "text/plain": [
       "Diminutive   -illo    -ito\n",
       "POS_binary                \n",
       "Adjective    20455  238024\n",
       "Noun        212747  957786"
      ]
     },
     "execution_count": 58,
     "metadata": {},
     "output_type": "execute_result"
    }
   ],
   "source": [
    "DiminutivexPOS = master_DF.groupby('POS_binary').Diminutive.value_counts() #A table of diminutive by part of speech. \n",
    "DiminutivexPOS.unstack()"
   ]
  },
  {
   "cell_type": "code",
   "execution_count": 59,
   "metadata": {},
   "outputs": [
    {
     "data": {
      "text/html": [
       "<div>\n",
       "<style scoped>\n",
       "    .dataframe tbody tr th:only-of-type {\n",
       "        vertical-align: middle;\n",
       "    }\n",
       "\n",
       "    .dataframe tbody tr th {\n",
       "        vertical-align: top;\n",
       "    }\n",
       "\n",
       "    .dataframe thead th {\n",
       "        text-align: right;\n",
       "    }\n",
       "</style>\n",
       "<table border=\"1\" class=\"dataframe\">\n",
       "  <thead>\n",
       "    <tr style=\"text-align: right;\">\n",
       "      <th>POS_binary</th>\n",
       "      <th>Adjective</th>\n",
       "      <th>Noun</th>\n",
       "    </tr>\n",
       "    <tr>\n",
       "      <th>Diminutive</th>\n",
       "      <th></th>\n",
       "      <th></th>\n",
       "    </tr>\n",
       "  </thead>\n",
       "  <tbody>\n",
       "    <tr>\n",
       "      <td>-illo</td>\n",
       "      <td>20455</td>\n",
       "      <td>212747</td>\n",
       "    </tr>\n",
       "    <tr>\n",
       "      <td>-ito</td>\n",
       "      <td>238024</td>\n",
       "      <td>957786</td>\n",
       "    </tr>\n",
       "  </tbody>\n",
       "</table>\n",
       "</div>"
      ],
      "text/plain": [
       "POS_binary  Adjective    Noun\n",
       "Diminutive                   \n",
       "-illo           20455  212747\n",
       "-ito           238024  957786"
      ]
     },
     "execution_count": 59,
     "metadata": {},
     "output_type": "execute_result"
    }
   ],
   "source": [
    "POSxDiminutive = master_DF.groupby('Diminutive').POS_binary.value_counts() #The opposite \n",
    "POSxDiminutive.unstack()"
   ]
  },
  {
   "cell_type": "code",
   "execution_count": 60,
   "metadata": {},
   "outputs": [
    {
     "data": {
      "text/html": [
       "<div>\n",
       "<style scoped>\n",
       "    .dataframe tbody tr th:only-of-type {\n",
       "        vertical-align: middle;\n",
       "    }\n",
       "\n",
       "    .dataframe tbody tr th {\n",
       "        vertical-align: top;\n",
       "    }\n",
       "\n",
       "    .dataframe thead th {\n",
       "        text-align: right;\n",
       "    }\n",
       "</style>\n",
       "<table border=\"1\" class=\"dataframe\">\n",
       "  <thead>\n",
       "    <tr style=\"text-align: right;\">\n",
       "      <th>Diminutive</th>\n",
       "      <th>-illo</th>\n",
       "      <th>-ito</th>\n",
       "    </tr>\n",
       "    <tr>\n",
       "      <th>Variety</th>\n",
       "      <th></th>\n",
       "      <th></th>\n",
       "    </tr>\n",
       "  </thead>\n",
       "  <tbody>\n",
       "    <tr>\n",
       "      <td>AR</td>\n",
       "      <td>13581</td>\n",
       "      <td>118699</td>\n",
       "    </tr>\n",
       "    <tr>\n",
       "      <td>BO</td>\n",
       "      <td>3743</td>\n",
       "      <td>18552</td>\n",
       "    </tr>\n",
       "    <tr>\n",
       "      <td>CL</td>\n",
       "      <td>7743</td>\n",
       "      <td>48373</td>\n",
       "    </tr>\n",
       "    <tr>\n",
       "      <td>CO</td>\n",
       "      <td>17115</td>\n",
       "      <td>83159</td>\n",
       "    </tr>\n",
       "    <tr>\n",
       "      <td>CR</td>\n",
       "      <td>6429</td>\n",
       "      <td>21008</td>\n",
       "    </tr>\n",
       "    <tr>\n",
       "      <td>CU</td>\n",
       "      <td>6634</td>\n",
       "      <td>31760</td>\n",
       "    </tr>\n",
       "    <tr>\n",
       "      <td>DO</td>\n",
       "      <td>3700</td>\n",
       "      <td>19741</td>\n",
       "    </tr>\n",
       "    <tr>\n",
       "      <td>EC</td>\n",
       "      <td>5866</td>\n",
       "      <td>30649</td>\n",
       "    </tr>\n",
       "    <tr>\n",
       "      <td>ES</td>\n",
       "      <td>81372</td>\n",
       "      <td>302597</td>\n",
       "    </tr>\n",
       "    <tr>\n",
       "      <td>GT</td>\n",
       "      <td>5627</td>\n",
       "      <td>34867</td>\n",
       "    </tr>\n",
       "    <tr>\n",
       "      <td>HN</td>\n",
       "      <td>3478</td>\n",
       "      <td>17201</td>\n",
       "    </tr>\n",
       "    <tr>\n",
       "      <td>MX</td>\n",
       "      <td>24762</td>\n",
       "      <td>151024</td>\n",
       "    </tr>\n",
       "    <tr>\n",
       "      <td>NI</td>\n",
       "      <td>3603</td>\n",
       "      <td>18268</td>\n",
       "    </tr>\n",
       "    <tr>\n",
       "      <td>PA</td>\n",
       "      <td>3146</td>\n",
       "      <td>14077</td>\n",
       "    </tr>\n",
       "    <tr>\n",
       "      <td>PE</td>\n",
       "      <td>11483</td>\n",
       "      <td>84227</td>\n",
       "    </tr>\n",
       "    <tr>\n",
       "      <td>PR</td>\n",
       "      <td>4082</td>\n",
       "      <td>24383</td>\n",
       "    </tr>\n",
       "    <tr>\n",
       "      <td>PY</td>\n",
       "      <td>2531</td>\n",
       "      <td>15562</td>\n",
       "    </tr>\n",
       "    <tr>\n",
       "      <td>SV</td>\n",
       "      <td>3972</td>\n",
       "      <td>24435</td>\n",
       "    </tr>\n",
       "    <tr>\n",
       "      <td>US</td>\n",
       "      <td>20737</td>\n",
       "      <td>111597</td>\n",
       "    </tr>\n",
       "    <tr>\n",
       "      <td>UY</td>\n",
       "      <td>3598</td>\n",
       "      <td>25631</td>\n",
       "    </tr>\n",
       "  </tbody>\n",
       "</table>\n",
       "</div>"
      ],
      "text/plain": [
       "Diminutive  -illo    -ito\n",
       "Variety                  \n",
       "AR          13581  118699\n",
       "BO           3743   18552\n",
       "CL           7743   48373\n",
       "CO          17115   83159\n",
       "CR           6429   21008\n",
       "CU           6634   31760\n",
       "DO           3700   19741\n",
       "EC           5866   30649\n",
       "ES          81372  302597\n",
       "GT           5627   34867\n",
       "HN           3478   17201\n",
       "MX          24762  151024\n",
       "NI           3603   18268\n",
       "PA           3146   14077\n",
       "PE          11483   84227\n",
       "PR           4082   24383\n",
       "PY           2531   15562\n",
       "SV           3972   24435\n",
       "US          20737  111597\n",
       "UY           3598   25631"
      ]
     },
     "execution_count": 60,
     "metadata": {},
     "output_type": "execute_result"
    }
   ],
   "source": [
    "DiminutivexVariety = master_DF.groupby('Variety').Diminutive.value_counts() #A table of diminutive by variety. The main\n",
    "DiminutivexVariety.unstack()                                                #focus of this project."
   ]
  },
  {
   "cell_type": "code",
   "execution_count": 61,
   "metadata": {},
   "outputs": [
    {
     "data": {
      "text/html": [
       "<div>\n",
       "<style scoped>\n",
       "    .dataframe tbody tr th:only-of-type {\n",
       "        vertical-align: middle;\n",
       "    }\n",
       "\n",
       "    .dataframe tbody tr th {\n",
       "        vertical-align: top;\n",
       "    }\n",
       "\n",
       "    .dataframe thead th {\n",
       "        text-align: right;\n",
       "    }\n",
       "</style>\n",
       "<table border=\"1\" class=\"dataframe\">\n",
       "  <thead>\n",
       "    <tr style=\"text-align: right;\">\n",
       "      <th>Variety</th>\n",
       "      <th>AR</th>\n",
       "      <th>BO</th>\n",
       "      <th>CL</th>\n",
       "      <th>CO</th>\n",
       "      <th>CR</th>\n",
       "      <th>CU</th>\n",
       "      <th>DO</th>\n",
       "      <th>EC</th>\n",
       "      <th>ES</th>\n",
       "      <th>GT</th>\n",
       "      <th>HN</th>\n",
       "      <th>MX</th>\n",
       "      <th>NI</th>\n",
       "      <th>PA</th>\n",
       "      <th>PE</th>\n",
       "      <th>PR</th>\n",
       "      <th>PY</th>\n",
       "      <th>SV</th>\n",
       "      <th>US</th>\n",
       "      <th>UY</th>\n",
       "    </tr>\n",
       "    <tr>\n",
       "      <th>Diminutive</th>\n",
       "      <th></th>\n",
       "      <th></th>\n",
       "      <th></th>\n",
       "      <th></th>\n",
       "      <th></th>\n",
       "      <th></th>\n",
       "      <th></th>\n",
       "      <th></th>\n",
       "      <th></th>\n",
       "      <th></th>\n",
       "      <th></th>\n",
       "      <th></th>\n",
       "      <th></th>\n",
       "      <th></th>\n",
       "      <th></th>\n",
       "      <th></th>\n",
       "      <th></th>\n",
       "      <th></th>\n",
       "      <th></th>\n",
       "      <th></th>\n",
       "    </tr>\n",
       "  </thead>\n",
       "  <tbody>\n",
       "    <tr>\n",
       "      <td>-illo</td>\n",
       "      <td>13581</td>\n",
       "      <td>3743</td>\n",
       "      <td>7743</td>\n",
       "      <td>17115</td>\n",
       "      <td>6429</td>\n",
       "      <td>6634</td>\n",
       "      <td>3700</td>\n",
       "      <td>5866</td>\n",
       "      <td>81372</td>\n",
       "      <td>5627</td>\n",
       "      <td>3478</td>\n",
       "      <td>24762</td>\n",
       "      <td>3603</td>\n",
       "      <td>3146</td>\n",
       "      <td>11483</td>\n",
       "      <td>4082</td>\n",
       "      <td>2531</td>\n",
       "      <td>3972</td>\n",
       "      <td>20737</td>\n",
       "      <td>3598</td>\n",
       "    </tr>\n",
       "    <tr>\n",
       "      <td>-ito</td>\n",
       "      <td>118699</td>\n",
       "      <td>18552</td>\n",
       "      <td>48373</td>\n",
       "      <td>83159</td>\n",
       "      <td>21008</td>\n",
       "      <td>31760</td>\n",
       "      <td>19741</td>\n",
       "      <td>30649</td>\n",
       "      <td>302597</td>\n",
       "      <td>34867</td>\n",
       "      <td>17201</td>\n",
       "      <td>151024</td>\n",
       "      <td>18268</td>\n",
       "      <td>14077</td>\n",
       "      <td>84227</td>\n",
       "      <td>24383</td>\n",
       "      <td>15562</td>\n",
       "      <td>24435</td>\n",
       "      <td>111597</td>\n",
       "      <td>25631</td>\n",
       "    </tr>\n",
       "  </tbody>\n",
       "</table>\n",
       "</div>"
      ],
      "text/plain": [
       "Variety         AR     BO     CL     CO     CR     CU     DO     EC      ES  \\\n",
       "Diminutive                                                                    \n",
       "-illo        13581   3743   7743  17115   6429   6634   3700   5866   81372   \n",
       "-ito        118699  18552  48373  83159  21008  31760  19741  30649  302597   \n",
       "\n",
       "Variety        GT     HN      MX     NI     PA     PE     PR     PY     SV  \\\n",
       "Diminutive                                                                   \n",
       "-illo        5627   3478   24762   3603   3146  11483   4082   2531   3972   \n",
       "-ito        34867  17201  151024  18268  14077  84227  24383  15562  24435   \n",
       "\n",
       "Variety         US     UY  \n",
       "Diminutive                 \n",
       "-illo        20737   3598  \n",
       "-ito        111597  25631  "
      ]
     },
     "execution_count": 61,
     "metadata": {},
     "output_type": "execute_result"
    }
   ],
   "source": [
    "VarietyxDiminutive = master_DF.groupby('Diminutive').Variety.value_counts() #The opposite\n",
    "VarietyxDiminutive.unstack()"
   ]
  },
  {
   "cell_type": "code",
   "execution_count": 62,
   "metadata": {},
   "outputs": [
    {
     "data": {
      "text/html": [
       "<div>\n",
       "<style scoped>\n",
       "    .dataframe tbody tr th:only-of-type {\n",
       "        vertical-align: middle;\n",
       "    }\n",
       "\n",
       "    .dataframe tbody tr th {\n",
       "        vertical-align: top;\n",
       "    }\n",
       "\n",
       "    .dataframe thead th {\n",
       "        text-align: right;\n",
       "    }\n",
       "</style>\n",
       "<table border=\"1\" class=\"dataframe\">\n",
       "  <thead>\n",
       "    <tr style=\"text-align: right;\">\n",
       "      <th></th>\n",
       "      <th></th>\n",
       "      <th>count</th>\n",
       "      <th>unique</th>\n",
       "      <th>top</th>\n",
       "      <th>freq</th>\n",
       "    </tr>\n",
       "    <tr>\n",
       "      <th>Variety</th>\n",
       "      <th>POS_binary</th>\n",
       "      <th></th>\n",
       "      <th></th>\n",
       "      <th></th>\n",
       "      <th></th>\n",
       "    </tr>\n",
       "  </thead>\n",
       "  <tbody>\n",
       "    <tr>\n",
       "      <td rowspan=\"2\" valign=\"top\">AR</td>\n",
       "      <td>Adjective</td>\n",
       "      <td>23236</td>\n",
       "      <td>2</td>\n",
       "      <td>-ito</td>\n",
       "      <td>22486</td>\n",
       "    </tr>\n",
       "    <tr>\n",
       "      <td>Noun</td>\n",
       "      <td>109044</td>\n",
       "      <td>2</td>\n",
       "      <td>-ito</td>\n",
       "      <td>96213</td>\n",
       "    </tr>\n",
       "    <tr>\n",
       "      <td rowspan=\"2\" valign=\"top\">BO</td>\n",
       "      <td>Adjective</td>\n",
       "      <td>4290</td>\n",
       "      <td>2</td>\n",
       "      <td>-ito</td>\n",
       "      <td>3943</td>\n",
       "    </tr>\n",
       "    <tr>\n",
       "      <td>Noun</td>\n",
       "      <td>18005</td>\n",
       "      <td>2</td>\n",
       "      <td>-ito</td>\n",
       "      <td>14609</td>\n",
       "    </tr>\n",
       "    <tr>\n",
       "      <td rowspan=\"2\" valign=\"top\">CL</td>\n",
       "      <td>Adjective</td>\n",
       "      <td>10510</td>\n",
       "      <td>2</td>\n",
       "      <td>-ito</td>\n",
       "      <td>9913</td>\n",
       "    </tr>\n",
       "    <tr>\n",
       "      <td>Noun</td>\n",
       "      <td>45606</td>\n",
       "      <td>2</td>\n",
       "      <td>-ito</td>\n",
       "      <td>38460</td>\n",
       "    </tr>\n",
       "    <tr>\n",
       "      <td rowspan=\"2\" valign=\"top\">CO</td>\n",
       "      <td>Adjective</td>\n",
       "      <td>18160</td>\n",
       "      <td>2</td>\n",
       "      <td>-ito</td>\n",
       "      <td>16678</td>\n",
       "    </tr>\n",
       "    <tr>\n",
       "      <td>Noun</td>\n",
       "      <td>82114</td>\n",
       "      <td>2</td>\n",
       "      <td>-ito</td>\n",
       "      <td>66481</td>\n",
       "    </tr>\n",
       "    <tr>\n",
       "      <td rowspan=\"2\" valign=\"top\">CR</td>\n",
       "      <td>Adjective</td>\n",
       "      <td>4344</td>\n",
       "      <td>2</td>\n",
       "      <td>-ito</td>\n",
       "      <td>3719</td>\n",
       "    </tr>\n",
       "    <tr>\n",
       "      <td>Noun</td>\n",
       "      <td>23093</td>\n",
       "      <td>2</td>\n",
       "      <td>-ito</td>\n",
       "      <td>17289</td>\n",
       "    </tr>\n",
       "    <tr>\n",
       "      <td rowspan=\"2\" valign=\"top\">CU</td>\n",
       "      <td>Adjective</td>\n",
       "      <td>7067</td>\n",
       "      <td>2</td>\n",
       "      <td>-ito</td>\n",
       "      <td>6746</td>\n",
       "    </tr>\n",
       "    <tr>\n",
       "      <td>Noun</td>\n",
       "      <td>31327</td>\n",
       "      <td>2</td>\n",
       "      <td>-ito</td>\n",
       "      <td>25014</td>\n",
       "    </tr>\n",
       "    <tr>\n",
       "      <td rowspan=\"2\" valign=\"top\">DO</td>\n",
       "      <td>Adjective</td>\n",
       "      <td>4296</td>\n",
       "      <td>2</td>\n",
       "      <td>-ito</td>\n",
       "      <td>3720</td>\n",
       "    </tr>\n",
       "    <tr>\n",
       "      <td>Noun</td>\n",
       "      <td>19145</td>\n",
       "      <td>2</td>\n",
       "      <td>-ito</td>\n",
       "      <td>16021</td>\n",
       "    </tr>\n",
       "    <tr>\n",
       "      <td rowspan=\"2\" valign=\"top\">EC</td>\n",
       "      <td>Adjective</td>\n",
       "      <td>7490</td>\n",
       "      <td>2</td>\n",
       "      <td>-ito</td>\n",
       "      <td>7098</td>\n",
       "    </tr>\n",
       "    <tr>\n",
       "      <td>Noun</td>\n",
       "      <td>29025</td>\n",
       "      <td>2</td>\n",
       "      <td>-ito</td>\n",
       "      <td>23551</td>\n",
       "    </tr>\n",
       "    <tr>\n",
       "      <td rowspan=\"2\" valign=\"top\">ES</td>\n",
       "      <td>Adjective</td>\n",
       "      <td>69409</td>\n",
       "      <td>2</td>\n",
       "      <td>-ito</td>\n",
       "      <td>61005</td>\n",
       "    </tr>\n",
       "    <tr>\n",
       "      <td>Noun</td>\n",
       "      <td>314560</td>\n",
       "      <td>2</td>\n",
       "      <td>-ito</td>\n",
       "      <td>241592</td>\n",
       "    </tr>\n",
       "    <tr>\n",
       "      <td rowspan=\"2\" valign=\"top\">GT</td>\n",
       "      <td>Adjective</td>\n",
       "      <td>6557</td>\n",
       "      <td>2</td>\n",
       "      <td>-ito</td>\n",
       "      <td>6158</td>\n",
       "    </tr>\n",
       "    <tr>\n",
       "      <td>Noun</td>\n",
       "      <td>33937</td>\n",
       "      <td>2</td>\n",
       "      <td>-ito</td>\n",
       "      <td>28709</td>\n",
       "    </tr>\n",
       "    <tr>\n",
       "      <td rowspan=\"2\" valign=\"top\">HN</td>\n",
       "      <td>Adjective</td>\n",
       "      <td>3677</td>\n",
       "      <td>2</td>\n",
       "      <td>-ito</td>\n",
       "      <td>3419</td>\n",
       "    </tr>\n",
       "    <tr>\n",
       "      <td>Noun</td>\n",
       "      <td>17002</td>\n",
       "      <td>2</td>\n",
       "      <td>-ito</td>\n",
       "      <td>13782</td>\n",
       "    </tr>\n",
       "    <tr>\n",
       "      <td rowspan=\"2\" valign=\"top\">MX</td>\n",
       "      <td>Adjective</td>\n",
       "      <td>32218</td>\n",
       "      <td>2</td>\n",
       "      <td>-ito</td>\n",
       "      <td>30247</td>\n",
       "    </tr>\n",
       "    <tr>\n",
       "      <td>Noun</td>\n",
       "      <td>143568</td>\n",
       "      <td>2</td>\n",
       "      <td>-ito</td>\n",
       "      <td>120777</td>\n",
       "    </tr>\n",
       "    <tr>\n",
       "      <td rowspan=\"2\" valign=\"top\">NI</td>\n",
       "      <td>Adjective</td>\n",
       "      <td>3758</td>\n",
       "      <td>2</td>\n",
       "      <td>-ito</td>\n",
       "      <td>3502</td>\n",
       "    </tr>\n",
       "    <tr>\n",
       "      <td>Noun</td>\n",
       "      <td>18113</td>\n",
       "      <td>2</td>\n",
       "      <td>-ito</td>\n",
       "      <td>14766</td>\n",
       "    </tr>\n",
       "    <tr>\n",
       "      <td rowspan=\"2\" valign=\"top\">PA</td>\n",
       "      <td>Adjective</td>\n",
       "      <td>3055</td>\n",
       "      <td>2</td>\n",
       "      <td>-ito</td>\n",
       "      <td>2815</td>\n",
       "    </tr>\n",
       "    <tr>\n",
       "      <td>Noun</td>\n",
       "      <td>14168</td>\n",
       "      <td>2</td>\n",
       "      <td>-ito</td>\n",
       "      <td>11262</td>\n",
       "    </tr>\n",
       "    <tr>\n",
       "      <td rowspan=\"2\" valign=\"top\">PE</td>\n",
       "      <td>Adjective</td>\n",
       "      <td>18042</td>\n",
       "      <td>2</td>\n",
       "      <td>-ito</td>\n",
       "      <td>17051</td>\n",
       "    </tr>\n",
       "    <tr>\n",
       "      <td>Noun</td>\n",
       "      <td>77668</td>\n",
       "      <td>2</td>\n",
       "      <td>-ito</td>\n",
       "      <td>67176</td>\n",
       "    </tr>\n",
       "    <tr>\n",
       "      <td rowspan=\"2\" valign=\"top\">PR</td>\n",
       "      <td>Adjective</td>\n",
       "      <td>5071</td>\n",
       "      <td>2</td>\n",
       "      <td>-ito</td>\n",
       "      <td>4739</td>\n",
       "    </tr>\n",
       "    <tr>\n",
       "      <td>Noun</td>\n",
       "      <td>23394</td>\n",
       "      <td>2</td>\n",
       "      <td>-ito</td>\n",
       "      <td>19644</td>\n",
       "    </tr>\n",
       "    <tr>\n",
       "      <td rowspan=\"2\" valign=\"top\">PY</td>\n",
       "      <td>Adjective</td>\n",
       "      <td>3143</td>\n",
       "      <td>2</td>\n",
       "      <td>-ito</td>\n",
       "      <td>3006</td>\n",
       "    </tr>\n",
       "    <tr>\n",
       "      <td>Noun</td>\n",
       "      <td>14950</td>\n",
       "      <td>2</td>\n",
       "      <td>-ito</td>\n",
       "      <td>12556</td>\n",
       "    </tr>\n",
       "    <tr>\n",
       "      <td rowspan=\"2\" valign=\"top\">SV</td>\n",
       "      <td>Adjective</td>\n",
       "      <td>5237</td>\n",
       "      <td>2</td>\n",
       "      <td>-ito</td>\n",
       "      <td>4810</td>\n",
       "    </tr>\n",
       "    <tr>\n",
       "      <td>Noun</td>\n",
       "      <td>23170</td>\n",
       "      <td>2</td>\n",
       "      <td>-ito</td>\n",
       "      <td>19625</td>\n",
       "    </tr>\n",
       "    <tr>\n",
       "      <td rowspan=\"2\" valign=\"top\">US</td>\n",
       "      <td>Adjective</td>\n",
       "      <td>23882</td>\n",
       "      <td>2</td>\n",
       "      <td>-ito</td>\n",
       "      <td>22137</td>\n",
       "    </tr>\n",
       "    <tr>\n",
       "      <td>Noun</td>\n",
       "      <td>108452</td>\n",
       "      <td>2</td>\n",
       "      <td>-ito</td>\n",
       "      <td>89460</td>\n",
       "    </tr>\n",
       "    <tr>\n",
       "      <td rowspan=\"2\" valign=\"top\">UY</td>\n",
       "      <td>Adjective</td>\n",
       "      <td>5037</td>\n",
       "      <td>2</td>\n",
       "      <td>-ito</td>\n",
       "      <td>4832</td>\n",
       "    </tr>\n",
       "    <tr>\n",
       "      <td>Noun</td>\n",
       "      <td>24192</td>\n",
       "      <td>2</td>\n",
       "      <td>-ito</td>\n",
       "      <td>20799</td>\n",
       "    </tr>\n",
       "  </tbody>\n",
       "</table>\n",
       "</div>"
      ],
      "text/plain": [
       "                     count unique   top    freq\n",
       "Variety POS_binary                             \n",
       "AR      Adjective    23236      2  -ito   22486\n",
       "        Noun        109044      2  -ito   96213\n",
       "BO      Adjective     4290      2  -ito    3943\n",
       "        Noun         18005      2  -ito   14609\n",
       "CL      Adjective    10510      2  -ito    9913\n",
       "        Noun         45606      2  -ito   38460\n",
       "CO      Adjective    18160      2  -ito   16678\n",
       "        Noun         82114      2  -ito   66481\n",
       "CR      Adjective     4344      2  -ito    3719\n",
       "        Noun         23093      2  -ito   17289\n",
       "CU      Adjective     7067      2  -ito    6746\n",
       "        Noun         31327      2  -ito   25014\n",
       "DO      Adjective     4296      2  -ito    3720\n",
       "        Noun         19145      2  -ito   16021\n",
       "EC      Adjective     7490      2  -ito    7098\n",
       "        Noun         29025      2  -ito   23551\n",
       "ES      Adjective    69409      2  -ito   61005\n",
       "        Noun        314560      2  -ito  241592\n",
       "GT      Adjective     6557      2  -ito    6158\n",
       "        Noun         33937      2  -ito   28709\n",
       "HN      Adjective     3677      2  -ito    3419\n",
       "        Noun         17002      2  -ito   13782\n",
       "MX      Adjective    32218      2  -ito   30247\n",
       "        Noun        143568      2  -ito  120777\n",
       "NI      Adjective     3758      2  -ito    3502\n",
       "        Noun         18113      2  -ito   14766\n",
       "PA      Adjective     3055      2  -ito    2815\n",
       "        Noun         14168      2  -ito   11262\n",
       "PE      Adjective    18042      2  -ito   17051\n",
       "        Noun         77668      2  -ito   67176\n",
       "PR      Adjective     5071      2  -ito    4739\n",
       "        Noun         23394      2  -ito   19644\n",
       "PY      Adjective     3143      2  -ito    3006\n",
       "        Noun         14950      2  -ito   12556\n",
       "SV      Adjective     5237      2  -ito    4810\n",
       "        Noun         23170      2  -ito   19625\n",
       "US      Adjective    23882      2  -ito   22137\n",
       "        Noun        108452      2  -ito   89460\n",
       "UY      Adjective     5037      2  -ito    4832\n",
       "        Noun         24192      2  -ito   20799"
      ]
     },
     "execution_count": 62,
     "metadata": {},
     "output_type": "execute_result"
    }
   ],
   "source": [
    "DiminutivexVariety_POS = master_DF.groupby(['Variety','POS_binary']).Diminutive.describe() #A combination of the\n",
    "DiminutivexVariety_POS                                                                     #former two. "
   ]
  },
  {
   "cell_type": "markdown",
   "metadata": {},
   "source": [
    "- Lastly, let's take some first data visualization steps:"
   ]
  },
  {
   "cell_type": "code",
   "execution_count": 63,
   "metadata": {},
   "outputs": [
    {
     "data": {
      "text/plain": [
       "<matplotlib.axes._subplots.AxesSubplot object at 0x000002493FE70FC8>"
      ]
     },
     "execution_count": 63,
     "metadata": {},
     "output_type": "execute_result"
    },
    {
     "data": {
      "image/png": "[encoded data removed]",
      "text/plain": [
       "<Figure size 576x288 with 1 Axes>"
      ]
     },
     "metadata": {
      "needs_background": "light"
     },
     "output_type": "display_data"
    }
   ],
   "source": [
    "#Build plot\n",
    "\n",
    "master_DF['Diminutive'].value_counts().plot.barh(rot=0, figsize=(8,4), color=['navy', 'gold'], edgecolor='black', fontsize=14,\n",
    "                                   title='Figure 1. Diminutive suffix tokens. ')\n",
    "\n",
    "#Save plot\n",
    "\n",
    "plt.savefig('../figures/1_diminutive.png', dpi = 600)"
   ]
  },
  {
   "cell_type": "markdown",
   "metadata": {},
   "source": [
    "- The overall distribution of tokens. "
   ]
  },
  {
   "cell_type": "code",
   "execution_count": 64,
   "metadata": {},
   "outputs": [
    {
     "data": {
      "text/plain": [
       "<matplotlib.axes._subplots.AxesSubplot object at 0x000002493DD2DB88>"
      ]
     },
     "execution_count": 64,
     "metadata": {},
     "output_type": "execute_result"
    },
    {
     "data": {
      "image/png": "[encoded data removed]",
      "text/plain": [
       "<Figure size 576x288 with 1 Axes>"
      ]
     },
     "metadata": {
      "needs_background": "light"
     },
     "output_type": "display_data"
    }
   ],
   "source": [
    "#Build plot\n",
    "\n",
    "DiminutivexPOS.unstack().plot.barh(rot=0, figsize=(8,4), color=['navy', 'gold'], edgecolor='black', fontsize=14,\n",
    "                                   title='Figure 2. Diminutive suffix tokens by POS')\n",
    "\n",
    "#Save plot\n",
    "\n",
    "plt.savefig('../figures/2_diminutive_POS.png', dpi = 600)"
   ]
  },
  {
   "cell_type": "markdown",
   "metadata": {},
   "source": [
    "- Interesting information here, as of now it appears that there's a bigger gap in usage depending on the part of speech. *-illo* might be markedly less common with adjectives."
   ]
  },
  {
   "cell_type": "code",
   "execution_count": 65,
   "metadata": {},
   "outputs": [
    {
     "data": {
      "text/plain": [
       "<matplotlib.axes._subplots.AxesSubplot object at 0x000002493DD12848>"
      ]
     },
     "execution_count": 65,
     "metadata": {},
     "output_type": "execute_result"
    },
    {
     "data": {
      "image/png": "[encoded data removed]",
      "text/plain": [
       "<Figure size 576x576 with 1 Axes>"
      ]
     },
     "metadata": {
      "needs_background": "light"
     },
     "output_type": "display_data"
    }
   ],
   "source": [
    "#Build plot\n",
    "\n",
    "DiminutivexVariety.unstack().plot.barh(rot=0,figsize=(8,8),color=['navy', 'gold'], edgecolor='black', fontsize=14,\n",
    "                                       title ='Figure 3. Diminutive suffix tokens by variety.')\n",
    "\n",
    "#Save plot\n",
    "\n",
    "plt.savefig('../figures/3_diminutive_variety.png', dpi = 600)"
   ]
  },
  {
   "cell_type": "markdown",
   "metadata": {},
   "source": [
    "- Again, some more interesting information. The ratio is similar for most countries other than Spain, which is where *-illo* is claimed to be more productive in the descriptive literature."
   ]
  },
  {
   "cell_type": "code",
   "execution_count": 66,
   "metadata": {},
   "outputs": [
    {
     "data": {
      "text/plain": [
       "array([<matplotlib.axes._subplots.AxesSubplot object at 0x000002493FE71B88>,\n",
       "       <matplotlib.axes._subplots.AxesSubplot object at 0x000002493DCD4C48>],\n",
       "      dtype=object)"
      ]
     },
     "execution_count": 66,
     "metadata": {},
     "output_type": "execute_result"
    },
    {
     "data": {
      "text/plain": [
       "Text(0.5, 0.98, 'Figure 4. Diminutive suffix tokens by suffix and variety.')"
      ]
     },
     "execution_count": 66,
     "metadata": {},
     "output_type": "execute_result"
    },
    {
     "data": {
      "image/png": "[encoded data removed]",
      "text/plain": [
       "<Figure size 720x720 with 2 Axes>"
      ]
     },
     "metadata": {
      "needs_background": "light"
     },
     "output_type": "display_data"
    }
   ],
   "source": [
    "#Build plot\n",
    "\n",
    "DiminutivexVariety.unstack().plot.barh(rot=0, figsize=(10,10), color=['navy', 'gold'], edgecolor='black', fontsize=14,\n",
    "                                       subplots=True)\n",
    "plt.suptitle('Figure 4. Diminutive suffix tokens by suffix and variety.', fontsize=18)\n",
    "\n",
    "#Save plot\n",
    "\n",
    "plt.savefig('../figures/4_diminutive_variety_subplots.png', dpi = 600)"
   ]
  },
  {
   "cell_type": "markdown",
   "metadata": {},
   "source": [
    "- The difference appears to be clearer here for *-illo* usage. Again, this is preliminary given that I'm working with token counts and that I'm not using statistics yet, but it's a good point of departure."
   ]
  },
  {
   "cell_type": "markdown",
   "metadata": {},
   "source": [
    "## 4. Storing files"
   ]
  },
  {
   "cell_type": "code",
   "execution_count": 67,
   "metadata": {},
   "outputs": [],
   "source": [
    "#Master data frame\n",
    "\n",
    "master_DF.to_pickle('pkl/master_DF.pkl')\n",
    "\n",
    "#Lexicon\n",
    "\n",
    "lexicon.to_pickle('pkl/lexicon.pkl')"
   ]
  }
 ],
 "metadata": {
  "kernelspec": {
   "display_name": "Python 3",
   "language": "python",
   "name": "python3"
  },
  "language_info": {
   "codemirror_mode": {
    "name": "ipython",
    "version": 3
   },
   "file_extension": ".py",
   "mimetype": "text/x-python",
   "name": "python",
   "nbconvert_exporter": "python",
   "pygments_lexer": "ipython3",
   "version": "3.7.4"
  }
 },
 "nbformat": 4,
 "nbformat_minor": 2
}
