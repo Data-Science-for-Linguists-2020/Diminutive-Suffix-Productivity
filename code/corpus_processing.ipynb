{
 "cells": [
  {
   "cell_type": "markdown",
   "metadata": {},
   "source": [
    "## Diminutive Suffix Productivity\n",
    "Juan Berrios | jeb358@pitt.edu | Last updated: February 23, 2020"
   ]
  },
  {
   "cell_type": "markdown",
   "metadata": {},
   "source": [
    "**Summary:**"
   ]
  },
  {
   "cell_type": "markdown",
   "metadata": {},
   "source": [
    "- The purpose of the code included in this notebook is to build `DataFrame` objects from the `.txt` files in the corpus directories. Section 1 includes the necessary preparations. Section 2 provides code for loading the files. Section 3 provides code for building the objects. Section 4 is a first attempt at exploring and visualizing the data."
   ]
  },
  {
   "cell_type": "markdown",
   "metadata": {},
   "source": [
    "**1. Preparation**"
   ]
  },
  {
   "cell_type": "markdown",
   "metadata": {},
   "source": [
    "- Loading libraries and additional settings:"
   ]
  },
  {
   "cell_type": "code",
   "execution_count": 12,
   "metadata": {},
   "outputs": [
    {
     "name": "stdout",
     "output_type": "stream",
     "text": [
      "Pretty printing has been turned ON\n"
     ]
    }
   ],
   "source": [
    "#Importing libraries\n",
    "import nltk, glob, re, pickle\n",
    "import pandas as pd\n",
    "import numpy as np\n",
    "import matplotlib.pyplot as plt\n",
    "import seaborn as sns\n",
    "\n",
    "#Turning pretty print off:\n",
    "%pprint\n",
    "\n",
    "#Releasing all output:                                            \n",
    "from IPython.core.interactiveshell import InteractiveShell #Prints all commands rather than the last one.\n",
    "InteractiveShell.ast_node_interactivity = \"all\""
   ]
  },
  {
   "cell_type": "markdown",
   "metadata": {},
   "source": [
    "- Defining functions: "
   ]
  },
  {
   "cell_type": "code",
   "execution_count": 13,
   "metadata": {},
   "outputs": [],
   "source": [
    "def toDF(fname):\n",
    "    \"\"\"Turns tab-delimited file into a data frame\"\"\"\n",
    "    cols = ['SourceID', 'TokenID', 'Word', 'Lemma', 'POS']\n",
    "    df = pd.read_csv(fname,sep='\\t',encoding ='iso-8859-1',skiprows=[0],header=None,names=cols)\n",
    "    return df"
   ]
  },
  {
   "cell_type": "code",
   "execution_count": 14,
   "metadata": {},
   "outputs": [],
   "source": [
    "def add_variety(df,variety):\n",
    "    \"\"\"Adds a column specifying a given variety of Spanish to a data frame\"\"\"\n",
    "    df['Variety'] = variety"
   ]
  },
  {
   "cell_type": "code",
   "execution_count": 15,
   "metadata": {},
   "outputs": [],
   "source": [
    "#def remove_syms(df):\n",
    "#    \"\"\"Excludes symbols\"\"\"\n",
    "#    df = [row for row in df if df['Lemma'].isalpha]"
   ]
  },
  {
   "cell_type": "code",
   "execution_count": 16,
   "metadata": {},
   "outputs": [],
   "source": [
    "#def extract_dims(df):\n",
    "#    \"\"\"Removes tokens that do not end in the segments of interest (-ito/-illo)\"\"\"\n",
    "#    df = [row for row in df if df['Lemma'] == [ito|ita|itos|itas]]"
   ]
  },
  {
   "cell_type": "code",
   "execution_count": 17,
   "metadata": {},
   "outputs": [],
   "source": [
    "#def remove_lexforms(df):\n",
    "#    \"\"\"Removes diminutivized forms that have lexicalized\"\"\"\n",
    "#    df = [row for row in df if df['Lemma'] == [ito|ita|itos|itas]]"
   ]
  },
  {
   "cell_type": "markdown",
   "metadata": {},
   "source": [
    "**2. Import files**"
   ]
  },
  {
   "cell_type": "markdown",
   "metadata": {},
   "source": [
    "- The text files are very large. For testing purpose, I'll use only one of the text files as a start. The `.txt` files are tab delimited which makes my job a little easier. The columns correspond to an ID for the source text, an ID for the token, the token (word), the lemma, and the POS. I will hence use those for column names. "
   ]
  },
  {
   "cell_type": "code",
   "execution_count": 25,
   "metadata": {},
   "outputs": [],
   "source": [
    "fname = 'C:/Users/Juan/Documents/LING2340/Diminutive-Suffix-Productivity/private/data/wlp_ES-sbo/es-b-0.txt'"
   ]
  },
  {
   "cell_type": "code",
   "execution_count": 6,
   "metadata": {},
   "outputs": [],
   "source": [
    "cols = ['SourceID', 'TokenID', 'Word', 'Lemma', 'POS']"
   ]
  },
  {
   "cell_type": "code",
   "execution_count": 4,
   "metadata": {},
   "outputs": [],
   "source": [
    "#First row ignored because it corresponds to an identifier for the .txt file.\n",
    "\n",
    "df = pd.read_csv(fname,sep='\\t',encoding ='iso-8859-1',skiprows=[0],header=None,names=cols) "
   ]
  },
  {
   "cell_type": "code",
   "execution_count": 13,
   "metadata": {},
   "outputs": [
    {
     "data": {
      "text/plain": [
       "(27345213, 5)"
      ]
     },
     "execution_count": 13,
     "metadata": {},
     "output_type": "execute_result"
    }
   ],
   "source": [
    "df.shape #It's a very large file. It will get much smaller once I start extracting the tokens of interest."
   ]
  },
  {
   "cell_type": "code",
   "execution_count": 28,
   "metadata": {},
   "outputs": [
    {
     "data": {
      "text/html": [
       "<div>\n",
       "<style scoped>\n",
       "    .dataframe tbody tr th:only-of-type {\n",
       "        vertical-align: middle;\n",
       "    }\n",
       "\n",
       "    .dataframe tbody tr th {\n",
       "        vertical-align: top;\n",
       "    }\n",
       "\n",
       "    .dataframe thead th {\n",
       "        text-align: right;\n",
       "    }\n",
       "</style>\n",
       "<table border=\"1\" class=\"dataframe\">\n",
       "  <thead>\n",
       "    <tr style=\"text-align: right;\">\n",
       "      <th></th>\n",
       "      <th>SourceID</th>\n",
       "      <th>TokenID</th>\n",
       "      <th>Word</th>\n",
       "      <th>Lemma</th>\n",
       "      <th>POS</th>\n",
       "    </tr>\n",
       "  </thead>\n",
       "  <tbody>\n",
       "    <tr>\n",
       "      <td>0</td>\n",
       "      <td>431270</td>\n",
       "      <td>2206403096</td>\n",
       "      <td>Este</td>\n",
       "      <td>este</td>\n",
       "      <td>dd-</td>\n",
       "    </tr>\n",
       "    <tr>\n",
       "      <td>1</td>\n",
       "      <td>431270</td>\n",
       "      <td>2206403097</td>\n",
       "      <td>es</td>\n",
       "      <td>ser</td>\n",
       "      <td>vip-3s</td>\n",
       "    </tr>\n",
       "    <tr>\n",
       "      <td>2</td>\n",
       "      <td>431270</td>\n",
       "      <td>2206403098</td>\n",
       "      <td>un</td>\n",
       "      <td>un</td>\n",
       "      <td>li-ms</td>\n",
       "    </tr>\n",
       "    <tr>\n",
       "      <td>3</td>\n",
       "      <td>431270</td>\n",
       "      <td>2206403099</td>\n",
       "      <td>blog</td>\n",
       "      <td>blog</td>\n",
       "      <td>nms</td>\n",
       "    </tr>\n",
       "    <tr>\n",
       "      <td>4</td>\n",
       "      <td>431270</td>\n",
       "      <td>2206403100</td>\n",
       "      <td>de</td>\n",
       "      <td>de</td>\n",
       "      <td>e</td>\n",
       "    </tr>\n",
       "  </tbody>\n",
       "</table>\n",
       "</div>"
      ],
      "text/plain": [
       "   SourceID     TokenID  Word Lemma      POS\n",
       "0    431270  2206403096  Este  este      dd-\n",
       "1    431270  2206403097    es   ser   vip-3s\n",
       "2    431270  2206403098    un    un    li-ms\n",
       "3    431270  2206403099  blog  blog  nms    \n",
       "4    431270  2206403100    de    de        e"
      ]
     },
     "execution_count": 28,
     "metadata": {},
     "output_type": "execute_result"
    }
   ],
   "source": [
    "df.head()   #The lemma column will be useful when I need to aggregations that put lowecase and uppercase \n",
    "            #as well as plural and singular forms together."
   ]
  },
  {
   "cell_type": "code",
   "execution_count": 29,
   "metadata": {},
   "outputs": [
    {
     "data": {
      "text/html": [
       "<div>\n",
       "<style scoped>\n",
       "    .dataframe tbody tr th:only-of-type {\n",
       "        vertical-align: middle;\n",
       "    }\n",
       "\n",
       "    .dataframe tbody tr th {\n",
       "        vertical-align: top;\n",
       "    }\n",
       "\n",
       "    .dataframe thead th {\n",
       "        text-align: right;\n",
       "    }\n",
       "</style>\n",
       "<table border=\"1\" class=\"dataframe\">\n",
       "  <thead>\n",
       "    <tr style=\"text-align: right;\">\n",
       "      <th></th>\n",
       "      <th>SourceID</th>\n",
       "      <th>TokenID</th>\n",
       "      <th>Word</th>\n",
       "      <th>Lemma</th>\n",
       "      <th>POS</th>\n",
       "    </tr>\n",
       "  </thead>\n",
       "  <tbody>\n",
       "    <tr>\n",
       "      <td>27345208</td>\n",
       "      <td>676060</td>\n",
       "      <td>2511862343</td>\n",
       "      <td>mas</td>\n",
       "      <td>mas</td>\n",
       "      <td>cc</td>\n",
       "    </tr>\n",
       "    <tr>\n",
       "      <td>27345209</td>\n",
       "      <td>676060</td>\n",
       "      <td>2511862344</td>\n",
       "      <td>informacion</td>\n",
       "      <td>información</td>\n",
       "      <td>n</td>\n",
       "    </tr>\n",
       "    <tr>\n",
       "      <td>27345210</td>\n",
       "      <td>676060</td>\n",
       "      <td>2511862345</td>\n",
       "      <td>visite</td>\n",
       "      <td>visitar</td>\n",
       "      <td>vsp-1/3s</td>\n",
       "    </tr>\n",
       "    <tr>\n",
       "      <td>27345211</td>\n",
       "      <td>676060</td>\n",
       "      <td>2511862346</td>\n",
       "      <td>www.DineroAbundancia.com</td>\n",
       "      <td>www.dineroabundancia.com</td>\n",
       "      <td>n</td>\n",
       "    </tr>\n",
       "    <tr>\n",
       "      <td>27345212</td>\n",
       "      <td>676060</td>\n",
       "      <td>2511862347</td>\n",
       "      <td>.</td>\n",
       "      <td>$.</td>\n",
       "      <td>y</td>\n",
       "    </tr>\n",
       "  </tbody>\n",
       "</table>\n",
       "</div>"
      ],
      "text/plain": [
       "          SourceID     TokenID                      Word  \\\n",
       "27345208    676060  2511862343                       mas   \n",
       "27345209    676060  2511862344               informacion   \n",
       "27345210    676060  2511862345                    visite   \n",
       "27345211    676060  2511862346  www.DineroAbundancia.com   \n",
       "27345212    676060  2511862347                         .   \n",
       "\n",
       "                             Lemma       POS  \n",
       "27345208                       mas        cc  \n",
       "27345209               información         n  \n",
       "27345210                   visitar  vsp-1/3s  \n",
       "27345211  www.dineroabundancia.com         n  \n",
       "27345212                        $.         y  "
      ]
     },
     "execution_count": 29,
     "metadata": {},
     "output_type": "execute_result"
    }
   ],
   "source": [
    "df.tail()"
   ]
  },
  {
   "cell_type": "code",
   "execution_count": 30,
   "metadata": {},
   "outputs": [
    {
     "data": {
      "text/html": [
       "<div>\n",
       "<style scoped>\n",
       "    .dataframe tbody tr th:only-of-type {\n",
       "        vertical-align: middle;\n",
       "    }\n",
       "\n",
       "    .dataframe tbody tr th {\n",
       "        vertical-align: top;\n",
       "    }\n",
       "\n",
       "    .dataframe thead th {\n",
       "        text-align: right;\n",
       "    }\n",
       "</style>\n",
       "<table border=\"1\" class=\"dataframe\">\n",
       "  <thead>\n",
       "    <tr style=\"text-align: right;\">\n",
       "      <th></th>\n",
       "      <th>SourceID</th>\n",
       "      <th>TokenID</th>\n",
       "      <th>Word</th>\n",
       "      <th>Lemma</th>\n",
       "      <th>POS</th>\n",
       "    </tr>\n",
       "  </thead>\n",
       "  <tbody>\n",
       "    <tr>\n",
       "      <td>15815166</td>\n",
       "      <td>583170</td>\n",
       "      <td>1988799088</td>\n",
       "      <td>continuaciones</td>\n",
       "      <td>continuación</td>\n",
       "      <td>nfp</td>\n",
       "    </tr>\n",
       "    <tr>\n",
       "      <td>12487263</td>\n",
       "      <td>553890</td>\n",
       "      <td>1499417129</td>\n",
       "      <td>una</td>\n",
       "      <td>un</td>\n",
       "      <td>li-fs</td>\n",
       "    </tr>\n",
       "    <tr>\n",
       "      <td>18153970</td>\n",
       "      <td>594570</td>\n",
       "      <td>645278646</td>\n",
       "      <td>plazo</td>\n",
       "      <td>plazo</td>\n",
       "      <td>nms</td>\n",
       "    </tr>\n",
       "    <tr>\n",
       "      <td>18391857</td>\n",
       "      <td>595570</td>\n",
       "      <td>645299939</td>\n",
       "      <td>tiene</td>\n",
       "      <td>tener</td>\n",
       "      <td>vip-3s</td>\n",
       "    </tr>\n",
       "    <tr>\n",
       "      <td>4634351</td>\n",
       "      <td>481160</td>\n",
       "      <td>1980220106</td>\n",
       "      <td>anónimo</td>\n",
       "      <td>anónimo</td>\n",
       "      <td>jms</td>\n",
       "    </tr>\n",
       "  </tbody>\n",
       "</table>\n",
       "</div>"
      ],
      "text/plain": [
       "          SourceID     TokenID            Word         Lemma      POS\n",
       "15815166    583170  1988799088  continuaciones  continuación  nfp    \n",
       "12487263    553890  1499417129             una            un    li-fs\n",
       "18153970    594570   645278646           plazo         plazo  nms    \n",
       "18391857    595570   645299939           tiene         tener   vip-3s\n",
       "4634351     481160  1980220106         anónimo       anónimo  jms    "
      ]
     },
     "execution_count": 30,
     "metadata": {},
     "output_type": "execute_result"
    }
   ],
   "source": [
    "df.sample(5)"
   ]
  },
  {
   "cell_type": "code",
   "execution_count": 22,
   "metadata": {},
   "outputs": [
    {
     "data": {
      "text/plain": [
       "array(['dd-', 'vip-3s', 'li-ms', 'nms    ', 'e', 'nfp    ', 'y',\n",
       "       'nfs    ', 'nmp    ', 'vsp-1/3s', 'n', 'cc', 'o', 'r', 'vps-ms',\n",
       "       'ld-fs', 'm$', 'vc-1/3s', 'vr', 'po', 'li-fs', 'ld-mp', 'vip-3p',\n",
       "       'ld-ms', 'jms    ', 'vpp', 'mc', 'vps-fs', 'j', 'vii-1/3s', 'e_21',\n",
       "       'x', nan, 'cs', 'ld', 'v', 'cc-', 'ld-fp', 'pi-0cn', 'dd',\n",
       "       'dxmp-ind-', 'vip-2s', 'dp-', 'vsp-3p', 'pi-0ms', 'jfp    ',\n",
       "       'cS_21', 'cS_22', 'jmp    ', 'vsp-2s', 'vip-1s', 'vsp-1p', 'ps',\n",
       "       'vip-1p/vis-1p', 'vip-1p', 'pd-3cs', 'vif-1p', 'vps-mp', 'vif-3s',\n",
       "       'vif-3p', 'jfs    ', 'dxfs-ind-', 'vsj-1/3s', 'i', 'pi-3ms',\n",
       "       'vis-3s', 'b', 'p', 'np', 'pr-3cn\"', 'px', 'dxms-ind-', 'pi-3cs',\n",
       "       'dxfs-', 'pr-3cs', 'px-ms', 'dxfp-ind-', 'vis-3p', 'li-mp', 'pi',\n",
       "       'vsi-3p', 'px-mp', 'vsi-1/3s', 'pq-3cn\"', 'vif-2s', 'vif-2p',\n",
       "       'vsp-2p', 'vip-2p', 'vpp-00', 'vm-2p', 'vis-1p', 'dxcs-ind-',\n",
       "       'pr-3cp', 'dxcs-dem-', 'vif-1s', 'vc-1p', 'cC_21', 'cC_22',\n",
       "       'vps-fp', 'vii-3p', 'pq-3cn', 'e_32', 'vis-1s', 'pr-0mp', 'pr-3fs',\n",
       "       'vc-3p', 'vii-1p', 'pv', 'nj', 'fn', 'vc-2p', 'vsi-2s', 'li-fp',\n",
       "       'pp-1cs', 'dxfp-', 'vsi-1p', 'vii-2s', 'vis-2s', 'pr-3ms', 'e_22',\n",
       "       'mo-ms-', 'jn', 'pr-3mp', 'cS_31', 'cS_32', 'cS_33', 'pq-3cp',\n",
       "       'dxfp-int-', 'vii-2p', 'vsj-3p', 'pp-2cs', 'vm-2s', 'pp-2cp', 'fj',\n",
       "       'mo', 'pr-3fs\"', 'pq-3cs', 'f', 'dxcp-dem-', 'e_43', 'vm-3p', 'fv',\n",
       "       'vc-2s', 'pq-3ms', 'fp', 'pron', 'prep', 'mo-fs-', 'pr-3fp',\n",
       "       'vis-2p', 'vm-3s', 'vsf-1/3s', 'e_31', 'vsi-2p', 'mo-mp-', 'N',\n",
       "       'pd-3ms', 'vsj-1p', 'xp', 'dxmp-int-', 'xs', 'xx', 'vsj-2s', 'fx',\n",
       "       'cS_41', 'cS_42', 'cS_43', 'cS_44', 'vsf-3p', 'e_33', 'px-00',\n",
       "       'vsj-2p', 'e_42', 'fnp', 'x_sp', 'pp-2p', 'fnj', 'xe', 'dxfs-int-',\n",
       "       'vsf-2s', 'dxcp-ind-', 'pd-3fs', 'pd-3fp', 'pd-3mp', 'PN_MISC',\n",
       "       'v51    ', 'li', 'de', 'mo-fp-', 'fe', 'xb', 'v29    ', 'v30    ',\n",
       "       'vsf-2p', 'dp', 'ADJ', 'pn', 'xa', 'xy', 'xw', 'm', 'xh', 'xd',\n",
       "       'vsf-1p', 'vsp-', 'a', 'xm'], dtype=object)"
      ]
     },
     "execution_count": 22,
     "metadata": {},
     "output_type": "execute_result"
    }
   ],
   "source": [
    "df['POS'].unique() #These POS tags are not very transparent, but it's a good start."
   ]
  },
  {
   "cell_type": "code",
   "execution_count": 31,
   "metadata": {},
   "outputs": [],
   "source": [
    "df['Variety'] = 'ES' #Time to add a column for the variety of Spanish"
   ]
  },
  {
   "cell_type": "code",
   "execution_count": 32,
   "metadata": {},
   "outputs": [
    {
     "data": {
      "text/html": [
       "<div>\n",
       "<style scoped>\n",
       "    .dataframe tbody tr th:only-of-type {\n",
       "        vertical-align: middle;\n",
       "    }\n",
       "\n",
       "    .dataframe tbody tr th {\n",
       "        vertical-align: top;\n",
       "    }\n",
       "\n",
       "    .dataframe thead th {\n",
       "        text-align: right;\n",
       "    }\n",
       "</style>\n",
       "<table border=\"1\" class=\"dataframe\">\n",
       "  <thead>\n",
       "    <tr style=\"text-align: right;\">\n",
       "      <th></th>\n",
       "      <th>SourceID</th>\n",
       "      <th>TokenID</th>\n",
       "      <th>Word</th>\n",
       "      <th>Lemma</th>\n",
       "      <th>POS</th>\n",
       "      <th>Variety</th>\n",
       "    </tr>\n",
       "  </thead>\n",
       "  <tbody>\n",
       "    <tr>\n",
       "      <td>0</td>\n",
       "      <td>431270</td>\n",
       "      <td>2206403096</td>\n",
       "      <td>Este</td>\n",
       "      <td>este</td>\n",
       "      <td>dd-</td>\n",
       "      <td>ES</td>\n",
       "    </tr>\n",
       "    <tr>\n",
       "      <td>1</td>\n",
       "      <td>431270</td>\n",
       "      <td>2206403097</td>\n",
       "      <td>es</td>\n",
       "      <td>ser</td>\n",
       "      <td>vip-3s</td>\n",
       "      <td>ES</td>\n",
       "    </tr>\n",
       "    <tr>\n",
       "      <td>2</td>\n",
       "      <td>431270</td>\n",
       "      <td>2206403098</td>\n",
       "      <td>un</td>\n",
       "      <td>un</td>\n",
       "      <td>li-ms</td>\n",
       "      <td>ES</td>\n",
       "    </tr>\n",
       "    <tr>\n",
       "      <td>3</td>\n",
       "      <td>431270</td>\n",
       "      <td>2206403099</td>\n",
       "      <td>blog</td>\n",
       "      <td>blog</td>\n",
       "      <td>nms</td>\n",
       "      <td>ES</td>\n",
       "    </tr>\n",
       "    <tr>\n",
       "      <td>4</td>\n",
       "      <td>431270</td>\n",
       "      <td>2206403100</td>\n",
       "      <td>de</td>\n",
       "      <td>de</td>\n",
       "      <td>e</td>\n",
       "      <td>ES</td>\n",
       "    </tr>\n",
       "  </tbody>\n",
       "</table>\n",
       "</div>"
      ],
      "text/plain": [
       "   SourceID     TokenID  Word Lemma      POS Variety\n",
       "0    431270  2206403096  Este  este      dd-      ES\n",
       "1    431270  2206403097    es   ser   vip-3s      ES\n",
       "2    431270  2206403098    un    un    li-ms      ES\n",
       "3    431270  2206403099  blog  blog  nms          ES\n",
       "4    431270  2206403100    de    de        e      ES"
      ]
     },
     "execution_count": 32,
     "metadata": {},
     "output_type": "execute_result"
    }
   ],
   "source": [
    "df.head()"
   ]
  },
  {
   "cell_type": "code",
   "execution_count": 36,
   "metadata": {},
   "outputs": [
    {
     "data": {
      "text/html": [
       "<div>\n",
       "<style scoped>\n",
       "    .dataframe tbody tr th:only-of-type {\n",
       "        vertical-align: middle;\n",
       "    }\n",
       "\n",
       "    .dataframe tbody tr th {\n",
       "        vertical-align: top;\n",
       "    }\n",
       "\n",
       "    .dataframe thead th {\n",
       "        text-align: right;\n",
       "    }\n",
       "</style>\n",
       "<table border=\"1\" class=\"dataframe\">\n",
       "  <thead>\n",
       "    <tr style=\"text-align: right;\">\n",
       "      <th></th>\n",
       "      <th>SourceID</th>\n",
       "      <th>TokenID</th>\n",
       "      <th>Word</th>\n",
       "      <th>Lemma</th>\n",
       "      <th>POS</th>\n",
       "      <th>Variety</th>\n",
       "    </tr>\n",
       "  </thead>\n",
       "  <tbody>\n",
       "    <tr>\n",
       "      <td>27345208</td>\n",
       "      <td>676060</td>\n",
       "      <td>2511862343</td>\n",
       "      <td>mas</td>\n",
       "      <td>mas</td>\n",
       "      <td>cc</td>\n",
       "      <td>ES</td>\n",
       "    </tr>\n",
       "    <tr>\n",
       "      <td>27345209</td>\n",
       "      <td>676060</td>\n",
       "      <td>2511862344</td>\n",
       "      <td>informacion</td>\n",
       "      <td>información</td>\n",
       "      <td>n</td>\n",
       "      <td>ES</td>\n",
       "    </tr>\n",
       "    <tr>\n",
       "      <td>27345210</td>\n",
       "      <td>676060</td>\n",
       "      <td>2511862345</td>\n",
       "      <td>visite</td>\n",
       "      <td>visitar</td>\n",
       "      <td>vsp-1/3s</td>\n",
       "      <td>ES</td>\n",
       "    </tr>\n",
       "    <tr>\n",
       "      <td>27345211</td>\n",
       "      <td>676060</td>\n",
       "      <td>2511862346</td>\n",
       "      <td>www.DineroAbundancia.com</td>\n",
       "      <td>www.dineroabundancia.com</td>\n",
       "      <td>n</td>\n",
       "      <td>ES</td>\n",
       "    </tr>\n",
       "    <tr>\n",
       "      <td>27345212</td>\n",
       "      <td>676060</td>\n",
       "      <td>2511862347</td>\n",
       "      <td>.</td>\n",
       "      <td>$.</td>\n",
       "      <td>y</td>\n",
       "      <td>ES</td>\n",
       "    </tr>\n",
       "  </tbody>\n",
       "</table>\n",
       "</div>"
      ],
      "text/plain": [
       "          SourceID     TokenID                      Word  \\\n",
       "27345208    676060  2511862343                       mas   \n",
       "27345209    676060  2511862344               informacion   \n",
       "27345210    676060  2511862345                    visite   \n",
       "27345211    676060  2511862346  www.DineroAbundancia.com   \n",
       "27345212    676060  2511862347                         .   \n",
       "\n",
       "                             Lemma       POS Variety  \n",
       "27345208                       mas        cc      ES  \n",
       "27345209               información         n      ES  \n",
       "27345210                   visitar  vsp-1/3s      ES  \n",
       "27345211  www.dineroabundancia.com         n      ES  \n",
       "27345212                        $.         y      ES  "
      ]
     },
     "execution_count": 36,
     "metadata": {},
     "output_type": "execute_result"
    }
   ],
   "source": [
    "df.tail()"
   ]
  },
  {
   "cell_type": "code",
   "execution_count": 43,
   "metadata": {},
   "outputs": [
    {
     "data": {
      "text/html": [
       "<div>\n",
       "<style scoped>\n",
       "    .dataframe tbody tr th:only-of-type {\n",
       "        vertical-align: middle;\n",
       "    }\n",
       "\n",
       "    .dataframe tbody tr th {\n",
       "        vertical-align: top;\n",
       "    }\n",
       "\n",
       "    .dataframe thead th {\n",
       "        text-align: right;\n",
       "    }\n",
       "</style>\n",
       "<table border=\"1\" class=\"dataframe\">\n",
       "  <thead>\n",
       "    <tr style=\"text-align: right;\">\n",
       "      <th></th>\n",
       "      <th>SourceID</th>\n",
       "      <th>TokenID</th>\n",
       "      <th>Word</th>\n",
       "      <th>Lemma</th>\n",
       "      <th>POS</th>\n",
       "      <th>Variety</th>\n",
       "    </tr>\n",
       "  </thead>\n",
       "  <tbody>\n",
       "    <tr>\n",
       "      <td>12039497</td>\n",
       "      <td>549480</td>\n",
       "      <td>398527564</td>\n",
       "      <td>notable</td>\n",
       "      <td>notable</td>\n",
       "      <td>jms</td>\n",
       "      <td>ES</td>\n",
       "    </tr>\n",
       "    <tr>\n",
       "      <td>26455927</td>\n",
       "      <td>670370</td>\n",
       "      <td>122994012</td>\n",
       "      <td>dopaje</td>\n",
       "      <td>dopaje</td>\n",
       "      <td>nms</td>\n",
       "      <td>ES</td>\n",
       "    </tr>\n",
       "    <tr>\n",
       "      <td>27258438</td>\n",
       "      <td>674960</td>\n",
       "      <td>1688566260</td>\n",
       "      <td>este</td>\n",
       "      <td>este</td>\n",
       "      <td>dd-</td>\n",
       "      <td>ES</td>\n",
       "    </tr>\n",
       "    <tr>\n",
       "      <td>16321843</td>\n",
       "      <td>584610</td>\n",
       "      <td>2634468121</td>\n",
       "      <td>de</td>\n",
       "      <td>de</td>\n",
       "      <td>e</td>\n",
       "      <td>ES</td>\n",
       "    </tr>\n",
       "    <tr>\n",
       "      <td>26447521</td>\n",
       "      <td>670270</td>\n",
       "      <td>2039624095</td>\n",
       "      <td>que</td>\n",
       "      <td>que</td>\n",
       "      <td>cs</td>\n",
       "      <td>ES</td>\n",
       "    </tr>\n",
       "  </tbody>\n",
       "</table>\n",
       "</div>"
      ],
      "text/plain": [
       "          SourceID     TokenID     Word    Lemma      POS Variety\n",
       "12039497    549480   398527564  notable  notable  jms          ES\n",
       "26455927    670370   122994012   dopaje   dopaje  nms          ES\n",
       "27258438    674960  1688566260     este     este      dd-      ES\n",
       "16321843    584610  2634468121       de       de        e      ES\n",
       "26447521    670270  2039624095      que      que       cs      ES"
      ]
     },
     "execution_count": 43,
     "metadata": {},
     "output_type": "execute_result"
    }
   ],
   "source": [
    "df.sample(5)"
   ]
  },
  {
   "cell_type": "markdown",
   "metadata": {},
   "source": [
    "**3. Build objects**"
   ]
  },
  {
   "cell_type": "code",
   "execution_count": 18,
   "metadata": {},
   "outputs": [
    {
     "data": {
      "text/plain": [
       "'C:/Users/Juan/Documents/LING2340/Diminutive-Suffix-Productivity/private/data/wlp_ES-sbo\\\\es-b-0.txt'"
      ]
     },
     "execution_count": 18,
     "metadata": {},
     "output_type": "execute_result"
    }
   ],
   "source": [
    "corpus_dir = \"C:/Users/Juan/Documents/LING2340/Diminutive-Suffix-Productivity/private/data/\"\n",
    "es_fname = glob.glob(corpus_dir + 'wlp_ES-sbo/*.txt')\n",
    "es_fname[0]"
   ]
  },
  {
   "cell_type": "code",
   "execution_count": 30,
   "metadata": {},
   "outputs": [
    {
     "data": {
      "text/html": [
       "<div>\n",
       "<style scoped>\n",
       "    .dataframe tbody tr th:only-of-type {\n",
       "        vertical-align: middle;\n",
       "    }\n",
       "\n",
       "    .dataframe tbody tr th {\n",
       "        vertical-align: top;\n",
       "    }\n",
       "\n",
       "    .dataframe thead th {\n",
       "        text-align: right;\n",
       "    }\n",
       "</style>\n",
       "<table border=\"1\" class=\"dataframe\">\n",
       "  <thead>\n",
       "    <tr style=\"text-align: right;\">\n",
       "      <th></th>\n",
       "      <th>SourceID</th>\n",
       "      <th>TokenID</th>\n",
       "      <th>Word</th>\n",
       "      <th>Lemma</th>\n",
       "      <th>POS</th>\n",
       "    </tr>\n",
       "  </thead>\n",
       "  <tbody>\n",
       "  </tbody>\n",
       "</table>\n",
       "</div>"
      ],
      "text/plain": [
       "Empty DataFrame\n",
       "Columns: [SourceID, TokenID, Word, Lemma, POS]\n",
       "Index: []"
      ]
     },
     "execution_count": 30,
     "metadata": {},
     "output_type": "execute_result"
    }
   ],
   "source": [
    "es_DF = pd.DataFrame(columns=cols) #Builds a new, empty data frame object.\n",
    "es_DF"
   ]
  },
  {
   "cell_type": "code",
   "execution_count": 20,
   "metadata": {},
   "outputs": [],
   "source": [
    "add_variety(es_DF,'ES')"
   ]
  },
  {
   "cell_type": "code",
   "execution_count": 21,
   "metadata": {},
   "outputs": [
    {
     "data": {
      "text/html": [
       "<div>\n",
       "<style scoped>\n",
       "    .dataframe tbody tr th:only-of-type {\n",
       "        vertical-align: middle;\n",
       "    }\n",
       "\n",
       "    .dataframe tbody tr th {\n",
       "        vertical-align: top;\n",
       "    }\n",
       "\n",
       "    .dataframe thead th {\n",
       "        text-align: right;\n",
       "    }\n",
       "</style>\n",
       "<table border=\"1\" class=\"dataframe\">\n",
       "  <thead>\n",
       "    <tr style=\"text-align: right;\">\n",
       "      <th></th>\n",
       "      <th>SourceID</th>\n",
       "      <th>TokenID</th>\n",
       "      <th>Word</th>\n",
       "      <th>Lemma</th>\n",
       "      <th>POS</th>\n",
       "      <th>Variety</th>\n",
       "    </tr>\n",
       "  </thead>\n",
       "  <tbody>\n",
       "  </tbody>\n",
       "</table>\n",
       "</div>"
      ],
      "text/plain": [
       "Empty DataFrame\n",
       "Columns: [SourceID, TokenID, Word, Lemma, POS, Variety]\n",
       "Index: []"
      ]
     },
     "execution_count": 21,
     "metadata": {},
     "output_type": "execute_result"
    }
   ],
   "source": [
    "es_DF"
   ]
  },
  {
   "cell_type": "code",
   "execution_count": 22,
   "metadata": {},
   "outputs": [
    {
     "name": "stdout",
     "output_type": "stream",
     "text": [
      "C:/Users/Juan/Documents/LING2340/Diminutive-Suffix-Productivity/private/data/wlp_ES-sbo\\es-b-0.txt\n",
      "C:/Users/Juan/Documents/LING2340/Diminutive-Suffix-Productivity/private/data/wlp_ES-sbo\\es-b-1.txt\n",
      "C:/Users/Juan/Documents/LING2340/Diminutive-Suffix-Productivity/private/data/wlp_ES-sbo\\es-b-2.txt\n",
      "C:/Users/Juan/Documents/LING2340/Diminutive-Suffix-Productivity/private/data/wlp_ES-sbo\\es-b-3.txt\n",
      "C:/Users/Juan/Documents/LING2340/Diminutive-Suffix-Productivity/private/data/wlp_ES-sbo\\es-b-4.txt\n",
      "C:/Users/Juan/Documents/LING2340/Diminutive-Suffix-Productivity/private/data/wlp_ES-sbo\\es-b-5.txt\n",
      "C:/Users/Juan/Documents/LING2340/Diminutive-Suffix-Productivity/private/data/wlp_ES-sbo\\es-b-6.txt\n",
      "C:/Users/Juan/Documents/LING2340/Diminutive-Suffix-Productivity/private/data/wlp_ES-sbo\\es-b-7.txt\n",
      "C:/Users/Juan/Documents/LING2340/Diminutive-Suffix-Productivity/private/data/wlp_ES-sbo\\es-b-8.txt\n",
      "C:/Users/Juan/Documents/LING2340/Diminutive-Suffix-Productivity/private/data/wlp_ES-sbo\\es-b-9.txt\n",
      "C:/Users/Juan/Documents/LING2340/Diminutive-Suffix-Productivity/private/data/wlp_ES-sbo\\es-g-0.txt\n",
      "C:/Users/Juan/Documents/LING2340/Diminutive-Suffix-Productivity/private/data/wlp_ES-sbo\\es-g-1.txt\n",
      "C:/Users/Juan/Documents/LING2340/Diminutive-Suffix-Productivity/private/data/wlp_ES-sbo\\es-g-2.txt\n",
      "C:/Users/Juan/Documents/LING2340/Diminutive-Suffix-Productivity/private/data/wlp_ES-sbo\\es-g-3.txt\n",
      "C:/Users/Juan/Documents/LING2340/Diminutive-Suffix-Productivity/private/data/wlp_ES-sbo\\es-g-4.txt\n",
      "C:/Users/Juan/Documents/LING2340/Diminutive-Suffix-Productivity/private/data/wlp_ES-sbo\\es-g-5.txt\n",
      "C:/Users/Juan/Documents/LING2340/Diminutive-Suffix-Productivity/private/data/wlp_ES-sbo\\es-g-6.txt\n",
      "C:/Users/Juan/Documents/LING2340/Diminutive-Suffix-Productivity/private/data/wlp_ES-sbo\\es-g-7.txt\n",
      "C:/Users/Juan/Documents/LING2340/Diminutive-Suffix-Productivity/private/data/wlp_ES-sbo\\es-g-8.txt\n",
      "C:/Users/Juan/Documents/LING2340/Diminutive-Suffix-Productivity/private/data/wlp_ES-sbo\\es-g-9.txt\n"
     ]
    }
   ],
   "source": [
    "for fname in es_fname:\n",
    "    print(fname)"
   ]
  },
  {
   "cell_type": "code",
   "execution_count": 31,
   "metadata": {},
   "outputs": [
    {
     "ename": "MemoryError",
     "evalue": "",
     "output_type": "error",
     "traceback": [
      "\u001b[1;31m---------------------------------------------------------------------------\u001b[0m",
      "\u001b[1;31mMemoryError\u001b[0m                               Traceback (most recent call last)",
      "\u001b[1;32m<ipython-input-31-b56cdce357b1>\u001b[0m in \u001b[0;36m<module>\u001b[1;34m\u001b[0m\n\u001b[0;32m      1\u001b[0m \u001b[1;32mfor\u001b[0m \u001b[0mfname\u001b[0m \u001b[1;32min\u001b[0m \u001b[0mes_fname\u001b[0m\u001b[1;33m:\u001b[0m\u001b[1;33m\u001b[0m\u001b[1;33m\u001b[0m\u001b[0m\n\u001b[0;32m      2\u001b[0m     \u001b[0mdf\u001b[0m \u001b[1;33m=\u001b[0m \u001b[0mtoDF\u001b[0m\u001b[1;33m(\u001b[0m\u001b[0mfname\u001b[0m\u001b[1;33m)\u001b[0m\u001b[1;33m\u001b[0m\u001b[1;33m\u001b[0m\u001b[0m\n\u001b[1;32m----> 3\u001b[1;33m     \u001b[0mes_DF\u001b[0m \u001b[1;33m=\u001b[0m \u001b[0mpd\u001b[0m\u001b[1;33m.\u001b[0m\u001b[0mconcat\u001b[0m\u001b[1;33m(\u001b[0m\u001b[1;33m[\u001b[0m\u001b[0mes_DF\u001b[0m\u001b[1;33m,\u001b[0m \u001b[0mdf\u001b[0m\u001b[1;33m]\u001b[0m\u001b[1;33m,\u001b[0m \u001b[0msort\u001b[0m\u001b[1;33m=\u001b[0m\u001b[1;32mTrue\u001b[0m\u001b[1;33m)\u001b[0m\u001b[1;33m\u001b[0m\u001b[1;33m\u001b[0m\u001b[0m\n\u001b[0m",
      "\u001b[1;32mC:\\ProgramData\\Anaconda3\\lib\\site-packages\\pandas\\core\\reshape\\concat.py\u001b[0m in \u001b[0;36mconcat\u001b[1;34m(objs, axis, join, join_axes, ignore_index, keys, levels, names, verify_integrity, sort, copy)\u001b[0m\n\u001b[0;32m    253\u001b[0m         \u001b[0mverify_integrity\u001b[0m\u001b[1;33m=\u001b[0m\u001b[0mverify_integrity\u001b[0m\u001b[1;33m,\u001b[0m\u001b[1;33m\u001b[0m\u001b[1;33m\u001b[0m\u001b[0m\n\u001b[0;32m    254\u001b[0m         \u001b[0mcopy\u001b[0m\u001b[1;33m=\u001b[0m\u001b[0mcopy\u001b[0m\u001b[1;33m,\u001b[0m\u001b[1;33m\u001b[0m\u001b[1;33m\u001b[0m\u001b[0m\n\u001b[1;32m--> 255\u001b[1;33m         \u001b[0msort\u001b[0m\u001b[1;33m=\u001b[0m\u001b[0msort\u001b[0m\u001b[1;33m,\u001b[0m\u001b[1;33m\u001b[0m\u001b[1;33m\u001b[0m\u001b[0m\n\u001b[0m\u001b[0;32m    256\u001b[0m     )\n\u001b[0;32m    257\u001b[0m \u001b[1;33m\u001b[0m\u001b[0m\n",
      "\u001b[1;32mC:\\ProgramData\\Anaconda3\\lib\\site-packages\\pandas\\core\\reshape\\concat.py\u001b[0m in \u001b[0;36m__init__\u001b[1;34m(self, objs, axis, join, join_axes, keys, levels, names, ignore_index, verify_integrity, copy, sort)\u001b[0m\n\u001b[0;32m    333\u001b[0m \u001b[1;33m\u001b[0m\u001b[0m\n\u001b[0;32m    334\u001b[0m             \u001b[1;31m# consolidate\u001b[0m\u001b[1;33m\u001b[0m\u001b[1;33m\u001b[0m\u001b[1;33m\u001b[0m\u001b[0m\n\u001b[1;32m--> 335\u001b[1;33m             \u001b[0mobj\u001b[0m\u001b[1;33m.\u001b[0m\u001b[0m_consolidate\u001b[0m\u001b[1;33m(\u001b[0m\u001b[0minplace\u001b[0m\u001b[1;33m=\u001b[0m\u001b[1;32mTrue\u001b[0m\u001b[1;33m)\u001b[0m\u001b[1;33m\u001b[0m\u001b[1;33m\u001b[0m\u001b[0m\n\u001b[0m\u001b[0;32m    336\u001b[0m             \u001b[0mndims\u001b[0m\u001b[1;33m.\u001b[0m\u001b[0madd\u001b[0m\u001b[1;33m(\u001b[0m\u001b[0mobj\u001b[0m\u001b[1;33m.\u001b[0m\u001b[0mndim\u001b[0m\u001b[1;33m)\u001b[0m\u001b[1;33m\u001b[0m\u001b[1;33m\u001b[0m\u001b[0m\n\u001b[0;32m    337\u001b[0m \u001b[1;33m\u001b[0m\u001b[0m\n",
      "\u001b[1;32mC:\\ProgramData\\Anaconda3\\lib\\site-packages\\pandas\\core\\generic.py\u001b[0m in \u001b[0;36m_consolidate\u001b[1;34m(self, inplace)\u001b[0m\n\u001b[0;32m   5268\u001b[0m         \u001b[0minplace\u001b[0m \u001b[1;33m=\u001b[0m \u001b[0mvalidate_bool_kwarg\u001b[0m\u001b[1;33m(\u001b[0m\u001b[0minplace\u001b[0m\u001b[1;33m,\u001b[0m \u001b[1;34m\"inplace\"\u001b[0m\u001b[1;33m)\u001b[0m\u001b[1;33m\u001b[0m\u001b[1;33m\u001b[0m\u001b[0m\n\u001b[0;32m   5269\u001b[0m         \u001b[1;32mif\u001b[0m \u001b[0minplace\u001b[0m\u001b[1;33m:\u001b[0m\u001b[1;33m\u001b[0m\u001b[1;33m\u001b[0m\u001b[0m\n\u001b[1;32m-> 5270\u001b[1;33m             \u001b[0mself\u001b[0m\u001b[1;33m.\u001b[0m\u001b[0m_consolidate_inplace\u001b[0m\u001b[1;33m(\u001b[0m\u001b[1;33m)\u001b[0m\u001b[1;33m\u001b[0m\u001b[1;33m\u001b[0m\u001b[0m\n\u001b[0m\u001b[0;32m   5271\u001b[0m         \u001b[1;32melse\u001b[0m\u001b[1;33m:\u001b[0m\u001b[1;33m\u001b[0m\u001b[1;33m\u001b[0m\u001b[0m\n\u001b[0;32m   5272\u001b[0m             \u001b[0mf\u001b[0m \u001b[1;33m=\u001b[0m \u001b[1;32mlambda\u001b[0m\u001b[1;33m:\u001b[0m \u001b[0mself\u001b[0m\u001b[1;33m.\u001b[0m\u001b[0m_data\u001b[0m\u001b[1;33m.\u001b[0m\u001b[0mconsolidate\u001b[0m\u001b[1;33m(\u001b[0m\u001b[1;33m)\u001b[0m\u001b[1;33m\u001b[0m\u001b[1;33m\u001b[0m\u001b[0m\n",
      "\u001b[1;32mC:\\ProgramData\\Anaconda3\\lib\\site-packages\\pandas\\core\\generic.py\u001b[0m in \u001b[0;36m_consolidate_inplace\u001b[1;34m(self)\u001b[0m\n\u001b[0;32m   5250\u001b[0m             \u001b[0mself\u001b[0m\u001b[1;33m.\u001b[0m\u001b[0m_data\u001b[0m \u001b[1;33m=\u001b[0m \u001b[0mself\u001b[0m\u001b[1;33m.\u001b[0m\u001b[0m_data\u001b[0m\u001b[1;33m.\u001b[0m\u001b[0mconsolidate\u001b[0m\u001b[1;33m(\u001b[0m\u001b[1;33m)\u001b[0m\u001b[1;33m\u001b[0m\u001b[1;33m\u001b[0m\u001b[0m\n\u001b[0;32m   5251\u001b[0m \u001b[1;33m\u001b[0m\u001b[0m\n\u001b[1;32m-> 5252\u001b[1;33m         \u001b[0mself\u001b[0m\u001b[1;33m.\u001b[0m\u001b[0m_protect_consolidate\u001b[0m\u001b[1;33m(\u001b[0m\u001b[0mf\u001b[0m\u001b[1;33m)\u001b[0m\u001b[1;33m\u001b[0m\u001b[1;33m\u001b[0m\u001b[0m\n\u001b[0m\u001b[0;32m   5253\u001b[0m \u001b[1;33m\u001b[0m\u001b[0m\n\u001b[0;32m   5254\u001b[0m     \u001b[1;32mdef\u001b[0m \u001b[0m_consolidate\u001b[0m\u001b[1;33m(\u001b[0m\u001b[0mself\u001b[0m\u001b[1;33m,\u001b[0m \u001b[0minplace\u001b[0m\u001b[1;33m=\u001b[0m\u001b[1;32mFalse\u001b[0m\u001b[1;33m)\u001b[0m\u001b[1;33m:\u001b[0m\u001b[1;33m\u001b[0m\u001b[1;33m\u001b[0m\u001b[0m\n",
      "\u001b[1;32mC:\\ProgramData\\Anaconda3\\lib\\site-packages\\pandas\\core\\generic.py\u001b[0m in \u001b[0;36m_protect_consolidate\u001b[1;34m(self, f)\u001b[0m\n\u001b[0;32m   5239\u001b[0m         \"\"\"\n\u001b[0;32m   5240\u001b[0m         \u001b[0mblocks_before\u001b[0m \u001b[1;33m=\u001b[0m \u001b[0mlen\u001b[0m\u001b[1;33m(\u001b[0m\u001b[0mself\u001b[0m\u001b[1;33m.\u001b[0m\u001b[0m_data\u001b[0m\u001b[1;33m.\u001b[0m\u001b[0mblocks\u001b[0m\u001b[1;33m)\u001b[0m\u001b[1;33m\u001b[0m\u001b[1;33m\u001b[0m\u001b[0m\n\u001b[1;32m-> 5241\u001b[1;33m         \u001b[0mresult\u001b[0m \u001b[1;33m=\u001b[0m \u001b[0mf\u001b[0m\u001b[1;33m(\u001b[0m\u001b[1;33m)\u001b[0m\u001b[1;33m\u001b[0m\u001b[1;33m\u001b[0m\u001b[0m\n\u001b[0m\u001b[0;32m   5242\u001b[0m         \u001b[1;32mif\u001b[0m \u001b[0mlen\u001b[0m\u001b[1;33m(\u001b[0m\u001b[0mself\u001b[0m\u001b[1;33m.\u001b[0m\u001b[0m_data\u001b[0m\u001b[1;33m.\u001b[0m\u001b[0mblocks\u001b[0m\u001b[1;33m)\u001b[0m \u001b[1;33m!=\u001b[0m \u001b[0mblocks_before\u001b[0m\u001b[1;33m:\u001b[0m\u001b[1;33m\u001b[0m\u001b[1;33m\u001b[0m\u001b[0m\n\u001b[0;32m   5243\u001b[0m             \u001b[0mself\u001b[0m\u001b[1;33m.\u001b[0m\u001b[0m_clear_item_cache\u001b[0m\u001b[1;33m(\u001b[0m\u001b[1;33m)\u001b[0m\u001b[1;33m\u001b[0m\u001b[1;33m\u001b[0m\u001b[0m\n",
      "\u001b[1;32mC:\\ProgramData\\Anaconda3\\lib\\site-packages\\pandas\\core\\generic.py\u001b[0m in \u001b[0;36mf\u001b[1;34m()\u001b[0m\n\u001b[0;32m   5248\u001b[0m \u001b[1;33m\u001b[0m\u001b[0m\n\u001b[0;32m   5249\u001b[0m         \u001b[1;32mdef\u001b[0m \u001b[0mf\u001b[0m\u001b[1;33m(\u001b[0m\u001b[1;33m)\u001b[0m\u001b[1;33m:\u001b[0m\u001b[1;33m\u001b[0m\u001b[1;33m\u001b[0m\u001b[0m\n\u001b[1;32m-> 5250\u001b[1;33m             \u001b[0mself\u001b[0m\u001b[1;33m.\u001b[0m\u001b[0m_data\u001b[0m \u001b[1;33m=\u001b[0m \u001b[0mself\u001b[0m\u001b[1;33m.\u001b[0m\u001b[0m_data\u001b[0m\u001b[1;33m.\u001b[0m\u001b[0mconsolidate\u001b[0m\u001b[1;33m(\u001b[0m\u001b[1;33m)\u001b[0m\u001b[1;33m\u001b[0m\u001b[1;33m\u001b[0m\u001b[0m\n\u001b[0m\u001b[0;32m   5251\u001b[0m \u001b[1;33m\u001b[0m\u001b[0m\n\u001b[0;32m   5252\u001b[0m         \u001b[0mself\u001b[0m\u001b[1;33m.\u001b[0m\u001b[0m_protect_consolidate\u001b[0m\u001b[1;33m(\u001b[0m\u001b[0mf\u001b[0m\u001b[1;33m)\u001b[0m\u001b[1;33m\u001b[0m\u001b[1;33m\u001b[0m\u001b[0m\n",
      "\u001b[1;32mC:\\ProgramData\\Anaconda3\\lib\\site-packages\\pandas\\core\\internals\\managers.py\u001b[0m in \u001b[0;36mconsolidate\u001b[1;34m(self)\u001b[0m\n\u001b[0;32m    930\u001b[0m         \u001b[0mbm\u001b[0m \u001b[1;33m=\u001b[0m \u001b[0mself\u001b[0m\u001b[1;33m.\u001b[0m\u001b[0m__class__\u001b[0m\u001b[1;33m(\u001b[0m\u001b[0mself\u001b[0m\u001b[1;33m.\u001b[0m\u001b[0mblocks\u001b[0m\u001b[1;33m,\u001b[0m \u001b[0mself\u001b[0m\u001b[1;33m.\u001b[0m\u001b[0maxes\u001b[0m\u001b[1;33m)\u001b[0m\u001b[1;33m\u001b[0m\u001b[1;33m\u001b[0m\u001b[0m\n\u001b[0;32m    931\u001b[0m         \u001b[0mbm\u001b[0m\u001b[1;33m.\u001b[0m\u001b[0m_is_consolidated\u001b[0m \u001b[1;33m=\u001b[0m \u001b[1;32mFalse\u001b[0m\u001b[1;33m\u001b[0m\u001b[1;33m\u001b[0m\u001b[0m\n\u001b[1;32m--> 932\u001b[1;33m         \u001b[0mbm\u001b[0m\u001b[1;33m.\u001b[0m\u001b[0m_consolidate_inplace\u001b[0m\u001b[1;33m(\u001b[0m\u001b[1;33m)\u001b[0m\u001b[1;33m\u001b[0m\u001b[1;33m\u001b[0m\u001b[0m\n\u001b[0m\u001b[0;32m    933\u001b[0m         \u001b[1;32mreturn\u001b[0m \u001b[0mbm\u001b[0m\u001b[1;33m\u001b[0m\u001b[1;33m\u001b[0m\u001b[0m\n\u001b[0;32m    934\u001b[0m \u001b[1;33m\u001b[0m\u001b[0m\n",
      "\u001b[1;32mC:\\ProgramData\\Anaconda3\\lib\\site-packages\\pandas\\core\\internals\\managers.py\u001b[0m in \u001b[0;36m_consolidate_inplace\u001b[1;34m(self)\u001b[0m\n\u001b[0;32m    935\u001b[0m     \u001b[1;32mdef\u001b[0m \u001b[0m_consolidate_inplace\u001b[0m\u001b[1;33m(\u001b[0m\u001b[0mself\u001b[0m\u001b[1;33m)\u001b[0m\u001b[1;33m:\u001b[0m\u001b[1;33m\u001b[0m\u001b[1;33m\u001b[0m\u001b[0m\n\u001b[0;32m    936\u001b[0m         \u001b[1;32mif\u001b[0m \u001b[1;32mnot\u001b[0m \u001b[0mself\u001b[0m\u001b[1;33m.\u001b[0m\u001b[0mis_consolidated\u001b[0m\u001b[1;33m(\u001b[0m\u001b[1;33m)\u001b[0m\u001b[1;33m:\u001b[0m\u001b[1;33m\u001b[0m\u001b[1;33m\u001b[0m\u001b[0m\n\u001b[1;32m--> 937\u001b[1;33m             \u001b[0mself\u001b[0m\u001b[1;33m.\u001b[0m\u001b[0mblocks\u001b[0m \u001b[1;33m=\u001b[0m \u001b[0mtuple\u001b[0m\u001b[1;33m(\u001b[0m\u001b[0m_consolidate\u001b[0m\u001b[1;33m(\u001b[0m\u001b[0mself\u001b[0m\u001b[1;33m.\u001b[0m\u001b[0mblocks\u001b[0m\u001b[1;33m)\u001b[0m\u001b[1;33m)\u001b[0m\u001b[1;33m\u001b[0m\u001b[1;33m\u001b[0m\u001b[0m\n\u001b[0m\u001b[0;32m    938\u001b[0m             \u001b[0mself\u001b[0m\u001b[1;33m.\u001b[0m\u001b[0m_is_consolidated\u001b[0m \u001b[1;33m=\u001b[0m \u001b[1;32mTrue\u001b[0m\u001b[1;33m\u001b[0m\u001b[1;33m\u001b[0m\u001b[0m\n\u001b[0;32m    939\u001b[0m             \u001b[0mself\u001b[0m\u001b[1;33m.\u001b[0m\u001b[0m_known_consolidated\u001b[0m \u001b[1;33m=\u001b[0m \u001b[1;32mTrue\u001b[0m\u001b[1;33m\u001b[0m\u001b[1;33m\u001b[0m\u001b[0m\n",
      "\u001b[1;32mC:\\ProgramData\\Anaconda3\\lib\\site-packages\\pandas\\core\\internals\\managers.py\u001b[0m in \u001b[0;36m_consolidate\u001b[1;34m(blocks)\u001b[0m\n\u001b[0;32m   1911\u001b[0m     \u001b[1;32mfor\u001b[0m \u001b[1;33m(\u001b[0m\u001b[0m_can_consolidate\u001b[0m\u001b[1;33m,\u001b[0m \u001b[0mdtype\u001b[0m\u001b[1;33m)\u001b[0m\u001b[1;33m,\u001b[0m \u001b[0mgroup_blocks\u001b[0m \u001b[1;32min\u001b[0m \u001b[0mgrouper\u001b[0m\u001b[1;33m:\u001b[0m\u001b[1;33m\u001b[0m\u001b[1;33m\u001b[0m\u001b[0m\n\u001b[0;32m   1912\u001b[0m         merged_blocks = _merge_blocks(\n\u001b[1;32m-> 1913\u001b[1;33m             \u001b[0mlist\u001b[0m\u001b[1;33m(\u001b[0m\u001b[0mgroup_blocks\u001b[0m\u001b[1;33m)\u001b[0m\u001b[1;33m,\u001b[0m \u001b[0mdtype\u001b[0m\u001b[1;33m=\u001b[0m\u001b[0mdtype\u001b[0m\u001b[1;33m,\u001b[0m \u001b[0m_can_consolidate\u001b[0m\u001b[1;33m=\u001b[0m\u001b[0m_can_consolidate\u001b[0m\u001b[1;33m\u001b[0m\u001b[1;33m\u001b[0m\u001b[0m\n\u001b[0m\u001b[0;32m   1914\u001b[0m         )\n\u001b[0;32m   1915\u001b[0m         \u001b[0mnew_blocks\u001b[0m \u001b[1;33m=\u001b[0m \u001b[0m_extend_blocks\u001b[0m\u001b[1;33m(\u001b[0m\u001b[0mmerged_blocks\u001b[0m\u001b[1;33m,\u001b[0m \u001b[0mnew_blocks\u001b[0m\u001b[1;33m)\u001b[0m\u001b[1;33m\u001b[0m\u001b[1;33m\u001b[0m\u001b[0m\n",
      "\u001b[1;32mC:\\ProgramData\\Anaconda3\\lib\\site-packages\\pandas\\core\\internals\\blocks.py\u001b[0m in \u001b[0;36m_merge_blocks\u001b[1;34m(blocks, dtype, _can_consolidate)\u001b[0m\n\u001b[0;32m   3321\u001b[0m \u001b[1;33m\u001b[0m\u001b[0m\n\u001b[0;32m   3322\u001b[0m         \u001b[0margsort\u001b[0m \u001b[1;33m=\u001b[0m \u001b[0mnp\u001b[0m\u001b[1;33m.\u001b[0m\u001b[0margsort\u001b[0m\u001b[1;33m(\u001b[0m\u001b[0mnew_mgr_locs\u001b[0m\u001b[1;33m)\u001b[0m\u001b[1;33m\u001b[0m\u001b[1;33m\u001b[0m\u001b[0m\n\u001b[1;32m-> 3323\u001b[1;33m         \u001b[0mnew_values\u001b[0m \u001b[1;33m=\u001b[0m \u001b[0mnew_values\u001b[0m\u001b[1;33m[\u001b[0m\u001b[0margsort\u001b[0m\u001b[1;33m]\u001b[0m\u001b[1;33m\u001b[0m\u001b[1;33m\u001b[0m\u001b[0m\n\u001b[0m\u001b[0;32m   3324\u001b[0m         \u001b[0mnew_mgr_locs\u001b[0m \u001b[1;33m=\u001b[0m \u001b[0mnew_mgr_locs\u001b[0m\u001b[1;33m[\u001b[0m\u001b[0margsort\u001b[0m\u001b[1;33m]\u001b[0m\u001b[1;33m\u001b[0m\u001b[1;33m\u001b[0m\u001b[0m\n\u001b[0;32m   3325\u001b[0m \u001b[1;33m\u001b[0m\u001b[0m\n",
      "\u001b[1;31mMemoryError\u001b[0m: "
     ]
    }
   ],
   "source": [
    "#for fname in es_fname:\n",
    "#    df = toDF(fname)\n",
    "#    es_DF = pd.concat([es_DF, df], sort=True)"
   ]
  },
  {
   "cell_type": "code",
   "execution_count": 23,
   "metadata": {},
   "outputs": [],
   "source": [
    "testdf = toDF('C:/Users/Juan/Documents/LING2340/Diminutive-Suffix-Productivity/private/data/wlp_ES-sbo\\es-b-1.txt')"
   ]
  },
  {
   "cell_type": "code",
   "execution_count": 24,
   "metadata": {},
   "outputs": [
    {
     "data": {
      "text/html": [
       "<div>\n",
       "<style scoped>\n",
       "    .dataframe tbody tr th:only-of-type {\n",
       "        vertical-align: middle;\n",
       "    }\n",
       "\n",
       "    .dataframe tbody tr th {\n",
       "        vertical-align: top;\n",
       "    }\n",
       "\n",
       "    .dataframe thead th {\n",
       "        text-align: right;\n",
       "    }\n",
       "</style>\n",
       "<table border=\"1\" class=\"dataframe\">\n",
       "  <thead>\n",
       "    <tr style=\"text-align: right;\">\n",
       "      <th></th>\n",
       "      <th>SourceID</th>\n",
       "      <th>TokenID</th>\n",
       "      <th>Word</th>\n",
       "      <th>Lemma</th>\n",
       "      <th>POS</th>\n",
       "    </tr>\n",
       "  </thead>\n",
       "  <tbody>\n",
       "    <tr>\n",
       "      <td>0</td>\n",
       "      <td>431261</td>\n",
       "      <td>2028532228</td>\n",
       "      <td>A</td>\n",
       "      <td>a</td>\n",
       "      <td>e</td>\n",
       "    </tr>\n",
       "    <tr>\n",
       "      <td>1</td>\n",
       "      <td>431261</td>\n",
       "      <td>2028532229</td>\n",
       "      <td>la</td>\n",
       "      <td>la</td>\n",
       "      <td>ld-fs</td>\n",
       "    </tr>\n",
       "    <tr>\n",
       "      <td>2</td>\n",
       "      <td>431261</td>\n",
       "      <td>2028532230</td>\n",
       "      <td>porra</td>\n",
       "      <td>porra</td>\n",
       "      <td>nms</td>\n",
       "    </tr>\n",
       "    <tr>\n",
       "      <td>3</td>\n",
       "      <td>431261</td>\n",
       "      <td>2028532231</td>\n",
       "      <td>las</td>\n",
       "      <td>la</td>\n",
       "      <td>ld-fp</td>\n",
       "    </tr>\n",
       "    <tr>\n",
       "      <td>4</td>\n",
       "      <td>431261</td>\n",
       "      <td>2028532232</td>\n",
       "      <td>escuchas</td>\n",
       "      <td>escucha</td>\n",
       "      <td>nmp</td>\n",
       "    </tr>\n",
       "  </tbody>\n",
       "</table>\n",
       "</div>"
      ],
      "text/plain": [
       "   SourceID     TokenID      Word    Lemma      POS\n",
       "0    431261  2028532228         A        a        e\n",
       "1    431261  2028532229        la       la    ld-fs\n",
       "2    431261  2028532230     porra    porra  nms    \n",
       "3    431261  2028532231       las       la    ld-fp\n",
       "4    431261  2028532232  escuchas  escucha  nmp    "
      ]
     },
     "execution_count": 24,
     "metadata": {},
     "output_type": "execute_result"
    }
   ],
   "source": [
    "testdf.head()"
   ]
  },
  {
   "cell_type": "code",
   "execution_count": 25,
   "metadata": {},
   "outputs": [],
   "source": [
    "add_variety(testdf,'ES')"
   ]
  },
  {
   "cell_type": "code",
   "execution_count": 26,
   "metadata": {},
   "outputs": [
    {
     "data": {
      "text/html": [
       "<div>\n",
       "<style scoped>\n",
       "    .dataframe tbody tr th:only-of-type {\n",
       "        vertical-align: middle;\n",
       "    }\n",
       "\n",
       "    .dataframe tbody tr th {\n",
       "        vertical-align: top;\n",
       "    }\n",
       "\n",
       "    .dataframe thead th {\n",
       "        text-align: right;\n",
       "    }\n",
       "</style>\n",
       "<table border=\"1\" class=\"dataframe\">\n",
       "  <thead>\n",
       "    <tr style=\"text-align: right;\">\n",
       "      <th></th>\n",
       "      <th>SourceID</th>\n",
       "      <th>TokenID</th>\n",
       "      <th>Word</th>\n",
       "      <th>Lemma</th>\n",
       "      <th>POS</th>\n",
       "      <th>Variety</th>\n",
       "    </tr>\n",
       "  </thead>\n",
       "  <tbody>\n",
       "    <tr>\n",
       "      <td>0</td>\n",
       "      <td>431261</td>\n",
       "      <td>2028532228</td>\n",
       "      <td>A</td>\n",
       "      <td>a</td>\n",
       "      <td>e</td>\n",
       "      <td>ES</td>\n",
       "    </tr>\n",
       "    <tr>\n",
       "      <td>1</td>\n",
       "      <td>431261</td>\n",
       "      <td>2028532229</td>\n",
       "      <td>la</td>\n",
       "      <td>la</td>\n",
       "      <td>ld-fs</td>\n",
       "      <td>ES</td>\n",
       "    </tr>\n",
       "    <tr>\n",
       "      <td>2</td>\n",
       "      <td>431261</td>\n",
       "      <td>2028532230</td>\n",
       "      <td>porra</td>\n",
       "      <td>porra</td>\n",
       "      <td>nms</td>\n",
       "      <td>ES</td>\n",
       "    </tr>\n",
       "    <tr>\n",
       "      <td>3</td>\n",
       "      <td>431261</td>\n",
       "      <td>2028532231</td>\n",
       "      <td>las</td>\n",
       "      <td>la</td>\n",
       "      <td>ld-fp</td>\n",
       "      <td>ES</td>\n",
       "    </tr>\n",
       "    <tr>\n",
       "      <td>4</td>\n",
       "      <td>431261</td>\n",
       "      <td>2028532232</td>\n",
       "      <td>escuchas</td>\n",
       "      <td>escucha</td>\n",
       "      <td>nmp</td>\n",
       "      <td>ES</td>\n",
       "    </tr>\n",
       "    <tr>\n",
       "      <td>...</td>\n",
       "      <td>...</td>\n",
       "      <td>...</td>\n",
       "      <td>...</td>\n",
       "      <td>...</td>\n",
       "      <td>...</td>\n",
       "      <td>...</td>\n",
       "    </tr>\n",
       "    <tr>\n",
       "      <td>28524066</td>\n",
       "      <td>676061</td>\n",
       "      <td>2126301162</td>\n",
       "      <td>una</td>\n",
       "      <td>un</td>\n",
       "      <td>li-fs</td>\n",
       "      <td>ES</td>\n",
       "    </tr>\n",
       "    <tr>\n",
       "      <td>28524067</td>\n",
       "      <td>676061</td>\n",
       "      <td>2126301163</td>\n",
       "      <td>especie</td>\n",
       "      <td>especie</td>\n",
       "      <td>nfs</td>\n",
       "      <td>ES</td>\n",
       "    </tr>\n",
       "    <tr>\n",
       "      <td>28524068</td>\n",
       "      <td>676061</td>\n",
       "      <td>2126301164</td>\n",
       "      <td>de</td>\n",
       "      <td>de</td>\n",
       "      <td>e</td>\n",
       "      <td>ES</td>\n",
       "    </tr>\n",
       "    <tr>\n",
       "      <td>28524069</td>\n",
       "      <td>676061</td>\n",
       "      <td>2126301165</td>\n",
       "      <td>santo</td>\n",
       "      <td>santo</td>\n",
       "      <td>nms</td>\n",
       "      <td>ES</td>\n",
       "    </tr>\n",
       "    <tr>\n",
       "      <td>28524070</td>\n",
       "      <td>676061</td>\n",
       "      <td>2126301166</td>\n",
       "      <td>.</td>\n",
       "      <td>$.</td>\n",
       "      <td>y</td>\n",
       "      <td>ES</td>\n",
       "    </tr>\n",
       "  </tbody>\n",
       "</table>\n",
       "<p>28524071 rows × 6 columns</p>\n",
       "</div>"
      ],
      "text/plain": [
       "          SourceID     TokenID      Word    Lemma      POS Variety\n",
       "0           431261  2028532228         A        a        e      ES\n",
       "1           431261  2028532229        la       la    ld-fs      ES\n",
       "2           431261  2028532230     porra    porra  nms          ES\n",
       "3           431261  2028532231       las       la    ld-fp      ES\n",
       "4           431261  2028532232  escuchas  escucha  nmp          ES\n",
       "...            ...         ...       ...      ...      ...     ...\n",
       "28524066    676061  2126301162       una       un    li-fs      ES\n",
       "28524067    676061  2126301163   especie  especie  nfs          ES\n",
       "28524068    676061  2126301164        de       de        e      ES\n",
       "28524069    676061  2126301165     santo    santo  nms          ES\n",
       "28524070    676061  2126301166         .       $.        y      ES\n",
       "\n",
       "[28524071 rows x 6 columns]"
      ]
     },
     "execution_count": 26,
     "metadata": {},
     "output_type": "execute_result"
    }
   ],
   "source": [
    "testdf"
   ]
  },
  {
   "cell_type": "code",
   "execution_count": 27,
   "metadata": {},
   "outputs": [],
   "source": [
    "es_DF = pd.concat([es_DF, testdf], sort=True)"
   ]
  },
  {
   "cell_type": "code",
   "execution_count": 28,
   "metadata": {},
   "outputs": [
    {
     "data": {
      "text/html": [
       "<div>\n",
       "<style scoped>\n",
       "    .dataframe tbody tr th:only-of-type {\n",
       "        vertical-align: middle;\n",
       "    }\n",
       "\n",
       "    .dataframe tbody tr th {\n",
       "        vertical-align: top;\n",
       "    }\n",
       "\n",
       "    .dataframe thead th {\n",
       "        text-align: right;\n",
       "    }\n",
       "</style>\n",
       "<table border=\"1\" class=\"dataframe\">\n",
       "  <thead>\n",
       "    <tr style=\"text-align: right;\">\n",
       "      <th></th>\n",
       "      <th>Lemma</th>\n",
       "      <th>POS</th>\n",
       "      <th>SourceID</th>\n",
       "      <th>TokenID</th>\n",
       "      <th>Variety</th>\n",
       "      <th>Word</th>\n",
       "    </tr>\n",
       "  </thead>\n",
       "  <tbody>\n",
       "    <tr>\n",
       "      <td>0</td>\n",
       "      <td>a</td>\n",
       "      <td>e</td>\n",
       "      <td>431261</td>\n",
       "      <td>2028532228</td>\n",
       "      <td>ES</td>\n",
       "      <td>A</td>\n",
       "    </tr>\n",
       "    <tr>\n",
       "      <td>1</td>\n",
       "      <td>la</td>\n",
       "      <td>ld-fs</td>\n",
       "      <td>431261</td>\n",
       "      <td>2028532229</td>\n",
       "      <td>ES</td>\n",
       "      <td>la</td>\n",
       "    </tr>\n",
       "    <tr>\n",
       "      <td>2</td>\n",
       "      <td>porra</td>\n",
       "      <td>nms</td>\n",
       "      <td>431261</td>\n",
       "      <td>2028532230</td>\n",
       "      <td>ES</td>\n",
       "      <td>porra</td>\n",
       "    </tr>\n",
       "    <tr>\n",
       "      <td>3</td>\n",
       "      <td>la</td>\n",
       "      <td>ld-fp</td>\n",
       "      <td>431261</td>\n",
       "      <td>2028532231</td>\n",
       "      <td>ES</td>\n",
       "      <td>las</td>\n",
       "    </tr>\n",
       "    <tr>\n",
       "      <td>4</td>\n",
       "      <td>escucha</td>\n",
       "      <td>nmp</td>\n",
       "      <td>431261</td>\n",
       "      <td>2028532232</td>\n",
       "      <td>ES</td>\n",
       "      <td>escuchas</td>\n",
       "    </tr>\n",
       "  </tbody>\n",
       "</table>\n",
       "</div>"
      ],
      "text/plain": [
       "     Lemma      POS SourceID     TokenID Variety      Word\n",
       "0        a        e   431261  2028532228      ES         A\n",
       "1       la    ld-fs   431261  2028532229      ES        la\n",
       "2    porra  nms       431261  2028532230      ES     porra\n",
       "3       la    ld-fp   431261  2028532231      ES       las\n",
       "4  escucha  nmp       431261  2028532232      ES  escuchas"
      ]
     },
     "execution_count": 28,
     "metadata": {},
     "output_type": "execute_result"
    }
   ],
   "source": [
    "es_DF.head()"
   ]
  },
  {
   "cell_type": "code",
   "execution_count": 29,
   "metadata": {},
   "outputs": [
    {
     "data": {
      "text/html": [
       "<div>\n",
       "<style scoped>\n",
       "    .dataframe tbody tr th:only-of-type {\n",
       "        vertical-align: middle;\n",
       "    }\n",
       "\n",
       "    .dataframe tbody tr th {\n",
       "        vertical-align: top;\n",
       "    }\n",
       "\n",
       "    .dataframe thead th {\n",
       "        text-align: right;\n",
       "    }\n",
       "</style>\n",
       "<table border=\"1\" class=\"dataframe\">\n",
       "  <thead>\n",
       "    <tr style=\"text-align: right;\">\n",
       "      <th></th>\n",
       "      <th>Lemma</th>\n",
       "      <th>POS</th>\n",
       "      <th>SourceID</th>\n",
       "      <th>TokenID</th>\n",
       "      <th>Variety</th>\n",
       "      <th>Word</th>\n",
       "    </tr>\n",
       "  </thead>\n",
       "  <tbody>\n",
       "    <tr>\n",
       "      <td>28524066</td>\n",
       "      <td>un</td>\n",
       "      <td>li-fs</td>\n",
       "      <td>676061</td>\n",
       "      <td>2126301162</td>\n",
       "      <td>ES</td>\n",
       "      <td>una</td>\n",
       "    </tr>\n",
       "    <tr>\n",
       "      <td>28524067</td>\n",
       "      <td>especie</td>\n",
       "      <td>nfs</td>\n",
       "      <td>676061</td>\n",
       "      <td>2126301163</td>\n",
       "      <td>ES</td>\n",
       "      <td>especie</td>\n",
       "    </tr>\n",
       "    <tr>\n",
       "      <td>28524068</td>\n",
       "      <td>de</td>\n",
       "      <td>e</td>\n",
       "      <td>676061</td>\n",
       "      <td>2126301164</td>\n",
       "      <td>ES</td>\n",
       "      <td>de</td>\n",
       "    </tr>\n",
       "    <tr>\n",
       "      <td>28524069</td>\n",
       "      <td>santo</td>\n",
       "      <td>nms</td>\n",
       "      <td>676061</td>\n",
       "      <td>2126301165</td>\n",
       "      <td>ES</td>\n",
       "      <td>santo</td>\n",
       "    </tr>\n",
       "    <tr>\n",
       "      <td>28524070</td>\n",
       "      <td>$.</td>\n",
       "      <td>y</td>\n",
       "      <td>676061</td>\n",
       "      <td>2126301166</td>\n",
       "      <td>ES</td>\n",
       "      <td>.</td>\n",
       "    </tr>\n",
       "  </tbody>\n",
       "</table>\n",
       "</div>"
      ],
      "text/plain": [
       "            Lemma      POS SourceID     TokenID Variety     Word\n",
       "28524066       un    li-fs   676061  2126301162      ES      una\n",
       "28524067  especie  nfs       676061  2126301163      ES  especie\n",
       "28524068       de        e   676061  2126301164      ES       de\n",
       "28524069    santo  nms       676061  2126301165      ES    santo\n",
       "28524070       $.        y   676061  2126301166      ES        ."
      ]
     },
     "execution_count": 29,
     "metadata": {},
     "output_type": "execute_result"
    }
   ],
   "source": [
    "es_DF.tail()"
   ]
  },
  {
   "cell_type": "markdown",
   "metadata": {},
   "source": [
    "- Save objects as CSV files for further processing later on. "
   ]
  }
 ],
 "metadata": {
  "kernelspec": {
   "display_name": "Python 3",
   "language": "python",
   "name": "python3"
  },
  "language_info": {
   "codemirror_mode": {
    "name": "ipython",
    "version": 3
   },
   "file_extension": ".py",
   "mimetype": "text/x-python",
   "name": "python",
   "nbconvert_exporter": "python",
   "pygments_lexer": "ipython3",
   "version": "3.7.4"
  }
 },
 "nbformat": 4,
 "nbformat_minor": 2
}
