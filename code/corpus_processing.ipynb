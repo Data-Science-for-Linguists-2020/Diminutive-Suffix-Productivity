{
 "cells": [
  {
   "cell_type": "markdown",
   "metadata": {},
   "source": [
    "## Diminutive Suffix Productivity\n",
    "Juan Berrios | jeb358@pitt.edu | Last updated: February 24, 2020"
   ]
  },
  {
   "cell_type": "markdown",
   "metadata": {},
   "source": [
    "**Summary:**"
   ]
  },
  {
   "cell_type": "markdown",
   "metadata": {},
   "source": [
    "- The purpose of the code included in this notebook is to build `DataFrame` objects from the `.txt` files in the corpus directories. Section 1 includes the necessary preparations. "
   ]
  },
  {
   "cell_type": "markdown",
   "metadata": {},
   "source": [
    "**1. Preparation**"
   ]
  },
  {
   "cell_type": "markdown",
   "metadata": {},
   "source": [
    "- Loading libraries and additional settings:"
   ]
  },
  {
   "cell_type": "code",
   "execution_count": 1,
   "metadata": {},
   "outputs": [
    {
     "name": "stdout",
     "output_type": "stream",
     "text": [
      "Pretty printing has been turned OFF\n"
     ]
    }
   ],
   "source": [
    "#Importing libraries\n",
    "import nltk, glob, re, pickle\n",
    "import pandas as pd\n",
    "import numpy as np\n",
    "import matplotlib.pyplot as plt\n",
    "import seaborn as sns\n",
    "\n",
    "#Turning pretty print off:\n",
    "%pprint\n",
    "\n",
    "#Releasing all output:                                            \n",
    "from IPython.core.interactiveshell import InteractiveShell #Prints all commands rather than the last one.\n",
    "InteractiveShell.ast_node_interactivity = \"all\""
   ]
  },
  {
   "cell_type": "markdown",
   "metadata": {},
   "source": [
    "- The functions below are meant to streamline the processing of the corpus. They are all defined based on the code in Section 2. "
   ]
  },
  {
   "cell_type": "code",
   "execution_count": 2,
   "metadata": {},
   "outputs": [],
   "source": [
    "def toDF(fname):\n",
    "    \"\"\"Turns tab-delimited file into a data frame\"\"\"\n",
    "    cols = ['SourceID', 'TokenID', 'Word', 'Lemma', 'POS']\n",
    "    df = pd.read_csv(fname,sep='\\t',encoding ='iso-8859-1',skiprows=[0],header=None,names=cols)\n",
    "    return df"
   ]
  },
  {
   "cell_type": "code",
   "execution_count": 3,
   "metadata": {},
   "outputs": [],
   "source": [
    "def add_variety(df,variety):\n",
    "    \"\"\"Adds a column specifying a given variety of Spanish to a data frame\"\"\"\n",
    "    df['Variety'] = variety"
   ]
  },
  {
   "cell_type": "markdown",
   "metadata": {},
   "source": [
    "**2. Import files**"
   ]
  },
  {
   "cell_type": "markdown",
   "metadata": {},
   "source": [
    "- The text files are very large. For testing purpose, I'll use only one of the text files as a start. The `.txt` files are tab delimited which makes my job a little easier. The columns correspond to an ID for the source text, an ID for the token, the token (word), the lemma, and the POS. I will hence use those for column names. "
   ]
  },
  {
   "cell_type": "code",
   "execution_count": 4,
   "metadata": {},
   "outputs": [],
   "source": [
    "fname = 'C:/Users/Juan/Documents/LING2340/Diminutive-Suffix-Productivity/private/data/wlp_ES-sbo/es-b-0.txt'"
   ]
  },
  {
   "cell_type": "code",
   "execution_count": 5,
   "metadata": {},
   "outputs": [],
   "source": [
    "cols = ['SourceID', 'TokenID', 'Word', 'Lemma', 'POS']"
   ]
  },
  {
   "cell_type": "code",
   "execution_count": 6,
   "metadata": {},
   "outputs": [],
   "source": [
    "#First row ignored because it corresponds to an identifier for the .txt file.\n",
    "\n",
    "df = pd.read_csv(fname,sep='\\t',encoding ='iso-8859-1',skiprows=[0],header=None,names=cols) "
   ]
  },
  {
   "cell_type": "code",
   "execution_count": 7,
   "metadata": {},
   "outputs": [
    {
     "data": {
      "text/plain": [
       "(27345213, 5)"
      ]
     },
     "execution_count": 7,
     "metadata": {},
     "output_type": "execute_result"
    }
   ],
   "source": [
    "df.shape #It's a very large file. It will get much smaller once I start extracting the tokens of interest."
   ]
  },
  {
   "cell_type": "code",
   "execution_count": 8,
   "metadata": {},
   "outputs": [
    {
     "data": {
      "text/html": [
       "<div>\n",
       "<style scoped>\n",
       "    .dataframe tbody tr th:only-of-type {\n",
       "        vertical-align: middle;\n",
       "    }\n",
       "\n",
       "    .dataframe tbody tr th {\n",
       "        vertical-align: top;\n",
       "    }\n",
       "\n",
       "    .dataframe thead th {\n",
       "        text-align: right;\n",
       "    }\n",
       "</style>\n",
       "<table border=\"1\" class=\"dataframe\">\n",
       "  <thead>\n",
       "    <tr style=\"text-align: right;\">\n",
       "      <th></th>\n",
       "      <th>SourceID</th>\n",
       "      <th>TokenID</th>\n",
       "      <th>Word</th>\n",
       "      <th>Lemma</th>\n",
       "      <th>POS</th>\n",
       "    </tr>\n",
       "  </thead>\n",
       "  <tbody>\n",
       "    <tr>\n",
       "      <td>0</td>\n",
       "      <td>431270</td>\n",
       "      <td>2206403096</td>\n",
       "      <td>Este</td>\n",
       "      <td>este</td>\n",
       "      <td>dd-</td>\n",
       "    </tr>\n",
       "    <tr>\n",
       "      <td>1</td>\n",
       "      <td>431270</td>\n",
       "      <td>2206403097</td>\n",
       "      <td>es</td>\n",
       "      <td>ser</td>\n",
       "      <td>vip-3s</td>\n",
       "    </tr>\n",
       "    <tr>\n",
       "      <td>2</td>\n",
       "      <td>431270</td>\n",
       "      <td>2206403098</td>\n",
       "      <td>un</td>\n",
       "      <td>un</td>\n",
       "      <td>li-ms</td>\n",
       "    </tr>\n",
       "    <tr>\n",
       "      <td>3</td>\n",
       "      <td>431270</td>\n",
       "      <td>2206403099</td>\n",
       "      <td>blog</td>\n",
       "      <td>blog</td>\n",
       "      <td>nms</td>\n",
       "    </tr>\n",
       "    <tr>\n",
       "      <td>4</td>\n",
       "      <td>431270</td>\n",
       "      <td>2206403100</td>\n",
       "      <td>de</td>\n",
       "      <td>de</td>\n",
       "      <td>e</td>\n",
       "    </tr>\n",
       "  </tbody>\n",
       "</table>\n",
       "</div>"
      ],
      "text/plain": [
       "   SourceID     TokenID  Word Lemma      POS\n",
       "0    431270  2206403096  Este  este      dd-\n",
       "1    431270  2206403097    es   ser   vip-3s\n",
       "2    431270  2206403098    un    un    li-ms\n",
       "3    431270  2206403099  blog  blog  nms    \n",
       "4    431270  2206403100    de    de        e"
      ]
     },
     "execution_count": 8,
     "metadata": {},
     "output_type": "execute_result"
    }
   ],
   "source": [
    "df.head()   #The lemma column will be useful when I need to aggregations that put lowecase and uppercase \n",
    "            #as well as plural and singular forms together."
   ]
  },
  {
   "cell_type": "code",
   "execution_count": 9,
   "metadata": {},
   "outputs": [
    {
     "data": {
      "text/html": [
       "<div>\n",
       "<style scoped>\n",
       "    .dataframe tbody tr th:only-of-type {\n",
       "        vertical-align: middle;\n",
       "    }\n",
       "\n",
       "    .dataframe tbody tr th {\n",
       "        vertical-align: top;\n",
       "    }\n",
       "\n",
       "    .dataframe thead th {\n",
       "        text-align: right;\n",
       "    }\n",
       "</style>\n",
       "<table border=\"1\" class=\"dataframe\">\n",
       "  <thead>\n",
       "    <tr style=\"text-align: right;\">\n",
       "      <th></th>\n",
       "      <th>SourceID</th>\n",
       "      <th>TokenID</th>\n",
       "      <th>Word</th>\n",
       "      <th>Lemma</th>\n",
       "      <th>POS</th>\n",
       "    </tr>\n",
       "  </thead>\n",
       "  <tbody>\n",
       "    <tr>\n",
       "      <td>27345208</td>\n",
       "      <td>676060</td>\n",
       "      <td>2511862343</td>\n",
       "      <td>mas</td>\n",
       "      <td>mas</td>\n",
       "      <td>cc</td>\n",
       "    </tr>\n",
       "    <tr>\n",
       "      <td>27345209</td>\n",
       "      <td>676060</td>\n",
       "      <td>2511862344</td>\n",
       "      <td>informacion</td>\n",
       "      <td>información</td>\n",
       "      <td>n</td>\n",
       "    </tr>\n",
       "    <tr>\n",
       "      <td>27345210</td>\n",
       "      <td>676060</td>\n",
       "      <td>2511862345</td>\n",
       "      <td>visite</td>\n",
       "      <td>visitar</td>\n",
       "      <td>vsp-1/3s</td>\n",
       "    </tr>\n",
       "    <tr>\n",
       "      <td>27345211</td>\n",
       "      <td>676060</td>\n",
       "      <td>2511862346</td>\n",
       "      <td>www.DineroAbundancia.com</td>\n",
       "      <td>www.dineroabundancia.com</td>\n",
       "      <td>n</td>\n",
       "    </tr>\n",
       "    <tr>\n",
       "      <td>27345212</td>\n",
       "      <td>676060</td>\n",
       "      <td>2511862347</td>\n",
       "      <td>.</td>\n",
       "      <td>$.</td>\n",
       "      <td>y</td>\n",
       "    </tr>\n",
       "  </tbody>\n",
       "</table>\n",
       "</div>"
      ],
      "text/plain": [
       "          SourceID     TokenID                      Word  \\\n",
       "27345208    676060  2511862343                       mas   \n",
       "27345209    676060  2511862344               informacion   \n",
       "27345210    676060  2511862345                    visite   \n",
       "27345211    676060  2511862346  www.DineroAbundancia.com   \n",
       "27345212    676060  2511862347                         .   \n",
       "\n",
       "                             Lemma       POS  \n",
       "27345208                       mas        cc  \n",
       "27345209               información         n  \n",
       "27345210                   visitar  vsp-1/3s  \n",
       "27345211  www.dineroabundancia.com         n  \n",
       "27345212                        $.         y  "
      ]
     },
     "execution_count": 9,
     "metadata": {},
     "output_type": "execute_result"
    }
   ],
   "source": [
    "df.tail()"
   ]
  },
  {
   "cell_type": "code",
   "execution_count": 10,
   "metadata": {},
   "outputs": [
    {
     "data": {
      "text/html": [
       "<div>\n",
       "<style scoped>\n",
       "    .dataframe tbody tr th:only-of-type {\n",
       "        vertical-align: middle;\n",
       "    }\n",
       "\n",
       "    .dataframe tbody tr th {\n",
       "        vertical-align: top;\n",
       "    }\n",
       "\n",
       "    .dataframe thead th {\n",
       "        text-align: right;\n",
       "    }\n",
       "</style>\n",
       "<table border=\"1\" class=\"dataframe\">\n",
       "  <thead>\n",
       "    <tr style=\"text-align: right;\">\n",
       "      <th></th>\n",
       "      <th>SourceID</th>\n",
       "      <th>TokenID</th>\n",
       "      <th>Word</th>\n",
       "      <th>Lemma</th>\n",
       "      <th>POS</th>\n",
       "    </tr>\n",
       "  </thead>\n",
       "  <tbody>\n",
       "    <tr>\n",
       "      <td>3497259</td>\n",
       "      <td>469430</td>\n",
       "      <td>268135739</td>\n",
       "      <td>2000</td>\n",
       "      <td>2000</td>\n",
       "      <td>m$</td>\n",
       "    </tr>\n",
       "    <tr>\n",
       "      <td>18986538</td>\n",
       "      <td>598630</td>\n",
       "      <td>2413054034</td>\n",
       "      <td>ya</td>\n",
       "      <td>ya</td>\n",
       "      <td>r</td>\n",
       "    </tr>\n",
       "    <tr>\n",
       "      <td>17481929</td>\n",
       "      <td>590320</td>\n",
       "      <td>2157047554</td>\n",
       "      <td>la</td>\n",
       "      <td>la</td>\n",
       "      <td>ld-fs</td>\n",
       "    </tr>\n",
       "    <tr>\n",
       "      <td>5578699</td>\n",
       "      <td>490480</td>\n",
       "      <td>2220894016</td>\n",
       "      <td>,</td>\n",
       "      <td>$,</td>\n",
       "      <td>y</td>\n",
       "    </tr>\n",
       "    <tr>\n",
       "      <td>26751384</td>\n",
       "      <td>674240</td>\n",
       "      <td>1395878593</td>\n",
       "      <td>Ocurrió</td>\n",
       "      <td>ocurrir</td>\n",
       "      <td>vis-3s</td>\n",
       "    </tr>\n",
       "  </tbody>\n",
       "</table>\n",
       "</div>"
      ],
      "text/plain": [
       "          SourceID     TokenID     Word    Lemma     POS\n",
       "3497259     469430   268135739     2000     2000      m$\n",
       "18986538    598630  2413054034       ya       ya       r\n",
       "17481929    590320  2157047554       la       la   ld-fs\n",
       "5578699     490480  2220894016        ,       $,       y\n",
       "26751384    674240  1395878593  Ocurrió  ocurrir  vis-3s"
      ]
     },
     "execution_count": 10,
     "metadata": {},
     "output_type": "execute_result"
    }
   ],
   "source": [
    "df.sample(5)"
   ]
  },
  {
   "cell_type": "code",
   "execution_count": 11,
   "metadata": {},
   "outputs": [
    {
     "data": {
      "text/plain": [
       "array(['dd-', 'vip-3s', 'li-ms', 'nms    ', 'e', 'nfp    ', 'y',\n",
       "       'nfs    ', 'nmp    ', 'vsp-1/3s', 'n', 'cc', 'o', 'r', 'vps-ms',\n",
       "       'ld-fs', 'm$', 'vc-1/3s', 'vr', 'po', 'li-fs', 'ld-mp', 'vip-3p',\n",
       "       'ld-ms', 'jms    ', 'vpp', 'mc', 'vps-fs', 'j', 'vii-1/3s', 'e_21',\n",
       "       'x', nan, 'cs', 'ld', 'v', 'cc-', 'ld-fp', 'pi-0cn', 'dd',\n",
       "       'dxmp-ind-', 'vip-2s', 'dp-', 'vsp-3p', 'pi-0ms', 'jfp    ',\n",
       "       'cS_21', 'cS_22', 'jmp    ', 'vsp-2s', 'vip-1s', 'vsp-1p', 'ps',\n",
       "       'vip-1p/vis-1p', 'vip-1p', 'pd-3cs', 'vif-1p', 'vps-mp', 'vif-3s',\n",
       "       'vif-3p', 'jfs    ', 'dxfs-ind-', 'vsj-1/3s', 'i', 'pi-3ms',\n",
       "       'vis-3s', 'b', 'p', 'np', 'pr-3cn\"', 'px', 'dxms-ind-', 'pi-3cs',\n",
       "       'dxfs-', 'pr-3cs', 'px-ms', 'dxfp-ind-', 'vis-3p', 'li-mp', 'pi',\n",
       "       'vsi-3p', 'px-mp', 'vsi-1/3s', 'pq-3cn\"', 'vif-2s', 'vif-2p',\n",
       "       'vsp-2p', 'vip-2p', 'vpp-00', 'vm-2p', 'vis-1p', 'dxcs-ind-',\n",
       "       'pr-3cp', 'dxcs-dem-', 'vif-1s', 'vc-1p', 'cC_21', 'cC_22',\n",
       "       'vps-fp', 'vii-3p', 'pq-3cn', 'e_32', 'vis-1s', 'pr-0mp', 'pr-3fs',\n",
       "       'vc-3p', 'vii-1p', 'pv', 'nj', 'fn', 'vc-2p', 'vsi-2s', 'li-fp',\n",
       "       'pp-1cs', 'dxfp-', 'vsi-1p', 'vii-2s', 'vis-2s', 'pr-3ms', 'e_22',\n",
       "       'mo-ms-', 'jn', 'pr-3mp', 'cS_31', 'cS_32', 'cS_33', 'pq-3cp',\n",
       "       'dxfp-int-', 'vii-2p', 'vsj-3p', 'pp-2cs', 'vm-2s', 'pp-2cp', 'fj',\n",
       "       'mo', 'pr-3fs\"', 'pq-3cs', 'f', 'dxcp-dem-', 'e_43', 'vm-3p', 'fv',\n",
       "       'vc-2s', 'pq-3ms', 'fp', 'pron', 'prep', 'mo-fs-', 'pr-3fp',\n",
       "       'vis-2p', 'vm-3s', 'vsf-1/3s', 'e_31', 'vsi-2p', 'mo-mp-', 'N',\n",
       "       'pd-3ms', 'vsj-1p', 'xp', 'dxmp-int-', 'xs', 'xx', 'vsj-2s', 'fx',\n",
       "       'cS_41', 'cS_42', 'cS_43', 'cS_44', 'vsf-3p', 'e_33', 'px-00',\n",
       "       'vsj-2p', 'e_42', 'fnp', 'x_sp', 'pp-2p', 'fnj', 'xe', 'dxfs-int-',\n",
       "       'vsf-2s', 'dxcp-ind-', 'pd-3fs', 'pd-3fp', 'pd-3mp', 'PN_MISC',\n",
       "       'v51    ', 'li', 'de', 'mo-fp-', 'fe', 'xb', 'v29    ', 'v30    ',\n",
       "       'vsf-2p', 'dp', 'ADJ', 'pn', 'xa', 'xy', 'xw', 'm', 'xh', 'xd',\n",
       "       'vsf-1p', 'vsp-', 'a', 'xm'], dtype=object)"
      ]
     },
     "execution_count": 11,
     "metadata": {},
     "output_type": "execute_result"
    }
   ],
   "source": [
    "df['POS'].unique() #These POS tags are not very transparent, but it's a good start."
   ]
  },
  {
   "cell_type": "code",
   "execution_count": 12,
   "metadata": {},
   "outputs": [],
   "source": [
    "df['Variety'] = 'ES' #Time to add a column for the variety of Spanish. In this case Spain."
   ]
  },
  {
   "cell_type": "code",
   "execution_count": 13,
   "metadata": {},
   "outputs": [
    {
     "data": {
      "text/html": [
       "<div>\n",
       "<style scoped>\n",
       "    .dataframe tbody tr th:only-of-type {\n",
       "        vertical-align: middle;\n",
       "    }\n",
       "\n",
       "    .dataframe tbody tr th {\n",
       "        vertical-align: top;\n",
       "    }\n",
       "\n",
       "    .dataframe thead th {\n",
       "        text-align: right;\n",
       "    }\n",
       "</style>\n",
       "<table border=\"1\" class=\"dataframe\">\n",
       "  <thead>\n",
       "    <tr style=\"text-align: right;\">\n",
       "      <th></th>\n",
       "      <th>SourceID</th>\n",
       "      <th>TokenID</th>\n",
       "      <th>Word</th>\n",
       "      <th>Lemma</th>\n",
       "      <th>POS</th>\n",
       "      <th>Variety</th>\n",
       "    </tr>\n",
       "  </thead>\n",
       "  <tbody>\n",
       "    <tr>\n",
       "      <td>0</td>\n",
       "      <td>431270</td>\n",
       "      <td>2206403096</td>\n",
       "      <td>Este</td>\n",
       "      <td>este</td>\n",
       "      <td>dd-</td>\n",
       "      <td>ES</td>\n",
       "    </tr>\n",
       "    <tr>\n",
       "      <td>1</td>\n",
       "      <td>431270</td>\n",
       "      <td>2206403097</td>\n",
       "      <td>es</td>\n",
       "      <td>ser</td>\n",
       "      <td>vip-3s</td>\n",
       "      <td>ES</td>\n",
       "    </tr>\n",
       "    <tr>\n",
       "      <td>2</td>\n",
       "      <td>431270</td>\n",
       "      <td>2206403098</td>\n",
       "      <td>un</td>\n",
       "      <td>un</td>\n",
       "      <td>li-ms</td>\n",
       "      <td>ES</td>\n",
       "    </tr>\n",
       "    <tr>\n",
       "      <td>3</td>\n",
       "      <td>431270</td>\n",
       "      <td>2206403099</td>\n",
       "      <td>blog</td>\n",
       "      <td>blog</td>\n",
       "      <td>nms</td>\n",
       "      <td>ES</td>\n",
       "    </tr>\n",
       "    <tr>\n",
       "      <td>4</td>\n",
       "      <td>431270</td>\n",
       "      <td>2206403100</td>\n",
       "      <td>de</td>\n",
       "      <td>de</td>\n",
       "      <td>e</td>\n",
       "      <td>ES</td>\n",
       "    </tr>\n",
       "  </tbody>\n",
       "</table>\n",
       "</div>"
      ],
      "text/plain": [
       "   SourceID     TokenID  Word Lemma      POS Variety\n",
       "0    431270  2206403096  Este  este      dd-      ES\n",
       "1    431270  2206403097    es   ser   vip-3s      ES\n",
       "2    431270  2206403098    un    un    li-ms      ES\n",
       "3    431270  2206403099  blog  blog  nms          ES\n",
       "4    431270  2206403100    de    de        e      ES"
      ]
     },
     "execution_count": 13,
     "metadata": {},
     "output_type": "execute_result"
    }
   ],
   "source": [
    "df.head()"
   ]
  },
  {
   "cell_type": "code",
   "execution_count": 14,
   "metadata": {},
   "outputs": [
    {
     "data": {
      "text/html": [
       "<div>\n",
       "<style scoped>\n",
       "    .dataframe tbody tr th:only-of-type {\n",
       "        vertical-align: middle;\n",
       "    }\n",
       "\n",
       "    .dataframe tbody tr th {\n",
       "        vertical-align: top;\n",
       "    }\n",
       "\n",
       "    .dataframe thead th {\n",
       "        text-align: right;\n",
       "    }\n",
       "</style>\n",
       "<table border=\"1\" class=\"dataframe\">\n",
       "  <thead>\n",
       "    <tr style=\"text-align: right;\">\n",
       "      <th></th>\n",
       "      <th>SourceID</th>\n",
       "      <th>TokenID</th>\n",
       "      <th>Word</th>\n",
       "      <th>Lemma</th>\n",
       "      <th>POS</th>\n",
       "      <th>Variety</th>\n",
       "    </tr>\n",
       "  </thead>\n",
       "  <tbody>\n",
       "    <tr>\n",
       "      <td>27345208</td>\n",
       "      <td>676060</td>\n",
       "      <td>2511862343</td>\n",
       "      <td>mas</td>\n",
       "      <td>mas</td>\n",
       "      <td>cc</td>\n",
       "      <td>ES</td>\n",
       "    </tr>\n",
       "    <tr>\n",
       "      <td>27345209</td>\n",
       "      <td>676060</td>\n",
       "      <td>2511862344</td>\n",
       "      <td>informacion</td>\n",
       "      <td>información</td>\n",
       "      <td>n</td>\n",
       "      <td>ES</td>\n",
       "    </tr>\n",
       "    <tr>\n",
       "      <td>27345210</td>\n",
       "      <td>676060</td>\n",
       "      <td>2511862345</td>\n",
       "      <td>visite</td>\n",
       "      <td>visitar</td>\n",
       "      <td>vsp-1/3s</td>\n",
       "      <td>ES</td>\n",
       "    </tr>\n",
       "    <tr>\n",
       "      <td>27345211</td>\n",
       "      <td>676060</td>\n",
       "      <td>2511862346</td>\n",
       "      <td>www.DineroAbundancia.com</td>\n",
       "      <td>www.dineroabundancia.com</td>\n",
       "      <td>n</td>\n",
       "      <td>ES</td>\n",
       "    </tr>\n",
       "    <tr>\n",
       "      <td>27345212</td>\n",
       "      <td>676060</td>\n",
       "      <td>2511862347</td>\n",
       "      <td>.</td>\n",
       "      <td>$.</td>\n",
       "      <td>y</td>\n",
       "      <td>ES</td>\n",
       "    </tr>\n",
       "  </tbody>\n",
       "</table>\n",
       "</div>"
      ],
      "text/plain": [
       "          SourceID     TokenID                      Word  \\\n",
       "27345208    676060  2511862343                       mas   \n",
       "27345209    676060  2511862344               informacion   \n",
       "27345210    676060  2511862345                    visite   \n",
       "27345211    676060  2511862346  www.DineroAbundancia.com   \n",
       "27345212    676060  2511862347                         .   \n",
       "\n",
       "                             Lemma       POS Variety  \n",
       "27345208                       mas        cc      ES  \n",
       "27345209               información         n      ES  \n",
       "27345210                   visitar  vsp-1/3s      ES  \n",
       "27345211  www.dineroabundancia.com         n      ES  \n",
       "27345212                        $.         y      ES  "
      ]
     },
     "execution_count": 14,
     "metadata": {},
     "output_type": "execute_result"
    }
   ],
   "source": [
    "df.tail()"
   ]
  },
  {
   "cell_type": "code",
   "execution_count": 15,
   "metadata": {},
   "outputs": [
    {
     "data": {
      "text/html": [
       "<div>\n",
       "<style scoped>\n",
       "    .dataframe tbody tr th:only-of-type {\n",
       "        vertical-align: middle;\n",
       "    }\n",
       "\n",
       "    .dataframe tbody tr th {\n",
       "        vertical-align: top;\n",
       "    }\n",
       "\n",
       "    .dataframe thead th {\n",
       "        text-align: right;\n",
       "    }\n",
       "</style>\n",
       "<table border=\"1\" class=\"dataframe\">\n",
       "  <thead>\n",
       "    <tr style=\"text-align: right;\">\n",
       "      <th></th>\n",
       "      <th>SourceID</th>\n",
       "      <th>TokenID</th>\n",
       "      <th>Word</th>\n",
       "      <th>Lemma</th>\n",
       "      <th>POS</th>\n",
       "      <th>Variety</th>\n",
       "    </tr>\n",
       "  </thead>\n",
       "  <tbody>\n",
       "    <tr>\n",
       "      <td>11869609</td>\n",
       "      <td>547760</td>\n",
       "      <td>1151256381</td>\n",
       "      <td>calidad</td>\n",
       "      <td>calidad</td>\n",
       "      <td>nfs</td>\n",
       "      <td>ES</td>\n",
       "    </tr>\n",
       "    <tr>\n",
       "      <td>1842942</td>\n",
       "      <td>452310</td>\n",
       "      <td>2135062343</td>\n",
       "      <td>gestado</td>\n",
       "      <td>gestar</td>\n",
       "      <td>vps-ms</td>\n",
       "      <td>ES</td>\n",
       "    </tr>\n",
       "    <tr>\n",
       "      <td>10277289</td>\n",
       "      <td>535460</td>\n",
       "      <td>341803833</td>\n",
       "      <td>película</td>\n",
       "      <td>película</td>\n",
       "      <td>nfs</td>\n",
       "      <td>ES</td>\n",
       "    </tr>\n",
       "    <tr>\n",
       "      <td>25856292</td>\n",
       "      <td>664920</td>\n",
       "      <td>1607211213</td>\n",
       "      <td>crecimiento</td>\n",
       "      <td>crecimiento</td>\n",
       "      <td>nms</td>\n",
       "      <td>ES</td>\n",
       "    </tr>\n",
       "    <tr>\n",
       "      <td>2687822</td>\n",
       "      <td>463000</td>\n",
       "      <td>538042731</td>\n",
       "      <td>imitación</td>\n",
       "      <td>imitación</td>\n",
       "      <td>nfs</td>\n",
       "      <td>ES</td>\n",
       "    </tr>\n",
       "  </tbody>\n",
       "</table>\n",
       "</div>"
      ],
      "text/plain": [
       "          SourceID     TokenID         Word        Lemma      POS Variety\n",
       "11869609    547760  1151256381      calidad      calidad  nfs          ES\n",
       "1842942     452310  2135062343      gestado       gestar   vps-ms      ES\n",
       "10277289    535460   341803833     película     película  nfs          ES\n",
       "25856292    664920  1607211213  crecimiento  crecimiento  nms          ES\n",
       "2687822     463000   538042731    imitación    imitación  nfs          ES"
      ]
     },
     "execution_count": 15,
     "metadata": {},
     "output_type": "execute_result"
    }
   ],
   "source": [
    "df.sample(5)"
   ]
  }
 ],
 "metadata": {
  "kernelspec": {
   "display_name": "Python 3",
   "language": "python",
   "name": "python3"
  },
  "language_info": {
   "codemirror_mode": {
    "name": "ipython",
    "version": 3
   },
   "file_extension": ".py",
   "mimetype": "text/x-python",
   "name": "python",
   "nbconvert_exporter": "python",
   "pygments_lexer": "ipython3",
   "version": "3.7.4"
  }
 },
 "nbformat": 4,
 "nbformat_minor": 2
}
