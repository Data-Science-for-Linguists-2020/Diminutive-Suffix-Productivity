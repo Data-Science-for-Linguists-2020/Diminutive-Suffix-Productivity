{
 "cells": [
  {
   "cell_type": "markdown",
   "metadata": {},
   "source": [
    "# Diminutive Suffix Productivity: statistics and analysis\n",
    "Juan Berrios | jeb358@pitt.edu | Last updated: April 17, 2020"
   ]
  },
  {
   "cell_type": "markdown",
   "metadata": {},
   "source": [
    "**Summary and overview:**"
   ]
  },
  {
   "cell_type": "markdown",
   "metadata": {},
   "source": [
    "- This notebook is a continuation of the [cleaning and exploratory analysis notebook](https://github.com/Data-Science-for-Linguists-2020/Diminutive-Suffix-Productivity/blob/master/code/cleaning_analysis.ipynb) in my repository. The purpose is to use the master data frame previously created to extract statistical measures of productivity (in general and by variety). "
   ]
  },
  {
   "cell_type": "markdown",
   "metadata": {},
   "source": [
    "**Contents:**\n",
    "1. [Preparation](#1.-Preparation): includes the necessary preparations and loading of the files.\n",
    "2. [Statistical measures of productivity](#2.-Statistical-measures-of-productivity): includes code for extracting relevant statistics measures of productivity. A summary paragraph is included at the end of this section.\n",
    "3. [Plotting](#3.-Plotting): a follow up of the previous step to visualize differences between suffixes and between countries. \n",
    "4. [Storing files](#4.-Storing-files): includes code for storing the results as pickled files."
   ]
  },
  {
   "cell_type": "markdown",
   "metadata": {},
   "source": [
    "## 1. Preparation"
   ]
  },
  {
   "cell_type": "markdown",
   "metadata": {},
   "source": [
    "- Loading libraries and additional settings:"
   ]
  },
  {
   "cell_type": "code",
   "execution_count": 1,
   "metadata": {},
   "outputs": [
    {
     "name": "stdout",
     "output_type": "stream",
     "text": [
      "Pretty printing has been turned OFF\n"
     ]
    }
   ],
   "source": [
    "#Importing libraries\n",
    "import pickle, re\n",
    "import pandas as pd\n",
    "import numpy as np\n",
    "import matplotlib.pyplot as plt\n",
    "import matplotlib\n",
    "\n",
    "#Turning pretty print off:\n",
    "%pprint\n",
    "\n",
    "# Settings for plotting\n",
    "matplotlib.rcParams['font.sans-serif'] = \"Century Gothic\"\n",
    "matplotlib.rcParams['font.family'] = \"sans-serif\"\n",
    "matplotlib.rcParams['axes.titlesize'] = 18\n",
    "matplotlib.rcParams['axes.labelsize'] = 14\n",
    "\n",
    "#Releasing all output:                                            \n",
    "from IPython.core.interactiveshell import InteractiveShell #Prints all commands rather than the last one.\n",
    "InteractiveShell.ast_node_interactivity = \"all\""
   ]
  },
  {
   "cell_type": "markdown",
   "metadata": {},
   "source": [
    "- Loading pickle files:"
   ]
  },
  {
   "cell_type": "code",
   "execution_count": 2,
   "metadata": {},
   "outputs": [],
   "source": [
    "#Master DF\n",
    "\n",
    "master_DF = pd.read_pickle('pkl/master_DF.pkl')\n",
    "\n",
    "#Hapax legomena sets (for all morphological categories)\n",
    "\n",
    "ar_hapax = pd.read_pickle('pkl/ar_hapax.pkl')\n",
    "bo_hapax = pd.read_pickle('pkl/bo_hapax.pkl')\n",
    "cl_hapax = pd.read_pickle('pkl/cl_hapax.pkl')\n",
    "co_hapax = pd.read_pickle('pkl/co_hapax.pkl')\n",
    "cr_hapax = pd.read_pickle('pkl/cr_hapax.pkl')\n",
    "cu_hapax = pd.read_pickle('pkl/cu_hapax.pkl')\n",
    "do_hapax = pd.read_pickle('pkl/do_hapax.pkl')\n",
    "ec_hapax = pd.read_pickle('pkl/ec_hapax.pkl')\n",
    "es_hapax = pd.read_pickle('pkl/es_hapax.pkl')\n",
    "gt_hapax = pd.read_pickle('pkl/gt_hapax.pkl')\n",
    "hn_hapax = pd.read_pickle('pkl/hn_hapax.pkl')\n",
    "mx_hapax = pd.read_pickle('pkl/mx_hapax.pkl')\n",
    "ni_hapax = pd.read_pickle('pkl/ni_hapax.pkl')\n",
    "pa_hapax = pd.read_pickle('pkl/pa_hapax.pkl')\n",
    "pe_hapax = pd.read_pickle('pkl/pe_hapax.pkl')\n",
    "pr_hapax = pd.read_pickle('pkl/pr_hapax.pkl')\n",
    "py_hapax = pd.read_pickle('pkl/py_hapax.pkl')\n",
    "sv_hapax = pd.read_pickle('pkl/sv_hapax.pkl')\n",
    "us_hapax = pd.read_pickle('pkl/us_hapax.pkl')\n",
    "uy_hapax = pd.read_pickle('pkl/uy_hapax.pkl')"
   ]
  },
  {
   "cell_type": "markdown",
   "metadata": {},
   "source": [
    "- A set of hapax legomena for the full dataset:"
   ]
  },
  {
   "cell_type": "code",
   "execution_count": 3,
   "metadata": {},
   "outputs": [],
   "source": [
    "master_hapax = set()\n",
    "\n",
    "hapax_list = [ar_hapax, bo_hapax, cl_hapax, co_hapax, cr_hapax, cu_hapax, do_hapax, ec_hapax, es_hapax, \n",
    "              gt_hapax, hn_hapax, mx_hapax, ni_hapax, pa_hapax, pe_hapax, pr_hapax, py_hapax, sv_hapax, \n",
    "              us_hapax, uy_hapax]\n",
    "\n",
    "for hapax_set in hapax_list:\n",
    "    for w in hapax_set:\n",
    "        master_hapax.add(w)"
   ]
  },
  {
   "cell_type": "code",
   "execution_count": 4,
   "metadata": {},
   "outputs": [
    {
     "data": {
      "text/plain": [
       "5339643"
      ]
     },
     "execution_count": 4,
     "metadata": {},
     "output_type": "execute_result"
    }
   ],
   "source": [
    "len(master_hapax) #Good to go."
   ]
  },
  {
   "cell_type": "markdown",
   "metadata": {},
   "source": [
    "## 2. Statistical measures of productivity"
   ]
  },
  {
   "cell_type": "markdown",
   "metadata": {},
   "source": [
    "- Some definitions are in order before I proceed. A number of measures of morphological productivity have been offered in the literature, but they don't always measure the same thing. In this project I focus on three statistical measurements of productivity [(Baayen, 2009)](https://www.degruyter.com/view/book/9783110213881/10.1515/9783110213881.2.899.xml):\n",
    "    1. Realized productivity: the size of the morphological category, as measured by the type count of the members of a morphological category in a corpus with N tokens.\n",
    "    2. Expanding productivity: the rate at which a category is attracting new members, as measured by the number of words in a morphological category that occur only once in a corpus of N tokens; the hapax legomena.\n",
    "    3. Potential productivity: the number of occasionalisms. A category that can produce a higher number of occasionalisms is thought to be productive. This is measured by the number of hapax legomena exhibiting a pattern divided by the total number of tokens exhibiting the same pattern. Also known as the category-conditioned degree of productivity or Baayen's *P*. A drawback of this measure is that it is sensitive to corpus size, which is why an alternative, the hapax-conditioned degree of productivity or *P**, is also used.  This is measured by the number of hapax legomena exhibiting a pattern divided by the total number of hapax legomena (exhibiting any pattern) in the corpus."
   ]
  },
  {
   "cell_type": "markdown",
   "metadata": {},
   "source": [
    "- Let's first take a look at general descriptive statistics for the the whole data set:"
   ]
  },
  {
   "cell_type": "code",
   "execution_count": 5,
   "metadata": {},
   "outputs": [
    {
     "data": {
      "text/html": [
       "<div>\n",
       "<style scoped>\n",
       "    .dataframe tbody tr th:only-of-type {\n",
       "        vertical-align: middle;\n",
       "    }\n",
       "\n",
       "    .dataframe tbody tr th {\n",
       "        vertical-align: top;\n",
       "    }\n",
       "\n",
       "    .dataframe thead th {\n",
       "        text-align: right;\n",
       "    }\n",
       "</style>\n",
       "<table border=\"1\" class=\"dataframe\">\n",
       "  <thead>\n",
       "    <tr style=\"text-align: right;\">\n",
       "      <th></th>\n",
       "      <th>SourceID</th>\n",
       "      <th>TokenID</th>\n",
       "      <th>Lemma</th>\n",
       "      <th>Word</th>\n",
       "      <th>POS</th>\n",
       "      <th>Variety</th>\n",
       "      <th>POS_binary</th>\n",
       "      <th>Number</th>\n",
       "      <th>Gender</th>\n",
       "      <th>Diminutive</th>\n",
       "    </tr>\n",
       "  </thead>\n",
       "  <tbody>\n",
       "    <tr>\n",
       "      <td>count</td>\n",
       "      <td>1429012</td>\n",
       "      <td>1429012</td>\n",
       "      <td>1429012</td>\n",
       "      <td>1429012</td>\n",
       "      <td>1429012</td>\n",
       "      <td>1429012</td>\n",
       "      <td>1429012</td>\n",
       "      <td>1429012</td>\n",
       "      <td>1429012</td>\n",
       "      <td>1429012</td>\n",
       "    </tr>\n",
       "    <tr>\n",
       "      <td>unique</td>\n",
       "      <td>461812</td>\n",
       "      <td>1429012</td>\n",
       "      <td>49526</td>\n",
       "      <td>62073</td>\n",
       "      <td>11</td>\n",
       "      <td>20</td>\n",
       "      <td>2</td>\n",
       "      <td>3</td>\n",
       "      <td>3</td>\n",
       "      <td>2</td>\n",
       "    </tr>\n",
       "    <tr>\n",
       "      <td>top</td>\n",
       "      <td>969008</td>\n",
       "      <td>1524629503</td>\n",
       "      <td>poquito</td>\n",
       "      <td>poquito</td>\n",
       "      <td>n</td>\n",
       "      <td>ES</td>\n",
       "      <td>Noun</td>\n",
       "      <td>unknown</td>\n",
       "      <td>unknown</td>\n",
       "      <td>-ito</td>\n",
       "    </tr>\n",
       "    <tr>\n",
       "      <td>freq</td>\n",
       "      <td>2722</td>\n",
       "      <td>1</td>\n",
       "      <td>59520</td>\n",
       "      <td>54543</td>\n",
       "      <td>822553</td>\n",
       "      <td>383969</td>\n",
       "      <td>1170533</td>\n",
       "      <td>1035299</td>\n",
       "      <td>1035299</td>\n",
       "      <td>1195810</td>\n",
       "    </tr>\n",
       "  </tbody>\n",
       "</table>\n",
       "</div>"
      ],
      "text/plain": [
       "        SourceID     TokenID    Lemma     Word      POS  Variety POS_binary  \\\n",
       "count    1429012     1429012  1429012  1429012  1429012  1429012    1429012   \n",
       "unique    461812     1429012    49526    62073       11       20          2   \n",
       "top       969008  1524629503  poquito  poquito        n       ES       Noun   \n",
       "freq        2722           1    59520    54543   822553   383969    1170533   \n",
       "\n",
       "         Number   Gender Diminutive  \n",
       "count   1429012  1429012    1429012  \n",
       "unique        3        3          2  \n",
       "top     unknown  unknown       -ito  \n",
       "freq    1035299  1035299    1195810  "
      ]
     },
     "execution_count": 5,
     "metadata": {},
     "output_type": "execute_result"
    }
   ],
   "source": [
    "master_DF_stats = master_DF.describe()\n",
    "master_DF_stats "
   ]
  },
  {
   "cell_type": "markdown",
   "metadata": {},
   "source": [
    "- It is possible to get toke (count) and type (unique) counts this date frame using Pandas built-in functions:"
   ]
  },
  {
   "cell_type": "code",
   "execution_count": 6,
   "metadata": {},
   "outputs": [],
   "source": [
    "master_DF_stats = master_DF.groupby('Diminutive').describe().T "
   ]
  },
  {
   "cell_type": "code",
   "execution_count": 7,
   "metadata": {},
   "outputs": [
    {
     "data": {
      "text/html": [
       "<div>\n",
       "<style scoped>\n",
       "    .dataframe tbody tr th:only-of-type {\n",
       "        vertical-align: middle;\n",
       "    }\n",
       "\n",
       "    .dataframe tbody tr th {\n",
       "        vertical-align: top;\n",
       "    }\n",
       "\n",
       "    .dataframe thead th {\n",
       "        text-align: right;\n",
       "    }\n",
       "</style>\n",
       "<table border=\"1\" class=\"dataframe\">\n",
       "  <thead>\n",
       "    <tr style=\"text-align: right;\">\n",
       "      <th>Diminutive</th>\n",
       "      <th>-illo</th>\n",
       "      <th>-ito</th>\n",
       "    </tr>\n",
       "  </thead>\n",
       "  <tbody>\n",
       "    <tr>\n",
       "      <td>count</td>\n",
       "      <td>233202</td>\n",
       "      <td>1195810</td>\n",
       "    </tr>\n",
       "    <tr>\n",
       "      <td>unique</td>\n",
       "      <td>13157</td>\n",
       "      <td>48930</td>\n",
       "    </tr>\n",
       "    <tr>\n",
       "      <td>top</td>\n",
       "      <td>cosillas</td>\n",
       "      <td>poquito</td>\n",
       "    </tr>\n",
       "    <tr>\n",
       "      <td>freq</td>\n",
       "      <td>3501</td>\n",
       "      <td>54543</td>\n",
       "    </tr>\n",
       "  </tbody>\n",
       "</table>\n",
       "</div>"
      ],
      "text/plain": [
       "Diminutive     -illo     -ito\n",
       "count         233202  1195810\n",
       "unique         13157    48930\n",
       "top         cosillas  poquito\n",
       "freq            3501    54543"
      ]
     },
     "execution_count": 7,
     "metadata": {},
     "output_type": "execute_result"
    }
   ],
   "source": [
    "master_DF_stats.loc['Word'] #It is words that I am focused on."
   ]
  },
  {
   "cell_type": "code",
   "execution_count": 8,
   "metadata": {},
   "outputs": [
    {
     "data": {
      "text/html": [
       "<div>\n",
       "<style scoped>\n",
       "    .dataframe tbody tr th:only-of-type {\n",
       "        vertical-align: middle;\n",
       "    }\n",
       "\n",
       "    .dataframe tbody tr th {\n",
       "        vertical-align: top;\n",
       "    }\n",
       "\n",
       "    .dataframe thead th {\n",
       "        text-align: right;\n",
       "    }\n",
       "</style>\n",
       "<table border=\"1\" class=\"dataframe\">\n",
       "  <thead>\n",
       "    <tr style=\"text-align: right;\">\n",
       "      <th>Diminutive</th>\n",
       "      <th>-illo</th>\n",
       "      <th>-ito</th>\n",
       "    </tr>\n",
       "  </thead>\n",
       "  <tbody>\n",
       "    <tr>\n",
       "      <td>count</td>\n",
       "      <td>233202</td>\n",
       "      <td>1195810</td>\n",
       "    </tr>\n",
       "    <tr>\n",
       "      <td>unique</td>\n",
       "      <td>13157</td>\n",
       "      <td>48930</td>\n",
       "    </tr>\n",
       "  </tbody>\n",
       "</table>\n",
       "</div>"
      ],
      "text/plain": [
       "Diminutive   -illo     -ito\n",
       "count       233202  1195810\n",
       "unique       13157    48930"
      ]
     },
     "execution_count": 8,
     "metadata": {},
     "output_type": "execute_result"
    }
   ],
   "source": [
    "master_DF_stats.loc['Word'].iloc[0:2] #Tokens row 1, types row 2.\n",
    "                                      #Almost done. Only missing is a row for hapaxes and we can get to operations.  "
   ]
  },
  {
   "cell_type": "markdown",
   "metadata": {},
   "source": [
    "- The next step is to filter out diminutive hapax legomena (this list, hence, differs from that created in cell 3 because the latter contains hapax legomena for all morphological cateogories):"
   ]
  },
  {
   "cell_type": "code",
   "execution_count": 9,
   "metadata": {},
   "outputs": [
    {
     "data": {
      "text/html": [
       "<div>\n",
       "<style scoped>\n",
       "    .dataframe tbody tr th:only-of-type {\n",
       "        vertical-align: middle;\n",
       "    }\n",
       "\n",
       "    .dataframe tbody tr th {\n",
       "        vertical-align: top;\n",
       "    }\n",
       "\n",
       "    .dataframe thead th {\n",
       "        text-align: right;\n",
       "    }\n",
       "</style>\n",
       "<table border=\"1\" class=\"dataframe\">\n",
       "  <thead>\n",
       "    <tr style=\"text-align: right;\">\n",
       "      <th></th>\n",
       "      <th>SourceID</th>\n",
       "      <th>TokenID</th>\n",
       "      <th>Lemma</th>\n",
       "      <th>Word</th>\n",
       "      <th>POS</th>\n",
       "      <th>Variety</th>\n",
       "      <th>POS_binary</th>\n",
       "      <th>Number</th>\n",
       "      <th>Gender</th>\n",
       "      <th>Diminutive</th>\n",
       "    </tr>\n",
       "  </thead>\n",
       "  <tbody>\n",
       "    <tr>\n",
       "      <td>32912</td>\n",
       "      <td>470</td>\n",
       "      <td>2198136862</td>\n",
       "      <td>semiescrito</td>\n",
       "      <td>semiescrita</td>\n",
       "      <td>j</td>\n",
       "      <td>AR</td>\n",
       "      <td>Adjective</td>\n",
       "      <td>unknown</td>\n",
       "      <td>unknown</td>\n",
       "      <td>-ito</td>\n",
       "    </tr>\n",
       "    <tr>\n",
       "      <td>119578</td>\n",
       "      <td>900</td>\n",
       "      <td>2337362927</td>\n",
       "      <td>uartito</td>\n",
       "      <td>uartito</td>\n",
       "      <td>j</td>\n",
       "      <td>AR</td>\n",
       "      <td>Adjective</td>\n",
       "      <td>unknown</td>\n",
       "      <td>unknown</td>\n",
       "      <td>-ito</td>\n",
       "    </tr>\n",
       "    <tr>\n",
       "      <td>331285</td>\n",
       "      <td>3350</td>\n",
       "      <td>49493302</td>\n",
       "      <td>mangueadita</td>\n",
       "      <td>mangueadita</td>\n",
       "      <td>n</td>\n",
       "      <td>AR</td>\n",
       "      <td>Noun</td>\n",
       "      <td>unknown</td>\n",
       "      <td>unknown</td>\n",
       "      <td>-ito</td>\n",
       "    </tr>\n",
       "    <tr>\n",
       "      <td>343760</td>\n",
       "      <td>3400</td>\n",
       "      <td>188880930</td>\n",
       "      <td>transeuntito</td>\n",
       "      <td>transeuntito</td>\n",
       "      <td>n</td>\n",
       "      <td>AR</td>\n",
       "      <td>Noun</td>\n",
       "      <td>unknown</td>\n",
       "      <td>unknown</td>\n",
       "      <td>-ito</td>\n",
       "    </tr>\n",
       "    <tr>\n",
       "      <td>343765</td>\n",
       "      <td>3400</td>\n",
       "      <td>188880935</td>\n",
       "      <td>sabiolita</td>\n",
       "      <td>sabiolita</td>\n",
       "      <td>n</td>\n",
       "      <td>AR</td>\n",
       "      <td>Noun</td>\n",
       "      <td>unknown</td>\n",
       "      <td>unknown</td>\n",
       "      <td>-ito</td>\n",
       "    </tr>\n",
       "    <tr>\n",
       "      <td>...</td>\n",
       "      <td>...</td>\n",
       "      <td>...</td>\n",
       "      <td>...</td>\n",
       "      <td>...</td>\n",
       "      <td>...</td>\n",
       "      <td>...</td>\n",
       "      <td>...</td>\n",
       "      <td>...</td>\n",
       "      <td>...</td>\n",
       "      <td>...</td>\n",
       "    </tr>\n",
       "    <tr>\n",
       "      <td>1479443</td>\n",
       "      <td>2389539</td>\n",
       "      <td>1857712333</td>\n",
       "      <td>iglesianecesita</td>\n",
       "      <td>iglesianecesita</td>\n",
       "      <td>n</td>\n",
       "      <td>UY</td>\n",
       "      <td>Noun</td>\n",
       "      <td>unknown</td>\n",
       "      <td>unknown</td>\n",
       "      <td>-ito</td>\n",
       "    </tr>\n",
       "    <tr>\n",
       "      <td>1518691</td>\n",
       "      <td>2389839</td>\n",
       "      <td>1937747188</td>\n",
       "      <td>prurito-rascado-prurito</td>\n",
       "      <td>prurito-rascado-prurito</td>\n",
       "      <td>n</td>\n",
       "      <td>UY</td>\n",
       "      <td>Noun</td>\n",
       "      <td>unknown</td>\n",
       "      <td>unknown</td>\n",
       "      <td>-ito</td>\n",
       "    </tr>\n",
       "    <tr>\n",
       "      <td>1693725</td>\n",
       "      <td>2391909</td>\n",
       "      <td>1958256192</td>\n",
       "      <td>http://www.redqualitas.com/inauguracion.\\\\</td>\n",
       "      <td>http://www.redqualitas.com/Inauguracion.\\\\</td>\n",
       "      <td>n</td>\n",
       "      <td>UY</td>\n",
       "      <td>Noun</td>\n",
       "      <td>unknown</td>\n",
       "      <td>unknown</td>\n",
       "      <td>-ito</td>\n",
       "    </tr>\n",
       "    <tr>\n",
       "      <td>1847147</td>\n",
       "      <td>2392909</td>\n",
       "      <td>1958257880</td>\n",
       "      <td>delcircuito</td>\n",
       "      <td>delcircuito</td>\n",
       "      <td>j</td>\n",
       "      <td>UY</td>\n",
       "      <td>Adjective</td>\n",
       "      <td>unknown</td>\n",
       "      <td>unknown</td>\n",
       "      <td>-ito</td>\n",
       "    </tr>\n",
       "    <tr>\n",
       "      <td>1990593</td>\n",
       "      <td>2394539</td>\n",
       "      <td>1857716831</td>\n",
       "      <td>huevesito</td>\n",
       "      <td>huevesitos</td>\n",
       "      <td>j</td>\n",
       "      <td>UY</td>\n",
       "      <td>Adjective</td>\n",
       "      <td>unknown</td>\n",
       "      <td>unknown</td>\n",
       "      <td>-ito</td>\n",
       "    </tr>\n",
       "  </tbody>\n",
       "</table>\n",
       "<p>33124 rows × 10 columns</p>\n",
       "</div>"
      ],
      "text/plain": [
       "        SourceID     TokenID                                       Lemma  \\\n",
       "32912        470  2198136862                                 semiescrito   \n",
       "119578       900  2337362927                                     uartito   \n",
       "331285      3350    49493302                                 mangueadita   \n",
       "343760      3400   188880930                                transeuntito   \n",
       "343765      3400   188880935                                   sabiolita   \n",
       "...          ...         ...                                         ...   \n",
       "1479443  2389539  1857712333                             iglesianecesita   \n",
       "1518691  2389839  1937747188                     prurito-rascado-prurito   \n",
       "1693725  2391909  1958256192  http://www.redqualitas.com/inauguracion.\\\\   \n",
       "1847147  2392909  1958257880                                 delcircuito   \n",
       "1990593  2394539  1857716831                                   huevesito   \n",
       "\n",
       "                                               Word POS Variety POS_binary  \\\n",
       "32912                                   semiescrita   j      AR  Adjective   \n",
       "119578                                      uartito   j      AR  Adjective   \n",
       "331285                                  mangueadita   n      AR       Noun   \n",
       "343760                                 transeuntito   n      AR       Noun   \n",
       "343765                                    sabiolita   n      AR       Noun   \n",
       "...                                             ...  ..     ...        ...   \n",
       "1479443                             iglesianecesita   n      UY       Noun   \n",
       "1518691                     prurito-rascado-prurito   n      UY       Noun   \n",
       "1693725  http://www.redqualitas.com/Inauguracion.\\\\   n      UY       Noun   \n",
       "1847147                                 delcircuito   j      UY  Adjective   \n",
       "1990593                                  huevesitos   j      UY  Adjective   \n",
       "\n",
       "          Number   Gender Diminutive  \n",
       "32912    unknown  unknown       -ito  \n",
       "119578   unknown  unknown       -ito  \n",
       "331285   unknown  unknown       -ito  \n",
       "343760   unknown  unknown       -ito  \n",
       "343765   unknown  unknown       -ito  \n",
       "...          ...      ...        ...  \n",
       "1479443  unknown  unknown       -ito  \n",
       "1518691  unknown  unknown       -ito  \n",
       "1693725  unknown  unknown       -ito  \n",
       "1847147  unknown  unknown       -ito  \n",
       "1990593  unknown  unknown       -ito  \n",
       "\n",
       "[33124 rows x 10 columns]"
      ]
     },
     "execution_count": 9,
     "metadata": {},
     "output_type": "execute_result"
    }
   ],
   "source": [
    "hapax = master_DF.groupby('Word').filter(lambda x: len(x) == 1) \n",
    "hapax"
   ]
  },
  {
   "cell_type": "code",
   "execution_count": 10,
   "metadata": {},
   "outputs": [
    {
     "data": {
      "text/plain": [
       "-ito     26611\n",
       "-illo     6513\n",
       "Name: Diminutive, dtype: int64"
      ]
     },
     "execution_count": 10,
     "metadata": {},
     "output_type": "execute_result"
    }
   ],
   "source": [
    "hapax['Diminutive'].value_counts() #Hapax by diminutive suffix."
   ]
  },
  {
   "cell_type": "markdown",
   "metadata": {},
   "source": [
    "- Using the above to build a summary data frame for analysis:"
   ]
  },
  {
   "cell_type": "code",
   "execution_count": 11,
   "metadata": {},
   "outputs": [
    {
     "data": {
      "text/plain": [
       "Index(['count', 'unique', 'hapax'], dtype='object')"
      ]
     },
     "execution_count": 11,
     "metadata": {},
     "output_type": "execute_result"
    }
   ],
   "source": [
    "master_DF_stats = master_DF_stats.loc['Word'].iloc[0:2]\n",
    "master_DF_stats.loc['hapax'] = hapax['Diminutive'].value_counts()\n",
    "master_DF_stats.index"
   ]
  },
  {
   "cell_type": "code",
   "execution_count": 12,
   "metadata": {},
   "outputs": [],
   "source": [
    "master_DF_stats.rename(index={'count':'Tokens', 'unique':'Types','hapax':'Hapax'}, inplace=True) #Renaming columns."
   ]
  },
  {
   "cell_type": "code",
   "execution_count": 13,
   "metadata": {},
   "outputs": [
    {
     "data": {
      "text/html": [
       "<div>\n",
       "<style scoped>\n",
       "    .dataframe tbody tr th:only-of-type {\n",
       "        vertical-align: middle;\n",
       "    }\n",
       "\n",
       "    .dataframe tbody tr th {\n",
       "        vertical-align: top;\n",
       "    }\n",
       "\n",
       "    .dataframe thead th {\n",
       "        text-align: right;\n",
       "    }\n",
       "</style>\n",
       "<table border=\"1\" class=\"dataframe\">\n",
       "  <thead>\n",
       "    <tr style=\"text-align: right;\">\n",
       "      <th></th>\n",
       "      <th>Tokens</th>\n",
       "      <th>Types</th>\n",
       "      <th>Hapax</th>\n",
       "    </tr>\n",
       "    <tr>\n",
       "      <th>Diminutive</th>\n",
       "      <th></th>\n",
       "      <th></th>\n",
       "      <th></th>\n",
       "    </tr>\n",
       "  </thead>\n",
       "  <tbody>\n",
       "    <tr>\n",
       "      <td>-illo</td>\n",
       "      <td>233202</td>\n",
       "      <td>13157</td>\n",
       "      <td>6513</td>\n",
       "    </tr>\n",
       "    <tr>\n",
       "      <td>-ito</td>\n",
       "      <td>1195810</td>\n",
       "      <td>48930</td>\n",
       "      <td>26611</td>\n",
       "    </tr>\n",
       "  </tbody>\n",
       "</table>\n",
       "</div>"
      ],
      "text/plain": [
       "             Tokens  Types  Hapax\n",
       "Diminutive                       \n",
       "-illo        233202  13157   6513\n",
       "-ito        1195810  48930  26611"
      ]
     },
     "execution_count": 13,
     "metadata": {},
     "output_type": "execute_result"
    }
   ],
   "source": [
    "master_DF_stats = master_DF_stats.T  #Voilà!\n",
    "master_DF_stats"
   ]
  },
  {
   "cell_type": "markdown",
   "metadata": {},
   "source": [
    "- Creating a function to do all the above by country:"
   ]
  },
  {
   "cell_type": "code",
   "execution_count": 14,
   "metadata": {},
   "outputs": [],
   "source": [
    "def productivity_variety(master, variety):\n",
    "    df = master[master['Variety'] == variety]\n",
    "    hapax = df.groupby('Word').filter(lambda x: len(x) == 1) \n",
    "    hapax = hapax['Diminutive'].value_counts() \n",
    "    df = df.groupby('Diminutive').describe().T \n",
    "    df = df.loc['Word'].iloc[0:2]\n",
    "    df.loc['hapax'] = hapax\n",
    "    df.rename(index={'count':'Tokens', 'unique':'Types','hapax':'Hapax'}, inplace=True)\n",
    "    return df.T"
   ]
  },
  {
   "cell_type": "markdown",
   "metadata": {},
   "source": [
    "- Applying to every variety using the function created above (this is necessary given that a hapax might not be so in the subset corpus of a given variety):"
   ]
  },
  {
   "cell_type": "code",
   "execution_count": 15,
   "metadata": {},
   "outputs": [],
   "source": [
    "ar_DF_stats = productivity_variety(master_DF, 'AR')\n",
    "bo_DF_stats = productivity_variety(master_DF, 'BO')\n",
    "cl_DF_stats = productivity_variety(master_DF, 'CL')\n",
    "co_DF_stats = productivity_variety(master_DF, 'CO')\n",
    "cr_DF_stats = productivity_variety(master_DF, 'CR')\n",
    "cu_DF_stats = productivity_variety(master_DF, 'CU')\n",
    "do_DF_stats = productivity_variety(master_DF, 'DO')\n",
    "ec_DF_stats = productivity_variety(master_DF, 'EC')\n",
    "es_DF_stats = productivity_variety(master_DF, 'ES')\n",
    "gt_DF_stats = productivity_variety(master_DF, 'GT')\n",
    "hn_DF_stats = productivity_variety(master_DF, 'HN')\n",
    "mx_DF_stats = productivity_variety(master_DF, 'MX')\n",
    "ni_DF_stats = productivity_variety(master_DF, 'NI')\n",
    "pa_DF_stats = productivity_variety(master_DF, 'PA')\n",
    "pe_DF_stats = productivity_variety(master_DF, 'PE')\n",
    "pr_DF_stats = productivity_variety(master_DF, 'PR')\n",
    "py_DF_stats = productivity_variety(master_DF, 'PY')\n",
    "sv_DF_stats = productivity_variety(master_DF, 'SV')\n",
    "us_DF_stats = productivity_variety(master_DF, 'US')\n",
    "uy_DF_stats = productivity_variety(master_DF, 'UY')"
   ]
  },
  {
   "cell_type": "markdown",
   "metadata": {},
   "source": [
    "- Statistical measurements of productivity:"
   ]
  },
  {
   "cell_type": "code",
   "execution_count": 16,
   "metadata": {},
   "outputs": [],
   "source": [
    "#Category-conditioned (P)\n",
    "\n",
    "def cat_productivity(df):\n",
    "    df['P'] = (np.divide(df['Hapax'], df['Tokens'])*100)\n",
    "\n",
    "#Hapax-conditioned (P*)\n",
    "\n",
    "def hapax_productivity(df, hapaxset):\n",
    "    df['P*'] = (np.divide(df['Hapax'], len(hapaxset))*100)"
   ]
  },
  {
   "cell_type": "markdown",
   "metadata": {},
   "source": [
    "- Calculating the measures for the master data frame:"
   ]
  },
  {
   "cell_type": "code",
   "execution_count": 17,
   "metadata": {},
   "outputs": [
    {
     "data": {
      "text/html": [
       "<div>\n",
       "<style scoped>\n",
       "    .dataframe tbody tr th:only-of-type {\n",
       "        vertical-align: middle;\n",
       "    }\n",
       "\n",
       "    .dataframe tbody tr th {\n",
       "        vertical-align: top;\n",
       "    }\n",
       "\n",
       "    .dataframe thead th {\n",
       "        text-align: right;\n",
       "    }\n",
       "</style>\n",
       "<table border=\"1\" class=\"dataframe\">\n",
       "  <thead>\n",
       "    <tr style=\"text-align: right;\">\n",
       "      <th></th>\n",
       "      <th>Tokens</th>\n",
       "      <th>Types</th>\n",
       "      <th>Hapax</th>\n",
       "      <th>P</th>\n",
       "      <th>P*</th>\n",
       "    </tr>\n",
       "    <tr>\n",
       "      <th>Diminutive</th>\n",
       "      <th></th>\n",
       "      <th></th>\n",
       "      <th></th>\n",
       "      <th></th>\n",
       "      <th></th>\n",
       "    </tr>\n",
       "  </thead>\n",
       "  <tbody>\n",
       "    <tr>\n",
       "      <td>-illo</td>\n",
       "      <td>233202</td>\n",
       "      <td>13157</td>\n",
       "      <td>6513</td>\n",
       "      <td>2.79286</td>\n",
       "      <td>0.121974</td>\n",
       "    </tr>\n",
       "    <tr>\n",
       "      <td>-ito</td>\n",
       "      <td>1195810</td>\n",
       "      <td>48930</td>\n",
       "      <td>26611</td>\n",
       "      <td>2.22535</td>\n",
       "      <td>0.498367</td>\n",
       "    </tr>\n",
       "  </tbody>\n",
       "</table>\n",
       "</div>"
      ],
      "text/plain": [
       "             Tokens  Types  Hapax        P        P*\n",
       "Diminutive                                          \n",
       "-illo        233202  13157   6513  2.79286  0.121974\n",
       "-ito        1195810  48930  26611  2.22535  0.498367"
      ]
     },
     "execution_count": 17,
     "metadata": {},
     "output_type": "execute_result"
    }
   ],
   "source": [
    "cat_productivity(master_DF_stats)\n",
    "hapax_productivity(master_DF_stats,master_hapax)\n",
    "master_DF_stats"
   ]
  },
  {
   "cell_type": "markdown",
   "metadata": {},
   "source": [
    "- By variety:"
   ]
  },
  {
   "cell_type": "code",
   "execution_count": 18,
   "metadata": {},
   "outputs": [],
   "source": [
    "#Create a list of data frames, hapax sets, and a tuple of both, respectively, to streamline the process:\n",
    "\n",
    "df_list = [ar_DF_stats, bo_DF_stats, cl_DF_stats, co_DF_stats, cr_DF_stats, cu_DF_stats, do_DF_stats, ec_DF_stats,\n",
    "           es_DF_stats, gt_DF_stats, hn_DF_stats, mx_DF_stats, ni_DF_stats, pa_DF_stats, pe_DF_stats, pr_DF_stats, \n",
    "           py_DF_stats, sv_DF_stats, us_DF_stats, uy_DF_stats]\n",
    "\n",
    "hapax_list = [ar_hapax, bo_hapax, cl_hapax, co_hapax, cr_hapax, cu_hapax, do_hapax, ec_hapax, es_hapax, gt_hapax, \n",
    "              hn_hapax, mx_hapax, ni_hapax, pa_hapax, pe_hapax, pr_hapax, py_hapax, sv_hapax, us_hapax, uy_hapax]\n",
    "\n",
    "df_hapax_tups = list(map(lambda x, y:(x,y), df_list, hapax_list)) "
   ]
  },
  {
   "cell_type": "code",
   "execution_count": 19,
   "metadata": {},
   "outputs": [],
   "source": [
    "#P: Category-conditioned productivity\n",
    "\n",
    "for df in df_list:\n",
    "    cat_productivity(df)\n",
    "    \n",
    "#P*: Category-conditioned productivity\n",
    "\n",
    "for (df,hapaxset) in df_hapax_tups:\n",
    "    hapax_productivity(df, hapaxset)"
   ]
  },
  {
   "cell_type": "markdown",
   "metadata": {},
   "source": [
    "- To work in one rather than several data frames at once for the by-variety analysis, let's create a single data frame including all varieties:"
   ]
  },
  {
   "cell_type": "code",
   "execution_count": 20,
   "metadata": {},
   "outputs": [
    {
     "data": {
      "text/html": [
       "<div>\n",
       "<style scoped>\n",
       "    .dataframe tbody tr th:only-of-type {\n",
       "        vertical-align: middle;\n",
       "    }\n",
       "\n",
       "    .dataframe tbody tr th {\n",
       "        vertical-align: top;\n",
       "    }\n",
       "\n",
       "    .dataframe thead th {\n",
       "        text-align: right;\n",
       "    }\n",
       "</style>\n",
       "<table border=\"1\" class=\"dataframe\">\n",
       "  <thead>\n",
       "    <tr style=\"text-align: right;\">\n",
       "      <th></th>\n",
       "      <th></th>\n",
       "      <th>Tokens</th>\n",
       "      <th>Types</th>\n",
       "      <th>Hapax</th>\n",
       "      <th>P</th>\n",
       "      <th>P*</th>\n",
       "    </tr>\n",
       "    <tr>\n",
       "      <th>Variety</th>\n",
       "      <th>Diminutive</th>\n",
       "      <th></th>\n",
       "      <th></th>\n",
       "      <th></th>\n",
       "      <th></th>\n",
       "      <th></th>\n",
       "    </tr>\n",
       "  </thead>\n",
       "  <tbody>\n",
       "    <tr>\n",
       "      <td rowspan=\"2\" valign=\"top\">AR</td>\n",
       "      <td>-illo</td>\n",
       "      <td>13581</td>\n",
       "      <td>1878</td>\n",
       "      <td>998</td>\n",
       "      <td>7.3485</td>\n",
       "      <td>0.0986598</td>\n",
       "    </tr>\n",
       "    <tr>\n",
       "      <td>-ito</td>\n",
       "      <td>118699</td>\n",
       "      <td>10606</td>\n",
       "      <td>5230</td>\n",
       "      <td>4.4061</td>\n",
       "      <td>0.517025</td>\n",
       "    </tr>\n",
       "    <tr>\n",
       "      <td rowspan=\"2\" valign=\"top\">BO</td>\n",
       "      <td>-illo</td>\n",
       "      <td>3743</td>\n",
       "      <td>972</td>\n",
       "      <td>484</td>\n",
       "      <td>12.9308</td>\n",
       "      <td>0.126268</td>\n",
       "    </tr>\n",
       "    <tr>\n",
       "      <td>-ito</td>\n",
       "      <td>18552</td>\n",
       "      <td>3830</td>\n",
       "      <td>1939</td>\n",
       "      <td>10.4517</td>\n",
       "      <td>0.505854</td>\n",
       "    </tr>\n",
       "    <tr>\n",
       "      <td rowspan=\"2\" valign=\"top\">CL</td>\n",
       "      <td>-illo</td>\n",
       "      <td>7743</td>\n",
       "      <td>1456</td>\n",
       "      <td>799</td>\n",
       "      <td>10.319</td>\n",
       "      <td>0.143556</td>\n",
       "    </tr>\n",
       "    <tr>\n",
       "      <td>-ito</td>\n",
       "      <td>48373</td>\n",
       "      <td>6480</td>\n",
       "      <td>3273</td>\n",
       "      <td>6.76617</td>\n",
       "      <td>0.588057</td>\n",
       "    </tr>\n",
       "    <tr>\n",
       "      <td rowspan=\"2\" valign=\"top\">CO</td>\n",
       "      <td>-illo</td>\n",
       "      <td>17115</td>\n",
       "      <td>2420</td>\n",
       "      <td>1215</td>\n",
       "      <td>7.09904</td>\n",
       "      <td>0.131766</td>\n",
       "    </tr>\n",
       "    <tr>\n",
       "      <td>-ito</td>\n",
       "      <td>83159</td>\n",
       "      <td>9882</td>\n",
       "      <td>4957</td>\n",
       "      <td>5.96087</td>\n",
       "      <td>0.537583</td>\n",
       "    </tr>\n",
       "    <tr>\n",
       "      <td rowspan=\"2\" valign=\"top\">CR</td>\n",
       "      <td>-illo</td>\n",
       "      <td>6429</td>\n",
       "      <td>1588</td>\n",
       "      <td>868</td>\n",
       "      <td>13.5013</td>\n",
       "      <td>0.24613</td>\n",
       "    </tr>\n",
       "    <tr>\n",
       "      <td>-ito</td>\n",
       "      <td>21008</td>\n",
       "      <td>4226</td>\n",
       "      <td>2146</td>\n",
       "      <td>10.2152</td>\n",
       "      <td>0.60852</td>\n",
       "    </tr>\n",
       "    <tr>\n",
       "      <td rowspan=\"2\" valign=\"top\">CU</td>\n",
       "      <td>-illo</td>\n",
       "      <td>6634</td>\n",
       "      <td>1149</td>\n",
       "      <td>492</td>\n",
       "      <td>7.41634</td>\n",
       "      <td>0.113938</td>\n",
       "    </tr>\n",
       "    <tr>\n",
       "      <td>-ito</td>\n",
       "      <td>31760</td>\n",
       "      <td>4595</td>\n",
       "      <td>1920</td>\n",
       "      <td>6.04534</td>\n",
       "      <td>0.444638</td>\n",
       "    </tr>\n",
       "    <tr>\n",
       "      <td rowspan=\"2\" valign=\"top\">DO</td>\n",
       "      <td>-illo</td>\n",
       "      <td>3700</td>\n",
       "      <td>941</td>\n",
       "      <td>481</td>\n",
       "      <td>13</td>\n",
       "      <td>0.131974</td>\n",
       "    </tr>\n",
       "    <tr>\n",
       "      <td>-ito</td>\n",
       "      <td>19741</td>\n",
       "      <td>4061</td>\n",
       "      <td>2043</td>\n",
       "      <td>10.349</td>\n",
       "      <td>0.560548</td>\n",
       "    </tr>\n",
       "    <tr>\n",
       "      <td rowspan=\"2\" valign=\"top\">EC</td>\n",
       "      <td>-illo</td>\n",
       "      <td>5866</td>\n",
       "      <td>1243</td>\n",
       "      <td>627</td>\n",
       "      <td>10.6887</td>\n",
       "      <td>0.132589</td>\n",
       "    </tr>\n",
       "    <tr>\n",
       "      <td>-ito</td>\n",
       "      <td>30649</td>\n",
       "      <td>5346</td>\n",
       "      <td>2687</td>\n",
       "      <td>8.76701</td>\n",
       "      <td>0.568207</td>\n",
       "    </tr>\n",
       "    <tr>\n",
       "      <td rowspan=\"2\" valign=\"top\">ES</td>\n",
       "      <td>-illo</td>\n",
       "      <td>81372</td>\n",
       "      <td>6846</td>\n",
       "      <td>3196</td>\n",
       "      <td>3.92764</td>\n",
       "      <td>0.165725</td>\n",
       "    </tr>\n",
       "    <tr>\n",
       "      <td>-ito</td>\n",
       "      <td>302597</td>\n",
       "      <td>18402</td>\n",
       "      <td>9151</td>\n",
       "      <td>3.02415</td>\n",
       "      <td>0.474516</td>\n",
       "    </tr>\n",
       "    <tr>\n",
       "      <td rowspan=\"2\" valign=\"top\">GT</td>\n",
       "      <td>-illo</td>\n",
       "      <td>5627</td>\n",
       "      <td>1148</td>\n",
       "      <td>600</td>\n",
       "      <td>10.6629</td>\n",
       "      <td>0.121166</td>\n",
       "    </tr>\n",
       "    <tr>\n",
       "      <td>-ito</td>\n",
       "      <td>34867</td>\n",
       "      <td>5787</td>\n",
       "      <td>2831</td>\n",
       "      <td>8.11943</td>\n",
       "      <td>0.571703</td>\n",
       "    </tr>\n",
       "    <tr>\n",
       "      <td rowspan=\"2\" valign=\"top\">HN</td>\n",
       "      <td>-illo</td>\n",
       "      <td>3478</td>\n",
       "      <td>961</td>\n",
       "      <td>495</td>\n",
       "      <td>14.2323</td>\n",
       "      <td>0.13826</td>\n",
       "    </tr>\n",
       "    <tr>\n",
       "      <td>-ito</td>\n",
       "      <td>17201</td>\n",
       "      <td>3771</td>\n",
       "      <td>1906</td>\n",
       "      <td>11.0808</td>\n",
       "      <td>0.532371</td>\n",
       "    </tr>\n",
       "    <tr>\n",
       "      <td rowspan=\"2\" valign=\"top\">MX</td>\n",
       "      <td>-illo</td>\n",
       "      <td>24762</td>\n",
       "      <td>3309</td>\n",
       "      <td>1677</td>\n",
       "      <td>6.77247</td>\n",
       "      <td>0.132842</td>\n",
       "    </tr>\n",
       "    <tr>\n",
       "      <td>-ito</td>\n",
       "      <td>151024</td>\n",
       "      <td>13526</td>\n",
       "      <td>6834</td>\n",
       "      <td>4.52511</td>\n",
       "      <td>0.541351</td>\n",
       "    </tr>\n",
       "    <tr>\n",
       "      <td rowspan=\"2\" valign=\"top\">NI</td>\n",
       "      <td>-illo</td>\n",
       "      <td>3603</td>\n",
       "      <td>922</td>\n",
       "      <td>467</td>\n",
       "      <td>12.9614</td>\n",
       "      <td>0.13523</td>\n",
       "    </tr>\n",
       "    <tr>\n",
       "      <td>-ito</td>\n",
       "      <td>18268</td>\n",
       "      <td>3753</td>\n",
       "      <td>1836</td>\n",
       "      <td>10.0504</td>\n",
       "      <td>0.531655</td>\n",
       "    </tr>\n",
       "    <tr>\n",
       "      <td rowspan=\"2\" valign=\"top\">PA</td>\n",
       "      <td>-illo</td>\n",
       "      <td>3146</td>\n",
       "      <td>840</td>\n",
       "      <td>440</td>\n",
       "      <td>13.986</td>\n",
       "      <td>0.141216</td>\n",
       "    </tr>\n",
       "    <tr>\n",
       "      <td>-ito</td>\n",
       "      <td>14077</td>\n",
       "      <td>3511</td>\n",
       "      <td>1843</td>\n",
       "      <td>13.0923</td>\n",
       "      <td>0.591501</td>\n",
       "    </tr>\n",
       "    <tr>\n",
       "      <td rowspan=\"2\" valign=\"top\">PE</td>\n",
       "      <td>-illo</td>\n",
       "      <td>11483</td>\n",
       "      <td>1989</td>\n",
       "      <td>1032</td>\n",
       "      <td>8.9872</td>\n",
       "      <td>0.131673</td>\n",
       "    </tr>\n",
       "    <tr>\n",
       "      <td>-ito</td>\n",
       "      <td>84227</td>\n",
       "      <td>9255</td>\n",
       "      <td>4571</td>\n",
       "      <td>5.427</td>\n",
       "      <td>0.583213</td>\n",
       "    </tr>\n",
       "    <tr>\n",
       "      <td rowspan=\"2\" valign=\"top\">PR</td>\n",
       "      <td>-illo</td>\n",
       "      <td>4082</td>\n",
       "      <td>866</td>\n",
       "      <td>415</td>\n",
       "      <td>10.1666</td>\n",
       "      <td>0.110207</td>\n",
       "    </tr>\n",
       "    <tr>\n",
       "      <td>-ito</td>\n",
       "      <td>24383</td>\n",
       "      <td>4456</td>\n",
       "      <td>2197</td>\n",
       "      <td>9.01038</td>\n",
       "      <td>0.583432</td>\n",
       "    </tr>\n",
       "    <tr>\n",
       "      <td rowspan=\"2\" valign=\"top\">PY</td>\n",
       "      <td>-illo</td>\n",
       "      <td>2531</td>\n",
       "      <td>693</td>\n",
       "      <td>371</td>\n",
       "      <td>14.6582</td>\n",
       "      <td>0.108378</td>\n",
       "    </tr>\n",
       "    <tr>\n",
       "      <td>-ito</td>\n",
       "      <td>15562</td>\n",
       "      <td>3489</td>\n",
       "      <td>1786</td>\n",
       "      <td>11.4767</td>\n",
       "      <td>0.521733</td>\n",
       "    </tr>\n",
       "    <tr>\n",
       "      <td rowspan=\"2\" valign=\"top\">SV</td>\n",
       "      <td>-illo</td>\n",
       "      <td>3972</td>\n",
       "      <td>1164</td>\n",
       "      <td>652</td>\n",
       "      <td>16.4149</td>\n",
       "      <td>0.161135</td>\n",
       "    </tr>\n",
       "    <tr>\n",
       "      <td>-ito</td>\n",
       "      <td>24435</td>\n",
       "      <td>4994</td>\n",
       "      <td>2572</td>\n",
       "      <td>10.5259</td>\n",
       "      <td>0.635642</td>\n",
       "    </tr>\n",
       "    <tr>\n",
       "      <td rowspan=\"2\" valign=\"top\">US</td>\n",
       "      <td>-illo</td>\n",
       "      <td>20737</td>\n",
       "      <td>3074</td>\n",
       "      <td>1557</td>\n",
       "      <td>7.50832</td>\n",
       "      <td>0.150044</td>\n",
       "    </tr>\n",
       "    <tr>\n",
       "      <td>-ito</td>\n",
       "      <td>111597</td>\n",
       "      <td>11206</td>\n",
       "      <td>5608</td>\n",
       "      <td>5.02522</td>\n",
       "      <td>0.540426</td>\n",
       "    </tr>\n",
       "    <tr>\n",
       "      <td rowspan=\"2\" valign=\"top\">UY</td>\n",
       "      <td>-illo</td>\n",
       "      <td>3598</td>\n",
       "      <td>821</td>\n",
       "      <td>416</td>\n",
       "      <td>11.562</td>\n",
       "      <td>0.103865</td>\n",
       "    </tr>\n",
       "    <tr>\n",
       "      <td>-ito</td>\n",
       "      <td>25631</td>\n",
       "      <td>4492</td>\n",
       "      <td>2217</td>\n",
       "      <td>8.64968</td>\n",
       "      <td>0.553533</td>\n",
       "    </tr>\n",
       "  </tbody>\n",
       "</table>\n",
       "</div>"
      ],
      "text/plain": [
       "                    Tokens  Types Hapax        P         P*\n",
       "Variety Diminutive                                         \n",
       "AR      -illo        13581   1878   998   7.3485  0.0986598\n",
       "        -ito        118699  10606  5230   4.4061   0.517025\n",
       "BO      -illo         3743    972   484  12.9308   0.126268\n",
       "        -ito         18552   3830  1939  10.4517   0.505854\n",
       "CL      -illo         7743   1456   799   10.319   0.143556\n",
       "        -ito         48373   6480  3273  6.76617   0.588057\n",
       "CO      -illo        17115   2420  1215  7.09904   0.131766\n",
       "        -ito         83159   9882  4957  5.96087   0.537583\n",
       "CR      -illo         6429   1588   868  13.5013    0.24613\n",
       "        -ito         21008   4226  2146  10.2152    0.60852\n",
       "CU      -illo         6634   1149   492  7.41634   0.113938\n",
       "        -ito         31760   4595  1920  6.04534   0.444638\n",
       "DO      -illo         3700    941   481       13   0.131974\n",
       "        -ito         19741   4061  2043   10.349   0.560548\n",
       "EC      -illo         5866   1243   627  10.6887   0.132589\n",
       "        -ito         30649   5346  2687  8.76701   0.568207\n",
       "ES      -illo        81372   6846  3196  3.92764   0.165725\n",
       "        -ito        302597  18402  9151  3.02415   0.474516\n",
       "GT      -illo         5627   1148   600  10.6629   0.121166\n",
       "        -ito         34867   5787  2831  8.11943   0.571703\n",
       "HN      -illo         3478    961   495  14.2323    0.13826\n",
       "        -ito         17201   3771  1906  11.0808   0.532371\n",
       "MX      -illo        24762   3309  1677  6.77247   0.132842\n",
       "        -ito        151024  13526  6834  4.52511   0.541351\n",
       "NI      -illo         3603    922   467  12.9614    0.13523\n",
       "        -ito         18268   3753  1836  10.0504   0.531655\n",
       "PA      -illo         3146    840   440   13.986   0.141216\n",
       "        -ito         14077   3511  1843  13.0923   0.591501\n",
       "PE      -illo        11483   1989  1032   8.9872   0.131673\n",
       "        -ito         84227   9255  4571    5.427   0.583213\n",
       "PR      -illo         4082    866   415  10.1666   0.110207\n",
       "        -ito         24383   4456  2197  9.01038   0.583432\n",
       "PY      -illo         2531    693   371  14.6582   0.108378\n",
       "        -ito         15562   3489  1786  11.4767   0.521733\n",
       "SV      -illo         3972   1164   652  16.4149   0.161135\n",
       "        -ito         24435   4994  2572  10.5259   0.635642\n",
       "US      -illo        20737   3074  1557  7.50832   0.150044\n",
       "        -ito        111597  11206  5608  5.02522   0.540426\n",
       "UY      -illo         3598    821   416   11.562   0.103865\n",
       "        -ito         25631   4492  2217  8.64968   0.553533"
      ]
     },
     "execution_count": 20,
     "metadata": {},
     "output_type": "execute_result"
    }
   ],
   "source": [
    "all_DF_stats = pd.concat(df_list, keys=['AR', 'BO', 'CL', 'CO', 'CR', 'CU', 'DO', 'EC', 'ES', 'GT', 'HN', 'MX', 'NI',\n",
    "                                        'PA', 'PE', 'PR', 'PY', 'SV', 'US', 'UY'], names=['Variety'], sort=True)\n",
    "\n",
    "all_DF_stats = all_DF_stats[['Tokens', 'Types', 'Hapax', 'P', 'P*']] #Reordering columns\n",
    "\n",
    "all_DF_stats #All measures by variety together."
   ]
  },
  {
   "cell_type": "markdown",
   "metadata": {},
   "source": [
    "### Summary\n",
    "- Overall: in terms of realized and expanding  productivity, the numbers show that </i>-ito</i> is the bigger category and that it is overall attracting more new members. The category-conditioned degree of productivity, however, doesn't appear to fully capture the difference between these two suffixes in terms of occasionalisms. This might be due to the fact that <i>-illo</i> has notoriously fewer tokens, so the comparison is not completely fair. Alternatively, the hapax-conditioned degree of productivity shows a far more noticeable difference. \n",
    "- By variety: the numbers by country follow the same trend as those of the master data frame. A few differences are worth noting though.  Whereas <i>P</i> above showed both suffixes in similar standing, the differences here are higher in favor <i>-illo</i>, particularly in countries such as Peru where it almost doubles <i>-ito</i>. For <i>P*</i>, however, <i>-ito</i> remains the prevailing suffix in all varieties, although differences vary by country and might worth looking at with inferential statistics."
   ]
  },
  {
   "cell_type": "markdown",
   "metadata": {},
   "source": [
    "## 3. Plotting"
   ]
  },
  {
   "cell_type": "code",
   "execution_count": 21,
   "metadata": {
    "scrolled": true
   },
   "outputs": [
    {
     "data": {
      "text/plain": [
       "<matplotlib.axes._subplots.AxesSubplot object at 0x0000018078E27188>"
      ]
     },
     "execution_count": 21,
     "metadata": {},
     "output_type": "execute_result"
    },
    {
     "data": {
      "image/png": "[encoded data removed]",
      "text/plain": [
       "<Figure size 432x432 with 1 Axes>"
      ]
     },
     "metadata": {
      "needs_background": "light"
     },
     "output_type": "display_data"
    }
   ],
   "source": [
    "#Build plot\n",
    "\n",
    "master_DF_stats['Tokens'].plot.bar(figsize=(6,6), color=['navy', 'gold'], edgecolor='black', fontsize=14,\n",
    "                                    rot=0, title ='Figure 1. Diminutive tokens accross varieties.')\n",
    "\n",
    "#Not saved as it's the same from prior notebook."
   ]
  },
  {
   "cell_type": "code",
   "execution_count": 22,
   "metadata": {},
   "outputs": [
    {
     "data": {
      "text/plain": [
       "<matplotlib.axes._subplots.AxesSubplot object at 0x0000018063A92148>"
      ]
     },
     "execution_count": 22,
     "metadata": {},
     "output_type": "execute_result"
    },
    {
     "data": {
      "image/png": "[encoded data removed]",
      "text/plain": [
       "<Figure size 432x432 with 1 Axes>"
      ]
     },
     "metadata": {
      "needs_background": "light"
     },
     "output_type": "display_data"
    }
   ],
   "source": [
    "#Build plot\n",
    "\n",
    "master_DF_stats['Types'].plot.bar(figsize=(6,6),color=['navy', 'gold'], edgecolor='black', fontsize=12,\n",
    "                                   rot = 0, title ='Figure 5. Diminutive suffix types.')\n",
    "\n",
    "#Show and save plot\n",
    "\n",
    "plt.savefig('../figures/5_types_accross_varieties.png', dpi = 600)"
   ]
  },
  {
   "cell_type": "code",
   "execution_count": 23,
   "metadata": {},
   "outputs": [
    {
     "data": {
      "text/plain": [
       "<matplotlib.axes._subplots.AxesSubplot object at 0x0000018063AB8088>"
      ]
     },
     "execution_count": 23,
     "metadata": {},
     "output_type": "execute_result"
    },
    {
     "data": {
      "image/png": "[encoded data removed]",
      "text/plain": [
       "<Figure size 432x432 with 1 Axes>"
      ]
     },
     "metadata": {
      "needs_background": "light"
     },
     "output_type": "display_data"
    }
   ],
   "source": [
    "#Build plot\n",
    "\n",
    "master_DF_stats['Hapax'].plot.bar(figsize=(6,6), color=['navy', 'gold'], edgecolor='black', fontsize=14,\n",
    "                                  rot=0, title ='Figure 6. Diminutive suffix hapax legomena.')\n",
    "\n",
    "#Show and save plot\n",
    "\n",
    "plt.savefig('../figures/6_hapax_accross_varieties.png', dpi = 600)"
   ]
  },
  {
   "cell_type": "code",
   "execution_count": 24,
   "metadata": {},
   "outputs": [
    {
     "data": {
      "text/plain": [
       "<matplotlib.axes._subplots.AxesSubplot object at 0x0000018063AA0788>"
      ]
     },
     "execution_count": 24,
     "metadata": {},
     "output_type": "execute_result"
    },
    {
     "data": {
      "image/png": "[encoded data removed]",
      "text/plain": [
       "<Figure size 1008x432 with 1 Axes>"
      ]
     },
     "metadata": {
      "needs_background": "light"
     },
     "output_type": "display_data"
    }
   ],
   "source": [
    "#Build plot\n",
    "\n",
    "all_DF_stats['P'].unstack().plot.bar(figsize=(14,6), color=['navy', 'gold'], edgecolor='black', fontsize=14,\n",
    "                                      rot=0, title ='Figure 7. Category-conditioned productivity by variety.')\n",
    "\n",
    "#Show and save plot\n",
    "\n",
    "plt.savefig('../figures/7_category_contioned_productivity.png', dpi = 600)"
   ]
  },
  {
   "cell_type": "code",
   "execution_count": 25,
   "metadata": {},
   "outputs": [
    {
     "data": {
      "text/plain": [
       "<matplotlib.axes._subplots.AxesSubplot object at 0x0000018063575708>"
      ]
     },
     "execution_count": 25,
     "metadata": {},
     "output_type": "execute_result"
    },
    {
     "data": {
      "image/png": "[encoded data removed]",
      "text/plain": [
       "<Figure size 1008x432 with 1 Axes>"
      ]
     },
     "metadata": {
      "needs_background": "light"
     },
     "output_type": "display_data"
    }
   ],
   "source": [
    "#Build plot\n",
    "\n",
    "all_DF_stats['P*'].unstack().plot.bar(figsize=(14,6), color=['navy', 'gold'], edgecolor='black', fontsize=12,\n",
    "                                      rot=0, title ='Figure 8. Hapax-conditioned productivity by variety.')\n",
    "\n",
    "#Show and save plot\n",
    "\n",
    "plt.savefig('../figures/8_hapax_contioned_productivity.png', dpi = 600)"
   ]
  },
  {
   "cell_type": "markdown",
   "metadata": {},
   "source": [
    "## 4. Storing files"
   ]
  },
  {
   "cell_type": "code",
   "execution_count": 26,
   "metadata": {},
   "outputs": [],
   "source": [
    "#Master hapax data frame\n",
    "\n",
    "hapax.to_pickle('pkl/master_DF_hapax.pkl')\n",
    "\n",
    "#Master hapax set\n",
    "\n",
    "with open('pkl/master_hapax.pkl', 'wb') as f:\n",
    "    pickle.dump(master_hapax, f, -1)\n",
    "\n",
    "#Master stats\n",
    "\n",
    "master_DF_stats.to_pickle('pkl/master_DF_stats.pkl')\n",
    "\n",
    "#By-variety stats\n",
    "\n",
    "all_DF_stats.to_pickle('pkl/all_DF_stats.pkl')"
   ]
  }
 ],
 "metadata": {
  "kernelspec": {
   "display_name": "Python 3",
   "language": "python",
   "name": "python3"
  },
  "language_info": {
   "codemirror_mode": {
    "name": "ipython",
    "version": 3
   },
   "file_extension": ".py",
   "mimetype": "text/x-python",
   "name": "python",
   "nbconvert_exporter": "python",
   "pygments_lexer": "ipython3",
   "version": "3.7.4"
  }
 },
 "nbformat": 4,
 "nbformat_minor": 2
}
